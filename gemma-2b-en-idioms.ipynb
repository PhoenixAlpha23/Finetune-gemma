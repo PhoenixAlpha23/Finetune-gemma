{
 "cells": [
  {
   "cell_type": "markdown",
   "id": "4d31d4e2",
   "metadata": {
    "papermill": {
     "duration": 0.004761,
     "end_time": "2024-12-25T13:43:33.873332",
     "exception": false,
     "start_time": "2024-12-25T13:43:33.868571",
     "status": "completed"
    },
    "tags": []
   },
   "source": [
    "## Import Dataset and Gemma-2b-en model.\n",
    "This dataset consists of 10 idioms samples from each language mentioned in the competition description.\n",
    "MY aim with this fine-tuning approach was to create a version of gemma which can understand the complexity of idioms and replicate them based on inputs."
   ]
  },
  {
   "cell_type": "code",
   "execution_count": 1,
   "id": "4abc5d5e",
   "metadata": {
    "_cell_guid": "b1076dfc-b9ad-4769-8c92-a6c4dae69d19",
    "_uuid": "8f2839f25d086af736a60e9eeb907d3b93b6e0e5",
    "execution": {
     "iopub.execute_input": "2024-12-25T13:43:33.881400Z",
     "iopub.status.busy": "2024-12-25T13:43:33.881081Z",
     "iopub.status.idle": "2024-12-25T13:43:34.658109Z",
     "shell.execute_reply": "2024-12-25T13:43:34.657208Z"
    },
    "papermill": {
     "duration": 0.782893,
     "end_time": "2024-12-25T13:43:34.659820",
     "exception": false,
     "start_time": "2024-12-25T13:43:33.876927",
     "status": "completed"
    },
    "scrolled": true,
    "tags": []
   },
   "outputs": [
    {
     "name": "stdout",
     "output_type": "stream",
     "text": [
      "/kaggle/input/gemma2/keras/gemma2_2b_en/1/config.json\n",
      "/kaggle/input/gemma2/keras/gemma2_2b_en/1/tokenizer.json\n",
      "/kaggle/input/gemma2/keras/gemma2_2b_en/1/metadata.json\n",
      "/kaggle/input/gemma2/keras/gemma2_2b_en/1/model.weights.h5\n",
      "/kaggle/input/gemma2/keras/gemma2_2b_en/1/assets/tokenizer/vocabulary.spm\n",
      "/kaggle/input/multilingual-idioms-indian/Gemma/burmese.json\n",
      "/kaggle/input/multilingual-idioms-indian/Gemma/malayalam.json\n",
      "/kaggle/input/multilingual-idioms-indian/Gemma/nepali.json\n",
      "/kaggle/input/multilingual-idioms-indian/Gemma/catalan.json\n",
      "/kaggle/input/multilingual-idioms-indian/Gemma/hindi.json\n",
      "/kaggle/input/multilingual-idioms-indian/Gemma/croatian.json\n",
      "/kaggle/input/multilingual-idioms-indian/Gemma/slovak.json\n",
      "/kaggle/input/multilingual-idioms-indian/Gemma/finnish.json\n",
      "/kaggle/input/multilingual-idioms-indian/Gemma/icelandic.json\n",
      "/kaggle/input/multilingual-idioms-indian/Gemma/ukrainian.json\n",
      "/kaggle/input/multilingual-idioms-indian/Gemma/thai.json\n",
      "/kaggle/input/multilingual-idioms-indian/Gemma/swahili.json\n",
      "/kaggle/input/multilingual-idioms-indian/Gemma/punjabi.json\n",
      "/kaggle/input/multilingual-idioms-indian/Gemma/kyrgyz.json\n",
      "/kaggle/input/multilingual-idioms-indian/Gemma/bengali(bangla).json\n",
      "/kaggle/input/multilingual-idioms-indian/Gemma/gujrati.json\n",
      "/kaggle/input/multilingual-idioms-indian/Gemma/indonesian.json\n",
      "/kaggle/input/multilingual-idioms-indian/Gemma/khmer.json\n",
      "/kaggle/input/multilingual-idioms-indian/Gemma/russian.json\n",
      "/kaggle/input/multilingual-idioms-indian/Gemma/sinhala.json\n",
      "/kaggle/input/multilingual-idioms-indian/Gemma/marathi.json\n",
      "/kaggle/input/multilingual-idioms-indian/Gemma/latvian.json\n",
      "/kaggle/input/multilingual-idioms-indian/Gemma/filipino.json\n",
      "/kaggle/input/multilingual-idioms-indian/Gemma/portuguese.json\n",
      "/kaggle/input/multilingual-idioms-indian/Gemma/swedish.json\n",
      "/kaggle/input/multilingual-idioms-indian/Gemma/hungarian.json\n",
      "/kaggle/input/multilingual-idioms-indian/Gemma/kannada.json\n",
      "/kaggle/input/multilingual-idioms-indian/Gemma/kazakh.json\n",
      "/kaggle/input/multilingual-idioms-indian/Gemma/uzbek.json\n",
      "/kaggle/input/multilingual-idioms-indian/Gemma/macedonian.json\n",
      "/kaggle/input/multilingual-idioms-indian/Gemma/slovenian.json\n",
      "/kaggle/input/multilingual-idioms-indian/Gemma/telugu.json\n",
      "/kaggle/input/multilingual-idioms-indian/Gemma/bulgarian.json\n",
      "/kaggle/input/multilingual-idioms-indian/Gemma/mongolian.json\n",
      "/kaggle/input/multilingual-idioms-indian/Gemma/english(british).json\n",
      "/kaggle/input/multilingual-idioms-indian/Gemma/spanish(latin-american).json\n",
      "/kaggle/input/multilingual-idioms-indian/Gemma/turkish.json\n",
      "/kaggle/input/multilingual-idioms-indian/Gemma/czech.json\n",
      "/kaggle/input/multilingual-idioms-indian/Gemma/english.json\n",
      "/kaggle/input/multilingual-idioms-indian/Gemma/Chinese(traditional).json\n",
      "/kaggle/input/multilingual-idioms-indian/Gemma/armenian.json\n",
      "/kaggle/input/multilingual-idioms-indian/Gemma/italian.json\n",
      "/kaggle/input/multilingual-idioms-indian/Gemma/japanese.json\n",
      "/kaggle/input/multilingual-idioms-indian/Gemma/german.json\n",
      "/kaggle/input/multilingual-idioms-indian/Gemma/albanian.json\n",
      "/kaggle/input/multilingual-idioms-indian/Gemma/dutch.json\n",
      "/kaggle/input/multilingual-idioms-indian/Gemma/polish.json\n",
      "/kaggle/input/multilingual-idioms-indian/Gemma/malay.json\n",
      "/kaggle/input/multilingual-idioms-indian/Gemma/french(european).json\n",
      "/kaggle/input/multilingual-idioms-indian/Gemma/lao.json\n",
      "/kaggle/input/multilingual-idioms-indian/Gemma/persian.json\n",
      "/kaggle/input/multilingual-idioms-indian/Gemma/vietnamese.json\n",
      "/kaggle/input/multilingual-idioms-indian/Gemma/romanian.json\n",
      "/kaggle/input/multilingual-idioms-indian/Gemma/serbian.json\n",
      "/kaggle/input/multilingual-idioms-indian/Gemma/tamil.json\n",
      "/kaggle/input/multilingual-idioms-indian/Gemma/hebrew.json\n",
      "/kaggle/input/multilingual-idioms-indian/Gemma/azerbaijani.json\n",
      "/kaggle/input/multilingual-idioms-indian/Gemma/estonian.json\n",
      "/kaggle/input/multilingual-idioms-indian/Gemma/spanish(european).json\n",
      "/kaggle/input/multilingual-idioms-indian/Gemma/portuguese(european).json\n",
      "/kaggle/input/multilingual-idioms-indian/Gemma/korean.json\n",
      "/kaggle/input/multilingual-idioms-indian/Gemma/lithuanian.json\n",
      "/kaggle/input/multilingual-idioms-indian/Gemma/norwegian(Bokml).json\n",
      "/kaggle/input/multilingual-idioms-indian/Gemma/Chinese(simplified).json\n",
      "/kaggle/input/multilingual-idioms-indian/Gemma/greek.json\n",
      "/kaggle/input/multilingual-idioms-indian/Gemma/serbian(latin).json\n",
      "/kaggle/input/multilingual-idioms-indian/Gemma/danish.json\n",
      "/kaggle/input/multilingual-idioms-indian/Gemma/urdu.json\n",
      "/kaggle/input/multilingual-idioms-indian/Gemma/afrikaans.json\n",
      "/kaggle/input/multilingual-idioms-indian/Gemma/georgian.json\n",
      "/kaggle/input/multilingual-idioms-indian/Gemma/Arabic(modern standard).json\n"
     ]
    }
   ],
   "source": [
    "import pandas as pd # data processing, CSV file I/O (e.g. pd.read_json)\n",
    "\n",
    "import os\n",
    "for dirname, _, filenames in os.walk('/kaggle/input'):\n",
    "    for filename in filenames:\n",
    "        print(os.path.join(dirname, filename))"
   ]
  },
  {
   "cell_type": "markdown",
   "id": "2a092404",
   "metadata": {
    "papermill": {
     "duration": 0.003366,
     "end_time": "2024-12-25T13:43:34.667166",
     "exception": false,
     "start_time": "2024-12-25T13:43:34.663800",
     "status": "completed"
    },
    "tags": []
   },
   "source": [
    "You can sample the dataset like this.\n"
   ]
  },
  {
   "cell_type": "code",
   "execution_count": 2,
   "id": "03569887",
   "metadata": {
    "execution": {
     "iopub.execute_input": "2024-12-25T13:43:34.674857Z",
     "iopub.status.busy": "2024-12-25T13:43:34.674521Z",
     "iopub.status.idle": "2024-12-25T13:43:34.705599Z",
     "shell.execute_reply": "2024-12-25T13:43:34.704787Z"
    },
    "papermill": {
     "duration": 0.036335,
     "end_time": "2024-12-25T13:43:34.706923",
     "exception": false,
     "start_time": "2024-12-25T13:43:34.670588",
     "status": "completed"
    },
    "tags": []
   },
   "outputs": [
    {
     "data": {
      "text/html": [
       "<div>\n",
       "<style scoped>\n",
       "    .dataframe tbody tr th:only-of-type {\n",
       "        vertical-align: middle;\n",
       "    }\n",
       "\n",
       "    .dataframe tbody tr th {\n",
       "        vertical-align: top;\n",
       "    }\n",
       "\n",
       "    .dataframe thead th {\n",
       "        text-align: right;\n",
       "    }\n",
       "</style>\n",
       "<table border=\"1\" class=\"dataframe\">\n",
       "  <thead>\n",
       "    <tr style=\"text-align: right;\">\n",
       "      <th></th>\n",
       "      <th>idiom</th>\n",
       "      <th>literal_meaning</th>\n",
       "      <th>figurative_meaning</th>\n",
       "      <th>example</th>\n",
       "      <th>language</th>\n",
       "    </tr>\n",
       "  </thead>\n",
       "  <tbody>\n",
       "    <tr>\n",
       "      <th>0</th>\n",
       "      <td>Ateşle oynamak</td>\n",
       "      <td>To play with fire.</td>\n",
       "      <td>To take dangerous risks.</td>\n",
       "      <td>Investing in that company is like ateşle oynamak.</td>\n",
       "      <td>Turkish</td>\n",
       "    </tr>\n",
       "    <tr>\n",
       "      <th>1</th>\n",
       "      <td>Göz var nizam var</td>\n",
       "      <td>There is an eye, there is order.</td>\n",
       "      <td>Things should be done properly.</td>\n",
       "      <td>We need to organize this event well; göz var n...</td>\n",
       "      <td>Turkish</td>\n",
       "    </tr>\n",
       "    <tr>\n",
       "      <th>2</th>\n",
       "      <td>Dost acı söyler</td>\n",
       "      <td>A friend speaks bitterly.</td>\n",
       "      <td>True friends tell the truth, even if it's harsh.</td>\n",
       "      <td>He told me the truth about my performance; dos...</td>\n",
       "      <td>Turkish</td>\n",
       "    </tr>\n",
       "    <tr>\n",
       "      <th>3</th>\n",
       "      <td>Sakla samanı gelir zamanı</td>\n",
       "      <td>Save the straw; its time will come.</td>\n",
       "      <td>Everything has its purpose and time.</td>\n",
       "      <td>You never know when you might need it; sakla s...</td>\n",
       "      <td>Turkish</td>\n",
       "    </tr>\n",
       "    <tr>\n",
       "      <th>4</th>\n",
       "      <td>Bir elin nesi var, iki elin sesi var</td>\n",
       "      <td>What does one hand have? Two hands have a voice.</td>\n",
       "      <td>Teamwork achieves more than individual effort.</td>\n",
       "      <td>Together we can achieve great things; bir elin...</td>\n",
       "      <td>Turkish</td>\n",
       "    </tr>\n",
       "    <tr>\n",
       "      <th>5</th>\n",
       "      <td>Gülü seven dikenine katlanır</td>\n",
       "      <td>He who loves roses must endure its thorns.</td>\n",
       "      <td>Love comes with challenges.</td>\n",
       "      <td>If you want to be in a relationship, remember:...</td>\n",
       "      <td>Turkish</td>\n",
       "    </tr>\n",
       "    <tr>\n",
       "      <th>6</th>\n",
       "      <td>Ayağını yorganına göre uzat</td>\n",
       "      <td>Stretch your leg according to your blanket.</td>\n",
       "      <td>Live within your means.</td>\n",
       "      <td>Don’t spend too much money; ayağını yorganına ...</td>\n",
       "      <td>Turkish</td>\n",
       "    </tr>\n",
       "    <tr>\n",
       "      <th>7</th>\n",
       "      <td>Damlaya damlaya göl olur</td>\n",
       "      <td>Drop by drop, a lake forms.</td>\n",
       "      <td>Small efforts accumulate to create something s...</td>\n",
       "      <td>Keep saving money; damlaya damlaya göl olur.</td>\n",
       "      <td>Turkish</td>\n",
       "    </tr>\n",
       "    <tr>\n",
       "      <th>8</th>\n",
       "      <td>Kervan yolda düzülür</td>\n",
       "      <td>The caravan is arranged on the road.</td>\n",
       "      <td>Plans can be adjusted as you go.</td>\n",
       "      <td>We’ll figure it out along the way; kervan yold...</td>\n",
       "      <td>Turkish</td>\n",
       "    </tr>\n",
       "    <tr>\n",
       "      <th>9</th>\n",
       "      <td>Söz gümüşse, sükût altındır</td>\n",
       "      <td>If speech is silver, silence is golden.</td>\n",
       "      <td>Sometimes it’s better to remain silent.</td>\n",
       "      <td>In some situations, söz gümüşse, sükût altındır.</td>\n",
       "      <td>Turkish</td>\n",
       "    </tr>\n",
       "  </tbody>\n",
       "</table>\n",
       "</div>"
      ],
      "text/plain": [
       "                                  idiom  \\\n",
       "0                        Ateşle oynamak   \n",
       "1                     Göz var nizam var   \n",
       "2                       Dost acı söyler   \n",
       "3             Sakla samanı gelir zamanı   \n",
       "4  Bir elin nesi var, iki elin sesi var   \n",
       "5          Gülü seven dikenine katlanır   \n",
       "6           Ayağını yorganına göre uzat   \n",
       "7              Damlaya damlaya göl olur   \n",
       "8                  Kervan yolda düzülür   \n",
       "9           Söz gümüşse, sükût altındır   \n",
       "\n",
       "                                    literal_meaning  \\\n",
       "0                                To play with fire.   \n",
       "1                  There is an eye, there is order.   \n",
       "2                         A friend speaks bitterly.   \n",
       "3               Save the straw; its time will come.   \n",
       "4  What does one hand have? Two hands have a voice.   \n",
       "5        He who loves roses must endure its thorns.   \n",
       "6       Stretch your leg according to your blanket.   \n",
       "7                       Drop by drop, a lake forms.   \n",
       "8              The caravan is arranged on the road.   \n",
       "9           If speech is silver, silence is golden.   \n",
       "\n",
       "                                  figurative_meaning  \\\n",
       "0                           To take dangerous risks.   \n",
       "1                    Things should be done properly.   \n",
       "2   True friends tell the truth, even if it's harsh.   \n",
       "3               Everything has its purpose and time.   \n",
       "4     Teamwork achieves more than individual effort.   \n",
       "5                        Love comes with challenges.   \n",
       "6                            Live within your means.   \n",
       "7  Small efforts accumulate to create something s...   \n",
       "8                   Plans can be adjusted as you go.   \n",
       "9            Sometimes it’s better to remain silent.   \n",
       "\n",
       "                                             example language  \n",
       "0  Investing in that company is like ateşle oynamak.  Turkish  \n",
       "1  We need to organize this event well; göz var n...  Turkish  \n",
       "2  He told me the truth about my performance; dos...  Turkish  \n",
       "3  You never know when you might need it; sakla s...  Turkish  \n",
       "4  Together we can achieve great things; bir elin...  Turkish  \n",
       "5  If you want to be in a relationship, remember:...  Turkish  \n",
       "6  Don’t spend too much money; ayağını yorganına ...  Turkish  \n",
       "7       Keep saving money; damlaya damlaya göl olur.  Turkish  \n",
       "8  We’ll figure it out along the way; kervan yold...  Turkish  \n",
       "9   In some situations, söz gümüşse, sükût altındır.  Turkish  "
      ]
     },
     "execution_count": 2,
     "metadata": {},
     "output_type": "execute_result"
    }
   ],
   "source": [
    "df= pd.read_json('/kaggle/input/multilingual-idioms-indian/Gemma/turkish.json')\n",
    "df"
   ]
  },
  {
   "cell_type": "markdown",
   "id": "eec562a0",
   "metadata": {
    "papermill": {
     "duration": 0.003507,
     "end_time": "2024-12-25T13:43:34.714358",
     "exception": false,
     "start_time": "2024-12-25T13:43:34.710851",
     "status": "completed"
    },
    "tags": []
   },
   "source": [
    "# Set up of Environment before loading Gemma Model"
   ]
  },
  {
   "cell_type": "code",
   "execution_count": 3,
   "id": "3b716d26",
   "metadata": {
    "execution": {
     "iopub.execute_input": "2024-12-25T13:43:34.722512Z",
     "iopub.status.busy": "2024-12-25T13:43:34.722259Z",
     "iopub.status.idle": "2024-12-25T13:43:44.529403Z",
     "shell.execute_reply": "2024-12-25T13:43:44.528211Z"
    },
    "papermill": {
     "duration": 9.812958,
     "end_time": "2024-12-25T13:43:44.530975",
     "exception": false,
     "start_time": "2024-12-25T13:43:34.718017",
     "status": "completed"
    },
    "tags": []
   },
   "outputs": [],
   "source": [
    "!pip install -q -U keras-nlp\n",
    "!pip install -q -U keras>=3"
   ]
  },
  {
   "cell_type": "code",
   "execution_count": 4,
   "id": "00898aa6",
   "metadata": {
    "execution": {
     "iopub.execute_input": "2024-12-25T13:43:44.539943Z",
     "iopub.status.busy": "2024-12-25T13:43:44.539661Z",
     "iopub.status.idle": "2024-12-25T13:43:44.543437Z",
     "shell.execute_reply": "2024-12-25T13:43:44.542654Z"
    },
    "papermill": {
     "duration": 0.009507,
     "end_time": "2024-12-25T13:43:44.544630",
     "exception": false,
     "start_time": "2024-12-25T13:43:44.535123",
     "status": "completed"
    },
    "tags": []
   },
   "outputs": [],
   "source": [
    "import os\n",
    "\n",
    "os.environ['KERAS_BACKEND'] = 'jax'\n",
    "os.environ[\"XLA_PYTHON_CLIENT_MEM_FRACTION\"]=\"1.00\""
   ]
  },
  {
   "cell_type": "code",
   "execution_count": 5,
   "id": "2b7dfe81",
   "metadata": {
    "execution": {
     "iopub.execute_input": "2024-12-25T13:43:44.552889Z",
     "iopub.status.busy": "2024-12-25T13:43:44.552679Z",
     "iopub.status.idle": "2024-12-25T13:43:53.136352Z",
     "shell.execute_reply": "2024-12-25T13:43:53.135407Z"
    },
    "papermill": {
     "duration": 8.589574,
     "end_time": "2024-12-25T13:43:53.138017",
     "exception": false,
     "start_time": "2024-12-25T13:43:44.548443",
     "status": "completed"
    },
    "tags": []
   },
   "outputs": [],
   "source": [
    "import keras\n",
    "import keras_nlp"
   ]
  },
  {
   "cell_type": "markdown",
   "id": "60d9ba64",
   "metadata": {
    "papermill": {
     "duration": 0.003597,
     "end_time": "2024-12-25T13:43:53.145838",
     "exception": false,
     "start_time": "2024-12-25T13:43:53.142241",
     "status": "completed"
    },
    "tags": []
   },
   "source": [
    "# Load the dataset"
   ]
  },
  {
   "cell_type": "code",
   "execution_count": 6,
   "id": "e1192439",
   "metadata": {
    "execution": {
     "iopub.execute_input": "2024-12-25T13:43:53.154294Z",
     "iopub.status.busy": "2024-12-25T13:43:53.153841Z",
     "iopub.status.idle": "2024-12-25T13:43:55.123971Z",
     "shell.execute_reply": "2024-12-25T13:43:55.123329Z"
    },
    "papermill": {
     "duration": 1.975797,
     "end_time": "2024-12-25T13:43:55.125344",
     "exception": false,
     "start_time": "2024-12-25T13:43:53.149547",
     "status": "completed"
    },
    "tags": []
   },
   "outputs": [
    {
     "data": {
      "application/vnd.jupyter.widget-view+json": {
       "model_id": "46ec4daccdde402193cc4b1155c19b61",
       "version_major": 2,
       "version_minor": 0
      },
      "text/plain": [
       "Resolving data files:   0%|          | 0/71 [00:00<?, ?it/s]"
      ]
     },
     "metadata": {},
     "output_type": "display_data"
    },
    {
     "data": {
      "application/vnd.jupyter.widget-view+json": {
       "model_id": "8448994a77a24babac45ec9e0e78d9b0",
       "version_major": 2,
       "version_minor": 0
      },
      "text/plain": [
       "Downloading data:   0%|          | 0/71 [00:00<?, ?files/s]"
      ]
     },
     "metadata": {},
     "output_type": "display_data"
    },
    {
     "data": {
      "application/vnd.jupyter.widget-view+json": {
       "model_id": "adfcc9a838904792b79169434dbdd24f",
       "version_major": 2,
       "version_minor": 0
      },
      "text/plain": [
       "Generating train split: 0 examples [00:00, ? examples/s]"
      ]
     },
     "metadata": {},
     "output_type": "display_data"
    }
   ],
   "source": [
    "from datasets import load_dataset\n",
    "\n",
    "ds = load_dataset(\"json\",data_files='/kaggle/input/multilingual-idioms-indian/Gemma/*.json')"
   ]
  },
  {
   "cell_type": "code",
   "execution_count": 7,
   "id": "200beaf2",
   "metadata": {
    "execution": {
     "iopub.execute_input": "2024-12-25T13:43:55.134645Z",
     "iopub.status.busy": "2024-12-25T13:43:55.134419Z",
     "iopub.status.idle": "2024-12-25T13:43:55.138854Z",
     "shell.execute_reply": "2024-12-25T13:43:55.138022Z"
    },
    "papermill": {
     "duration": 0.010253,
     "end_time": "2024-12-25T13:43:55.140037",
     "exception": false,
     "start_time": "2024-12-25T13:43:55.129784",
     "status": "completed"
    },
    "tags": []
   },
   "outputs": [
    {
     "data": {
      "text/plain": [
       "DatasetDict({\n",
       "    train: Dataset({\n",
       "        features: ['idiom', 'literal_meaning', 'figurative_meaning', 'example', 'language'],\n",
       "        num_rows: 720\n",
       "    })\n",
       "})"
      ]
     },
     "execution_count": 7,
     "metadata": {},
     "output_type": "execute_result"
    }
   ],
   "source": [
    "##Display dataset summary\n",
    "ds"
   ]
  },
  {
   "cell_type": "code",
   "execution_count": 8,
   "id": "00773437",
   "metadata": {
    "execution": {
     "iopub.execute_input": "2024-12-25T13:43:55.149109Z",
     "iopub.status.busy": "2024-12-25T13:43:55.148895Z",
     "iopub.status.idle": "2024-12-25T13:43:55.194380Z",
     "shell.execute_reply": "2024-12-25T13:43:55.193431Z"
    },
    "papermill": {
     "duration": 0.051441,
     "end_time": "2024-12-25T13:43:55.195650",
     "exception": false,
     "start_time": "2024-12-25T13:43:55.144209",
     "status": "completed"
    },
    "tags": []
   },
   "outputs": [
    {
     "name": "stdout",
     "output_type": "stream",
     "text": [
      "First example keys: ['idiom', 'literal_meaning', 'figurative_meaning', 'example', 'language']\n",
      "Example 1:\n",
      "Instruction:\n",
      "Find a suitable idiom for this situation: Sometimes it's better to remain silent than to speak.\n",
      "\n",
      "Response:\n",
      "Idiom : إذا كان الكلام من فضة فالسكوت من ذهب\n",
      "Example Use: In this situation, remember: إذا كان الكلام من فضة فالسكوت من ذهب.\n",
      "Cultural Context: This idiom comes from the Arabic culture.\n",
      "\n",
      "\n",
      "Example 2:\n",
      "Instruction:\n",
      "Find a suitable idiom for this situation: Don't harm what you might need later.\n",
      "\n",
      "Response:\n",
      "Idiom : لا تبصق في البئر\n",
      "Example Use: He always remembers not to spit in the well; you never know when you’ll need it.\n",
      "Cultural Context: This idiom comes from the Arabic culture.\n",
      "\n",
      "\n",
      "Example 3:\n",
      "Instruction:\n",
      "Find a suitable idiom for this situation: Hard work leads to success.\n",
      "\n",
      "Response:\n",
      "Idiom : من جد وجد\n",
      "Example Use: He believes that من جد وجد; hard work will pay off in the end.\n",
      "Cultural Context: This idiom comes from the Arabic culture.\n",
      "\n",
      "\n",
      "Example 4:\n",
      "Instruction:\n",
      "Find a suitable idiom for this situation: Time is precious and should be used wisely.\n",
      "\n",
      "Response:\n",
      "Idiom : الوقت كالسيف\n",
      "Example Use: الوقت كالسيف; if you don’t use it wisely, it will cut you.\n",
      "Cultural Context: This idiom comes from the Arabic culture.\n",
      "\n",
      "\n",
      "Example 5:\n",
      "Instruction:\n",
      "Find a suitable idiom for this situation: Killing two birds with one stone.\n",
      "\n",
      "Response:\n",
      "Idiom : 一箭双雕\n",
      "Example Use: By attending the conference, he networked and learned new skills—he really hit two targets with one arrow.\n",
      "Cultural Context: This idiom comes from the Chinese culture.\n",
      "\n",
      "\n",
      "Example 6:\n",
      "Instruction:\n",
      "Find a suitable idiom for this situation: To ruin something by adding unnecessary details.\n",
      "\n",
      "Response:\n",
      "Idiom : 画蛇添足\n",
      "Example Use: His extra comments on the report were like drawing a snake and adding feet; they weren't needed.\n",
      "Cultural Context: This idiom comes from the Chinese culture.\n",
      "\n",
      "\n"
     ]
    }
   ],
   "source": [
    "from datasets import DatasetDict\n",
    "# Initialize an empty list to store the formatted examples\n",
    "data = []\n",
    "# Access the 'train' split of your dataset\n",
    "train_data = ds[\"train\"]\n",
    "\n",
    "# Add debug printing to see what fields are available\n",
    "print(\"First example keys:\", list(train_data[0].keys()))\n",
    "\n",
    "# Iterate over each example in the dataset\n",
    "for i, example in enumerate(train_data):\n",
    "    try:\n",
    "        # Check if required fields are available and valid\n",
    "        required_fields = [\"idiom\", \"literal_meaning\", \"figurative_meaning\", \"example\"]\n",
    "        \n",
    "        # Print missing fields for debugging\n",
    "        missing_fields = [field for field in required_fields if field not in example]\n",
    "        if missing_fields:\n",
    "            print(f\"Example {i} is missing fields: {missing_fields}\")\n",
    "            continue\n",
    "            \n",
    "        #Template with instruction and response format\n",
    "        template = (\n",
    "        \"Instruction:\\n\"\n",
    "        \"Find a suitable idiom for this situation: {figurative_meaning}\\n\\n\"\n",
    "        \"Response:\\n\"\n",
    "        \"Idiom : {idiom}\\n\"\n",
    "        \"Example Use: {example}\\n\"\n",
    "        \"Cultural Context: This idiom comes from the {language} culture.\\n\"\n",
    "        )\n",
    "        \n",
    "        # Format the example and add it to the data list\n",
    "        formatted_example = template.format(**example)\n",
    "        data.append(formatted_example)\n",
    "        \n",
    "    except KeyError as e:\n",
    "        print(f\"KeyError in example {i}: {str(e)}\")\n",
    "        print(f\"Available keys: {list(example.keys())}\")\n",
    "        continue\n",
    "\n",
    "# Limit to the first 1400 examples\n",
    "data = data[:1400]\n",
    "\n",
    "# Display some random row of examples, to ensure the data is captured correctly.\n",
    "for i, example in enumerate(data[4:10]):\n",
    "    print(f\"Example {i + 1}:\\n{example}\\n\")"
   ]
  },
  {
   "cell_type": "markdown",
   "id": "99a8ccb0",
   "metadata": {
    "papermill": {
     "duration": 0.004159,
     "end_time": "2024-12-25T13:43:55.204430",
     "exception": false,
     "start_time": "2024-12-25T13:43:55.200271",
     "status": "completed"
    },
    "tags": []
   },
   "source": [
    "# Load Model"
   ]
  },
  {
   "cell_type": "code",
   "execution_count": 9,
   "id": "36a048c4",
   "metadata": {
    "execution": {
     "iopub.execute_input": "2024-12-25T13:43:55.213899Z",
     "iopub.status.busy": "2024-12-25T13:43:55.213663Z",
     "iopub.status.idle": "2024-12-25T13:44:45.095673Z",
     "shell.execute_reply": "2024-12-25T13:44:45.094970Z"
    },
    "papermill": {
     "duration": 49.887891,
     "end_time": "2024-12-25T13:44:45.096918",
     "exception": false,
     "start_time": "2024-12-25T13:43:55.209027",
     "status": "completed"
    },
    "tags": []
   },
   "outputs": [
    {
     "data": {
      "text/html": [
       "<pre style=\"white-space:pre;overflow-x:auto;line-height:normal;font-family:Menlo,'DejaVu Sans Mono',consolas,'Courier New',monospace\"><span style=\"font-weight: bold\">Preprocessor: \"gemma_causal_lm_preprocessor\"</span>\n",
       "</pre>\n"
      ],
      "text/plain": [
       "\u001b[1mPreprocessor: \"gemma_causal_lm_preprocessor\"\u001b[0m\n"
      ]
     },
     "metadata": {},
     "output_type": "display_data"
    },
    {
     "data": {
      "text/html": [
       "<pre style=\"white-space:pre;overflow-x:auto;line-height:normal;font-family:Menlo,'DejaVu Sans Mono',consolas,'Courier New',monospace\">┏━━━━━━━━━━━━━━━━━━━━━━━━━━━━━━━━━━━━━━━━━━━━━━━━━━━━━━━━━━━━━━━┳━━━━━━━━━━━━━━━━━━━━━━━━━━━━━━━━━━━━━━━━━━┓\n",
       "┃<span style=\"font-weight: bold\"> Layer (type)                                                  </span>┃<span style=\"font-weight: bold\">                                   Config </span>┃\n",
       "┡━━━━━━━━━━━━━━━━━━━━━━━━━━━━━━━━━━━━━━━━━━━━━━━━━━━━━━━━━━━━━━━╇━━━━━━━━━━━━━━━━━━━━━━━━━━━━━━━━━━━━━━━━━━┩\n",
       "│ gemma_tokenizer (<span style=\"color: #0087ff; text-decoration-color: #0087ff\">GemmaTokenizer</span>)                              │                      Vocab size: <span style=\"color: #00af00; text-decoration-color: #00af00\">256,000</span> │\n",
       "└───────────────────────────────────────────────────────────────┴──────────────────────────────────────────┘\n",
       "</pre>\n"
      ],
      "text/plain": [
       "┏━━━━━━━━━━━━━━━━━━━━━━━━━━━━━━━━━━━━━━━━━━━━━━━━━━━━━━━━━━━━━━━┳━━━━━━━━━━━━━━━━━━━━━━━━━━━━━━━━━━━━━━━━━━┓\n",
       "┃\u001b[1m \u001b[0m\u001b[1mLayer (type)                                                 \u001b[0m\u001b[1m \u001b[0m┃\u001b[1m \u001b[0m\u001b[1m                                  Config\u001b[0m\u001b[1m \u001b[0m┃\n",
       "┡━━━━━━━━━━━━━━━━━━━━━━━━━━━━━━━━━━━━━━━━━━━━━━━━━━━━━━━━━━━━━━━╇━━━━━━━━━━━━━━━━━━━━━━━━━━━━━━━━━━━━━━━━━━┩\n",
       "│ gemma_tokenizer (\u001b[38;5;33mGemmaTokenizer\u001b[0m)                              │                      Vocab size: \u001b[38;5;34m256,000\u001b[0m │\n",
       "└───────────────────────────────────────────────────────────────┴──────────────────────────────────────────┘\n"
      ]
     },
     "metadata": {},
     "output_type": "display_data"
    },
    {
     "data": {
      "text/html": [
       "<pre style=\"white-space:pre;overflow-x:auto;line-height:normal;font-family:Menlo,'DejaVu Sans Mono',consolas,'Courier New',monospace\"><span style=\"font-weight: bold\">Model: \"gemma_causal_lm\"</span>\n",
       "</pre>\n"
      ],
      "text/plain": [
       "\u001b[1mModel: \"gemma_causal_lm\"\u001b[0m\n"
      ]
     },
     "metadata": {},
     "output_type": "display_data"
    },
    {
     "data": {
      "text/html": [
       "<pre style=\"white-space:pre;overflow-x:auto;line-height:normal;font-family:Menlo,'DejaVu Sans Mono',consolas,'Courier New',monospace\">┏━━━━━━━━━━━━━━━━━━━━━━━━━━━━━━━┳━━━━━━━━━━━━━━━━━━━━━━━━━━━┳━━━━━━━━━━━━━━━━━┳━━━━━━━━━━━━━━━━━━━━━━━━━━━━┓\n",
       "┃<span style=\"font-weight: bold\"> Layer (type)                  </span>┃<span style=\"font-weight: bold\"> Output Shape              </span>┃<span style=\"font-weight: bold\">         Param # </span>┃<span style=\"font-weight: bold\"> Connected to               </span>┃\n",
       "┡━━━━━━━━━━━━━━━━━━━━━━━━━━━━━━━╇━━━━━━━━━━━━━━━━━━━━━━━━━━━╇━━━━━━━━━━━━━━━━━╇━━━━━━━━━━━━━━━━━━━━━━━━━━━━┩\n",
       "│ padding_mask (<span style=\"color: #0087ff; text-decoration-color: #0087ff\">InputLayer</span>)     │ (<span style=\"color: #00d7ff; text-decoration-color: #00d7ff\">None</span>, <span style=\"color: #00d7ff; text-decoration-color: #00d7ff\">None</span>)              │               <span style=\"color: #00af00; text-decoration-color: #00af00\">0</span> │ -                          │\n",
       "├───────────────────────────────┼───────────────────────────┼─────────────────┼────────────────────────────┤\n",
       "│ token_ids (<span style=\"color: #0087ff; text-decoration-color: #0087ff\">InputLayer</span>)        │ (<span style=\"color: #00d7ff; text-decoration-color: #00d7ff\">None</span>, <span style=\"color: #00d7ff; text-decoration-color: #00d7ff\">None</span>)              │               <span style=\"color: #00af00; text-decoration-color: #00af00\">0</span> │ -                          │\n",
       "├───────────────────────────────┼───────────────────────────┼─────────────────┼────────────────────────────┤\n",
       "│ gemma_backbone                │ (<span style=\"color: #00d7ff; text-decoration-color: #00d7ff\">None</span>, <span style=\"color: #00d7ff; text-decoration-color: #00d7ff\">None</span>, <span style=\"color: #00af00; text-decoration-color: #00af00\">2304</span>)        │   <span style=\"color: #00af00; text-decoration-color: #00af00\">2,614,341,888</span> │ padding_mask[<span style=\"color: #00af00; text-decoration-color: #00af00\">0</span>][<span style=\"color: #00af00; text-decoration-color: #00af00\">0</span>],        │\n",
       "│ (<span style=\"color: #0087ff; text-decoration-color: #0087ff\">GemmaBackbone</span>)               │                           │                 │ token_ids[<span style=\"color: #00af00; text-decoration-color: #00af00\">0</span>][<span style=\"color: #00af00; text-decoration-color: #00af00\">0</span>]            │\n",
       "├───────────────────────────────┼───────────────────────────┼─────────────────┼────────────────────────────┤\n",
       "│ token_embedding               │ (<span style=\"color: #00d7ff; text-decoration-color: #00d7ff\">None</span>, <span style=\"color: #00d7ff; text-decoration-color: #00d7ff\">None</span>, <span style=\"color: #00af00; text-decoration-color: #00af00\">256000</span>)      │     <span style=\"color: #00af00; text-decoration-color: #00af00\">589,824,000</span> │ gemma_backbone[<span style=\"color: #00af00; text-decoration-color: #00af00\">0</span>][<span style=\"color: #00af00; text-decoration-color: #00af00\">0</span>]       │\n",
       "│ (<span style=\"color: #0087ff; text-decoration-color: #0087ff\">ReversibleEmbedding</span>)         │                           │                 │                            │\n",
       "└───────────────────────────────┴───────────────────────────┴─────────────────┴────────────────────────────┘\n",
       "</pre>\n"
      ],
      "text/plain": [
       "┏━━━━━━━━━━━━━━━━━━━━━━━━━━━━━━━┳━━━━━━━━━━━━━━━━━━━━━━━━━━━┳━━━━━━━━━━━━━━━━━┳━━━━━━━━━━━━━━━━━━━━━━━━━━━━┓\n",
       "┃\u001b[1m \u001b[0m\u001b[1mLayer (type)                 \u001b[0m\u001b[1m \u001b[0m┃\u001b[1m \u001b[0m\u001b[1mOutput Shape             \u001b[0m\u001b[1m \u001b[0m┃\u001b[1m \u001b[0m\u001b[1m        Param #\u001b[0m\u001b[1m \u001b[0m┃\u001b[1m \u001b[0m\u001b[1mConnected to              \u001b[0m\u001b[1m \u001b[0m┃\n",
       "┡━━━━━━━━━━━━━━━━━━━━━━━━━━━━━━━╇━━━━━━━━━━━━━━━━━━━━━━━━━━━╇━━━━━━━━━━━━━━━━━╇━━━━━━━━━━━━━━━━━━━━━━━━━━━━┩\n",
       "│ padding_mask (\u001b[38;5;33mInputLayer\u001b[0m)     │ (\u001b[38;5;45mNone\u001b[0m, \u001b[38;5;45mNone\u001b[0m)              │               \u001b[38;5;34m0\u001b[0m │ -                          │\n",
       "├───────────────────────────────┼───────────────────────────┼─────────────────┼────────────────────────────┤\n",
       "│ token_ids (\u001b[38;5;33mInputLayer\u001b[0m)        │ (\u001b[38;5;45mNone\u001b[0m, \u001b[38;5;45mNone\u001b[0m)              │               \u001b[38;5;34m0\u001b[0m │ -                          │\n",
       "├───────────────────────────────┼───────────────────────────┼─────────────────┼────────────────────────────┤\n",
       "│ gemma_backbone                │ (\u001b[38;5;45mNone\u001b[0m, \u001b[38;5;45mNone\u001b[0m, \u001b[38;5;34m2304\u001b[0m)        │   \u001b[38;5;34m2,614,341,888\u001b[0m │ padding_mask[\u001b[38;5;34m0\u001b[0m][\u001b[38;5;34m0\u001b[0m],        │\n",
       "│ (\u001b[38;5;33mGemmaBackbone\u001b[0m)               │                           │                 │ token_ids[\u001b[38;5;34m0\u001b[0m][\u001b[38;5;34m0\u001b[0m]            │\n",
       "├───────────────────────────────┼───────────────────────────┼─────────────────┼────────────────────────────┤\n",
       "│ token_embedding               │ (\u001b[38;5;45mNone\u001b[0m, \u001b[38;5;45mNone\u001b[0m, \u001b[38;5;34m256000\u001b[0m)      │     \u001b[38;5;34m589,824,000\u001b[0m │ gemma_backbone[\u001b[38;5;34m0\u001b[0m][\u001b[38;5;34m0\u001b[0m]       │\n",
       "│ (\u001b[38;5;33mReversibleEmbedding\u001b[0m)         │                           │                 │                            │\n",
       "└───────────────────────────────┴───────────────────────────┴─────────────────┴────────────────────────────┘\n"
      ]
     },
     "metadata": {},
     "output_type": "display_data"
    },
    {
     "data": {
      "text/html": [
       "<pre style=\"white-space:pre;overflow-x:auto;line-height:normal;font-family:Menlo,'DejaVu Sans Mono',consolas,'Courier New',monospace\"><span style=\"font-weight: bold\"> Total params: </span><span style=\"color: #00af00; text-decoration-color: #00af00\">2,614,341,888</span> (9.74 GB)\n",
       "</pre>\n"
      ],
      "text/plain": [
       "\u001b[1m Total params: \u001b[0m\u001b[38;5;34m2,614,341,888\u001b[0m (9.74 GB)\n"
      ]
     },
     "metadata": {},
     "output_type": "display_data"
    },
    {
     "data": {
      "text/html": [
       "<pre style=\"white-space:pre;overflow-x:auto;line-height:normal;font-family:Menlo,'DejaVu Sans Mono',consolas,'Courier New',monospace\"><span style=\"font-weight: bold\"> Trainable params: </span><span style=\"color: #00af00; text-decoration-color: #00af00\">2,614,341,888</span> (9.74 GB)\n",
       "</pre>\n"
      ],
      "text/plain": [
       "\u001b[1m Trainable params: \u001b[0m\u001b[38;5;34m2,614,341,888\u001b[0m (9.74 GB)\n"
      ]
     },
     "metadata": {},
     "output_type": "display_data"
    },
    {
     "data": {
      "text/html": [
       "<pre style=\"white-space:pre;overflow-x:auto;line-height:normal;font-family:Menlo,'DejaVu Sans Mono',consolas,'Courier New',monospace\"><span style=\"font-weight: bold\"> Non-trainable params: </span><span style=\"color: #00af00; text-decoration-color: #00af00\">0</span> (0.00 B)\n",
       "</pre>\n"
      ],
      "text/plain": [
       "\u001b[1m Non-trainable params: \u001b[0m\u001b[38;5;34m0\u001b[0m (0.00 B)\n"
      ]
     },
     "metadata": {},
     "output_type": "display_data"
    }
   ],
   "source": [
    "gemma_lm = keras_nlp.models.GemmaCausalLM.from_preset(\"gemma2_2b_en\")\n",
    "gemma_lm.summary()"
   ]
  },
  {
   "cell_type": "markdown",
   "id": "a9aebffc",
   "metadata": {
    "papermill": {
     "duration": 0.004683,
     "end_time": "2024-12-25T13:44:45.106645",
     "exception": false,
     "start_time": "2024-12-25T13:44:45.101962",
     "status": "completed"
    },
    "tags": []
   },
   "source": [
    "# Enable LoRA for the model\n",
    "As visible from the trainable parameters, 2,614,341,888 (9.74 GB). to be able to actually train these on our systems, we need to use Lower Order Rank Adaptation(LORA)."
   ]
  },
  {
   "cell_type": "code",
   "execution_count": 10,
   "id": "16567bb4",
   "metadata": {
    "execution": {
     "iopub.execute_input": "2024-12-25T13:44:45.117011Z",
     "iopub.status.busy": "2024-12-25T13:44:45.116784Z",
     "iopub.status.idle": "2024-12-25T13:44:45.444283Z",
     "shell.execute_reply": "2024-12-25T13:44:45.443434Z"
    },
    "papermill": {
     "duration": 0.334068,
     "end_time": "2024-12-25T13:44:45.445490",
     "exception": false,
     "start_time": "2024-12-25T13:44:45.111422",
     "status": "completed"
    },
    "tags": []
   },
   "outputs": [
    {
     "data": {
      "text/html": [
       "<pre style=\"white-space:pre;overflow-x:auto;line-height:normal;font-family:Menlo,'DejaVu Sans Mono',consolas,'Courier New',monospace\"><span style=\"font-weight: bold\">Preprocessor: \"gemma_causal_lm_preprocessor\"</span>\n",
       "</pre>\n"
      ],
      "text/plain": [
       "\u001b[1mPreprocessor: \"gemma_causal_lm_preprocessor\"\u001b[0m\n"
      ]
     },
     "metadata": {},
     "output_type": "display_data"
    },
    {
     "data": {
      "text/html": [
       "<pre style=\"white-space:pre;overflow-x:auto;line-height:normal;font-family:Menlo,'DejaVu Sans Mono',consolas,'Courier New',monospace\">┏━━━━━━━━━━━━━━━━━━━━━━━━━━━━━━━━━━━━━━━━━━━━━━━━━━━━━━━━━━━━━━━┳━━━━━━━━━━━━━━━━━━━━━━━━━━━━━━━━━━━━━━━━━━┓\n",
       "┃<span style=\"font-weight: bold\"> Layer (type)                                                  </span>┃<span style=\"font-weight: bold\">                                   Config </span>┃\n",
       "┡━━━━━━━━━━━━━━━━━━━━━━━━━━━━━━━━━━━━━━━━━━━━━━━━━━━━━━━━━━━━━━━╇━━━━━━━━━━━━━━━━━━━━━━━━━━━━━━━━━━━━━━━━━━┩\n",
       "│ gemma_tokenizer (<span style=\"color: #0087ff; text-decoration-color: #0087ff\">GemmaTokenizer</span>)                              │                      Vocab size: <span style=\"color: #00af00; text-decoration-color: #00af00\">256,000</span> │\n",
       "└───────────────────────────────────────────────────────────────┴──────────────────────────────────────────┘\n",
       "</pre>\n"
      ],
      "text/plain": [
       "┏━━━━━━━━━━━━━━━━━━━━━━━━━━━━━━━━━━━━━━━━━━━━━━━━━━━━━━━━━━━━━━━┳━━━━━━━━━━━━━━━━━━━━━━━━━━━━━━━━━━━━━━━━━━┓\n",
       "┃\u001b[1m \u001b[0m\u001b[1mLayer (type)                                                 \u001b[0m\u001b[1m \u001b[0m┃\u001b[1m \u001b[0m\u001b[1m                                  Config\u001b[0m\u001b[1m \u001b[0m┃\n",
       "┡━━━━━━━━━━━━━━━━━━━━━━━━━━━━━━━━━━━━━━━━━━━━━━━━━━━━━━━━━━━━━━━╇━━━━━━━━━━━━━━━━━━━━━━━━━━━━━━━━━━━━━━━━━━┩\n",
       "│ gemma_tokenizer (\u001b[38;5;33mGemmaTokenizer\u001b[0m)                              │                      Vocab size: \u001b[38;5;34m256,000\u001b[0m │\n",
       "└───────────────────────────────────────────────────────────────┴──────────────────────────────────────────┘\n"
      ]
     },
     "metadata": {},
     "output_type": "display_data"
    },
    {
     "data": {
      "text/html": [
       "<pre style=\"white-space:pre;overflow-x:auto;line-height:normal;font-family:Menlo,'DejaVu Sans Mono',consolas,'Courier New',monospace\"><span style=\"font-weight: bold\">Model: \"gemma_causal_lm\"</span>\n",
       "</pre>\n"
      ],
      "text/plain": [
       "\u001b[1mModel: \"gemma_causal_lm\"\u001b[0m\n"
      ]
     },
     "metadata": {},
     "output_type": "display_data"
    },
    {
     "data": {
      "text/html": [
       "<pre style=\"white-space:pre;overflow-x:auto;line-height:normal;font-family:Menlo,'DejaVu Sans Mono',consolas,'Courier New',monospace\">┏━━━━━━━━━━━━━━━━━━━━━━━━━━━━━━━┳━━━━━━━━━━━━━━━━━━━━━━━━━━━┳━━━━━━━━━━━━━━━━━┳━━━━━━━━━━━━━━━━━━━━━━━━━━━━┓\n",
       "┃<span style=\"font-weight: bold\"> Layer (type)                  </span>┃<span style=\"font-weight: bold\"> Output Shape              </span>┃<span style=\"font-weight: bold\">         Param # </span>┃<span style=\"font-weight: bold\"> Connected to               </span>┃\n",
       "┡━━━━━━━━━━━━━━━━━━━━━━━━━━━━━━━╇━━━━━━━━━━━━━━━━━━━━━━━━━━━╇━━━━━━━━━━━━━━━━━╇━━━━━━━━━━━━━━━━━━━━━━━━━━━━┩\n",
       "│ padding_mask (<span style=\"color: #0087ff; text-decoration-color: #0087ff\">InputLayer</span>)     │ (<span style=\"color: #00d7ff; text-decoration-color: #00d7ff\">None</span>, <span style=\"color: #00d7ff; text-decoration-color: #00d7ff\">None</span>)              │               <span style=\"color: #00af00; text-decoration-color: #00af00\">0</span> │ -                          │\n",
       "├───────────────────────────────┼───────────────────────────┼─────────────────┼────────────────────────────┤\n",
       "│ token_ids (<span style=\"color: #0087ff; text-decoration-color: #0087ff\">InputLayer</span>)        │ (<span style=\"color: #00d7ff; text-decoration-color: #00d7ff\">None</span>, <span style=\"color: #00d7ff; text-decoration-color: #00d7ff\">None</span>)              │               <span style=\"color: #00af00; text-decoration-color: #00af00\">0</span> │ -                          │\n",
       "├───────────────────────────────┼───────────────────────────┼─────────────────┼────────────────────────────┤\n",
       "│ gemma_backbone                │ (<span style=\"color: #00d7ff; text-decoration-color: #00d7ff\">None</span>, <span style=\"color: #00d7ff; text-decoration-color: #00d7ff\">None</span>, <span style=\"color: #00af00; text-decoration-color: #00af00\">2304</span>)        │   <span style=\"color: #00af00; text-decoration-color: #00af00\">2,617,270,528</span> │ padding_mask[<span style=\"color: #00af00; text-decoration-color: #00af00\">0</span>][<span style=\"color: #00af00; text-decoration-color: #00af00\">0</span>],        │\n",
       "│ (<span style=\"color: #0087ff; text-decoration-color: #0087ff\">GemmaBackbone</span>)               │                           │                 │ token_ids[<span style=\"color: #00af00; text-decoration-color: #00af00\">0</span>][<span style=\"color: #00af00; text-decoration-color: #00af00\">0</span>]            │\n",
       "├───────────────────────────────┼───────────────────────────┼─────────────────┼────────────────────────────┤\n",
       "│ token_embedding               │ (<span style=\"color: #00d7ff; text-decoration-color: #00d7ff\">None</span>, <span style=\"color: #00d7ff; text-decoration-color: #00d7ff\">None</span>, <span style=\"color: #00af00; text-decoration-color: #00af00\">256000</span>)      │     <span style=\"color: #00af00; text-decoration-color: #00af00\">589,824,000</span> │ gemma_backbone[<span style=\"color: #00af00; text-decoration-color: #00af00\">0</span>][<span style=\"color: #00af00; text-decoration-color: #00af00\">0</span>]       │\n",
       "│ (<span style=\"color: #0087ff; text-decoration-color: #0087ff\">ReversibleEmbedding</span>)         │                           │                 │                            │\n",
       "└───────────────────────────────┴───────────────────────────┴─────────────────┴────────────────────────────┘\n",
       "</pre>\n"
      ],
      "text/plain": [
       "┏━━━━━━━━━━━━━━━━━━━━━━━━━━━━━━━┳━━━━━━━━━━━━━━━━━━━━━━━━━━━┳━━━━━━━━━━━━━━━━━┳━━━━━━━━━━━━━━━━━━━━━━━━━━━━┓\n",
       "┃\u001b[1m \u001b[0m\u001b[1mLayer (type)                 \u001b[0m\u001b[1m \u001b[0m┃\u001b[1m \u001b[0m\u001b[1mOutput Shape             \u001b[0m\u001b[1m \u001b[0m┃\u001b[1m \u001b[0m\u001b[1m        Param #\u001b[0m\u001b[1m \u001b[0m┃\u001b[1m \u001b[0m\u001b[1mConnected to              \u001b[0m\u001b[1m \u001b[0m┃\n",
       "┡━━━━━━━━━━━━━━━━━━━━━━━━━━━━━━━╇━━━━━━━━━━━━━━━━━━━━━━━━━━━╇━━━━━━━━━━━━━━━━━╇━━━━━━━━━━━━━━━━━━━━━━━━━━━━┩\n",
       "│ padding_mask (\u001b[38;5;33mInputLayer\u001b[0m)     │ (\u001b[38;5;45mNone\u001b[0m, \u001b[38;5;45mNone\u001b[0m)              │               \u001b[38;5;34m0\u001b[0m │ -                          │\n",
       "├───────────────────────────────┼───────────────────────────┼─────────────────┼────────────────────────────┤\n",
       "│ token_ids (\u001b[38;5;33mInputLayer\u001b[0m)        │ (\u001b[38;5;45mNone\u001b[0m, \u001b[38;5;45mNone\u001b[0m)              │               \u001b[38;5;34m0\u001b[0m │ -                          │\n",
       "├───────────────────────────────┼───────────────────────────┼─────────────────┼────────────────────────────┤\n",
       "│ gemma_backbone                │ (\u001b[38;5;45mNone\u001b[0m, \u001b[38;5;45mNone\u001b[0m, \u001b[38;5;34m2304\u001b[0m)        │   \u001b[38;5;34m2,617,270,528\u001b[0m │ padding_mask[\u001b[38;5;34m0\u001b[0m][\u001b[38;5;34m0\u001b[0m],        │\n",
       "│ (\u001b[38;5;33mGemmaBackbone\u001b[0m)               │                           │                 │ token_ids[\u001b[38;5;34m0\u001b[0m][\u001b[38;5;34m0\u001b[0m]            │\n",
       "├───────────────────────────────┼───────────────────────────┼─────────────────┼────────────────────────────┤\n",
       "│ token_embedding               │ (\u001b[38;5;45mNone\u001b[0m, \u001b[38;5;45mNone\u001b[0m, \u001b[38;5;34m256000\u001b[0m)      │     \u001b[38;5;34m589,824,000\u001b[0m │ gemma_backbone[\u001b[38;5;34m0\u001b[0m][\u001b[38;5;34m0\u001b[0m]       │\n",
       "│ (\u001b[38;5;33mReversibleEmbedding\u001b[0m)         │                           │                 │                            │\n",
       "└───────────────────────────────┴───────────────────────────┴─────────────────┴────────────────────────────┘\n"
      ]
     },
     "metadata": {},
     "output_type": "display_data"
    },
    {
     "data": {
      "text/html": [
       "<pre style=\"white-space:pre;overflow-x:auto;line-height:normal;font-family:Menlo,'DejaVu Sans Mono',consolas,'Courier New',monospace\"><span style=\"font-weight: bold\"> Total params: </span><span style=\"color: #00af00; text-decoration-color: #00af00\">2,617,270,528</span> (9.75 GB)\n",
       "</pre>\n"
      ],
      "text/plain": [
       "\u001b[1m Total params: \u001b[0m\u001b[38;5;34m2,617,270,528\u001b[0m (9.75 GB)\n"
      ]
     },
     "metadata": {},
     "output_type": "display_data"
    },
    {
     "data": {
      "text/html": [
       "<pre style=\"white-space:pre;overflow-x:auto;line-height:normal;font-family:Menlo,'DejaVu Sans Mono',consolas,'Courier New',monospace\"><span style=\"font-weight: bold\"> Trainable params: </span><span style=\"color: #00af00; text-decoration-color: #00af00\">2,928,640</span> (11.17 MB)\n",
       "</pre>\n"
      ],
      "text/plain": [
       "\u001b[1m Trainable params: \u001b[0m\u001b[38;5;34m2,928,640\u001b[0m (11.17 MB)\n"
      ]
     },
     "metadata": {},
     "output_type": "display_data"
    },
    {
     "data": {
      "text/html": [
       "<pre style=\"white-space:pre;overflow-x:auto;line-height:normal;font-family:Menlo,'DejaVu Sans Mono',consolas,'Courier New',monospace\"><span style=\"font-weight: bold\"> Non-trainable params: </span><span style=\"color: #00af00; text-decoration-color: #00af00\">2,614,341,888</span> (9.74 GB)\n",
       "</pre>\n"
      ],
      "text/plain": [
       "\u001b[1m Non-trainable params: \u001b[0m\u001b[38;5;34m2,614,341,888\u001b[0m (9.74 GB)\n"
      ]
     },
     "metadata": {},
     "output_type": "display_data"
    }
   ],
   "source": [
    "# Enable LoRA for the model and set the LoRA rank to 4.\n",
    "gemma_lm.backbone.enable_lora(rank=4)\n",
    "gemma_lm.summary()"
   ]
  },
  {
   "cell_type": "markdown",
   "id": "593d61b7",
   "metadata": {
    "papermill": {
     "duration": 0.005489,
     "end_time": "2024-12-25T13:44:45.457179",
     "exception": false,
     "start_time": "2024-12-25T13:44:45.451690",
     "status": "completed"
    },
    "tags": []
   },
   "source": [
    "As you can see, the trainable parameters have reduces to 2,928,640 (11.17 MB). Now we can train the model on our data."
   ]
  },
  {
   "cell_type": "code",
   "execution_count": 11,
   "id": "7650de73",
   "metadata": {
    "execution": {
     "iopub.execute_input": "2024-12-25T13:44:45.468976Z",
     "iopub.status.busy": "2024-12-25T13:44:45.468734Z",
     "iopub.status.idle": "2024-12-25T13:55:48.612768Z",
     "shell.execute_reply": "2024-12-25T13:55:48.612018Z"
    },
    "papermill": {
     "duration": 663.151419,
     "end_time": "2024-12-25T13:55:48.614062",
     "exception": false,
     "start_time": "2024-12-25T13:44:45.462643",
     "status": "completed"
    },
    "tags": []
   },
   "outputs": [
    {
     "name": "stdout",
     "output_type": "stream",
     "text": [
      "Epoch 1/2\n",
      "\u001b[1m720/720\u001b[0m \u001b[32m━━━━━━━━━━━━━━━━━━━━\u001b[0m\u001b[37m\u001b[0m \u001b[1m343s\u001b[0m 441ms/step - loss: 0.5564 - sparse_categorical_accuracy: 0.6182\n",
      "Epoch 2/2\n",
      "\u001b[1m720/720\u001b[0m \u001b[32m━━━━━━━━━━━━━━━━━━━━\u001b[0m\u001b[37m\u001b[0m \u001b[1m318s\u001b[0m 419ms/step - loss: 0.3035 - sparse_categorical_accuracy: 0.7722\n"
     ]
    },
    {
     "data": {
      "text/plain": [
       "<keras.src.callbacks.history.History at 0x7eea4c4b2140>"
      ]
     },
     "execution_count": 11,
     "metadata": {},
     "output_type": "execute_result"
    }
   ],
   "source": [
    "# Limit the input sequence length to 256 (to control memory usage).\n",
    "gemma_lm.preprocessor.sequence_length = 256\n",
    "# Use AdamW (a common optimizer for transformer models).\n",
    "optimizer = keras.optimizers.AdamW(\n",
    "    learning_rate=5e-5,\n",
    "    weight_decay=0.01,\n",
    ")\n",
    "# Exclude layernorm and bias terms from decay.\n",
    "optimizer.exclude_from_weight_decay(var_names=[\"bias\", \"scale\"])\n",
    "\n",
    "gemma_lm.compile(\n",
    "    loss=keras.losses.SparseCategoricalCrossentropy(from_logits=True),\n",
    "    optimizer=optimizer,\n",
    "    weighted_metrics=[keras.metrics.SparseCategoricalAccuracy()],\n",
    ")\n",
    "gemma_lm.fit(data, epochs=2, batch_size=1)"
   ]
  },
  {
   "cell_type": "markdown",
   "id": "d062f36d",
   "metadata": {
    "papermill": {
     "duration": 0.056582,
     "end_time": "2024-12-25T13:55:48.768576",
     "exception": false,
     "start_time": "2024-12-25T13:55:48.711994",
     "status": "completed"
    },
    "tags": []
   },
   "source": [
    "# Testing it with different figurative meanings"
   ]
  },
  {
   "cell_type": "code",
   "execution_count": 12,
   "id": "77b5ca34",
   "metadata": {
    "execution": {
     "iopub.execute_input": "2024-12-25T13:55:48.882697Z",
     "iopub.status.busy": "2024-12-25T13:55:48.882393Z",
     "iopub.status.idle": "2024-12-25T13:56:10.342583Z",
     "shell.execute_reply": "2024-12-25T13:56:10.341542Z"
    },
    "papermill": {
     "duration": 21.518382,
     "end_time": "2024-12-25T13:56:10.343886",
     "exception": false,
     "start_time": "2024-12-25T13:55:48.825504",
     "status": "completed"
    },
    "tags": []
   },
   "outputs": [
    {
     "name": "stdout",
     "output_type": "stream",
     "text": [
      "Instruction:\n",
      " Do you know which idioms would be suitable for to be stuck in a difficult situation\n",
      "\n",
      "Response:\n",
      " Id idioms would be:\n",
      "1. Be trapped in the spider's web: To be faced with a problem that seems inescapable.\n",
      "2. To be cornered: To have no options or choices; to be stuck or trapped in a situation.\n",
      "3. To be in the eye of the storm: To be in a difficult situation with multiple challenges or obstacles.\n",
      "4. To be caught in the vice of circumstances: To feel trapped in unfavorable circumstances that are difficult to escape from.\n",
      "5. To be caught in a quagmire: To be overwhelmed by challenges or obstacles that require a lot of effort to overcome.\n",
      "Example Use: I feel like I'm being trapped in the spider's web when it comes to finding a suitable job.\n",
      "Cultural Reference: These idioms come from the English culture.\n",
      "\n"
     ]
    }
   ],
   "source": [
    "#1\n",
    "test_meaning = \"to be stuck in a difficult situation\"\n",
    "\n",
    "#Using the same template format as training\n",
    "prompt = (\n",
    "    \"Instruction:\\n Do you know which idioms would be suitable for {}\\n\\n\"\n",
    "    \"Response:\\n\"\n",
    ").format(test_meaning)\n",
    "\n",
    "\n",
    "sampler = keras_nlp.samplers.TopKSampler(k=7, seed=2)\n",
    "gemma_lm.compile(sampler=sampler)\n",
    "print(gemma_lm.generate(prompt, max_length=512))"
   ]
  },
  {
   "cell_type": "code",
   "execution_count": 13,
   "id": "352d4b26",
   "metadata": {
    "execution": {
     "iopub.execute_input": "2024-12-25T13:56:10.460211Z",
     "iopub.status.busy": "2024-12-25T13:56:10.459911Z",
     "iopub.status.idle": "2024-12-25T13:56:25.998169Z",
     "shell.execute_reply": "2024-12-25T13:56:25.997118Z"
    },
    "papermill": {
     "duration": 15.59711,
     "end_time": "2024-12-25T13:56:25.999556",
     "exception": false,
     "start_time": "2024-12-25T13:56:10.402446",
     "status": "completed"
    },
    "tags": []
   },
   "outputs": [
    {
     "name": "stdout",
     "output_type": "stream",
     "text": [
      "Instruction:\n",
      " Do you know any idioms which would be suitable for someone who does not value another person\n",
      "\n",
      "Response:\n",
      "Idiom: A tree does not grow in its own shade\n",
      "Example: He is a very selfish person; a tree does not grow in its own shade\n",
      "Cultural Context: This idiom comes from the Polish culture\n",
      "\n"
     ]
    }
   ],
   "source": [
    "#2 \n",
    "test_meaning = \"someone who does not value another person\"\n",
    "\n",
    "\n",
    "#Using the same template format as training\n",
    "prompt = (\n",
    "    \"Instruction:\\n Do you know any idioms which would be suitable for {}\\n\\n\"\n",
    "    \"Response:\\n\"\n",
    ").format(test_meaning)\n",
    "\n",
    "\n",
    "sampler = keras_nlp.samplers.TopKSampler(k=10, seed=2)\n",
    "gemma_lm.compile(sampler=sampler)\n",
    "print(gemma_lm.generate(prompt, max_length=512))"
   ]
  }
 ],
 "metadata": {
  "kaggle": {
   "accelerator": "gpu",
   "dataSources": [
    {
     "datasetId": 6048296,
     "sourceId": 10272721,
     "sourceType": "datasetVersion"
    },
    {
     "modelId": 78150,
     "modelInstanceId": 72244,
     "sourceId": 85984,
     "sourceType": "modelInstanceVersion"
    }
   ],
   "dockerImageVersionId": 30822,
   "isGpuEnabled": true,
   "isInternetEnabled": true,
   "language": "python",
   "sourceType": "notebook"
  },
  "kernelspec": {
   "display_name": "Python 3",
   "language": "python",
   "name": "python3"
  },
  "language_info": {
   "codemirror_mode": {
    "name": "ipython",
    "version": 3
   },
   "file_extension": ".py",
   "mimetype": "text/x-python",
   "name": "python",
   "nbconvert_exporter": "python",
   "pygments_lexer": "ipython3",
   "version": "3.10.12"
  },
  "papermill": {
   "default_parameters": {},
   "duration": 777.067233,
   "end_time": "2024-12-25T13:56:28.840974",
   "environment_variables": {},
   "exception": null,
   "input_path": "__notebook__.ipynb",
   "output_path": "__notebook__.ipynb",
   "parameters": {},
   "start_time": "2024-12-25T13:43:31.773741",
   "version": "2.6.0"
  },
  "widgets": {
   "application/vnd.jupyter.widget-state+json": {
    "state": {
     "006a423d787147c4bbd2402f959ad105": {
      "model_module": "@jupyter-widgets/base",
      "model_module_version": "2.0.0",
      "model_name": "LayoutModel",
      "state": {
       "_model_module": "@jupyter-widgets/base",
       "_model_module_version": "2.0.0",
       "_model_name": "LayoutModel",
       "_view_count": null,
       "_view_module": "@jupyter-widgets/base",
       "_view_module_version": "2.0.0",
       "_view_name": "LayoutView",
       "align_content": null,
       "align_items": null,
       "align_self": null,
       "border_bottom": null,
       "border_left": null,
       "border_right": null,
       "border_top": null,
       "bottom": null,
       "display": null,
       "flex": null,
       "flex_flow": null,
       "grid_area": null,
       "grid_auto_columns": null,
       "grid_auto_flow": null,
       "grid_auto_rows": null,
       "grid_column": null,
       "grid_gap": null,
       "grid_row": null,
       "grid_template_areas": null,
       "grid_template_columns": null,
       "grid_template_rows": null,
       "height": null,
       "justify_content": null,
       "justify_items": null,
       "left": null,
       "margin": null,
       "max_height": null,
       "max_width": null,
       "min_height": null,
       "min_width": null,
       "object_fit": null,
       "object_position": null,
       "order": null,
       "overflow": null,
       "padding": null,
       "right": null,
       "top": null,
       "visibility": null,
       "width": null
      }
     },
     "017bc715025b444085228cbd98f60871": {
      "model_module": "@jupyter-widgets/controls",
      "model_module_version": "2.0.0",
      "model_name": "HTMLStyleModel",
      "state": {
       "_model_module": "@jupyter-widgets/controls",
       "_model_module_version": "2.0.0",
       "_model_name": "HTMLStyleModel",
       "_view_count": null,
       "_view_module": "@jupyter-widgets/base",
       "_view_module_version": "2.0.0",
       "_view_name": "StyleView",
       "background": null,
       "description_width": "",
       "font_size": null,
       "text_color": null
      }
     },
     "045e96f5f72c43ddb5125caca0cc7158": {
      "model_module": "@jupyter-widgets/controls",
      "model_module_version": "2.0.0",
      "model_name": "HTMLModel",
      "state": {
       "_dom_classes": [],
       "_model_module": "@jupyter-widgets/controls",
       "_model_module_version": "2.0.0",
       "_model_name": "HTMLModel",
       "_view_count": null,
       "_view_module": "@jupyter-widgets/controls",
       "_view_module_version": "2.0.0",
       "_view_name": "HTMLView",
       "description": "",
       "description_allow_html": false,
       "layout": "IPY_MODEL_f2807517fc214d62b0402e2dc3c18a31",
       "placeholder": "​",
       "style": "IPY_MODEL_e5e9c1af65484cff8bfa5efae221ddad",
       "tabbable": null,
       "tooltip": null,
       "value": " 71/71 [00:00&lt;00:00, 7572.49files/s]"
      }
     },
     "1d13eabd834646e099bec149d6b7459d": {
      "model_module": "@jupyter-widgets/base",
      "model_module_version": "2.0.0",
      "model_name": "LayoutModel",
      "state": {
       "_model_module": "@jupyter-widgets/base",
       "_model_module_version": "2.0.0",
       "_model_name": "LayoutModel",
       "_view_count": null,
       "_view_module": "@jupyter-widgets/base",
       "_view_module_version": "2.0.0",
       "_view_name": "LayoutView",
       "align_content": null,
       "align_items": null,
       "align_self": null,
       "border_bottom": null,
       "border_left": null,
       "border_right": null,
       "border_top": null,
       "bottom": null,
       "display": null,
       "flex": null,
       "flex_flow": null,
       "grid_area": null,
       "grid_auto_columns": null,
       "grid_auto_flow": null,
       "grid_auto_rows": null,
       "grid_column": null,
       "grid_gap": null,
       "grid_row": null,
       "grid_template_areas": null,
       "grid_template_columns": null,
       "grid_template_rows": null,
       "height": null,
       "justify_content": null,
       "justify_items": null,
       "left": null,
       "margin": null,
       "max_height": null,
       "max_width": null,
       "min_height": null,
       "min_width": null,
       "object_fit": null,
       "object_position": null,
       "order": null,
       "overflow": null,
       "padding": null,
       "right": null,
       "top": null,
       "visibility": null,
       "width": null
      }
     },
     "1faad6dccb2e4f8389d61a7090251444": {
      "model_module": "@jupyter-widgets/base",
      "model_module_version": "2.0.0",
      "model_name": "LayoutModel",
      "state": {
       "_model_module": "@jupyter-widgets/base",
       "_model_module_version": "2.0.0",
       "_model_name": "LayoutModel",
       "_view_count": null,
       "_view_module": "@jupyter-widgets/base",
       "_view_module_version": "2.0.0",
       "_view_name": "LayoutView",
       "align_content": null,
       "align_items": null,
       "align_self": null,
       "border_bottom": null,
       "border_left": null,
       "border_right": null,
       "border_top": null,
       "bottom": null,
       "display": null,
       "flex": null,
       "flex_flow": null,
       "grid_area": null,
       "grid_auto_columns": null,
       "grid_auto_flow": null,
       "grid_auto_rows": null,
       "grid_column": null,
       "grid_gap": null,
       "grid_row": null,
       "grid_template_areas": null,
       "grid_template_columns": null,
       "grid_template_rows": null,
       "height": null,
       "justify_content": null,
       "justify_items": null,
       "left": null,
       "margin": null,
       "max_height": null,
       "max_width": null,
       "min_height": null,
       "min_width": null,
       "object_fit": null,
       "object_position": null,
       "order": null,
       "overflow": null,
       "padding": null,
       "right": null,
       "top": null,
       "visibility": null,
       "width": null
      }
     },
     "25eada60de2c444db31f5481305d17a3": {
      "model_module": "@jupyter-widgets/controls",
      "model_module_version": "2.0.0",
      "model_name": "HTMLModel",
      "state": {
       "_dom_classes": [],
       "_model_module": "@jupyter-widgets/controls",
       "_model_module_version": "2.0.0",
       "_model_name": "HTMLModel",
       "_view_count": null,
       "_view_module": "@jupyter-widgets/controls",
       "_view_module_version": "2.0.0",
       "_view_name": "HTMLView",
       "description": "",
       "description_allow_html": false,
       "layout": "IPY_MODEL_5f9492f634dc4934836c088d26936dff",
       "placeholder": "​",
       "style": "IPY_MODEL_baed3957aa7e4ebdb65b5a1e2404a39d",
       "tabbable": null,
       "tooltip": null,
       "value": " 720/0 [00:00&lt;00:00, 1957.39 examples/s]"
      }
     },
     "271654fa6c6f4235a72d696065aa8b76": {
      "model_module": "@jupyter-widgets/controls",
      "model_module_version": "2.0.0",
      "model_name": "ProgressStyleModel",
      "state": {
       "_model_module": "@jupyter-widgets/controls",
       "_model_module_version": "2.0.0",
       "_model_name": "ProgressStyleModel",
       "_view_count": null,
       "_view_module": "@jupyter-widgets/base",
       "_view_module_version": "2.0.0",
       "_view_name": "StyleView",
       "bar_color": null,
       "description_width": ""
      }
     },
     "29c58e30a8e742be957a2fea39126fec": {
      "model_module": "@jupyter-widgets/controls",
      "model_module_version": "2.0.0",
      "model_name": "HTMLStyleModel",
      "state": {
       "_model_module": "@jupyter-widgets/controls",
       "_model_module_version": "2.0.0",
       "_model_name": "HTMLStyleModel",
       "_view_count": null,
       "_view_module": "@jupyter-widgets/base",
       "_view_module_version": "2.0.0",
       "_view_name": "StyleView",
       "background": null,
       "description_width": "",
       "font_size": null,
       "text_color": null
      }
     },
     "2daacd33e02c4bb7ae65c8433cd7cbb8": {
      "model_module": "@jupyter-widgets/base",
      "model_module_version": "2.0.0",
      "model_name": "LayoutModel",
      "state": {
       "_model_module": "@jupyter-widgets/base",
       "_model_module_version": "2.0.0",
       "_model_name": "LayoutModel",
       "_view_count": null,
       "_view_module": "@jupyter-widgets/base",
       "_view_module_version": "2.0.0",
       "_view_name": "LayoutView",
       "align_content": null,
       "align_items": null,
       "align_self": null,
       "border_bottom": null,
       "border_left": null,
       "border_right": null,
       "border_top": null,
       "bottom": null,
       "display": null,
       "flex": null,
       "flex_flow": null,
       "grid_area": null,
       "grid_auto_columns": null,
       "grid_auto_flow": null,
       "grid_auto_rows": null,
       "grid_column": null,
       "grid_gap": null,
       "grid_row": null,
       "grid_template_areas": null,
       "grid_template_columns": null,
       "grid_template_rows": null,
       "height": null,
       "justify_content": null,
       "justify_items": null,
       "left": null,
       "margin": null,
       "max_height": null,
       "max_width": null,
       "min_height": null,
       "min_width": null,
       "object_fit": null,
       "object_position": null,
       "order": null,
       "overflow": null,
       "padding": null,
       "right": null,
       "top": null,
       "visibility": null,
       "width": null
      }
     },
     "34dfb37c32bc404c98bf58751d3498bf": {
      "model_module": "@jupyter-widgets/base",
      "model_module_version": "2.0.0",
      "model_name": "LayoutModel",
      "state": {
       "_model_module": "@jupyter-widgets/base",
       "_model_module_version": "2.0.0",
       "_model_name": "LayoutModel",
       "_view_count": null,
       "_view_module": "@jupyter-widgets/base",
       "_view_module_version": "2.0.0",
       "_view_name": "LayoutView",
       "align_content": null,
       "align_items": null,
       "align_self": null,
       "border_bottom": null,
       "border_left": null,
       "border_right": null,
       "border_top": null,
       "bottom": null,
       "display": null,
       "flex": null,
       "flex_flow": null,
       "grid_area": null,
       "grid_auto_columns": null,
       "grid_auto_flow": null,
       "grid_auto_rows": null,
       "grid_column": null,
       "grid_gap": null,
       "grid_row": null,
       "grid_template_areas": null,
       "grid_template_columns": null,
       "grid_template_rows": null,
       "height": null,
       "justify_content": null,
       "justify_items": null,
       "left": null,
       "margin": null,
       "max_height": null,
       "max_width": null,
       "min_height": null,
       "min_width": null,
       "object_fit": null,
       "object_position": null,
       "order": null,
       "overflow": null,
       "padding": null,
       "right": null,
       "top": null,
       "visibility": null,
       "width": null
      }
     },
     "366a3865f4a74cd981a09e5c816844ad": {
      "model_module": "@jupyter-widgets/controls",
      "model_module_version": "2.0.0",
      "model_name": "HTMLModel",
      "state": {
       "_dom_classes": [],
       "_model_module": "@jupyter-widgets/controls",
       "_model_module_version": "2.0.0",
       "_model_name": "HTMLModel",
       "_view_count": null,
       "_view_module": "@jupyter-widgets/controls",
       "_view_module_version": "2.0.0",
       "_view_name": "HTMLView",
       "description": "",
       "description_allow_html": false,
       "layout": "IPY_MODEL_2daacd33e02c4bb7ae65c8433cd7cbb8",
       "placeholder": "​",
       "style": "IPY_MODEL_ad7eb8c3c5694fadb87254514d3014fb",
       "tabbable": null,
       "tooltip": null,
       "value": "Downloading data: 100%"
      }
     },
     "37aa541e6e5042b795ad7acf40e13dd4": {
      "model_module": "@jupyter-widgets/controls",
      "model_module_version": "2.0.0",
      "model_name": "HTMLModel",
      "state": {
       "_dom_classes": [],
       "_model_module": "@jupyter-widgets/controls",
       "_model_module_version": "2.0.0",
       "_model_name": "HTMLModel",
       "_view_count": null,
       "_view_module": "@jupyter-widgets/controls",
       "_view_module_version": "2.0.0",
       "_view_name": "HTMLView",
       "description": "",
       "description_allow_html": false,
       "layout": "IPY_MODEL_7bc77c6fa1f84f9f9088b56f6e2d1f55",
       "placeholder": "​",
       "style": "IPY_MODEL_017bc715025b444085228cbd98f60871",
       "tabbable": null,
       "tooltip": null,
       "value": " 71/71 [00:00&lt;00:00, 7894.06it/s]"
      }
     },
     "407a78b7df59496ea4c9c7ff51b17e2a": {
      "model_module": "@jupyter-widgets/base",
      "model_module_version": "2.0.0",
      "model_name": "LayoutModel",
      "state": {
       "_model_module": "@jupyter-widgets/base",
       "_model_module_version": "2.0.0",
       "_model_name": "LayoutModel",
       "_view_count": null,
       "_view_module": "@jupyter-widgets/base",
       "_view_module_version": "2.0.0",
       "_view_name": "LayoutView",
       "align_content": null,
       "align_items": null,
       "align_self": null,
       "border_bottom": null,
       "border_left": null,
       "border_right": null,
       "border_top": null,
       "bottom": null,
       "display": null,
       "flex": null,
       "flex_flow": null,
       "grid_area": null,
       "grid_auto_columns": null,
       "grid_auto_flow": null,
       "grid_auto_rows": null,
       "grid_column": null,
       "grid_gap": null,
       "grid_row": null,
       "grid_template_areas": null,
       "grid_template_columns": null,
       "grid_template_rows": null,
       "height": null,
       "justify_content": null,
       "justify_items": null,
       "left": null,
       "margin": null,
       "max_height": null,
       "max_width": null,
       "min_height": null,
       "min_width": null,
       "object_fit": null,
       "object_position": null,
       "order": null,
       "overflow": null,
       "padding": null,
       "right": null,
       "top": null,
       "visibility": null,
       "width": null
      }
     },
     "46ec4daccdde402193cc4b1155c19b61": {
      "model_module": "@jupyter-widgets/controls",
      "model_module_version": "2.0.0",
      "model_name": "HBoxModel",
      "state": {
       "_dom_classes": [],
       "_model_module": "@jupyter-widgets/controls",
       "_model_module_version": "2.0.0",
       "_model_name": "HBoxModel",
       "_view_count": null,
       "_view_module": "@jupyter-widgets/controls",
       "_view_module_version": "2.0.0",
       "_view_name": "HBoxView",
       "box_style": "",
       "children": [
        "IPY_MODEL_50d8f5f412474eebba587ecfa50075b9",
        "IPY_MODEL_58d43775089b4f3a89fbc571f9da7abc",
        "IPY_MODEL_b411634cffbe4d3aa34450c51f1abe6e"
       ],
       "layout": "IPY_MODEL_9c7ec8ba13e0428d99b7b3c8af4d9b4d",
       "tabbable": null,
       "tooltip": null
      }
     },
     "4e576058df2f47cc80cace14b79bd627": {
      "model_module": "@jupyter-widgets/controls",
      "model_module_version": "2.0.0",
      "model_name": "HTMLModel",
      "state": {
       "_dom_classes": [],
       "_model_module": "@jupyter-widgets/controls",
       "_model_module_version": "2.0.0",
       "_model_name": "HTMLModel",
       "_view_count": null,
       "_view_module": "@jupyter-widgets/controls",
       "_view_module_version": "2.0.0",
       "_view_name": "HTMLView",
       "description": "",
       "description_allow_html": false,
       "layout": "IPY_MODEL_006a423d787147c4bbd2402f959ad105",
       "placeholder": "​",
       "style": "IPY_MODEL_fd90b81ccf6145df946a202b2004ee91",
       "tabbable": null,
       "tooltip": null,
       "value": "Computing checksums: 100%"
      }
     },
     "50d8f5f412474eebba587ecfa50075b9": {
      "model_module": "@jupyter-widgets/controls",
      "model_module_version": "2.0.0",
      "model_name": "HTMLModel",
      "state": {
       "_dom_classes": [],
       "_model_module": "@jupyter-widgets/controls",
       "_model_module_version": "2.0.0",
       "_model_name": "HTMLModel",
       "_view_count": null,
       "_view_module": "@jupyter-widgets/controls",
       "_view_module_version": "2.0.0",
       "_view_name": "HTMLView",
       "description": "",
       "description_allow_html": false,
       "layout": "IPY_MODEL_407a78b7df59496ea4c9c7ff51b17e2a",
       "placeholder": "​",
       "style": "IPY_MODEL_bd2476d80aac4108b2f41843d618bb1b",
       "tabbable": null,
       "tooltip": null,
       "value": "Resolving data files: 100%"
      }
     },
     "517f7530cf6340e58a79d42abc415200": {
      "model_module": "@jupyter-widgets/base",
      "model_module_version": "2.0.0",
      "model_name": "LayoutModel",
      "state": {
       "_model_module": "@jupyter-widgets/base",
       "_model_module_version": "2.0.0",
       "_model_name": "LayoutModel",
       "_view_count": null,
       "_view_module": "@jupyter-widgets/base",
       "_view_module_version": "2.0.0",
       "_view_name": "LayoutView",
       "align_content": null,
       "align_items": null,
       "align_self": null,
       "border_bottom": null,
       "border_left": null,
       "border_right": null,
       "border_top": null,
       "bottom": null,
       "display": null,
       "flex": null,
       "flex_flow": null,
       "grid_area": null,
       "grid_auto_columns": null,
       "grid_auto_flow": null,
       "grid_auto_rows": null,
       "grid_column": null,
       "grid_gap": null,
       "grid_row": null,
       "grid_template_areas": null,
       "grid_template_columns": null,
       "grid_template_rows": null,
       "height": null,
       "justify_content": null,
       "justify_items": null,
       "left": null,
       "margin": null,
       "max_height": null,
       "max_width": null,
       "min_height": null,
       "min_width": null,
       "object_fit": null,
       "object_position": null,
       "order": null,
       "overflow": null,
       "padding": null,
       "right": null,
       "top": null,
       "visibility": null,
       "width": null
      }
     },
     "58d43775089b4f3a89fbc571f9da7abc": {
      "model_module": "@jupyter-widgets/controls",
      "model_module_version": "2.0.0",
      "model_name": "FloatProgressModel",
      "state": {
       "_dom_classes": [],
       "_model_module": "@jupyter-widgets/controls",
       "_model_module_version": "2.0.0",
       "_model_name": "FloatProgressModel",
       "_view_count": null,
       "_view_module": "@jupyter-widgets/controls",
       "_view_module_version": "2.0.0",
       "_view_name": "ProgressView",
       "bar_style": "success",
       "description": "",
       "description_allow_html": false,
       "layout": "IPY_MODEL_947d92cc694a45b6a59d9853eb3a1439",
       "max": 71.0,
       "min": 0.0,
       "orientation": "horizontal",
       "style": "IPY_MODEL_bb4c29788fb2438c81260daf3ec3786f",
       "tabbable": null,
       "tooltip": null,
       "value": 71.0
      }
     },
     "5f9492f634dc4934836c088d26936dff": {
      "model_module": "@jupyter-widgets/base",
      "model_module_version": "2.0.0",
      "model_name": "LayoutModel",
      "state": {
       "_model_module": "@jupyter-widgets/base",
       "_model_module_version": "2.0.0",
       "_model_name": "LayoutModel",
       "_view_count": null,
       "_view_module": "@jupyter-widgets/base",
       "_view_module_version": "2.0.0",
       "_view_name": "LayoutView",
       "align_content": null,
       "align_items": null,
       "align_self": null,
       "border_bottom": null,
       "border_left": null,
       "border_right": null,
       "border_top": null,
       "bottom": null,
       "display": null,
       "flex": null,
       "flex_flow": null,
       "grid_area": null,
       "grid_auto_columns": null,
       "grid_auto_flow": null,
       "grid_auto_rows": null,
       "grid_column": null,
       "grid_gap": null,
       "grid_row": null,
       "grid_template_areas": null,
       "grid_template_columns": null,
       "grid_template_rows": null,
       "height": null,
       "justify_content": null,
       "justify_items": null,
       "left": null,
       "margin": null,
       "max_height": null,
       "max_width": null,
       "min_height": null,
       "min_width": null,
       "object_fit": null,
       "object_position": null,
       "order": null,
       "overflow": null,
       "padding": null,
       "right": null,
       "top": null,
       "visibility": null,
       "width": null
      }
     },
     "7bc77c6fa1f84f9f9088b56f6e2d1f55": {
      "model_module": "@jupyter-widgets/base",
      "model_module_version": "2.0.0",
      "model_name": "LayoutModel",
      "state": {
       "_model_module": "@jupyter-widgets/base",
       "_model_module_version": "2.0.0",
       "_model_name": "LayoutModel",
       "_view_count": null,
       "_view_module": "@jupyter-widgets/base",
       "_view_module_version": "2.0.0",
       "_view_name": "LayoutView",
       "align_content": null,
       "align_items": null,
       "align_self": null,
       "border_bottom": null,
       "border_left": null,
       "border_right": null,
       "border_top": null,
       "bottom": null,
       "display": null,
       "flex": null,
       "flex_flow": null,
       "grid_area": null,
       "grid_auto_columns": null,
       "grid_auto_flow": null,
       "grid_auto_rows": null,
       "grid_column": null,
       "grid_gap": null,
       "grid_row": null,
       "grid_template_areas": null,
       "grid_template_columns": null,
       "grid_template_rows": null,
       "height": null,
       "justify_content": null,
       "justify_items": null,
       "left": null,
       "margin": null,
       "max_height": null,
       "max_width": null,
       "min_height": null,
       "min_width": null,
       "object_fit": null,
       "object_position": null,
       "order": null,
       "overflow": null,
       "padding": null,
       "right": null,
       "top": null,
       "visibility": null,
       "width": null
      }
     },
     "7fe0d32ce771463cb1c9ba8a20b0d2b1": {
      "model_module": "@jupyter-widgets/controls",
      "model_module_version": "2.0.0",
      "model_name": "HTMLStyleModel",
      "state": {
       "_model_module": "@jupyter-widgets/controls",
       "_model_module_version": "2.0.0",
       "_model_name": "HTMLStyleModel",
       "_view_count": null,
       "_view_module": "@jupyter-widgets/base",
       "_view_module_version": "2.0.0",
       "_view_name": "StyleView",
       "background": null,
       "description_width": "",
       "font_size": null,
       "text_color": null
      }
     },
     "8448994a77a24babac45ec9e0e78d9b0": {
      "model_module": "@jupyter-widgets/controls",
      "model_module_version": "2.0.0",
      "model_name": "HBoxModel",
      "state": {
       "_dom_classes": [],
       "_model_module": "@jupyter-widgets/controls",
       "_model_module_version": "2.0.0",
       "_model_name": "HBoxModel",
       "_view_count": null,
       "_view_module": "@jupyter-widgets/controls",
       "_view_module_version": "2.0.0",
       "_view_name": "HBoxView",
       "box_style": "",
       "children": [
        "IPY_MODEL_366a3865f4a74cd981a09e5c816844ad",
        "IPY_MODEL_8e37489cdadb4eaea30a33747812f92b",
        "IPY_MODEL_045e96f5f72c43ddb5125caca0cc7158"
       ],
       "layout": "IPY_MODEL_517f7530cf6340e58a79d42abc415200",
       "tabbable": null,
       "tooltip": null
      }
     },
     "87b09e9d80e94a9abc4836c3e0140bc3": {
      "model_module": "@jupyter-widgets/controls",
      "model_module_version": "2.0.0",
      "model_name": "HBoxModel",
      "state": {
       "_dom_classes": [],
       "_model_module": "@jupyter-widgets/controls",
       "_model_module_version": "2.0.0",
       "_model_name": "HBoxModel",
       "_view_count": null,
       "_view_module": "@jupyter-widgets/controls",
       "_view_module_version": "2.0.0",
       "_view_name": "HBoxView",
       "box_style": "",
       "children": [
        "IPY_MODEL_4e576058df2f47cc80cace14b79bd627",
        "IPY_MODEL_cb8d10801ed04dd5a0d01250a4df2689",
        "IPY_MODEL_37aa541e6e5042b795ad7acf40e13dd4"
       ],
       "layout": "IPY_MODEL_b01539d9fe424bfc9ebad5bf0f7f0c47",
       "tabbable": null,
       "tooltip": null
      }
     },
     "8934ccee41214691b83b24ab936650a7": {
      "model_module": "@jupyter-widgets/base",
      "model_module_version": "2.0.0",
      "model_name": "LayoutModel",
      "state": {
       "_model_module": "@jupyter-widgets/base",
       "_model_module_version": "2.0.0",
       "_model_name": "LayoutModel",
       "_view_count": null,
       "_view_module": "@jupyter-widgets/base",
       "_view_module_version": "2.0.0",
       "_view_name": "LayoutView",
       "align_content": null,
       "align_items": null,
       "align_self": null,
       "border_bottom": null,
       "border_left": null,
       "border_right": null,
       "border_top": null,
       "bottom": null,
       "display": null,
       "flex": null,
       "flex_flow": null,
       "grid_area": null,
       "grid_auto_columns": null,
       "grid_auto_flow": null,
       "grid_auto_rows": null,
       "grid_column": null,
       "grid_gap": null,
       "grid_row": null,
       "grid_template_areas": null,
       "grid_template_columns": null,
       "grid_template_rows": null,
       "height": null,
       "justify_content": null,
       "justify_items": null,
       "left": null,
       "margin": null,
       "max_height": null,
       "max_width": null,
       "min_height": null,
       "min_width": null,
       "object_fit": null,
       "object_position": null,
       "order": null,
       "overflow": null,
       "padding": null,
       "right": null,
       "top": null,
       "visibility": null,
       "width": "20px"
      }
     },
     "8e37489cdadb4eaea30a33747812f92b": {
      "model_module": "@jupyter-widgets/controls",
      "model_module_version": "2.0.0",
      "model_name": "FloatProgressModel",
      "state": {
       "_dom_classes": [],
       "_model_module": "@jupyter-widgets/controls",
       "_model_module_version": "2.0.0",
       "_model_name": "FloatProgressModel",
       "_view_count": null,
       "_view_module": "@jupyter-widgets/controls",
       "_view_module_version": "2.0.0",
       "_view_name": "ProgressView",
       "bar_style": "success",
       "description": "",
       "description_allow_html": false,
       "layout": "IPY_MODEL_1d13eabd834646e099bec149d6b7459d",
       "max": 71.0,
       "min": 0.0,
       "orientation": "horizontal",
       "style": "IPY_MODEL_a17eaf50ff0942a78b34f3d5a0193737",
       "tabbable": null,
       "tooltip": null,
       "value": 71.0
      }
     },
     "947d92cc694a45b6a59d9853eb3a1439": {
      "model_module": "@jupyter-widgets/base",
      "model_module_version": "2.0.0",
      "model_name": "LayoutModel",
      "state": {
       "_model_module": "@jupyter-widgets/base",
       "_model_module_version": "2.0.0",
       "_model_name": "LayoutModel",
       "_view_count": null,
       "_view_module": "@jupyter-widgets/base",
       "_view_module_version": "2.0.0",
       "_view_name": "LayoutView",
       "align_content": null,
       "align_items": null,
       "align_self": null,
       "border_bottom": null,
       "border_left": null,
       "border_right": null,
       "border_top": null,
       "bottom": null,
       "display": null,
       "flex": null,
       "flex_flow": null,
       "grid_area": null,
       "grid_auto_columns": null,
       "grid_auto_flow": null,
       "grid_auto_rows": null,
       "grid_column": null,
       "grid_gap": null,
       "grid_row": null,
       "grid_template_areas": null,
       "grid_template_columns": null,
       "grid_template_rows": null,
       "height": null,
       "justify_content": null,
       "justify_items": null,
       "left": null,
       "margin": null,
       "max_height": null,
       "max_width": null,
       "min_height": null,
       "min_width": null,
       "object_fit": null,
       "object_position": null,
       "order": null,
       "overflow": null,
       "padding": null,
       "right": null,
       "top": null,
       "visibility": null,
       "width": null
      }
     },
     "9c7ec8ba13e0428d99b7b3c8af4d9b4d": {
      "model_module": "@jupyter-widgets/base",
      "model_module_version": "2.0.0",
      "model_name": "LayoutModel",
      "state": {
       "_model_module": "@jupyter-widgets/base",
       "_model_module_version": "2.0.0",
       "_model_name": "LayoutModel",
       "_view_count": null,
       "_view_module": "@jupyter-widgets/base",
       "_view_module_version": "2.0.0",
       "_view_name": "LayoutView",
       "align_content": null,
       "align_items": null,
       "align_self": null,
       "border_bottom": null,
       "border_left": null,
       "border_right": null,
       "border_top": null,
       "bottom": null,
       "display": null,
       "flex": null,
       "flex_flow": null,
       "grid_area": null,
       "grid_auto_columns": null,
       "grid_auto_flow": null,
       "grid_auto_rows": null,
       "grid_column": null,
       "grid_gap": null,
       "grid_row": null,
       "grid_template_areas": null,
       "grid_template_columns": null,
       "grid_template_rows": null,
       "height": null,
       "justify_content": null,
       "justify_items": null,
       "left": null,
       "margin": null,
       "max_height": null,
       "max_width": null,
       "min_height": null,
       "min_width": null,
       "object_fit": null,
       "object_position": null,
       "order": null,
       "overflow": null,
       "padding": null,
       "right": null,
       "top": null,
       "visibility": null,
       "width": null
      }
     },
     "a17eaf50ff0942a78b34f3d5a0193737": {
      "model_module": "@jupyter-widgets/controls",
      "model_module_version": "2.0.0",
      "model_name": "ProgressStyleModel",
      "state": {
       "_model_module": "@jupyter-widgets/controls",
       "_model_module_version": "2.0.0",
       "_model_name": "ProgressStyleModel",
       "_view_count": null,
       "_view_module": "@jupyter-widgets/base",
       "_view_module_version": "2.0.0",
       "_view_name": "StyleView",
       "bar_color": null,
       "description_width": ""
      }
     },
     "a85470dca0ee4b5c9466c17d2f2a2d69": {
      "model_module": "@jupyter-widgets/controls",
      "model_module_version": "2.0.0",
      "model_name": "FloatProgressModel",
      "state": {
       "_dom_classes": [],
       "_model_module": "@jupyter-widgets/controls",
       "_model_module_version": "2.0.0",
       "_model_name": "FloatProgressModel",
       "_view_count": null,
       "_view_module": "@jupyter-widgets/controls",
       "_view_module_version": "2.0.0",
       "_view_name": "ProgressView",
       "bar_style": "success",
       "description": "",
       "description_allow_html": false,
       "layout": "IPY_MODEL_8934ccee41214691b83b24ab936650a7",
       "max": 1.0,
       "min": 0.0,
       "orientation": "horizontal",
       "style": "IPY_MODEL_271654fa6c6f4235a72d696065aa8b76",
       "tabbable": null,
       "tooltip": null,
       "value": 1.0
      }
     },
     "ad7eb8c3c5694fadb87254514d3014fb": {
      "model_module": "@jupyter-widgets/controls",
      "model_module_version": "2.0.0",
      "model_name": "HTMLStyleModel",
      "state": {
       "_model_module": "@jupyter-widgets/controls",
       "_model_module_version": "2.0.0",
       "_model_name": "HTMLStyleModel",
       "_view_count": null,
       "_view_module": "@jupyter-widgets/base",
       "_view_module_version": "2.0.0",
       "_view_name": "StyleView",
       "background": null,
       "description_width": "",
       "font_size": null,
       "text_color": null
      }
     },
     "adfcc9a838904792b79169434dbdd24f": {
      "model_module": "@jupyter-widgets/controls",
      "model_module_version": "2.0.0",
      "model_name": "HBoxModel",
      "state": {
       "_dom_classes": [],
       "_model_module": "@jupyter-widgets/controls",
       "_model_module_version": "2.0.0",
       "_model_name": "HBoxModel",
       "_view_count": null,
       "_view_module": "@jupyter-widgets/controls",
       "_view_module_version": "2.0.0",
       "_view_name": "HBoxView",
       "box_style": "",
       "children": [
        "IPY_MODEL_d3d8a25bd6eb4ce8b20cc05d3a2ff37d",
        "IPY_MODEL_a85470dca0ee4b5c9466c17d2f2a2d69",
        "IPY_MODEL_25eada60de2c444db31f5481305d17a3"
       ],
       "layout": "IPY_MODEL_c538be718bf247b3b103721eb244abfb",
       "tabbable": null,
       "tooltip": null
      }
     },
     "b01539d9fe424bfc9ebad5bf0f7f0c47": {
      "model_module": "@jupyter-widgets/base",
      "model_module_version": "2.0.0",
      "model_name": "LayoutModel",
      "state": {
       "_model_module": "@jupyter-widgets/base",
       "_model_module_version": "2.0.0",
       "_model_name": "LayoutModel",
       "_view_count": null,
       "_view_module": "@jupyter-widgets/base",
       "_view_module_version": "2.0.0",
       "_view_name": "LayoutView",
       "align_content": null,
       "align_items": null,
       "align_self": null,
       "border_bottom": null,
       "border_left": null,
       "border_right": null,
       "border_top": null,
       "bottom": null,
       "display": null,
       "flex": null,
       "flex_flow": null,
       "grid_area": null,
       "grid_auto_columns": null,
       "grid_auto_flow": null,
       "grid_auto_rows": null,
       "grid_column": null,
       "grid_gap": null,
       "grid_row": null,
       "grid_template_areas": null,
       "grid_template_columns": null,
       "grid_template_rows": null,
       "height": null,
       "justify_content": null,
       "justify_items": null,
       "left": null,
       "margin": null,
       "max_height": null,
       "max_width": null,
       "min_height": null,
       "min_width": null,
       "object_fit": null,
       "object_position": null,
       "order": null,
       "overflow": null,
       "padding": null,
       "right": null,
       "top": null,
       "visibility": null,
       "width": null
      }
     },
     "b37ff82b81094e4e8f9f553a4d99b306": {
      "model_module": "@jupyter-widgets/controls",
      "model_module_version": "2.0.0",
      "model_name": "ProgressStyleModel",
      "state": {
       "_model_module": "@jupyter-widgets/controls",
       "_model_module_version": "2.0.0",
       "_model_name": "ProgressStyleModel",
       "_view_count": null,
       "_view_module": "@jupyter-widgets/base",
       "_view_module_version": "2.0.0",
       "_view_name": "StyleView",
       "bar_color": null,
       "description_width": ""
      }
     },
     "b411634cffbe4d3aa34450c51f1abe6e": {
      "model_module": "@jupyter-widgets/controls",
      "model_module_version": "2.0.0",
      "model_name": "HTMLModel",
      "state": {
       "_dom_classes": [],
       "_model_module": "@jupyter-widgets/controls",
       "_model_module_version": "2.0.0",
       "_model_name": "HTMLModel",
       "_view_count": null,
       "_view_module": "@jupyter-widgets/controls",
       "_view_module_version": "2.0.0",
       "_view_name": "HTMLView",
       "description": "",
       "description_allow_html": false,
       "layout": "IPY_MODEL_d2e470ca04d94f09b21cb5e0b2282a1a",
       "placeholder": "​",
       "style": "IPY_MODEL_7fe0d32ce771463cb1c9ba8a20b0d2b1",
       "tabbable": null,
       "tooltip": null,
       "value": " 71/71 [00:00&lt;00:00, 7355.70it/s]"
      }
     },
     "baed3957aa7e4ebdb65b5a1e2404a39d": {
      "model_module": "@jupyter-widgets/controls",
      "model_module_version": "2.0.0",
      "model_name": "HTMLStyleModel",
      "state": {
       "_model_module": "@jupyter-widgets/controls",
       "_model_module_version": "2.0.0",
       "_model_name": "HTMLStyleModel",
       "_view_count": null,
       "_view_module": "@jupyter-widgets/base",
       "_view_module_version": "2.0.0",
       "_view_name": "StyleView",
       "background": null,
       "description_width": "",
       "font_size": null,
       "text_color": null
      }
     },
     "bb4c29788fb2438c81260daf3ec3786f": {
      "model_module": "@jupyter-widgets/controls",
      "model_module_version": "2.0.0",
      "model_name": "ProgressStyleModel",
      "state": {
       "_model_module": "@jupyter-widgets/controls",
       "_model_module_version": "2.0.0",
       "_model_name": "ProgressStyleModel",
       "_view_count": null,
       "_view_module": "@jupyter-widgets/base",
       "_view_module_version": "2.0.0",
       "_view_name": "StyleView",
       "bar_color": null,
       "description_width": ""
      }
     },
     "bd2476d80aac4108b2f41843d618bb1b": {
      "model_module": "@jupyter-widgets/controls",
      "model_module_version": "2.0.0",
      "model_name": "HTMLStyleModel",
      "state": {
       "_model_module": "@jupyter-widgets/controls",
       "_model_module_version": "2.0.0",
       "_model_name": "HTMLStyleModel",
       "_view_count": null,
       "_view_module": "@jupyter-widgets/base",
       "_view_module_version": "2.0.0",
       "_view_name": "StyleView",
       "background": null,
       "description_width": "",
       "font_size": null,
       "text_color": null
      }
     },
     "c538be718bf247b3b103721eb244abfb": {
      "model_module": "@jupyter-widgets/base",
      "model_module_version": "2.0.0",
      "model_name": "LayoutModel",
      "state": {
       "_model_module": "@jupyter-widgets/base",
       "_model_module_version": "2.0.0",
       "_model_name": "LayoutModel",
       "_view_count": null,
       "_view_module": "@jupyter-widgets/base",
       "_view_module_version": "2.0.0",
       "_view_name": "LayoutView",
       "align_content": null,
       "align_items": null,
       "align_self": null,
       "border_bottom": null,
       "border_left": null,
       "border_right": null,
       "border_top": null,
       "bottom": null,
       "display": null,
       "flex": null,
       "flex_flow": null,
       "grid_area": null,
       "grid_auto_columns": null,
       "grid_auto_flow": null,
       "grid_auto_rows": null,
       "grid_column": null,
       "grid_gap": null,
       "grid_row": null,
       "grid_template_areas": null,
       "grid_template_columns": null,
       "grid_template_rows": null,
       "height": null,
       "justify_content": null,
       "justify_items": null,
       "left": null,
       "margin": null,
       "max_height": null,
       "max_width": null,
       "min_height": null,
       "min_width": null,
       "object_fit": null,
       "object_position": null,
       "order": null,
       "overflow": null,
       "padding": null,
       "right": null,
       "top": null,
       "visibility": null,
       "width": null
      }
     },
     "cb8d10801ed04dd5a0d01250a4df2689": {
      "model_module": "@jupyter-widgets/controls",
      "model_module_version": "2.0.0",
      "model_name": "FloatProgressModel",
      "state": {
       "_dom_classes": [],
       "_model_module": "@jupyter-widgets/controls",
       "_model_module_version": "2.0.0",
       "_model_name": "FloatProgressModel",
       "_view_count": null,
       "_view_module": "@jupyter-widgets/controls",
       "_view_module_version": "2.0.0",
       "_view_name": "ProgressView",
       "bar_style": "success",
       "description": "",
       "description_allow_html": false,
       "layout": "IPY_MODEL_34dfb37c32bc404c98bf58751d3498bf",
       "max": 71.0,
       "min": 0.0,
       "orientation": "horizontal",
       "style": "IPY_MODEL_b37ff82b81094e4e8f9f553a4d99b306",
       "tabbable": null,
       "tooltip": null,
       "value": 71.0
      }
     },
     "d2e470ca04d94f09b21cb5e0b2282a1a": {
      "model_module": "@jupyter-widgets/base",
      "model_module_version": "2.0.0",
      "model_name": "LayoutModel",
      "state": {
       "_model_module": "@jupyter-widgets/base",
       "_model_module_version": "2.0.0",
       "_model_name": "LayoutModel",
       "_view_count": null,
       "_view_module": "@jupyter-widgets/base",
       "_view_module_version": "2.0.0",
       "_view_name": "LayoutView",
       "align_content": null,
       "align_items": null,
       "align_self": null,
       "border_bottom": null,
       "border_left": null,
       "border_right": null,
       "border_top": null,
       "bottom": null,
       "display": null,
       "flex": null,
       "flex_flow": null,
       "grid_area": null,
       "grid_auto_columns": null,
       "grid_auto_flow": null,
       "grid_auto_rows": null,
       "grid_column": null,
       "grid_gap": null,
       "grid_row": null,
       "grid_template_areas": null,
       "grid_template_columns": null,
       "grid_template_rows": null,
       "height": null,
       "justify_content": null,
       "justify_items": null,
       "left": null,
       "margin": null,
       "max_height": null,
       "max_width": null,
       "min_height": null,
       "min_width": null,
       "object_fit": null,
       "object_position": null,
       "order": null,
       "overflow": null,
       "padding": null,
       "right": null,
       "top": null,
       "visibility": null,
       "width": null
      }
     },
     "d3d8a25bd6eb4ce8b20cc05d3a2ff37d": {
      "model_module": "@jupyter-widgets/controls",
      "model_module_version": "2.0.0",
      "model_name": "HTMLModel",
      "state": {
       "_dom_classes": [],
       "_model_module": "@jupyter-widgets/controls",
       "_model_module_version": "2.0.0",
       "_model_name": "HTMLModel",
       "_view_count": null,
       "_view_module": "@jupyter-widgets/controls",
       "_view_module_version": "2.0.0",
       "_view_name": "HTMLView",
       "description": "",
       "description_allow_html": false,
       "layout": "IPY_MODEL_1faad6dccb2e4f8389d61a7090251444",
       "placeholder": "​",
       "style": "IPY_MODEL_29c58e30a8e742be957a2fea39126fec",
       "tabbable": null,
       "tooltip": null,
       "value": "Generating train split: "
      }
     },
     "e5e9c1af65484cff8bfa5efae221ddad": {
      "model_module": "@jupyter-widgets/controls",
      "model_module_version": "2.0.0",
      "model_name": "HTMLStyleModel",
      "state": {
       "_model_module": "@jupyter-widgets/controls",
       "_model_module_version": "2.0.0",
       "_model_name": "HTMLStyleModel",
       "_view_count": null,
       "_view_module": "@jupyter-widgets/base",
       "_view_module_version": "2.0.0",
       "_view_name": "StyleView",
       "background": null,
       "description_width": "",
       "font_size": null,
       "text_color": null
      }
     },
     "f2807517fc214d62b0402e2dc3c18a31": {
      "model_module": "@jupyter-widgets/base",
      "model_module_version": "2.0.0",
      "model_name": "LayoutModel",
      "state": {
       "_model_module": "@jupyter-widgets/base",
       "_model_module_version": "2.0.0",
       "_model_name": "LayoutModel",
       "_view_count": null,
       "_view_module": "@jupyter-widgets/base",
       "_view_module_version": "2.0.0",
       "_view_name": "LayoutView",
       "align_content": null,
       "align_items": null,
       "align_self": null,
       "border_bottom": null,
       "border_left": null,
       "border_right": null,
       "border_top": null,
       "bottom": null,
       "display": null,
       "flex": null,
       "flex_flow": null,
       "grid_area": null,
       "grid_auto_columns": null,
       "grid_auto_flow": null,
       "grid_auto_rows": null,
       "grid_column": null,
       "grid_gap": null,
       "grid_row": null,
       "grid_template_areas": null,
       "grid_template_columns": null,
       "grid_template_rows": null,
       "height": null,
       "justify_content": null,
       "justify_items": null,
       "left": null,
       "margin": null,
       "max_height": null,
       "max_width": null,
       "min_height": null,
       "min_width": null,
       "object_fit": null,
       "object_position": null,
       "order": null,
       "overflow": null,
       "padding": null,
       "right": null,
       "top": null,
       "visibility": null,
       "width": null
      }
     },
     "fd90b81ccf6145df946a202b2004ee91": {
      "model_module": "@jupyter-widgets/controls",
      "model_module_version": "2.0.0",
      "model_name": "HTMLStyleModel",
      "state": {
       "_model_module": "@jupyter-widgets/controls",
       "_model_module_version": "2.0.0",
       "_model_name": "HTMLStyleModel",
       "_view_count": null,
       "_view_module": "@jupyter-widgets/base",
       "_view_module_version": "2.0.0",
       "_view_name": "StyleView",
       "background": null,
       "description_width": "",
       "font_size": null,
       "text_color": null
      }
     }
    },
    "version_major": 2,
    "version_minor": 0
   }
  }
 },
 "nbformat": 4,
 "nbformat_minor": 5
}
