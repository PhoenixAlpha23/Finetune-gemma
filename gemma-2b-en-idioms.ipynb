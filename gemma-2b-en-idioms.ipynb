{
 "cells": [
  {
   "cell_type": "markdown",
   "id": "4a6c0062",
   "metadata": {
    "papermill": {
     "duration": 0.008961,
     "end_time": "2025-01-11T10:22:16.539664",
     "exception": false,
     "start_time": "2025-01-11T10:22:16.530703",
     "status": "completed"
    },
    "tags": []
   },
   "source": [
    "## Import Dataset and Gemma-2b-en model.\n",
    "This dataset consists of 10 idiom samples from each eligible language mentioned in the competition description, along with their literal, figurative meanings and example usage.\n",
    "\n",
    "These Idioms have been gatherd using perplexity.ai, with prompt engineering to keep them popular and relevant to the corresponding language.\n",
    "\n",
    "My aim with this fine-tuning approach was to create a version of Gemma2 which can understand idioms and preach them like a wise owl ;)"
   ]
  },
  {
   "cell_type": "markdown",
   "id": "0c8bca50",
   "metadata": {
    "papermill": {
     "duration": 0.00775,
     "end_time": "2025-01-11T10:22:16.555534",
     "exception": false,
     "start_time": "2025-01-11T10:22:16.547784",
     "status": "completed"
    },
    "tags": []
   },
   "source": [
    "## Import the data into kaggle notebook"
   ]
  },
  {
   "cell_type": "code",
   "execution_count": 1,
   "id": "e268d8bb",
   "metadata": {
    "_cell_guid": "b1076dfc-b9ad-4769-8c92-a6c4dae69d19",
    "_kg_hide-output": true,
    "_uuid": "8f2839f25d086af736a60e9eeb907d3b93b6e0e5",
    "execution": {
     "iopub.execute_input": "2025-01-11T10:22:16.568220Z",
     "iopub.status.busy": "2025-01-11T10:22:16.567798Z",
     "iopub.status.idle": "2025-01-11T10:22:17.296769Z",
     "shell.execute_reply": "2025-01-11T10:22:17.295789Z"
    },
    "papermill": {
     "duration": 0.735855,
     "end_time": "2025-01-11T10:22:17.298403",
     "exception": false,
     "start_time": "2025-01-11T10:22:16.562548",
     "status": "completed"
    },
    "scrolled": true,
    "tags": []
   },
   "outputs": [
    {
     "name": "stdout",
     "output_type": "stream",
     "text": [
      "/kaggle/input/gemma2/keras/gemma2_2b_en/1/config.json\n",
      "/kaggle/input/gemma2/keras/gemma2_2b_en/1/tokenizer.json\n",
      "/kaggle/input/gemma2/keras/gemma2_2b_en/1/metadata.json\n",
      "/kaggle/input/gemma2/keras/gemma2_2b_en/1/model.weights.h5\n",
      "/kaggle/input/gemma2/keras/gemma2_2b_en/1/assets/tokenizer/vocabulary.spm\n",
      "/kaggle/input/multilingual-idioms-indian/Gemma/burmese.json\n",
      "/kaggle/input/multilingual-idioms-indian/Gemma/malayalam.json\n",
      "/kaggle/input/multilingual-idioms-indian/Gemma/nepali.json\n",
      "/kaggle/input/multilingual-idioms-indian/Gemma/catalan.json\n",
      "/kaggle/input/multilingual-idioms-indian/Gemma/hindi.json\n",
      "/kaggle/input/multilingual-idioms-indian/Gemma/croatian.json\n",
      "/kaggle/input/multilingual-idioms-indian/Gemma/slovak.json\n",
      "/kaggle/input/multilingual-idioms-indian/Gemma/finnish.json\n",
      "/kaggle/input/multilingual-idioms-indian/Gemma/icelandic.json\n",
      "/kaggle/input/multilingual-idioms-indian/Gemma/ukrainian.json\n",
      "/kaggle/input/multilingual-idioms-indian/Gemma/thai.json\n",
      "/kaggle/input/multilingual-idioms-indian/Gemma/swahili.json\n",
      "/kaggle/input/multilingual-idioms-indian/Gemma/punjabi.json\n",
      "/kaggle/input/multilingual-idioms-indian/Gemma/kyrgyz.json\n",
      "/kaggle/input/multilingual-idioms-indian/Gemma/bengali(bangla).json\n",
      "/kaggle/input/multilingual-idioms-indian/Gemma/gujrati.json\n",
      "/kaggle/input/multilingual-idioms-indian/Gemma/indonesian.json\n",
      "/kaggle/input/multilingual-idioms-indian/Gemma/khmer.json\n",
      "/kaggle/input/multilingual-idioms-indian/Gemma/russian.json\n",
      "/kaggle/input/multilingual-idioms-indian/Gemma/sinhala.json\n",
      "/kaggle/input/multilingual-idioms-indian/Gemma/marathi.json\n",
      "/kaggle/input/multilingual-idioms-indian/Gemma/latvian.json\n",
      "/kaggle/input/multilingual-idioms-indian/Gemma/filipino.json\n",
      "/kaggle/input/multilingual-idioms-indian/Gemma/portuguese.json\n",
      "/kaggle/input/multilingual-idioms-indian/Gemma/swedish.json\n",
      "/kaggle/input/multilingual-idioms-indian/Gemma/hungarian.json\n",
      "/kaggle/input/multilingual-idioms-indian/Gemma/kannada.json\n",
      "/kaggle/input/multilingual-idioms-indian/Gemma/kazakh.json\n",
      "/kaggle/input/multilingual-idioms-indian/Gemma/uzbek.json\n",
      "/kaggle/input/multilingual-idioms-indian/Gemma/macedonian.json\n",
      "/kaggle/input/multilingual-idioms-indian/Gemma/slovenian.json\n",
      "/kaggle/input/multilingual-idioms-indian/Gemma/telugu.json\n",
      "/kaggle/input/multilingual-idioms-indian/Gemma/bulgarian.json\n",
      "/kaggle/input/multilingual-idioms-indian/Gemma/mongolian.json\n",
      "/kaggle/input/multilingual-idioms-indian/Gemma/english(british).json\n",
      "/kaggle/input/multilingual-idioms-indian/Gemma/spanish(latin-american).json\n",
      "/kaggle/input/multilingual-idioms-indian/Gemma/turkish.json\n",
      "/kaggle/input/multilingual-idioms-indian/Gemma/czech.json\n",
      "/kaggle/input/multilingual-idioms-indian/Gemma/english.json\n",
      "/kaggle/input/multilingual-idioms-indian/Gemma/Chinese(traditional).json\n",
      "/kaggle/input/multilingual-idioms-indian/Gemma/armenian.json\n",
      "/kaggle/input/multilingual-idioms-indian/Gemma/italian.json\n",
      "/kaggle/input/multilingual-idioms-indian/Gemma/japanese.json\n",
      "/kaggle/input/multilingual-idioms-indian/Gemma/german.json\n",
      "/kaggle/input/multilingual-idioms-indian/Gemma/albanian.json\n",
      "/kaggle/input/multilingual-idioms-indian/Gemma/dutch.json\n",
      "/kaggle/input/multilingual-idioms-indian/Gemma/polish.json\n",
      "/kaggle/input/multilingual-idioms-indian/Gemma/malay.json\n",
      "/kaggle/input/multilingual-idioms-indian/Gemma/french(european).json\n",
      "/kaggle/input/multilingual-idioms-indian/Gemma/lao.json\n",
      "/kaggle/input/multilingual-idioms-indian/Gemma/persian.json\n",
      "/kaggle/input/multilingual-idioms-indian/Gemma/vietnamese.json\n",
      "/kaggle/input/multilingual-idioms-indian/Gemma/romanian.json\n",
      "/kaggle/input/multilingual-idioms-indian/Gemma/serbian.json\n",
      "/kaggle/input/multilingual-idioms-indian/Gemma/tamil.json\n",
      "/kaggle/input/multilingual-idioms-indian/Gemma/hebrew.json\n",
      "/kaggle/input/multilingual-idioms-indian/Gemma/azerbaijani.json\n",
      "/kaggle/input/multilingual-idioms-indian/Gemma/estonian.json\n",
      "/kaggle/input/multilingual-idioms-indian/Gemma/spanish(european).json\n",
      "/kaggle/input/multilingual-idioms-indian/Gemma/portuguese(european).json\n",
      "/kaggle/input/multilingual-idioms-indian/Gemma/korean.json\n",
      "/kaggle/input/multilingual-idioms-indian/Gemma/lithuanian.json\n",
      "/kaggle/input/multilingual-idioms-indian/Gemma/norwegian(Bokml).json\n",
      "/kaggle/input/multilingual-idioms-indian/Gemma/Chinese(simplified).json\n",
      "/kaggle/input/multilingual-idioms-indian/Gemma/greek.json\n",
      "/kaggle/input/multilingual-idioms-indian/Gemma/serbian(latin).json\n",
      "/kaggle/input/multilingual-idioms-indian/Gemma/danish.json\n",
      "/kaggle/input/multilingual-idioms-indian/Gemma/urdu.json\n",
      "/kaggle/input/multilingual-idioms-indian/Gemma/afrikaans.json\n",
      "/kaggle/input/multilingual-idioms-indian/Gemma/georgian.json\n",
      "/kaggle/input/multilingual-idioms-indian/Gemma/Arabic(modern standard).json\n"
     ]
    }
   ],
   "source": [
    "import pandas as pd # data processing, CSV file I/O (used here for pd.read_json)\n",
    "\n",
    "import os\n",
    "for dirname, _, filenames in os.walk('/kaggle/input'):\n",
    "    for filename in filenames:\n",
    "        print(os.path.join(dirname, filename))"
   ]
  },
  {
   "cell_type": "markdown",
   "id": "4274922f",
   "metadata": {
    "papermill": {
     "duration": 0.00414,
     "end_time": "2025-01-11T10:22:17.307248",
     "exception": false,
     "start_time": "2025-01-11T10:22:17.303108",
     "status": "completed"
    },
    "tags": []
   },
   "source": [
    "# Sample the dataset \n"
   ]
  },
  {
   "cell_type": "code",
   "execution_count": 2,
   "id": "41291c67",
   "metadata": {
    "execution": {
     "iopub.execute_input": "2025-01-11T10:22:17.316610Z",
     "iopub.status.busy": "2025-01-11T10:22:17.316209Z",
     "iopub.status.idle": "2025-01-11T10:22:17.342634Z",
     "shell.execute_reply": "2025-01-11T10:22:17.341783Z"
    },
    "papermill": {
     "duration": 0.032641,
     "end_time": "2025-01-11T10:22:17.344090",
     "exception": false,
     "start_time": "2025-01-11T10:22:17.311449",
     "status": "completed"
    },
    "tags": []
   },
   "outputs": [
    {
     "data": {
      "text/html": [
       "<div>\n",
       "<style scoped>\n",
       "    .dataframe tbody tr th:only-of-type {\n",
       "        vertical-align: middle;\n",
       "    }\n",
       "\n",
       "    .dataframe tbody tr th {\n",
       "        vertical-align: top;\n",
       "    }\n",
       "\n",
       "    .dataframe thead th {\n",
       "        text-align: right;\n",
       "    }\n",
       "</style>\n",
       "<table border=\"1\" class=\"dataframe\">\n",
       "  <thead>\n",
       "    <tr style=\"text-align: right;\">\n",
       "      <th></th>\n",
       "      <th>idiom</th>\n",
       "      <th>literal_meaning</th>\n",
       "      <th>figurative_meaning</th>\n",
       "      <th>example</th>\n",
       "      <th>language</th>\n",
       "    </tr>\n",
       "  </thead>\n",
       "  <tbody>\n",
       "    <tr>\n",
       "      <th>0</th>\n",
       "      <td>Ateşle oynamak</td>\n",
       "      <td>To play with fire.</td>\n",
       "      <td>To take dangerous risks.</td>\n",
       "      <td>Investing in that company is like ateşle oynamak.</td>\n",
       "      <td>Turkish</td>\n",
       "    </tr>\n",
       "    <tr>\n",
       "      <th>1</th>\n",
       "      <td>Göz var nizam var</td>\n",
       "      <td>There is an eye, there is order.</td>\n",
       "      <td>Things should be done properly.</td>\n",
       "      <td>We need to organize this event well; göz var n...</td>\n",
       "      <td>Turkish</td>\n",
       "    </tr>\n",
       "    <tr>\n",
       "      <th>2</th>\n",
       "      <td>Dost acı söyler</td>\n",
       "      <td>A friend speaks bitterly.</td>\n",
       "      <td>True friends tell the truth, even if it's harsh.</td>\n",
       "      <td>He told me the truth about my performance; dos...</td>\n",
       "      <td>Turkish</td>\n",
       "    </tr>\n",
       "    <tr>\n",
       "      <th>3</th>\n",
       "      <td>Sakla samanı gelir zamanı</td>\n",
       "      <td>Save the straw; its time will come.</td>\n",
       "      <td>Everything has its purpose and time.</td>\n",
       "      <td>You never know when you might need it; sakla s...</td>\n",
       "      <td>Turkish</td>\n",
       "    </tr>\n",
       "    <tr>\n",
       "      <th>4</th>\n",
       "      <td>Bir elin nesi var, iki elin sesi var</td>\n",
       "      <td>What does one hand have? Two hands have a voice.</td>\n",
       "      <td>Teamwork achieves more than individual effort.</td>\n",
       "      <td>Together we can achieve great things; bir elin...</td>\n",
       "      <td>Turkish</td>\n",
       "    </tr>\n",
       "    <tr>\n",
       "      <th>5</th>\n",
       "      <td>Gülü seven dikenine katlanır</td>\n",
       "      <td>He who loves roses must endure its thorns.</td>\n",
       "      <td>Love comes with challenges.</td>\n",
       "      <td>If you want to be in a relationship, remember:...</td>\n",
       "      <td>Turkish</td>\n",
       "    </tr>\n",
       "    <tr>\n",
       "      <th>6</th>\n",
       "      <td>Ayağını yorganına göre uzat</td>\n",
       "      <td>Stretch your leg according to your blanket.</td>\n",
       "      <td>Live within your means.</td>\n",
       "      <td>Don’t spend too much money; ayağını yorganına ...</td>\n",
       "      <td>Turkish</td>\n",
       "    </tr>\n",
       "    <tr>\n",
       "      <th>7</th>\n",
       "      <td>Damlaya damlaya göl olur</td>\n",
       "      <td>Drop by drop, a lake forms.</td>\n",
       "      <td>Small efforts accumulate to create something s...</td>\n",
       "      <td>Keep saving money; damlaya damlaya göl olur.</td>\n",
       "      <td>Turkish</td>\n",
       "    </tr>\n",
       "    <tr>\n",
       "      <th>8</th>\n",
       "      <td>Kervan yolda düzülür</td>\n",
       "      <td>The caravan is arranged on the road.</td>\n",
       "      <td>Plans can be adjusted as you go.</td>\n",
       "      <td>We’ll figure it out along the way; kervan yold...</td>\n",
       "      <td>Turkish</td>\n",
       "    </tr>\n",
       "    <tr>\n",
       "      <th>9</th>\n",
       "      <td>Söz gümüşse, sükût altındır</td>\n",
       "      <td>If speech is silver, silence is golden.</td>\n",
       "      <td>Sometimes it’s better to remain silent.</td>\n",
       "      <td>In some situations, söz gümüşse, sükût altındır.</td>\n",
       "      <td>Turkish</td>\n",
       "    </tr>\n",
       "  </tbody>\n",
       "</table>\n",
       "</div>"
      ],
      "text/plain": [
       "                                  idiom  \\\n",
       "0                        Ateşle oynamak   \n",
       "1                     Göz var nizam var   \n",
       "2                       Dost acı söyler   \n",
       "3             Sakla samanı gelir zamanı   \n",
       "4  Bir elin nesi var, iki elin sesi var   \n",
       "5          Gülü seven dikenine katlanır   \n",
       "6           Ayağını yorganına göre uzat   \n",
       "7              Damlaya damlaya göl olur   \n",
       "8                  Kervan yolda düzülür   \n",
       "9           Söz gümüşse, sükût altındır   \n",
       "\n",
       "                                    literal_meaning  \\\n",
       "0                                To play with fire.   \n",
       "1                  There is an eye, there is order.   \n",
       "2                         A friend speaks bitterly.   \n",
       "3               Save the straw; its time will come.   \n",
       "4  What does one hand have? Two hands have a voice.   \n",
       "5        He who loves roses must endure its thorns.   \n",
       "6       Stretch your leg according to your blanket.   \n",
       "7                       Drop by drop, a lake forms.   \n",
       "8              The caravan is arranged on the road.   \n",
       "9           If speech is silver, silence is golden.   \n",
       "\n",
       "                                  figurative_meaning  \\\n",
       "0                           To take dangerous risks.   \n",
       "1                    Things should be done properly.   \n",
       "2   True friends tell the truth, even if it's harsh.   \n",
       "3               Everything has its purpose and time.   \n",
       "4     Teamwork achieves more than individual effort.   \n",
       "5                        Love comes with challenges.   \n",
       "6                            Live within your means.   \n",
       "7  Small efforts accumulate to create something s...   \n",
       "8                   Plans can be adjusted as you go.   \n",
       "9            Sometimes it’s better to remain silent.   \n",
       "\n",
       "                                             example language  \n",
       "0  Investing in that company is like ateşle oynamak.  Turkish  \n",
       "1  We need to organize this event well; göz var n...  Turkish  \n",
       "2  He told me the truth about my performance; dos...  Turkish  \n",
       "3  You never know when you might need it; sakla s...  Turkish  \n",
       "4  Together we can achieve great things; bir elin...  Turkish  \n",
       "5  If you want to be in a relationship, remember:...  Turkish  \n",
       "6  Don’t spend too much money; ayağını yorganına ...  Turkish  \n",
       "7       Keep saving money; damlaya damlaya göl olur.  Turkish  \n",
       "8  We’ll figure it out along the way; kervan yold...  Turkish  \n",
       "9   In some situations, söz gümüşse, sükût altındır.  Turkish  "
      ]
     },
     "execution_count": 2,
     "metadata": {},
     "output_type": "execute_result"
    }
   ],
   "source": [
    "df= pd.read_json('/kaggle/input/multilingual-idioms-indian/Gemma/turkish.json')\n",
    "df"
   ]
  },
  {
   "cell_type": "markdown",
   "id": "cc5cf446",
   "metadata": {
    "papermill": {
     "duration": 0.004201,
     "end_time": "2025-01-11T10:22:17.352925",
     "exception": false,
     "start_time": "2025-01-11T10:22:17.348724",
     "status": "completed"
    },
    "tags": []
   },
   "source": [
    "# Set up of Environment before loading Gemma Model"
   ]
  },
  {
   "cell_type": "markdown",
   "id": "befbd33d",
   "metadata": {
    "papermill": {
     "duration": 0.004255,
     "end_time": "2025-01-11T10:22:17.361656",
     "exception": false,
     "start_time": "2025-01-11T10:22:17.357401",
     "status": "completed"
    },
    "tags": []
   },
   "source": [
    "### Explanation for Environment Setup\n",
    "\n",
    "- **`keras-nlp`**: Provides tools for NLP tasks, including tokenizers, pre-trained models, and samplers like `TopKSampler`.\n",
    "- **`keras`**: Deep learning library used to build and train models, with the latest version ensuring compatibility with new APIs."
   ]
  },
  {
   "cell_type": "code",
   "execution_count": 3,
   "id": "7e54207e",
   "metadata": {
    "execution": {
     "iopub.execute_input": "2025-01-11T10:22:17.371257Z",
     "iopub.status.busy": "2025-01-11T10:22:17.371017Z",
     "iopub.status.idle": "2025-01-11T10:22:27.403313Z",
     "shell.execute_reply": "2025-01-11T10:22:27.402074Z"
    },
    "papermill": {
     "duration": 10.039155,
     "end_time": "2025-01-11T10:22:27.405180",
     "exception": false,
     "start_time": "2025-01-11T10:22:17.366025",
     "status": "completed"
    },
    "tags": []
   },
   "outputs": [],
   "source": [
    "!pip install -q -U keras-nlp\n",
    "!pip install -q -U keras>=3"
   ]
  },
  {
   "cell_type": "code",
   "execution_count": 4,
   "id": "61e945c6",
   "metadata": {
    "execution": {
     "iopub.execute_input": "2025-01-11T10:22:27.416290Z",
     "iopub.status.busy": "2025-01-11T10:22:27.415994Z",
     "iopub.status.idle": "2025-01-11T10:22:27.419815Z",
     "shell.execute_reply": "2025-01-11T10:22:27.419106Z"
    },
    "papermill": {
     "duration": 0.010557,
     "end_time": "2025-01-11T10:22:27.421002",
     "exception": false,
     "start_time": "2025-01-11T10:22:27.410445",
     "status": "completed"
    },
    "tags": []
   },
   "outputs": [],
   "source": [
    "#Configured our environment to use JAX as the backend for Keras\n",
    "#and to maximize GPU memory allocation for XLA.\n",
    "import os\n",
    "os.environ['KERAS_BACKEND'] = 'jax'\n",
    "os.environ[\"XLA_PYTHON_CLIENT_MEM_FRACTION\"]=\"1.00\""
   ]
  },
  {
   "cell_type": "code",
   "execution_count": 5,
   "id": "f13bdf88",
   "metadata": {
    "execution": {
     "iopub.execute_input": "2025-01-11T10:22:27.430995Z",
     "iopub.status.busy": "2025-01-11T10:22:27.430768Z",
     "iopub.status.idle": "2025-01-11T10:22:36.605625Z",
     "shell.execute_reply": "2025-01-11T10:22:36.604927Z"
    },
    "papermill": {
     "duration": 9.181689,
     "end_time": "2025-01-11T10:22:36.607276",
     "exception": false,
     "start_time": "2025-01-11T10:22:27.425587",
     "status": "completed"
    },
    "tags": []
   },
   "outputs": [],
   "source": [
    "import keras\n",
    "import keras_nlp"
   ]
  },
  {
   "cell_type": "markdown",
   "id": "7719808e",
   "metadata": {
    "papermill": {
     "duration": 0.004362,
     "end_time": "2025-01-11T10:22:36.616727",
     "exception": false,
     "start_time": "2025-01-11T10:22:36.612365",
     "status": "completed"
    },
    "tags": []
   },
   "source": [
    "# Load the dataset"
   ]
  },
  {
   "cell_type": "code",
   "execution_count": 6,
   "id": "ca716411",
   "metadata": {
    "execution": {
     "iopub.execute_input": "2025-01-11T10:22:36.626928Z",
     "iopub.status.busy": "2025-01-11T10:22:36.626384Z",
     "iopub.status.idle": "2025-01-11T10:22:38.415498Z",
     "shell.execute_reply": "2025-01-11T10:22:38.414622Z"
    },
    "papermill": {
     "duration": 1.795742,
     "end_time": "2025-01-11T10:22:38.416917",
     "exception": false,
     "start_time": "2025-01-11T10:22:36.621175",
     "status": "completed"
    },
    "tags": []
   },
   "outputs": [
    {
     "data": {
      "application/vnd.jupyter.widget-view+json": {
       "model_id": "d25c188b3523429d9d9f7e5039a0abf7",
       "version_major": 2,
       "version_minor": 0
      },
      "text/plain": [
       "Resolving data files:   0%|          | 0/71 [00:00<?, ?it/s]"
      ]
     },
     "metadata": {},
     "output_type": "display_data"
    },
    {
     "data": {
      "application/vnd.jupyter.widget-view+json": {
       "model_id": "888ef0ebd25f4f5cbde967a6b13f1ee6",
       "version_major": 2,
       "version_minor": 0
      },
      "text/plain": [
       "Downloading data:   0%|          | 0/71 [00:00<?, ?files/s]"
      ]
     },
     "metadata": {},
     "output_type": "display_data"
    },
    {
     "data": {
      "application/vnd.jupyter.widget-view+json": {
       "model_id": "9d3e98fcfe3544f898d1615aa151492c",
       "version_major": 2,
       "version_minor": 0
      },
      "text/plain": [
       "Generating train split: 0 examples [00:00, ? examples/s]"
      ]
     },
     "metadata": {},
     "output_type": "display_data"
    }
   ],
   "source": [
    "#Use load_dataset to generate a combined training dataset of all language files\n",
    "from datasets import load_dataset\n",
    "\n",
    "ds = load_dataset(\"json\",data_files='/kaggle/input/multilingual-idioms-indian/Gemma/*.json')"
   ]
  },
  {
   "cell_type": "code",
   "execution_count": 7,
   "id": "9e8a4b6d",
   "metadata": {
    "execution": {
     "iopub.execute_input": "2025-01-11T10:22:38.428641Z",
     "iopub.status.busy": "2025-01-11T10:22:38.428331Z",
     "iopub.status.idle": "2025-01-11T10:22:38.432779Z",
     "shell.execute_reply": "2025-01-11T10:22:38.432089Z"
    },
    "papermill": {
     "duration": 0.011345,
     "end_time": "2025-01-11T10:22:38.433948",
     "exception": false,
     "start_time": "2025-01-11T10:22:38.422603",
     "status": "completed"
    },
    "tags": []
   },
   "outputs": [
    {
     "data": {
      "text/plain": [
       "DatasetDict({\n",
       "    train: Dataset({\n",
       "        features: ['idiom', 'literal_meaning', 'figurative_meaning', 'example', 'language'],\n",
       "        num_rows: 720\n",
       "    })\n",
       "})"
      ]
     },
     "execution_count": 7,
     "metadata": {},
     "output_type": "execute_result"
    }
   ],
   "source": [
    "##Display dataset summary\n",
    "ds"
   ]
  },
  {
   "cell_type": "code",
   "execution_count": 8,
   "id": "c5f92554",
   "metadata": {
    "execution": {
     "iopub.execute_input": "2025-01-11T10:22:38.445199Z",
     "iopub.status.busy": "2025-01-11T10:22:38.444948Z",
     "iopub.status.idle": "2025-01-11T10:22:38.488817Z",
     "shell.execute_reply": "2025-01-11T10:22:38.487431Z"
    },
    "papermill": {
     "duration": 0.051384,
     "end_time": "2025-01-11T10:22:38.490383",
     "exception": false,
     "start_time": "2025-01-11T10:22:38.438999",
     "status": "completed"
    },
    "tags": []
   },
   "outputs": [
    {
     "name": "stdout",
     "output_type": "stream",
     "text": [
      "First example keys: ['idiom', 'literal_meaning', 'figurative_meaning', 'example', 'language']\n",
      "Example 1:\n",
      "Instruction:\n",
      "Find a suitable idiom for this situation: Sometimes it's better to remain silent than to speak.\n",
      "\n",
      "Response:\n",
      "Idiom : إذا كان الكلام من فضة فالسكوت من ذهب\n",
      "\n",
      "Literal Meaning:If speech is silver, silence is golden.\n",
      "Example Use: In this situation, remember: إذا كان الكلام من فضة فالسكوت من ذهب.\n",
      "Cultural Context: This idiom comes from the Arabic culture.\n",
      "\n",
      "\n",
      "Example 2:\n",
      "Instruction:\n",
      "Find a suitable idiom for this situation: Don't harm what you might need later.\n",
      "\n",
      "Response:\n",
      "Idiom : لا تبصق في البئر\n",
      "\n",
      "Literal Meaning:Don't spit in the well.\n",
      "Example Use: He always remembers not to spit in the well; you never know when you’ll need it.\n",
      "Cultural Context: This idiom comes from the Arabic culture.\n",
      "\n",
      "\n",
      "Example 3:\n",
      "Instruction:\n",
      "Find a suitable idiom for this situation: Hard work leads to success.\n",
      "\n",
      "Response:\n",
      "Idiom : من جد وجد\n",
      "\n",
      "Literal Meaning:He who strives will find.\n",
      "Example Use: He believes that من جد وجد; hard work will pay off in the end.\n",
      "Cultural Context: This idiom comes from the Arabic culture.\n",
      "\n",
      "\n",
      "Example 4:\n",
      "Instruction:\n",
      "Find a suitable idiom for this situation: Time is precious and should be used wisely.\n",
      "\n",
      "Response:\n",
      "Idiom : الوقت كالسيف\n",
      "\n",
      "Literal Meaning:Time is like a sword.\n",
      "Example Use: الوقت كالسيف; if you don’t use it wisely, it will cut you.\n",
      "Cultural Context: This idiom comes from the Arabic culture.\n",
      "\n",
      "\n",
      "Example 5:\n",
      "Instruction:\n",
      "Find a suitable idiom for this situation: Killing two birds with one stone.\n",
      "\n",
      "Response:\n",
      "Idiom : 一箭双雕\n",
      "\n",
      "Literal Meaning:One arrow, two eagles.\n",
      "Example Use: By attending the conference, he networked and learned new skills—he really hit two targets with one arrow.\n",
      "Cultural Context: This idiom comes from the Chinese culture.\n",
      "\n",
      "\n",
      "Example 6:\n",
      "Instruction:\n",
      "Find a suitable idiom for this situation: To ruin something by adding unnecessary details.\n",
      "\n",
      "Response:\n",
      "Idiom : 画蛇添足\n",
      "\n",
      "Literal Meaning:Drawing a snake and adding feet.\n",
      "Example Use: His extra comments on the report were like drawing a snake and adding feet; they weren't needed.\n",
      "Cultural Context: This idiom comes from the Chinese culture.\n",
      "\n",
      "\n"
     ]
    }
   ],
   "source": [
    "from datasets import DatasetDict\n",
    "# Initialize an empty list to store the formatted examples\n",
    "data = []\n",
    "# Access the 'train' split of your dataset\n",
    "train_data = ds[\"train\"]\n",
    "\n",
    "# Add debug printing to see what fields are available\n",
    "print(\"First example keys:\", list(train_data[0].keys()))\n",
    "\n",
    "# Iterate over each example in the dataset\n",
    "for i, example in enumerate(train_data):\n",
    "    try:\n",
    "        # Check if required fields are available and valid\n",
    "        required_fields = [\"idiom\", \"literal_meaning\", \"figurative_meaning\", \"example\"]\n",
    "        \n",
    "        # Print missing fields for debugging\n",
    "        missing_fields = [field for field in required_fields if field not in example]\n",
    "        if missing_fields:\n",
    "            print(f\"Example {i} is missing fields: {missing_fields}\")\n",
    "            continue\n",
    "            \n",
    "        #Template with instruction and response format\n",
    "        template = (\n",
    "        \"Instruction:\\n\"\n",
    "        \"Find a suitable idiom for this situation: {figurative_meaning}\\n\\n\"\n",
    "        \"Response:\\n\"\n",
    "        \"Idiom : {idiom}\\n\\n\"\n",
    "        \"Literal Meaning:{literal_meaning}\\n\"\n",
    "        \"Example Use: {example}\\n\"\n",
    "        \"Cultural Context: This idiom comes from the {language} culture.\\n\"\n",
    "        )\n",
    "        \n",
    "        # Format the example and add it to the data list\n",
    "        formatted_example = template.format(**example)\n",
    "        data.append(formatted_example)\n",
    "        \n",
    "    except KeyError as e:\n",
    "        print(f\"KeyError in example {i}: {str(e)}\")\n",
    "        print(f\"Available keys: {list(example.keys())}\")\n",
    "        continue\n",
    "\n",
    "# Limit to the first 1000 examples\n",
    "data = data[:1000]\n",
    "\n",
    "# Display some random row of examples, to ensure the data is captured correctly.\n",
    "for i, example in enumerate(data[4:10]):\n",
    "    print(f\"Example {i + 1}:\\n{example}\\n\")"
   ]
  },
  {
   "cell_type": "markdown",
   "id": "a04c5466",
   "metadata": {
    "papermill": {
     "duration": 0.004927,
     "end_time": "2025-01-11T10:22:38.500942",
     "exception": false,
     "start_time": "2025-01-11T10:22:38.496015",
     "status": "completed"
    },
    "tags": []
   },
   "source": [
    "# Load Model"
   ]
  },
  {
   "cell_type": "code",
   "execution_count": 9,
   "id": "a408336a",
   "metadata": {
    "execution": {
     "iopub.execute_input": "2025-01-11T10:22:38.512072Z",
     "iopub.status.busy": "2025-01-11T10:22:38.511771Z",
     "iopub.status.idle": "2025-01-11T10:23:19.009331Z",
     "shell.execute_reply": "2025-01-11T10:23:19.008506Z"
    },
    "papermill": {
     "duration": 40.504772,
     "end_time": "2025-01-11T10:23:19.010715",
     "exception": false,
     "start_time": "2025-01-11T10:22:38.505943",
     "status": "completed"
    },
    "tags": []
   },
   "outputs": [
    {
     "data": {
      "text/html": [
       "<pre style=\"white-space:pre;overflow-x:auto;line-height:normal;font-family:Menlo,'DejaVu Sans Mono',consolas,'Courier New',monospace\"><span style=\"font-weight: bold\">Preprocessor: \"gemma_causal_lm_preprocessor\"</span>\n",
       "</pre>\n"
      ],
      "text/plain": [
       "\u001b[1mPreprocessor: \"gemma_causal_lm_preprocessor\"\u001b[0m\n"
      ]
     },
     "metadata": {},
     "output_type": "display_data"
    },
    {
     "data": {
      "text/html": [
       "<pre style=\"white-space:pre;overflow-x:auto;line-height:normal;font-family:Menlo,'DejaVu Sans Mono',consolas,'Courier New',monospace\">┏━━━━━━━━━━━━━━━━━━━━━━━━━━━━━━━━━━━━━━━━━━━━━━━━━━━━━━━━━━━━━━━┳━━━━━━━━━━━━━━━━━━━━━━━━━━━━━━━━━━━━━━━━━━┓\n",
       "┃<span style=\"font-weight: bold\"> Layer (type)                                                  </span>┃<span style=\"font-weight: bold\">                                   Config </span>┃\n",
       "┡━━━━━━━━━━━━━━━━━━━━━━━━━━━━━━━━━━━━━━━━━━━━━━━━━━━━━━━━━━━━━━━╇━━━━━━━━━━━━━━━━━━━━━━━━━━━━━━━━━━━━━━━━━━┩\n",
       "│ gemma_tokenizer (<span style=\"color: #0087ff; text-decoration-color: #0087ff\">GemmaTokenizer</span>)                              │                      Vocab size: <span style=\"color: #00af00; text-decoration-color: #00af00\">256,000</span> │\n",
       "└───────────────────────────────────────────────────────────────┴──────────────────────────────────────────┘\n",
       "</pre>\n"
      ],
      "text/plain": [
       "┏━━━━━━━━━━━━━━━━━━━━━━━━━━━━━━━━━━━━━━━━━━━━━━━━━━━━━━━━━━━━━━━┳━━━━━━━━━━━━━━━━━━━━━━━━━━━━━━━━━━━━━━━━━━┓\n",
       "┃\u001b[1m \u001b[0m\u001b[1mLayer (type)                                                 \u001b[0m\u001b[1m \u001b[0m┃\u001b[1m \u001b[0m\u001b[1m                                  Config\u001b[0m\u001b[1m \u001b[0m┃\n",
       "┡━━━━━━━━━━━━━━━━━━━━━━━━━━━━━━━━━━━━━━━━━━━━━━━━━━━━━━━━━━━━━━━╇━━━━━━━━━━━━━━━━━━━━━━━━━━━━━━━━━━━━━━━━━━┩\n",
       "│ gemma_tokenizer (\u001b[38;5;33mGemmaTokenizer\u001b[0m)                              │                      Vocab size: \u001b[38;5;34m256,000\u001b[0m │\n",
       "└───────────────────────────────────────────────────────────────┴──────────────────────────────────────────┘\n"
      ]
     },
     "metadata": {},
     "output_type": "display_data"
    },
    {
     "data": {
      "text/html": [
       "<pre style=\"white-space:pre;overflow-x:auto;line-height:normal;font-family:Menlo,'DejaVu Sans Mono',consolas,'Courier New',monospace\"><span style=\"font-weight: bold\">Model: \"gemma_causal_lm\"</span>\n",
       "</pre>\n"
      ],
      "text/plain": [
       "\u001b[1mModel: \"gemma_causal_lm\"\u001b[0m\n"
      ]
     },
     "metadata": {},
     "output_type": "display_data"
    },
    {
     "data": {
      "text/html": [
       "<pre style=\"white-space:pre;overflow-x:auto;line-height:normal;font-family:Menlo,'DejaVu Sans Mono',consolas,'Courier New',monospace\">┏━━━━━━━━━━━━━━━━━━━━━━━━━━━━━━━┳━━━━━━━━━━━━━━━━━━━━━━━━━━━┳━━━━━━━━━━━━━━━━━┳━━━━━━━━━━━━━━━━━━━━━━━━━━━━┓\n",
       "┃<span style=\"font-weight: bold\"> Layer (type)                  </span>┃<span style=\"font-weight: bold\"> Output Shape              </span>┃<span style=\"font-weight: bold\">         Param # </span>┃<span style=\"font-weight: bold\"> Connected to               </span>┃\n",
       "┡━━━━━━━━━━━━━━━━━━━━━━━━━━━━━━━╇━━━━━━━━━━━━━━━━━━━━━━━━━━━╇━━━━━━━━━━━━━━━━━╇━━━━━━━━━━━━━━━━━━━━━━━━━━━━┩\n",
       "│ padding_mask (<span style=\"color: #0087ff; text-decoration-color: #0087ff\">InputLayer</span>)     │ (<span style=\"color: #00d7ff; text-decoration-color: #00d7ff\">None</span>, <span style=\"color: #00d7ff; text-decoration-color: #00d7ff\">None</span>)              │               <span style=\"color: #00af00; text-decoration-color: #00af00\">0</span> │ -                          │\n",
       "├───────────────────────────────┼───────────────────────────┼─────────────────┼────────────────────────────┤\n",
       "│ token_ids (<span style=\"color: #0087ff; text-decoration-color: #0087ff\">InputLayer</span>)        │ (<span style=\"color: #00d7ff; text-decoration-color: #00d7ff\">None</span>, <span style=\"color: #00d7ff; text-decoration-color: #00d7ff\">None</span>)              │               <span style=\"color: #00af00; text-decoration-color: #00af00\">0</span> │ -                          │\n",
       "├───────────────────────────────┼───────────────────────────┼─────────────────┼────────────────────────────┤\n",
       "│ gemma_backbone                │ (<span style=\"color: #00d7ff; text-decoration-color: #00d7ff\">None</span>, <span style=\"color: #00d7ff; text-decoration-color: #00d7ff\">None</span>, <span style=\"color: #00af00; text-decoration-color: #00af00\">2304</span>)        │   <span style=\"color: #00af00; text-decoration-color: #00af00\">2,614,341,888</span> │ padding_mask[<span style=\"color: #00af00; text-decoration-color: #00af00\">0</span>][<span style=\"color: #00af00; text-decoration-color: #00af00\">0</span>],        │\n",
       "│ (<span style=\"color: #0087ff; text-decoration-color: #0087ff\">GemmaBackbone</span>)               │                           │                 │ token_ids[<span style=\"color: #00af00; text-decoration-color: #00af00\">0</span>][<span style=\"color: #00af00; text-decoration-color: #00af00\">0</span>]            │\n",
       "├───────────────────────────────┼───────────────────────────┼─────────────────┼────────────────────────────┤\n",
       "│ token_embedding               │ (<span style=\"color: #00d7ff; text-decoration-color: #00d7ff\">None</span>, <span style=\"color: #00d7ff; text-decoration-color: #00d7ff\">None</span>, <span style=\"color: #00af00; text-decoration-color: #00af00\">256000</span>)      │     <span style=\"color: #00af00; text-decoration-color: #00af00\">589,824,000</span> │ gemma_backbone[<span style=\"color: #00af00; text-decoration-color: #00af00\">0</span>][<span style=\"color: #00af00; text-decoration-color: #00af00\">0</span>]       │\n",
       "│ (<span style=\"color: #0087ff; text-decoration-color: #0087ff\">ReversibleEmbedding</span>)         │                           │                 │                            │\n",
       "└───────────────────────────────┴───────────────────────────┴─────────────────┴────────────────────────────┘\n",
       "</pre>\n"
      ],
      "text/plain": [
       "┏━━━━━━━━━━━━━━━━━━━━━━━━━━━━━━━┳━━━━━━━━━━━━━━━━━━━━━━━━━━━┳━━━━━━━━━━━━━━━━━┳━━━━━━━━━━━━━━━━━━━━━━━━━━━━┓\n",
       "┃\u001b[1m \u001b[0m\u001b[1mLayer (type)                 \u001b[0m\u001b[1m \u001b[0m┃\u001b[1m \u001b[0m\u001b[1mOutput Shape             \u001b[0m\u001b[1m \u001b[0m┃\u001b[1m \u001b[0m\u001b[1m        Param #\u001b[0m\u001b[1m \u001b[0m┃\u001b[1m \u001b[0m\u001b[1mConnected to              \u001b[0m\u001b[1m \u001b[0m┃\n",
       "┡━━━━━━━━━━━━━━━━━━━━━━━━━━━━━━━╇━━━━━━━━━━━━━━━━━━━━━━━━━━━╇━━━━━━━━━━━━━━━━━╇━━━━━━━━━━━━━━━━━━━━━━━━━━━━┩\n",
       "│ padding_mask (\u001b[38;5;33mInputLayer\u001b[0m)     │ (\u001b[38;5;45mNone\u001b[0m, \u001b[38;5;45mNone\u001b[0m)              │               \u001b[38;5;34m0\u001b[0m │ -                          │\n",
       "├───────────────────────────────┼───────────────────────────┼─────────────────┼────────────────────────────┤\n",
       "│ token_ids (\u001b[38;5;33mInputLayer\u001b[0m)        │ (\u001b[38;5;45mNone\u001b[0m, \u001b[38;5;45mNone\u001b[0m)              │               \u001b[38;5;34m0\u001b[0m │ -                          │\n",
       "├───────────────────────────────┼───────────────────────────┼─────────────────┼────────────────────────────┤\n",
       "│ gemma_backbone                │ (\u001b[38;5;45mNone\u001b[0m, \u001b[38;5;45mNone\u001b[0m, \u001b[38;5;34m2304\u001b[0m)        │   \u001b[38;5;34m2,614,341,888\u001b[0m │ padding_mask[\u001b[38;5;34m0\u001b[0m][\u001b[38;5;34m0\u001b[0m],        │\n",
       "│ (\u001b[38;5;33mGemmaBackbone\u001b[0m)               │                           │                 │ token_ids[\u001b[38;5;34m0\u001b[0m][\u001b[38;5;34m0\u001b[0m]            │\n",
       "├───────────────────────────────┼───────────────────────────┼─────────────────┼────────────────────────────┤\n",
       "│ token_embedding               │ (\u001b[38;5;45mNone\u001b[0m, \u001b[38;5;45mNone\u001b[0m, \u001b[38;5;34m256000\u001b[0m)      │     \u001b[38;5;34m589,824,000\u001b[0m │ gemma_backbone[\u001b[38;5;34m0\u001b[0m][\u001b[38;5;34m0\u001b[0m]       │\n",
       "│ (\u001b[38;5;33mReversibleEmbedding\u001b[0m)         │                           │                 │                            │\n",
       "└───────────────────────────────┴───────────────────────────┴─────────────────┴────────────────────────────┘\n"
      ]
     },
     "metadata": {},
     "output_type": "display_data"
    },
    {
     "data": {
      "text/html": [
       "<pre style=\"white-space:pre;overflow-x:auto;line-height:normal;font-family:Menlo,'DejaVu Sans Mono',consolas,'Courier New',monospace\"><span style=\"font-weight: bold\"> Total params: </span><span style=\"color: #00af00; text-decoration-color: #00af00\">2,614,341,888</span> (9.74 GB)\n",
       "</pre>\n"
      ],
      "text/plain": [
       "\u001b[1m Total params: \u001b[0m\u001b[38;5;34m2,614,341,888\u001b[0m (9.74 GB)\n"
      ]
     },
     "metadata": {},
     "output_type": "display_data"
    },
    {
     "data": {
      "text/html": [
       "<pre style=\"white-space:pre;overflow-x:auto;line-height:normal;font-family:Menlo,'DejaVu Sans Mono',consolas,'Courier New',monospace\"><span style=\"font-weight: bold\"> Trainable params: </span><span style=\"color: #00af00; text-decoration-color: #00af00\">2,614,341,888</span> (9.74 GB)\n",
       "</pre>\n"
      ],
      "text/plain": [
       "\u001b[1m Trainable params: \u001b[0m\u001b[38;5;34m2,614,341,888\u001b[0m (9.74 GB)\n"
      ]
     },
     "metadata": {},
     "output_type": "display_data"
    },
    {
     "data": {
      "text/html": [
       "<pre style=\"white-space:pre;overflow-x:auto;line-height:normal;font-family:Menlo,'DejaVu Sans Mono',consolas,'Courier New',monospace\"><span style=\"font-weight: bold\"> Non-trainable params: </span><span style=\"color: #00af00; text-decoration-color: #00af00\">0</span> (0.00 B)\n",
       "</pre>\n"
      ],
      "text/plain": [
       "\u001b[1m Non-trainable params: \u001b[0m\u001b[38;5;34m0\u001b[0m (0.00 B)\n"
      ]
     },
     "metadata": {},
     "output_type": "display_data"
    }
   ],
   "source": [
    "gemma_lm = keras_nlp.models.GemmaCausalLM.from_preset(\"gemma2_2b_en\")\n",
    "gemma_lm.summary()"
   ]
  },
  {
   "cell_type": "markdown",
   "id": "bd46e7e1",
   "metadata": {
    "papermill": {
     "duration": 0.005711,
     "end_time": "2025-01-11T10:23:19.022578",
     "exception": false,
     "start_time": "2025-01-11T10:23:19.016867",
     "status": "completed"
    },
    "tags": []
   },
   "source": [
    "# Enable LoRA for the model\n",
    "The trainable parameters, 2,614,341,888 are very large (9.74 GB) to train on our limited GPU, so to be able to actually train these on our systems, we need to use Lower Order Rank Adaptation(LORA). \n",
    "\n",
    "Basically converting 16bit floating point weights and parameters to 4bit.\n",
    "Of course there is some amount of loss in this approach, but the tradeoff for functionality is important to us."
   ]
  },
  {
   "cell_type": "code",
   "execution_count": 10,
   "id": "16a3f556",
   "metadata": {
    "execution": {
     "iopub.execute_input": "2025-01-11T10:23:19.035453Z",
     "iopub.status.busy": "2025-01-11T10:23:19.035089Z",
     "iopub.status.idle": "2025-01-11T10:23:19.382387Z",
     "shell.execute_reply": "2025-01-11T10:23:19.381659Z"
    },
    "papermill": {
     "duration": 0.35534,
     "end_time": "2025-01-11T10:23:19.383816",
     "exception": false,
     "start_time": "2025-01-11T10:23:19.028476",
     "status": "completed"
    },
    "tags": []
   },
   "outputs": [
    {
     "data": {
      "text/html": [
       "<pre style=\"white-space:pre;overflow-x:auto;line-height:normal;font-family:Menlo,'DejaVu Sans Mono',consolas,'Courier New',monospace\"><span style=\"font-weight: bold\">Preprocessor: \"gemma_causal_lm_preprocessor\"</span>\n",
       "</pre>\n"
      ],
      "text/plain": [
       "\u001b[1mPreprocessor: \"gemma_causal_lm_preprocessor\"\u001b[0m\n"
      ]
     },
     "metadata": {},
     "output_type": "display_data"
    },
    {
     "data": {
      "text/html": [
       "<pre style=\"white-space:pre;overflow-x:auto;line-height:normal;font-family:Menlo,'DejaVu Sans Mono',consolas,'Courier New',monospace\">┏━━━━━━━━━━━━━━━━━━━━━━━━━━━━━━━━━━━━━━━━━━━━━━━━━━━━━━━━━━━━━━━┳━━━━━━━━━━━━━━━━━━━━━━━━━━━━━━━━━━━━━━━━━━┓\n",
       "┃<span style=\"font-weight: bold\"> Layer (type)                                                  </span>┃<span style=\"font-weight: bold\">                                   Config </span>┃\n",
       "┡━━━━━━━━━━━━━━━━━━━━━━━━━━━━━━━━━━━━━━━━━━━━━━━━━━━━━━━━━━━━━━━╇━━━━━━━━━━━━━━━━━━━━━━━━━━━━━━━━━━━━━━━━━━┩\n",
       "│ gemma_tokenizer (<span style=\"color: #0087ff; text-decoration-color: #0087ff\">GemmaTokenizer</span>)                              │                      Vocab size: <span style=\"color: #00af00; text-decoration-color: #00af00\">256,000</span> │\n",
       "└───────────────────────────────────────────────────────────────┴──────────────────────────────────────────┘\n",
       "</pre>\n"
      ],
      "text/plain": [
       "┏━━━━━━━━━━━━━━━━━━━━━━━━━━━━━━━━━━━━━━━━━━━━━━━━━━━━━━━━━━━━━━━┳━━━━━━━━━━━━━━━━━━━━━━━━━━━━━━━━━━━━━━━━━━┓\n",
       "┃\u001b[1m \u001b[0m\u001b[1mLayer (type)                                                 \u001b[0m\u001b[1m \u001b[0m┃\u001b[1m \u001b[0m\u001b[1m                                  Config\u001b[0m\u001b[1m \u001b[0m┃\n",
       "┡━━━━━━━━━━━━━━━━━━━━━━━━━━━━━━━━━━━━━━━━━━━━━━━━━━━━━━━━━━━━━━━╇━━━━━━━━━━━━━━━━━━━━━━━━━━━━━━━━━━━━━━━━━━┩\n",
       "│ gemma_tokenizer (\u001b[38;5;33mGemmaTokenizer\u001b[0m)                              │                      Vocab size: \u001b[38;5;34m256,000\u001b[0m │\n",
       "└───────────────────────────────────────────────────────────────┴──────────────────────────────────────────┘\n"
      ]
     },
     "metadata": {},
     "output_type": "display_data"
    },
    {
     "data": {
      "text/html": [
       "<pre style=\"white-space:pre;overflow-x:auto;line-height:normal;font-family:Menlo,'DejaVu Sans Mono',consolas,'Courier New',monospace\"><span style=\"font-weight: bold\">Model: \"gemma_causal_lm\"</span>\n",
       "</pre>\n"
      ],
      "text/plain": [
       "\u001b[1mModel: \"gemma_causal_lm\"\u001b[0m\n"
      ]
     },
     "metadata": {},
     "output_type": "display_data"
    },
    {
     "data": {
      "text/html": [
       "<pre style=\"white-space:pre;overflow-x:auto;line-height:normal;font-family:Menlo,'DejaVu Sans Mono',consolas,'Courier New',monospace\">┏━━━━━━━━━━━━━━━━━━━━━━━━━━━━━━━┳━━━━━━━━━━━━━━━━━━━━━━━━━━━┳━━━━━━━━━━━━━━━━━┳━━━━━━━━━━━━━━━━━━━━━━━━━━━━┓\n",
       "┃<span style=\"font-weight: bold\"> Layer (type)                  </span>┃<span style=\"font-weight: bold\"> Output Shape              </span>┃<span style=\"font-weight: bold\">         Param # </span>┃<span style=\"font-weight: bold\"> Connected to               </span>┃\n",
       "┡━━━━━━━━━━━━━━━━━━━━━━━━━━━━━━━╇━━━━━━━━━━━━━━━━━━━━━━━━━━━╇━━━━━━━━━━━━━━━━━╇━━━━━━━━━━━━━━━━━━━━━━━━━━━━┩\n",
       "│ padding_mask (<span style=\"color: #0087ff; text-decoration-color: #0087ff\">InputLayer</span>)     │ (<span style=\"color: #00d7ff; text-decoration-color: #00d7ff\">None</span>, <span style=\"color: #00d7ff; text-decoration-color: #00d7ff\">None</span>)              │               <span style=\"color: #00af00; text-decoration-color: #00af00\">0</span> │ -                          │\n",
       "├───────────────────────────────┼───────────────────────────┼─────────────────┼────────────────────────────┤\n",
       "│ token_ids (<span style=\"color: #0087ff; text-decoration-color: #0087ff\">InputLayer</span>)        │ (<span style=\"color: #00d7ff; text-decoration-color: #00d7ff\">None</span>, <span style=\"color: #00d7ff; text-decoration-color: #00d7ff\">None</span>)              │               <span style=\"color: #00af00; text-decoration-color: #00af00\">0</span> │ -                          │\n",
       "├───────────────────────────────┼───────────────────────────┼─────────────────┼────────────────────────────┤\n",
       "│ gemma_backbone                │ (<span style=\"color: #00d7ff; text-decoration-color: #00d7ff\">None</span>, <span style=\"color: #00d7ff; text-decoration-color: #00d7ff\">None</span>, <span style=\"color: #00af00; text-decoration-color: #00af00\">2304</span>)        │   <span style=\"color: #00af00; text-decoration-color: #00af00\">2,617,270,528</span> │ padding_mask[<span style=\"color: #00af00; text-decoration-color: #00af00\">0</span>][<span style=\"color: #00af00; text-decoration-color: #00af00\">0</span>],        │\n",
       "│ (<span style=\"color: #0087ff; text-decoration-color: #0087ff\">GemmaBackbone</span>)               │                           │                 │ token_ids[<span style=\"color: #00af00; text-decoration-color: #00af00\">0</span>][<span style=\"color: #00af00; text-decoration-color: #00af00\">0</span>]            │\n",
       "├───────────────────────────────┼───────────────────────────┼─────────────────┼────────────────────────────┤\n",
       "│ token_embedding               │ (<span style=\"color: #00d7ff; text-decoration-color: #00d7ff\">None</span>, <span style=\"color: #00d7ff; text-decoration-color: #00d7ff\">None</span>, <span style=\"color: #00af00; text-decoration-color: #00af00\">256000</span>)      │     <span style=\"color: #00af00; text-decoration-color: #00af00\">589,824,000</span> │ gemma_backbone[<span style=\"color: #00af00; text-decoration-color: #00af00\">0</span>][<span style=\"color: #00af00; text-decoration-color: #00af00\">0</span>]       │\n",
       "│ (<span style=\"color: #0087ff; text-decoration-color: #0087ff\">ReversibleEmbedding</span>)         │                           │                 │                            │\n",
       "└───────────────────────────────┴───────────────────────────┴─────────────────┴────────────────────────────┘\n",
       "</pre>\n"
      ],
      "text/plain": [
       "┏━━━━━━━━━━━━━━━━━━━━━━━━━━━━━━━┳━━━━━━━━━━━━━━━━━━━━━━━━━━━┳━━━━━━━━━━━━━━━━━┳━━━━━━━━━━━━━━━━━━━━━━━━━━━━┓\n",
       "┃\u001b[1m \u001b[0m\u001b[1mLayer (type)                 \u001b[0m\u001b[1m \u001b[0m┃\u001b[1m \u001b[0m\u001b[1mOutput Shape             \u001b[0m\u001b[1m \u001b[0m┃\u001b[1m \u001b[0m\u001b[1m        Param #\u001b[0m\u001b[1m \u001b[0m┃\u001b[1m \u001b[0m\u001b[1mConnected to              \u001b[0m\u001b[1m \u001b[0m┃\n",
       "┡━━━━━━━━━━━━━━━━━━━━━━━━━━━━━━━╇━━━━━━━━━━━━━━━━━━━━━━━━━━━╇━━━━━━━━━━━━━━━━━╇━━━━━━━━━━━━━━━━━━━━━━━━━━━━┩\n",
       "│ padding_mask (\u001b[38;5;33mInputLayer\u001b[0m)     │ (\u001b[38;5;45mNone\u001b[0m, \u001b[38;5;45mNone\u001b[0m)              │               \u001b[38;5;34m0\u001b[0m │ -                          │\n",
       "├───────────────────────────────┼───────────────────────────┼─────────────────┼────────────────────────────┤\n",
       "│ token_ids (\u001b[38;5;33mInputLayer\u001b[0m)        │ (\u001b[38;5;45mNone\u001b[0m, \u001b[38;5;45mNone\u001b[0m)              │               \u001b[38;5;34m0\u001b[0m │ -                          │\n",
       "├───────────────────────────────┼───────────────────────────┼─────────────────┼────────────────────────────┤\n",
       "│ gemma_backbone                │ (\u001b[38;5;45mNone\u001b[0m, \u001b[38;5;45mNone\u001b[0m, \u001b[38;5;34m2304\u001b[0m)        │   \u001b[38;5;34m2,617,270,528\u001b[0m │ padding_mask[\u001b[38;5;34m0\u001b[0m][\u001b[38;5;34m0\u001b[0m],        │\n",
       "│ (\u001b[38;5;33mGemmaBackbone\u001b[0m)               │                           │                 │ token_ids[\u001b[38;5;34m0\u001b[0m][\u001b[38;5;34m0\u001b[0m]            │\n",
       "├───────────────────────────────┼───────────────────────────┼─────────────────┼────────────────────────────┤\n",
       "│ token_embedding               │ (\u001b[38;5;45mNone\u001b[0m, \u001b[38;5;45mNone\u001b[0m, \u001b[38;5;34m256000\u001b[0m)      │     \u001b[38;5;34m589,824,000\u001b[0m │ gemma_backbone[\u001b[38;5;34m0\u001b[0m][\u001b[38;5;34m0\u001b[0m]       │\n",
       "│ (\u001b[38;5;33mReversibleEmbedding\u001b[0m)         │                           │                 │                            │\n",
       "└───────────────────────────────┴───────────────────────────┴─────────────────┴────────────────────────────┘\n"
      ]
     },
     "metadata": {},
     "output_type": "display_data"
    },
    {
     "data": {
      "text/html": [
       "<pre style=\"white-space:pre;overflow-x:auto;line-height:normal;font-family:Menlo,'DejaVu Sans Mono',consolas,'Courier New',monospace\"><span style=\"font-weight: bold\"> Total params: </span><span style=\"color: #00af00; text-decoration-color: #00af00\">2,617,270,528</span> (9.75 GB)\n",
       "</pre>\n"
      ],
      "text/plain": [
       "\u001b[1m Total params: \u001b[0m\u001b[38;5;34m2,617,270,528\u001b[0m (9.75 GB)\n"
      ]
     },
     "metadata": {},
     "output_type": "display_data"
    },
    {
     "data": {
      "text/html": [
       "<pre style=\"white-space:pre;overflow-x:auto;line-height:normal;font-family:Menlo,'DejaVu Sans Mono',consolas,'Courier New',monospace\"><span style=\"font-weight: bold\"> Trainable params: </span><span style=\"color: #00af00; text-decoration-color: #00af00\">2,928,640</span> (11.17 MB)\n",
       "</pre>\n"
      ],
      "text/plain": [
       "\u001b[1m Trainable params: \u001b[0m\u001b[38;5;34m2,928,640\u001b[0m (11.17 MB)\n"
      ]
     },
     "metadata": {},
     "output_type": "display_data"
    },
    {
     "data": {
      "text/html": [
       "<pre style=\"white-space:pre;overflow-x:auto;line-height:normal;font-family:Menlo,'DejaVu Sans Mono',consolas,'Courier New',monospace\"><span style=\"font-weight: bold\"> Non-trainable params: </span><span style=\"color: #00af00; text-decoration-color: #00af00\">2,614,341,888</span> (9.74 GB)\n",
       "</pre>\n"
      ],
      "text/plain": [
       "\u001b[1m Non-trainable params: \u001b[0m\u001b[38;5;34m2,614,341,888\u001b[0m (9.74 GB)\n"
      ]
     },
     "metadata": {},
     "output_type": "display_data"
    }
   ],
   "source": [
    "# Enable LoRA for the model and set the LoRA rank to 4 (for 4 bit)\n",
    "gemma_lm.backbone.enable_lora(rank=4)\n",
    "gemma_lm.summary()"
   ]
  },
  {
   "cell_type": "markdown",
   "id": "e55696e7",
   "metadata": {
    "papermill": {
     "duration": 0.006996,
     "end_time": "2025-01-11T10:23:19.400972",
     "exception": false,
     "start_time": "2025-01-11T10:23:19.393976",
     "status": "completed"
    },
    "tags": []
   },
   "source": [
    "As you can see, the size of trainable parameters have reduces to about 11.17 MB. Now we can train the model on our dataset."
   ]
  },
  {
   "cell_type": "code",
   "execution_count": 11,
   "id": "e3010f9d",
   "metadata": {
    "execution": {
     "iopub.execute_input": "2025-01-11T10:23:19.415789Z",
     "iopub.status.busy": "2025-01-11T10:23:19.415485Z",
     "iopub.status.idle": "2025-01-11T10:34:27.210627Z",
     "shell.execute_reply": "2025-01-11T10:34:27.209658Z"
    },
    "papermill": {
     "duration": 667.804071,
     "end_time": "2025-01-11T10:34:27.212078",
     "exception": false,
     "start_time": "2025-01-11T10:23:19.408007",
     "status": "completed"
    },
    "tags": []
   },
   "outputs": [
    {
     "name": "stdout",
     "output_type": "stream",
     "text": [
      "Epoch 1/2\n",
      "\u001b[1m720/720\u001b[0m \u001b[32m━━━━━━━━━━━━━━━━━━━━\u001b[0m\u001b[37m\u001b[0m \u001b[1m346s\u001b[0m 443ms/step - loss: 0.5953 - sparse_categorical_accuracy: 0.6324\n",
      "Epoch 2/2\n",
      "\u001b[1m720/720\u001b[0m \u001b[32m━━━━━━━━━━━━━━━━━━━━\u001b[0m\u001b[37m\u001b[0m \u001b[1m320s\u001b[0m 419ms/step - loss: 0.3285 - sparse_categorical_accuracy: 0.7899\n"
     ]
    },
    {
     "data": {
      "text/plain": [
       "<keras.src.callbacks.history.History at 0x7abf5c3a4c70>"
      ]
     },
     "execution_count": 11,
     "metadata": {},
     "output_type": "execute_result"
    }
   ],
   "source": [
    "# Limit the input sequence length to 256 (to control memory usage).\n",
    "gemma_lm.preprocessor.sequence_length = 256\n",
    "# Use AdamW (a common optimizer for transformer models).\n",
    "optimizer = keras.optimizers.AdamW(\n",
    "    learning_rate=5e-5,\n",
    "    weight_decay=0.01,\n",
    ")\n",
    "# Exclude layernorm and bias terms from decay.\n",
    "optimizer.exclude_from_weight_decay(var_names=[\"bias\", \"scale\"])\n",
    "\n",
    "gemma_lm.compile(\n",
    "    loss=keras.losses.SparseCategoricalCrossentropy(from_logits=True),\n",
    "    optimizer=optimizer,\n",
    "    weighted_metrics=[keras.metrics.SparseCategoricalAccuracy()],\n",
    ")\n",
    "gemma_lm.fit(data, epochs=2, batch_size=1)"
   ]
  },
  {
   "cell_type": "markdown",
   "id": "90c5dfa6",
   "metadata": {
    "papermill": {
     "duration": 0.059126,
     "end_time": "2025-01-11T10:34:27.331665",
     "exception": false,
     "start_time": "2025-01-11T10:34:27.272539",
     "status": "completed"
    },
    "tags": []
   },
   "source": [
    "# Testing it with different Prompts"
   ]
  },
  {
   "cell_type": "code",
   "execution_count": 12,
   "id": "c3451ae3",
   "metadata": {
    "execution": {
     "iopub.execute_input": "2025-01-11T10:34:27.452688Z",
     "iopub.status.busy": "2025-01-11T10:34:27.452324Z",
     "iopub.status.idle": "2025-01-11T10:34:27.456322Z",
     "shell.execute_reply": "2025-01-11T10:34:27.455490Z"
    },
    "papermill": {
     "duration": 0.065807,
     "end_time": "2025-01-11T10:34:27.457755",
     "exception": false,
     "start_time": "2025-01-11T10:34:27.391948",
     "status": "completed"
    },
    "tags": []
   },
   "outputs": [],
   "source": [
    "# list of meanings for you to try from\n",
    "test_meanings = [\n",
    "    \"feeling stuck in a difficult situation\",\n",
    "    \"making a big decision\",\n",
    "    \"working hard to achieve a goal\",\n",
    "    \"dealing with unexpected problems\",\n",
    "    \"celebrating a success\",\n",
    "    \"overcoming failure\",\n",
    "    \"dealing with a challenging coworker\",\n",
    "    \"handling stress at work\",\n",
    "    \"feeling overwhelmed with responsibilities\",\n",
    "    \"facing a tough deadline\",\n",
    "    \"getting lost in a new city\",\n",
    "    \"managing work-life balance\",\n",
    "    \"feeling homesick in a new place\",\n",
    "    \"learning something new and challenging\",\n",
    "    \"handling a sudden change in plans\"\n",
    "]"
   ]
  },
  {
   "cell_type": "markdown",
   "id": "c8f490bf",
   "metadata": {
    "papermill": {
     "duration": 0.059558,
     "end_time": "2025-01-11T10:34:27.576960",
     "exception": false,
     "start_time": "2025-01-11T10:34:27.517402",
     "status": "completed"
    },
    "tags": []
   },
   "source": [
    "### Testing prarameters\n",
    "\n",
    "- **Top-K Sampling** (`keras_nlp.samplers.TopKSampler(k=10, seed=2)`):\n",
    "  - Limits token choices to the top 10 most probable at each generation step (`k=10`).\n",
    "  - `seed=2` ensures reproducibility of the result for every time it is executed.\n",
    "\n",
    "- **Compiling Model**:\n",
    "  - `gemma_lm.compile(sampler=sampler)` To set the sampling method for text generation.\n",
    "\n",
    "- **Text Generation**:\n",
    "  - `gemma_lm.generate(prompt, max_length=256)` To generate text from the `prompt` with a maximum length of 256 tokens using Top-K sampling.\n",
    "\n",
    "I used this approach because it balances randomness and coherence in the generated text."
   ]
  },
  {
   "cell_type": "markdown",
   "id": "331c42ed",
   "metadata": {
    "papermill": {
     "duration": 0.060294,
     "end_time": "2025-01-11T10:34:27.696812",
     "exception": false,
     "start_time": "2025-01-11T10:34:27.636518",
     "status": "completed"
    },
    "tags": []
   },
   "source": [
    "**Example 1**"
   ]
  },
  {
   "cell_type": "code",
   "execution_count": 13,
   "id": "1e743a52",
   "metadata": {
    "execution": {
     "iopub.execute_input": "2025-01-11T10:34:27.818106Z",
     "iopub.status.busy": "2025-01-11T10:34:27.817763Z",
     "iopub.status.idle": "2025-01-11T10:34:45.980383Z",
     "shell.execute_reply": "2025-01-11T10:34:45.979183Z"
    },
    "papermill": {
     "duration": 18.225314,
     "end_time": "2025-01-11T10:34:45.981841",
     "exception": false,
     "start_time": "2025-01-11T10:34:27.756527",
     "status": "completed"
    },
    "tags": []
   },
   "outputs": [
    {
     "name": "stdout",
     "output_type": "stream",
     "text": [
      "Instruction:\n",
      " Do you know any idiom which would be suitable for facing a tough deadline\n",
      "\n",
      "Response:\n",
      "Idiom: 99问题中有1个答案\n",
      "\n",
      "Literal Meaning:In 99 problems, there is one solution.\n",
      "Example Use: In every situation, always remember:99问题中有1个答案.\n",
      "Cultural Context: This idiom comes from the Chinese culture.\n",
      "\n"
     ]
    }
   ],
   "source": [
    "test_meaning = \"facing a tough deadline\"\n",
    "\n",
    "#Using the same template format as training\n",
    "prompt = (\n",
    "    \"Instruction:\\n Do you know any idiom which would be suitable for {}\\n\\n\"\n",
    "    \"Response:\\n\"\n",
    ").format(test_meaning)\n",
    "\n",
    "sampler = keras_nlp.samplers.TopKSampler(k=10, seed=2)\n",
    "gemma_lm.compile(sampler=sampler)\n",
    "print(gemma_lm.generate(prompt, max_length=256))"
   ]
  },
  {
   "cell_type": "markdown",
   "id": "3edee601",
   "metadata": {
    "papermill": {
     "duration": 0.058031,
     "end_time": "2025-01-11T10:34:46.099565",
     "exception": false,
     "start_time": "2025-01-11T10:34:46.041534",
     "status": "completed"
    },
    "tags": []
   },
   "source": [
    "**Example 2**"
   ]
  },
  {
   "cell_type": "code",
   "execution_count": 14,
   "id": "c010b580",
   "metadata": {
    "execution": {
     "iopub.execute_input": "2025-01-11T10:34:46.218098Z",
     "iopub.status.busy": "2025-01-11T10:34:46.217797Z",
     "iopub.status.idle": "2025-01-11T10:35:02.848528Z",
     "shell.execute_reply": "2025-01-11T10:35:02.847496Z"
    },
    "papermill": {
     "duration": 16.692419,
     "end_time": "2025-01-11T10:35:02.849818",
     "exception": false,
     "start_time": "2025-01-11T10:34:46.157399",
     "status": "completed"
    },
    "tags": []
   },
   "outputs": [
    {
     "name": "stdout",
     "output_type": "stream",
     "text": [
      "Instruction:\n",
      " Do you know any idiom which would be suitable for someone who does not value another person\n",
      "\n",
      "Response:\n",
      "Idiom: 錢不是親\n",
      "\n",
      "Literal Meaning:Money is not a relative.\n",
      "Example Use: Don't let your success go to your head. 錢不是親; success is not close family.\n",
      "Cultural Context: This idiom comes from the Taiwanese culture.\n",
      "\n"
     ]
    }
   ],
   "source": [
    "\n",
    "#You can adjust these paramters to test them on your own \n",
    "test_meaning = \"someone who does not value another person\"\n",
    "\n",
    "#Using the same template format as training\n",
    "prompt = (\n",
    "    \"Instruction:\\n Do you know any idiom which would be suitable for {}\\n\\n\"\n",
    "    \"Response:\\n\"\n",
    ").format(test_meaning)\n",
    "\n",
    "sampler = keras_nlp.samplers.TopKSampler(k=10, seed=2)\n",
    "gemma_lm.compile(sampler=sampler)\n",
    "print(gemma_lm.generate(prompt, max_length=256))"
   ]
  },
  {
   "cell_type": "markdown",
   "id": "57f66a94",
   "metadata": {
    "papermill": {
     "duration": 0.059121,
     "end_time": "2025-01-11T10:35:02.969153",
     "exception": false,
     "start_time": "2025-01-11T10:35:02.910032",
     "status": "completed"
    },
    "tags": []
   },
   "source": [
    "**Example 3**"
   ]
  },
  {
   "cell_type": "code",
   "execution_count": 15,
   "id": "61422de2",
   "metadata": {
    "execution": {
     "iopub.execute_input": "2025-01-11T10:35:03.088051Z",
     "iopub.status.busy": "2025-01-11T10:35:03.087745Z",
     "iopub.status.idle": "2025-01-11T10:35:20.623481Z",
     "shell.execute_reply": "2025-01-11T10:35:20.622392Z"
    },
    "papermill": {
     "duration": 17.597041,
     "end_time": "2025-01-11T10:35:20.624867",
     "exception": false,
     "start_time": "2025-01-11T10:35:03.027826",
     "status": "completed"
    },
    "tags": []
   },
   "outputs": [
    {
     "name": "stdout",
     "output_type": "stream",
     "text": [
      "Instruction:\n",
      " Do you know any idiom which would be suitable for managing work-life balance\n",
      "\n",
      "Response:\n",
      "Idiom: 40% of work, 60% life\n",
      "\n",
      "Literal Meaning:Forty percent of work and sixty percent of life.\n",
      "Example Use: I think it's important to focus on both work and family equally; 40% of work and 60% of life.\n",
      "Cultural Context: This idiom comes from the Chinese culture.\n",
      "\n"
     ]
    }
   ],
   "source": [
    "#3\n",
    "test_meaning = \"managing work-life balance\"\n",
    "\n",
    "prompt = (\n",
    "    \"Instruction:\\n Do you know any idiom which would be suitable for {}\\n\\n\"\n",
    "    \"Response:\\n\"\n",
    ").format(test_meaning)\n",
    "\n",
    "sampler = keras_nlp.samplers.TopKSampler(k=10, seed=2)\n",
    "gemma_lm.compile(sampler=sampler)\n",
    "print(gemma_lm.generate(prompt, max_length=256))"
   ]
  }
 ],
 "metadata": {
  "kaggle": {
   "accelerator": "gpu",
   "dataSources": [
    {
     "datasetId": 6048296,
     "sourceId": 10272721,
     "sourceType": "datasetVersion"
    },
    {
     "modelId": 78150,
     "modelInstanceId": 72244,
     "sourceId": 85984,
     "sourceType": "modelInstanceVersion"
    }
   ],
   "dockerImageVersionId": 30822,
   "isGpuEnabled": true,
   "isInternetEnabled": true,
   "language": "python",
   "sourceType": "notebook"
  },
  "kernelspec": {
   "display_name": "Python 3",
   "language": "python",
   "name": "python3"
  },
  "language_info": {
   "codemirror_mode": {
    "name": "ipython",
    "version": 3
   },
   "file_extension": ".py",
   "mimetype": "text/x-python",
   "name": "python",
   "nbconvert_exporter": "python",
   "pygments_lexer": "ipython3",
   "version": "3.10.12"
  },
  "papermill": {
   "default_parameters": {},
   "duration": 789.185387,
   "end_time": "2025-01-11T10:35:23.474582",
   "environment_variables": {},
   "exception": null,
   "input_path": "__notebook__.ipynb",
   "output_path": "__notebook__.ipynb",
   "parameters": {},
   "start_time": "2025-01-11T10:22:14.289195",
   "version": "2.6.0"
  },
  "widgets": {
   "application/vnd.jupyter.widget-state+json": {
    "state": {
     "000dd8d9345a4294870d5036acc18c89": {
      "model_module": "@jupyter-widgets/controls",
      "model_module_version": "2.0.0",
      "model_name": "HTMLModel",
      "state": {
       "_dom_classes": [],
       "_model_module": "@jupyter-widgets/controls",
       "_model_module_version": "2.0.0",
       "_model_name": "HTMLModel",
       "_view_count": null,
       "_view_module": "@jupyter-widgets/controls",
       "_view_module_version": "2.0.0",
       "_view_name": "HTMLView",
       "description": "",
       "description_allow_html": false,
       "layout": "IPY_MODEL_b6a7963a52d04c369a7909c5e151f50b",
       "placeholder": "​",
       "style": "IPY_MODEL_bea94640bdaa4b9d8d0e05ddb4d717cd",
       "tabbable": null,
       "tooltip": null,
       "value": "Computing checksums: 100%"
      }
     },
     "0bb1422b0daa420abffb518c7905dd81": {
      "model_module": "@jupyter-widgets/base",
      "model_module_version": "2.0.0",
      "model_name": "LayoutModel",
      "state": {
       "_model_module": "@jupyter-widgets/base",
       "_model_module_version": "2.0.0",
       "_model_name": "LayoutModel",
       "_view_count": null,
       "_view_module": "@jupyter-widgets/base",
       "_view_module_version": "2.0.0",
       "_view_name": "LayoutView",
       "align_content": null,
       "align_items": null,
       "align_self": null,
       "border_bottom": null,
       "border_left": null,
       "border_right": null,
       "border_top": null,
       "bottom": null,
       "display": null,
       "flex": null,
       "flex_flow": null,
       "grid_area": null,
       "grid_auto_columns": null,
       "grid_auto_flow": null,
       "grid_auto_rows": null,
       "grid_column": null,
       "grid_gap": null,
       "grid_row": null,
       "grid_template_areas": null,
       "grid_template_columns": null,
       "grid_template_rows": null,
       "height": null,
       "justify_content": null,
       "justify_items": null,
       "left": null,
       "margin": null,
       "max_height": null,
       "max_width": null,
       "min_height": null,
       "min_width": null,
       "object_fit": null,
       "object_position": null,
       "order": null,
       "overflow": null,
       "padding": null,
       "right": null,
       "top": null,
       "visibility": null,
       "width": null
      }
     },
     "10f8f44619c4439b912b1d67b61c0158": {
      "model_module": "@jupyter-widgets/base",
      "model_module_version": "2.0.0",
      "model_name": "LayoutModel",
      "state": {
       "_model_module": "@jupyter-widgets/base",
       "_model_module_version": "2.0.0",
       "_model_name": "LayoutModel",
       "_view_count": null,
       "_view_module": "@jupyter-widgets/base",
       "_view_module_version": "2.0.0",
       "_view_name": "LayoutView",
       "align_content": null,
       "align_items": null,
       "align_self": null,
       "border_bottom": null,
       "border_left": null,
       "border_right": null,
       "border_top": null,
       "bottom": null,
       "display": null,
       "flex": null,
       "flex_flow": null,
       "grid_area": null,
       "grid_auto_columns": null,
       "grid_auto_flow": null,
       "grid_auto_rows": null,
       "grid_column": null,
       "grid_gap": null,
       "grid_row": null,
       "grid_template_areas": null,
       "grid_template_columns": null,
       "grid_template_rows": null,
       "height": null,
       "justify_content": null,
       "justify_items": null,
       "left": null,
       "margin": null,
       "max_height": null,
       "max_width": null,
       "min_height": null,
       "min_width": null,
       "object_fit": null,
       "object_position": null,
       "order": null,
       "overflow": null,
       "padding": null,
       "right": null,
       "top": null,
       "visibility": null,
       "width": null
      }
     },
     "1329efbf66114c169741a2e095f53380": {
      "model_module": "@jupyter-widgets/controls",
      "model_module_version": "2.0.0",
      "model_name": "HTMLStyleModel",
      "state": {
       "_model_module": "@jupyter-widgets/controls",
       "_model_module_version": "2.0.0",
       "_model_name": "HTMLStyleModel",
       "_view_count": null,
       "_view_module": "@jupyter-widgets/base",
       "_view_module_version": "2.0.0",
       "_view_name": "StyleView",
       "background": null,
       "description_width": "",
       "font_size": null,
       "text_color": null
      }
     },
     "1c3a77883d3a42f5be6c60b3f5a19c06": {
      "model_module": "@jupyter-widgets/controls",
      "model_module_version": "2.0.0",
      "model_name": "HTMLModel",
      "state": {
       "_dom_classes": [],
       "_model_module": "@jupyter-widgets/controls",
       "_model_module_version": "2.0.0",
       "_model_name": "HTMLModel",
       "_view_count": null,
       "_view_module": "@jupyter-widgets/controls",
       "_view_module_version": "2.0.0",
       "_view_name": "HTMLView",
       "description": "",
       "description_allow_html": false,
       "layout": "IPY_MODEL_0bb1422b0daa420abffb518c7905dd81",
       "placeholder": "​",
       "style": "IPY_MODEL_32bcc48035624113998d66ee816ac126",
       "tabbable": null,
       "tooltip": null,
       "value": " 71/71 [00:00&lt;00:00, 6469.04files/s]"
      }
     },
     "1c7310a201b24028a3250ae2de6378c5": {
      "model_module": "@jupyter-widgets/base",
      "model_module_version": "2.0.0",
      "model_name": "LayoutModel",
      "state": {
       "_model_module": "@jupyter-widgets/base",
       "_model_module_version": "2.0.0",
       "_model_name": "LayoutModel",
       "_view_count": null,
       "_view_module": "@jupyter-widgets/base",
       "_view_module_version": "2.0.0",
       "_view_name": "LayoutView",
       "align_content": null,
       "align_items": null,
       "align_self": null,
       "border_bottom": null,
       "border_left": null,
       "border_right": null,
       "border_top": null,
       "bottom": null,
       "display": null,
       "flex": null,
       "flex_flow": null,
       "grid_area": null,
       "grid_auto_columns": null,
       "grid_auto_flow": null,
       "grid_auto_rows": null,
       "grid_column": null,
       "grid_gap": null,
       "grid_row": null,
       "grid_template_areas": null,
       "grid_template_columns": null,
       "grid_template_rows": null,
       "height": null,
       "justify_content": null,
       "justify_items": null,
       "left": null,
       "margin": null,
       "max_height": null,
       "max_width": null,
       "min_height": null,
       "min_width": null,
       "object_fit": null,
       "object_position": null,
       "order": null,
       "overflow": null,
       "padding": null,
       "right": null,
       "top": null,
       "visibility": null,
       "width": null
      }
     },
     "1f5407b32aec44eda49bf82d2ad58ab7": {
      "model_module": "@jupyter-widgets/base",
      "model_module_version": "2.0.0",
      "model_name": "LayoutModel",
      "state": {
       "_model_module": "@jupyter-widgets/base",
       "_model_module_version": "2.0.0",
       "_model_name": "LayoutModel",
       "_view_count": null,
       "_view_module": "@jupyter-widgets/base",
       "_view_module_version": "2.0.0",
       "_view_name": "LayoutView",
       "align_content": null,
       "align_items": null,
       "align_self": null,
       "border_bottom": null,
       "border_left": null,
       "border_right": null,
       "border_top": null,
       "bottom": null,
       "display": null,
       "flex": null,
       "flex_flow": null,
       "grid_area": null,
       "grid_auto_columns": null,
       "grid_auto_flow": null,
       "grid_auto_rows": null,
       "grid_column": null,
       "grid_gap": null,
       "grid_row": null,
       "grid_template_areas": null,
       "grid_template_columns": null,
       "grid_template_rows": null,
       "height": null,
       "justify_content": null,
       "justify_items": null,
       "left": null,
       "margin": null,
       "max_height": null,
       "max_width": null,
       "min_height": null,
       "min_width": null,
       "object_fit": null,
       "object_position": null,
       "order": null,
       "overflow": null,
       "padding": null,
       "right": null,
       "top": null,
       "visibility": null,
       "width": null
      }
     },
     "24d0c727f5184ea89acbeec1655f71eb": {
      "model_module": "@jupyter-widgets/base",
      "model_module_version": "2.0.0",
      "model_name": "LayoutModel",
      "state": {
       "_model_module": "@jupyter-widgets/base",
       "_model_module_version": "2.0.0",
       "_model_name": "LayoutModel",
       "_view_count": null,
       "_view_module": "@jupyter-widgets/base",
       "_view_module_version": "2.0.0",
       "_view_name": "LayoutView",
       "align_content": null,
       "align_items": null,
       "align_self": null,
       "border_bottom": null,
       "border_left": null,
       "border_right": null,
       "border_top": null,
       "bottom": null,
       "display": null,
       "flex": null,
       "flex_flow": null,
       "grid_area": null,
       "grid_auto_columns": null,
       "grid_auto_flow": null,
       "grid_auto_rows": null,
       "grid_column": null,
       "grid_gap": null,
       "grid_row": null,
       "grid_template_areas": null,
       "grid_template_columns": null,
       "grid_template_rows": null,
       "height": null,
       "justify_content": null,
       "justify_items": null,
       "left": null,
       "margin": null,
       "max_height": null,
       "max_width": null,
       "min_height": null,
       "min_width": null,
       "object_fit": null,
       "object_position": null,
       "order": null,
       "overflow": null,
       "padding": null,
       "right": null,
       "top": null,
       "visibility": null,
       "width": null
      }
     },
     "26d3194d265640d6b8be735bf2d612f4": {
      "model_module": "@jupyter-widgets/controls",
      "model_module_version": "2.0.0",
      "model_name": "HTMLStyleModel",
      "state": {
       "_model_module": "@jupyter-widgets/controls",
       "_model_module_version": "2.0.0",
       "_model_name": "HTMLStyleModel",
       "_view_count": null,
       "_view_module": "@jupyter-widgets/base",
       "_view_module_version": "2.0.0",
       "_view_name": "StyleView",
       "background": null,
       "description_width": "",
       "font_size": null,
       "text_color": null
      }
     },
     "2b1fcb4c771644c1a9e210b6b2013eb4": {
      "model_module": "@jupyter-widgets/controls",
      "model_module_version": "2.0.0",
      "model_name": "HTMLModel",
      "state": {
       "_dom_classes": [],
       "_model_module": "@jupyter-widgets/controls",
       "_model_module_version": "2.0.0",
       "_model_name": "HTMLModel",
       "_view_count": null,
       "_view_module": "@jupyter-widgets/controls",
       "_view_module_version": "2.0.0",
       "_view_name": "HTMLView",
       "description": "",
       "description_allow_html": false,
       "layout": "IPY_MODEL_abdeaa6d27d049f6a6c9a8b81d4cde26",
       "placeholder": "​",
       "style": "IPY_MODEL_1329efbf66114c169741a2e095f53380",
       "tabbable": null,
       "tooltip": null,
       "value": " 71/71 [00:00&lt;00:00, 6743.25it/s]"
      }
     },
     "32bcc48035624113998d66ee816ac126": {
      "model_module": "@jupyter-widgets/controls",
      "model_module_version": "2.0.0",
      "model_name": "HTMLStyleModel",
      "state": {
       "_model_module": "@jupyter-widgets/controls",
       "_model_module_version": "2.0.0",
       "_model_name": "HTMLStyleModel",
       "_view_count": null,
       "_view_module": "@jupyter-widgets/base",
       "_view_module_version": "2.0.0",
       "_view_name": "StyleView",
       "background": null,
       "description_width": "",
       "font_size": null,
       "text_color": null
      }
     },
     "3ab6ded35d2443fc9beaad845d3e3004": {
      "model_module": "@jupyter-widgets/base",
      "model_module_version": "2.0.0",
      "model_name": "LayoutModel",
      "state": {
       "_model_module": "@jupyter-widgets/base",
       "_model_module_version": "2.0.0",
       "_model_name": "LayoutModel",
       "_view_count": null,
       "_view_module": "@jupyter-widgets/base",
       "_view_module_version": "2.0.0",
       "_view_name": "LayoutView",
       "align_content": null,
       "align_items": null,
       "align_self": null,
       "border_bottom": null,
       "border_left": null,
       "border_right": null,
       "border_top": null,
       "bottom": null,
       "display": null,
       "flex": null,
       "flex_flow": null,
       "grid_area": null,
       "grid_auto_columns": null,
       "grid_auto_flow": null,
       "grid_auto_rows": null,
       "grid_column": null,
       "grid_gap": null,
       "grid_row": null,
       "grid_template_areas": null,
       "grid_template_columns": null,
       "grid_template_rows": null,
       "height": null,
       "justify_content": null,
       "justify_items": null,
       "left": null,
       "margin": null,
       "max_height": null,
       "max_width": null,
       "min_height": null,
       "min_width": null,
       "object_fit": null,
       "object_position": null,
       "order": null,
       "overflow": null,
       "padding": null,
       "right": null,
       "top": null,
       "visibility": null,
       "width": null
      }
     },
     "45dc7d2bf7d544ddb1d1b299ab512293": {
      "model_module": "@jupyter-widgets/base",
      "model_module_version": "2.0.0",
      "model_name": "LayoutModel",
      "state": {
       "_model_module": "@jupyter-widgets/base",
       "_model_module_version": "2.0.0",
       "_model_name": "LayoutModel",
       "_view_count": null,
       "_view_module": "@jupyter-widgets/base",
       "_view_module_version": "2.0.0",
       "_view_name": "LayoutView",
       "align_content": null,
       "align_items": null,
       "align_self": null,
       "border_bottom": null,
       "border_left": null,
       "border_right": null,
       "border_top": null,
       "bottom": null,
       "display": null,
       "flex": null,
       "flex_flow": null,
       "grid_area": null,
       "grid_auto_columns": null,
       "grid_auto_flow": null,
       "grid_auto_rows": null,
       "grid_column": null,
       "grid_gap": null,
       "grid_row": null,
       "grid_template_areas": null,
       "grid_template_columns": null,
       "grid_template_rows": null,
       "height": null,
       "justify_content": null,
       "justify_items": null,
       "left": null,
       "margin": null,
       "max_height": null,
       "max_width": null,
       "min_height": null,
       "min_width": null,
       "object_fit": null,
       "object_position": null,
       "order": null,
       "overflow": null,
       "padding": null,
       "right": null,
       "top": null,
       "visibility": null,
       "width": "20px"
      }
     },
     "7719ced9a8744c75889bd16a4d7609af": {
      "model_module": "@jupyter-widgets/controls",
      "model_module_version": "2.0.0",
      "model_name": "HTMLModel",
      "state": {
       "_dom_classes": [],
       "_model_module": "@jupyter-widgets/controls",
       "_model_module_version": "2.0.0",
       "_model_name": "HTMLModel",
       "_view_count": null,
       "_view_module": "@jupyter-widgets/controls",
       "_view_module_version": "2.0.0",
       "_view_name": "HTMLView",
       "description": "",
       "description_allow_html": false,
       "layout": "IPY_MODEL_1f5407b32aec44eda49bf82d2ad58ab7",
       "placeholder": "​",
       "style": "IPY_MODEL_f5489f75d79e4cf8b3ef32f599c49538",
       "tabbable": null,
       "tooltip": null,
       "value": "Downloading data: 100%"
      }
     },
     "7bf17271453944bda07a2cbc7fe4413a": {
      "model_module": "@jupyter-widgets/controls",
      "model_module_version": "2.0.0",
      "model_name": "ProgressStyleModel",
      "state": {
       "_model_module": "@jupyter-widgets/controls",
       "_model_module_version": "2.0.0",
       "_model_name": "ProgressStyleModel",
       "_view_count": null,
       "_view_module": "@jupyter-widgets/base",
       "_view_module_version": "2.0.0",
       "_view_name": "StyleView",
       "bar_color": null,
       "description_width": ""
      }
     },
     "7de110b7ce5f446c804b610b925f5111": {
      "model_module": "@jupyter-widgets/controls",
      "model_module_version": "2.0.0",
      "model_name": "HTMLStyleModel",
      "state": {
       "_model_module": "@jupyter-widgets/controls",
       "_model_module_version": "2.0.0",
       "_model_name": "HTMLStyleModel",
       "_view_count": null,
       "_view_module": "@jupyter-widgets/base",
       "_view_module_version": "2.0.0",
       "_view_name": "StyleView",
       "background": null,
       "description_width": "",
       "font_size": null,
       "text_color": null
      }
     },
     "846a22b84af84007aa6e71a380f772ee": {
      "model_module": "@jupyter-widgets/base",
      "model_module_version": "2.0.0",
      "model_name": "LayoutModel",
      "state": {
       "_model_module": "@jupyter-widgets/base",
       "_model_module_version": "2.0.0",
       "_model_name": "LayoutModel",
       "_view_count": null,
       "_view_module": "@jupyter-widgets/base",
       "_view_module_version": "2.0.0",
       "_view_name": "LayoutView",
       "align_content": null,
       "align_items": null,
       "align_self": null,
       "border_bottom": null,
       "border_left": null,
       "border_right": null,
       "border_top": null,
       "bottom": null,
       "display": null,
       "flex": null,
       "flex_flow": null,
       "grid_area": null,
       "grid_auto_columns": null,
       "grid_auto_flow": null,
       "grid_auto_rows": null,
       "grid_column": null,
       "grid_gap": null,
       "grid_row": null,
       "grid_template_areas": null,
       "grid_template_columns": null,
       "grid_template_rows": null,
       "height": null,
       "justify_content": null,
       "justify_items": null,
       "left": null,
       "margin": null,
       "max_height": null,
       "max_width": null,
       "min_height": null,
       "min_width": null,
       "object_fit": null,
       "object_position": null,
       "order": null,
       "overflow": null,
       "padding": null,
       "right": null,
       "top": null,
       "visibility": null,
       "width": null
      }
     },
     "8477ca706a7540a8bb41f8888c2dcf17": {
      "model_module": "@jupyter-widgets/controls",
      "model_module_version": "2.0.0",
      "model_name": "HTMLModel",
      "state": {
       "_dom_classes": [],
       "_model_module": "@jupyter-widgets/controls",
       "_model_module_version": "2.0.0",
       "_model_name": "HTMLModel",
       "_view_count": null,
       "_view_module": "@jupyter-widgets/controls",
       "_view_module_version": "2.0.0",
       "_view_name": "HTMLView",
       "description": "",
       "description_allow_html": false,
       "layout": "IPY_MODEL_8e2f17f9ff2048b0a31abbcc3be99be9",
       "placeholder": "​",
       "style": "IPY_MODEL_993e5ad68a83480ca9111fef576b5ed7",
       "tabbable": null,
       "tooltip": null,
       "value": "Resolving data files: 100%"
      }
     },
     "888ef0ebd25f4f5cbde967a6b13f1ee6": {
      "model_module": "@jupyter-widgets/controls",
      "model_module_version": "2.0.0",
      "model_name": "HBoxModel",
      "state": {
       "_dom_classes": [],
       "_model_module": "@jupyter-widgets/controls",
       "_model_module_version": "2.0.0",
       "_model_name": "HBoxModel",
       "_view_count": null,
       "_view_module": "@jupyter-widgets/controls",
       "_view_module_version": "2.0.0",
       "_view_name": "HBoxView",
       "box_style": "",
       "children": [
        "IPY_MODEL_7719ced9a8744c75889bd16a4d7609af",
        "IPY_MODEL_ac0e934cdc754e7a80538db71b044de4",
        "IPY_MODEL_1c3a77883d3a42f5be6c60b3f5a19c06"
       ],
       "layout": "IPY_MODEL_8a29e5e3ccbf44f092897c102fd5bc22",
       "tabbable": null,
       "tooltip": null
      }
     },
     "8a29e5e3ccbf44f092897c102fd5bc22": {
      "model_module": "@jupyter-widgets/base",
      "model_module_version": "2.0.0",
      "model_name": "LayoutModel",
      "state": {
       "_model_module": "@jupyter-widgets/base",
       "_model_module_version": "2.0.0",
       "_model_name": "LayoutModel",
       "_view_count": null,
       "_view_module": "@jupyter-widgets/base",
       "_view_module_version": "2.0.0",
       "_view_name": "LayoutView",
       "align_content": null,
       "align_items": null,
       "align_self": null,
       "border_bottom": null,
       "border_left": null,
       "border_right": null,
       "border_top": null,
       "bottom": null,
       "display": null,
       "flex": null,
       "flex_flow": null,
       "grid_area": null,
       "grid_auto_columns": null,
       "grid_auto_flow": null,
       "grid_auto_rows": null,
       "grid_column": null,
       "grid_gap": null,
       "grid_row": null,
       "grid_template_areas": null,
       "grid_template_columns": null,
       "grid_template_rows": null,
       "height": null,
       "justify_content": null,
       "justify_items": null,
       "left": null,
       "margin": null,
       "max_height": null,
       "max_width": null,
       "min_height": null,
       "min_width": null,
       "object_fit": null,
       "object_position": null,
       "order": null,
       "overflow": null,
       "padding": null,
       "right": null,
       "top": null,
       "visibility": null,
       "width": null
      }
     },
     "8e2f17f9ff2048b0a31abbcc3be99be9": {
      "model_module": "@jupyter-widgets/base",
      "model_module_version": "2.0.0",
      "model_name": "LayoutModel",
      "state": {
       "_model_module": "@jupyter-widgets/base",
       "_model_module_version": "2.0.0",
       "_model_name": "LayoutModel",
       "_view_count": null,
       "_view_module": "@jupyter-widgets/base",
       "_view_module_version": "2.0.0",
       "_view_name": "LayoutView",
       "align_content": null,
       "align_items": null,
       "align_self": null,
       "border_bottom": null,
       "border_left": null,
       "border_right": null,
       "border_top": null,
       "bottom": null,
       "display": null,
       "flex": null,
       "flex_flow": null,
       "grid_area": null,
       "grid_auto_columns": null,
       "grid_auto_flow": null,
       "grid_auto_rows": null,
       "grid_column": null,
       "grid_gap": null,
       "grid_row": null,
       "grid_template_areas": null,
       "grid_template_columns": null,
       "grid_template_rows": null,
       "height": null,
       "justify_content": null,
       "justify_items": null,
       "left": null,
       "margin": null,
       "max_height": null,
       "max_width": null,
       "min_height": null,
       "min_width": null,
       "object_fit": null,
       "object_position": null,
       "order": null,
       "overflow": null,
       "padding": null,
       "right": null,
       "top": null,
       "visibility": null,
       "width": null
      }
     },
     "8ea91fb80b8a4e839742bd9a35595188": {
      "model_module": "@jupyter-widgets/base",
      "model_module_version": "2.0.0",
      "model_name": "LayoutModel",
      "state": {
       "_model_module": "@jupyter-widgets/base",
       "_model_module_version": "2.0.0",
       "_model_name": "LayoutModel",
       "_view_count": null,
       "_view_module": "@jupyter-widgets/base",
       "_view_module_version": "2.0.0",
       "_view_name": "LayoutView",
       "align_content": null,
       "align_items": null,
       "align_self": null,
       "border_bottom": null,
       "border_left": null,
       "border_right": null,
       "border_top": null,
       "bottom": null,
       "display": null,
       "flex": null,
       "flex_flow": null,
       "grid_area": null,
       "grid_auto_columns": null,
       "grid_auto_flow": null,
       "grid_auto_rows": null,
       "grid_column": null,
       "grid_gap": null,
       "grid_row": null,
       "grid_template_areas": null,
       "grid_template_columns": null,
       "grid_template_rows": null,
       "height": null,
       "justify_content": null,
       "justify_items": null,
       "left": null,
       "margin": null,
       "max_height": null,
       "max_width": null,
       "min_height": null,
       "min_width": null,
       "object_fit": null,
       "object_position": null,
       "order": null,
       "overflow": null,
       "padding": null,
       "right": null,
       "top": null,
       "visibility": null,
       "width": null
      }
     },
     "90f11847a97d416e8fff1db7550383ea": {
      "model_module": "@jupyter-widgets/controls",
      "model_module_version": "2.0.0",
      "model_name": "HTMLModel",
      "state": {
       "_dom_classes": [],
       "_model_module": "@jupyter-widgets/controls",
       "_model_module_version": "2.0.0",
       "_model_name": "HTMLModel",
       "_view_count": null,
       "_view_module": "@jupyter-widgets/controls",
       "_view_module_version": "2.0.0",
       "_view_name": "HTMLView",
       "description": "",
       "description_allow_html": false,
       "layout": "IPY_MODEL_9f2baedfa74840cab3166a96fe3b248d",
       "placeholder": "​",
       "style": "IPY_MODEL_7de110b7ce5f446c804b610b925f5111",
       "tabbable": null,
       "tooltip": null,
       "value": " 720/0 [00:00&lt;00:00, 1858.60 examples/s]"
      }
     },
     "957426a8a9104ce7bf2664ffddc672ea": {
      "model_module": "@jupyter-widgets/controls",
      "model_module_version": "2.0.0",
      "model_name": "ProgressStyleModel",
      "state": {
       "_model_module": "@jupyter-widgets/controls",
       "_model_module_version": "2.0.0",
       "_model_name": "ProgressStyleModel",
       "_view_count": null,
       "_view_module": "@jupyter-widgets/base",
       "_view_module_version": "2.0.0",
       "_view_name": "StyleView",
       "bar_color": null,
       "description_width": ""
      }
     },
     "993e5ad68a83480ca9111fef576b5ed7": {
      "model_module": "@jupyter-widgets/controls",
      "model_module_version": "2.0.0",
      "model_name": "HTMLStyleModel",
      "state": {
       "_model_module": "@jupyter-widgets/controls",
       "_model_module_version": "2.0.0",
       "_model_name": "HTMLStyleModel",
       "_view_count": null,
       "_view_module": "@jupyter-widgets/base",
       "_view_module_version": "2.0.0",
       "_view_name": "StyleView",
       "background": null,
       "description_width": "",
       "font_size": null,
       "text_color": null
      }
     },
     "9c5e744f1ab94db185cbf9b76654ad7a": {
      "model_module": "@jupyter-widgets/base",
      "model_module_version": "2.0.0",
      "model_name": "LayoutModel",
      "state": {
       "_model_module": "@jupyter-widgets/base",
       "_model_module_version": "2.0.0",
       "_model_name": "LayoutModel",
       "_view_count": null,
       "_view_module": "@jupyter-widgets/base",
       "_view_module_version": "2.0.0",
       "_view_name": "LayoutView",
       "align_content": null,
       "align_items": null,
       "align_self": null,
       "border_bottom": null,
       "border_left": null,
       "border_right": null,
       "border_top": null,
       "bottom": null,
       "display": null,
       "flex": null,
       "flex_flow": null,
       "grid_area": null,
       "grid_auto_columns": null,
       "grid_auto_flow": null,
       "grid_auto_rows": null,
       "grid_column": null,
       "grid_gap": null,
       "grid_row": null,
       "grid_template_areas": null,
       "grid_template_columns": null,
       "grid_template_rows": null,
       "height": null,
       "justify_content": null,
       "justify_items": null,
       "left": null,
       "margin": null,
       "max_height": null,
       "max_width": null,
       "min_height": null,
       "min_width": null,
       "object_fit": null,
       "object_position": null,
       "order": null,
       "overflow": null,
       "padding": null,
       "right": null,
       "top": null,
       "visibility": null,
       "width": null
      }
     },
     "9c8ee20362a64ee3a155593e154ba60d": {
      "model_module": "@jupyter-widgets/controls",
      "model_module_version": "2.0.0",
      "model_name": "HTMLModel",
      "state": {
       "_dom_classes": [],
       "_model_module": "@jupyter-widgets/controls",
       "_model_module_version": "2.0.0",
       "_model_name": "HTMLModel",
       "_view_count": null,
       "_view_module": "@jupyter-widgets/controls",
       "_view_module_version": "2.0.0",
       "_view_name": "HTMLView",
       "description": "",
       "description_allow_html": false,
       "layout": "IPY_MODEL_3ab6ded35d2443fc9beaad845d3e3004",
       "placeholder": "​",
       "style": "IPY_MODEL_d52a87d3530944a49196a972b5e6f7f7",
       "tabbable": null,
       "tooltip": null,
       "value": " 71/71 [00:00&lt;00:00, 7211.94it/s]"
      }
     },
     "9d3e98fcfe3544f898d1615aa151492c": {
      "model_module": "@jupyter-widgets/controls",
      "model_module_version": "2.0.0",
      "model_name": "HBoxModel",
      "state": {
       "_dom_classes": [],
       "_model_module": "@jupyter-widgets/controls",
       "_model_module_version": "2.0.0",
       "_model_name": "HBoxModel",
       "_view_count": null,
       "_view_module": "@jupyter-widgets/controls",
       "_view_module_version": "2.0.0",
       "_view_name": "HBoxView",
       "box_style": "",
       "children": [
        "IPY_MODEL_f38f57858e9140d7ba73dcc6f250e6f8",
        "IPY_MODEL_ff51c75e84004254b94a38331acf29c4",
        "IPY_MODEL_90f11847a97d416e8fff1db7550383ea"
       ],
       "layout": "IPY_MODEL_10f8f44619c4439b912b1d67b61c0158",
       "tabbable": null,
       "tooltip": null
      }
     },
     "9f2baedfa74840cab3166a96fe3b248d": {
      "model_module": "@jupyter-widgets/base",
      "model_module_version": "2.0.0",
      "model_name": "LayoutModel",
      "state": {
       "_model_module": "@jupyter-widgets/base",
       "_model_module_version": "2.0.0",
       "_model_name": "LayoutModel",
       "_view_count": null,
       "_view_module": "@jupyter-widgets/base",
       "_view_module_version": "2.0.0",
       "_view_name": "LayoutView",
       "align_content": null,
       "align_items": null,
       "align_self": null,
       "border_bottom": null,
       "border_left": null,
       "border_right": null,
       "border_top": null,
       "bottom": null,
       "display": null,
       "flex": null,
       "flex_flow": null,
       "grid_area": null,
       "grid_auto_columns": null,
       "grid_auto_flow": null,
       "grid_auto_rows": null,
       "grid_column": null,
       "grid_gap": null,
       "grid_row": null,
       "grid_template_areas": null,
       "grid_template_columns": null,
       "grid_template_rows": null,
       "height": null,
       "justify_content": null,
       "justify_items": null,
       "left": null,
       "margin": null,
       "max_height": null,
       "max_width": null,
       "min_height": null,
       "min_width": null,
       "object_fit": null,
       "object_position": null,
       "order": null,
       "overflow": null,
       "padding": null,
       "right": null,
       "top": null,
       "visibility": null,
       "width": null
      }
     },
     "abdeaa6d27d049f6a6c9a8b81d4cde26": {
      "model_module": "@jupyter-widgets/base",
      "model_module_version": "2.0.0",
      "model_name": "LayoutModel",
      "state": {
       "_model_module": "@jupyter-widgets/base",
       "_model_module_version": "2.0.0",
       "_model_name": "LayoutModel",
       "_view_count": null,
       "_view_module": "@jupyter-widgets/base",
       "_view_module_version": "2.0.0",
       "_view_name": "LayoutView",
       "align_content": null,
       "align_items": null,
       "align_self": null,
       "border_bottom": null,
       "border_left": null,
       "border_right": null,
       "border_top": null,
       "bottom": null,
       "display": null,
       "flex": null,
       "flex_flow": null,
       "grid_area": null,
       "grid_auto_columns": null,
       "grid_auto_flow": null,
       "grid_auto_rows": null,
       "grid_column": null,
       "grid_gap": null,
       "grid_row": null,
       "grid_template_areas": null,
       "grid_template_columns": null,
       "grid_template_rows": null,
       "height": null,
       "justify_content": null,
       "justify_items": null,
       "left": null,
       "margin": null,
       "max_height": null,
       "max_width": null,
       "min_height": null,
       "min_width": null,
       "object_fit": null,
       "object_position": null,
       "order": null,
       "overflow": null,
       "padding": null,
       "right": null,
       "top": null,
       "visibility": null,
       "width": null
      }
     },
     "ac0e934cdc754e7a80538db71b044de4": {
      "model_module": "@jupyter-widgets/controls",
      "model_module_version": "2.0.0",
      "model_name": "FloatProgressModel",
      "state": {
       "_dom_classes": [],
       "_model_module": "@jupyter-widgets/controls",
       "_model_module_version": "2.0.0",
       "_model_name": "FloatProgressModel",
       "_view_count": null,
       "_view_module": "@jupyter-widgets/controls",
       "_view_module_version": "2.0.0",
       "_view_name": "ProgressView",
       "bar_style": "success",
       "description": "",
       "description_allow_html": false,
       "layout": "IPY_MODEL_846a22b84af84007aa6e71a380f772ee",
       "max": 71.0,
       "min": 0.0,
       "orientation": "horizontal",
       "style": "IPY_MODEL_7bf17271453944bda07a2cbc7fe4413a",
       "tabbable": null,
       "tooltip": null,
       "value": 71.0
      }
     },
     "b6a7963a52d04c369a7909c5e151f50b": {
      "model_module": "@jupyter-widgets/base",
      "model_module_version": "2.0.0",
      "model_name": "LayoutModel",
      "state": {
       "_model_module": "@jupyter-widgets/base",
       "_model_module_version": "2.0.0",
       "_model_name": "LayoutModel",
       "_view_count": null,
       "_view_module": "@jupyter-widgets/base",
       "_view_module_version": "2.0.0",
       "_view_name": "LayoutView",
       "align_content": null,
       "align_items": null,
       "align_self": null,
       "border_bottom": null,
       "border_left": null,
       "border_right": null,
       "border_top": null,
       "bottom": null,
       "display": null,
       "flex": null,
       "flex_flow": null,
       "grid_area": null,
       "grid_auto_columns": null,
       "grid_auto_flow": null,
       "grid_auto_rows": null,
       "grid_column": null,
       "grid_gap": null,
       "grid_row": null,
       "grid_template_areas": null,
       "grid_template_columns": null,
       "grid_template_rows": null,
       "height": null,
       "justify_content": null,
       "justify_items": null,
       "left": null,
       "margin": null,
       "max_height": null,
       "max_width": null,
       "min_height": null,
       "min_width": null,
       "object_fit": null,
       "object_position": null,
       "order": null,
       "overflow": null,
       "padding": null,
       "right": null,
       "top": null,
       "visibility": null,
       "width": null
      }
     },
     "b87d940cf5984069ad44f54bfca58769": {
      "model_module": "@jupyter-widgets/controls",
      "model_module_version": "2.0.0",
      "model_name": "ProgressStyleModel",
      "state": {
       "_model_module": "@jupyter-widgets/controls",
       "_model_module_version": "2.0.0",
       "_model_name": "ProgressStyleModel",
       "_view_count": null,
       "_view_module": "@jupyter-widgets/base",
       "_view_module_version": "2.0.0",
       "_view_name": "StyleView",
       "bar_color": null,
       "description_width": ""
      }
     },
     "ba78f7e00737448ba31f9eb462593ce5": {
      "model_module": "@jupyter-widgets/base",
      "model_module_version": "2.0.0",
      "model_name": "LayoutModel",
      "state": {
       "_model_module": "@jupyter-widgets/base",
       "_model_module_version": "2.0.0",
       "_model_name": "LayoutModel",
       "_view_count": null,
       "_view_module": "@jupyter-widgets/base",
       "_view_module_version": "2.0.0",
       "_view_name": "LayoutView",
       "align_content": null,
       "align_items": null,
       "align_self": null,
       "border_bottom": null,
       "border_left": null,
       "border_right": null,
       "border_top": null,
       "bottom": null,
       "display": null,
       "flex": null,
       "flex_flow": null,
       "grid_area": null,
       "grid_auto_columns": null,
       "grid_auto_flow": null,
       "grid_auto_rows": null,
       "grid_column": null,
       "grid_gap": null,
       "grid_row": null,
       "grid_template_areas": null,
       "grid_template_columns": null,
       "grid_template_rows": null,
       "height": null,
       "justify_content": null,
       "justify_items": null,
       "left": null,
       "margin": null,
       "max_height": null,
       "max_width": null,
       "min_height": null,
       "min_width": null,
       "object_fit": null,
       "object_position": null,
       "order": null,
       "overflow": null,
       "padding": null,
       "right": null,
       "top": null,
       "visibility": null,
       "width": null
      }
     },
     "bea94640bdaa4b9d8d0e05ddb4d717cd": {
      "model_module": "@jupyter-widgets/controls",
      "model_module_version": "2.0.0",
      "model_name": "HTMLStyleModel",
      "state": {
       "_model_module": "@jupyter-widgets/controls",
       "_model_module_version": "2.0.0",
       "_model_name": "HTMLStyleModel",
       "_view_count": null,
       "_view_module": "@jupyter-widgets/base",
       "_view_module_version": "2.0.0",
       "_view_name": "StyleView",
       "background": null,
       "description_width": "",
       "font_size": null,
       "text_color": null
      }
     },
     "d25c188b3523429d9d9f7e5039a0abf7": {
      "model_module": "@jupyter-widgets/controls",
      "model_module_version": "2.0.0",
      "model_name": "HBoxModel",
      "state": {
       "_dom_classes": [],
       "_model_module": "@jupyter-widgets/controls",
       "_model_module_version": "2.0.0",
       "_model_name": "HBoxModel",
       "_view_count": null,
       "_view_module": "@jupyter-widgets/controls",
       "_view_module_version": "2.0.0",
       "_view_name": "HBoxView",
       "box_style": "",
       "children": [
        "IPY_MODEL_8477ca706a7540a8bb41f8888c2dcf17",
        "IPY_MODEL_d432d8eec893435c82b38f23257e83d1",
        "IPY_MODEL_2b1fcb4c771644c1a9e210b6b2013eb4"
       ],
       "layout": "IPY_MODEL_ba78f7e00737448ba31f9eb462593ce5",
       "tabbable": null,
       "tooltip": null
      }
     },
     "d432d8eec893435c82b38f23257e83d1": {
      "model_module": "@jupyter-widgets/controls",
      "model_module_version": "2.0.0",
      "model_name": "FloatProgressModel",
      "state": {
       "_dom_classes": [],
       "_model_module": "@jupyter-widgets/controls",
       "_model_module_version": "2.0.0",
       "_model_name": "FloatProgressModel",
       "_view_count": null,
       "_view_module": "@jupyter-widgets/controls",
       "_view_module_version": "2.0.0",
       "_view_name": "ProgressView",
       "bar_style": "success",
       "description": "",
       "description_allow_html": false,
       "layout": "IPY_MODEL_1c7310a201b24028a3250ae2de6378c5",
       "max": 71.0,
       "min": 0.0,
       "orientation": "horizontal",
       "style": "IPY_MODEL_b87d940cf5984069ad44f54bfca58769",
       "tabbable": null,
       "tooltip": null,
       "value": 71.0
      }
     },
     "d52a87d3530944a49196a972b5e6f7f7": {
      "model_module": "@jupyter-widgets/controls",
      "model_module_version": "2.0.0",
      "model_name": "HTMLStyleModel",
      "state": {
       "_model_module": "@jupyter-widgets/controls",
       "_model_module_version": "2.0.0",
       "_model_name": "HTMLStyleModel",
       "_view_count": null,
       "_view_module": "@jupyter-widgets/base",
       "_view_module_version": "2.0.0",
       "_view_name": "StyleView",
       "background": null,
       "description_width": "",
       "font_size": null,
       "text_color": null
      }
     },
     "ecc8d49ac5894f128c101d5dd9759907": {
      "model_module": "@jupyter-widgets/controls",
      "model_module_version": "2.0.0",
      "model_name": "HBoxModel",
      "state": {
       "_dom_classes": [],
       "_model_module": "@jupyter-widgets/controls",
       "_model_module_version": "2.0.0",
       "_model_name": "HBoxModel",
       "_view_count": null,
       "_view_module": "@jupyter-widgets/controls",
       "_view_module_version": "2.0.0",
       "_view_name": "HBoxView",
       "box_style": "",
       "children": [
        "IPY_MODEL_000dd8d9345a4294870d5036acc18c89",
        "IPY_MODEL_f7918b235d074530bd8b14487e4bdf13",
        "IPY_MODEL_9c8ee20362a64ee3a155593e154ba60d"
       ],
       "layout": "IPY_MODEL_8ea91fb80b8a4e839742bd9a35595188",
       "tabbable": null,
       "tooltip": null
      }
     },
     "f38f57858e9140d7ba73dcc6f250e6f8": {
      "model_module": "@jupyter-widgets/controls",
      "model_module_version": "2.0.0",
      "model_name": "HTMLModel",
      "state": {
       "_dom_classes": [],
       "_model_module": "@jupyter-widgets/controls",
       "_model_module_version": "2.0.0",
       "_model_name": "HTMLModel",
       "_view_count": null,
       "_view_module": "@jupyter-widgets/controls",
       "_view_module_version": "2.0.0",
       "_view_name": "HTMLView",
       "description": "",
       "description_allow_html": false,
       "layout": "IPY_MODEL_24d0c727f5184ea89acbeec1655f71eb",
       "placeholder": "​",
       "style": "IPY_MODEL_26d3194d265640d6b8be735bf2d612f4",
       "tabbable": null,
       "tooltip": null,
       "value": "Generating train split: "
      }
     },
     "f5489f75d79e4cf8b3ef32f599c49538": {
      "model_module": "@jupyter-widgets/controls",
      "model_module_version": "2.0.0",
      "model_name": "HTMLStyleModel",
      "state": {
       "_model_module": "@jupyter-widgets/controls",
       "_model_module_version": "2.0.0",
       "_model_name": "HTMLStyleModel",
       "_view_count": null,
       "_view_module": "@jupyter-widgets/base",
       "_view_module_version": "2.0.0",
       "_view_name": "StyleView",
       "background": null,
       "description_width": "",
       "font_size": null,
       "text_color": null
      }
     },
     "f68ce27f84464dfeb694e0855545e500": {
      "model_module": "@jupyter-widgets/controls",
      "model_module_version": "2.0.0",
      "model_name": "ProgressStyleModel",
      "state": {
       "_model_module": "@jupyter-widgets/controls",
       "_model_module_version": "2.0.0",
       "_model_name": "ProgressStyleModel",
       "_view_count": null,
       "_view_module": "@jupyter-widgets/base",
       "_view_module_version": "2.0.0",
       "_view_name": "StyleView",
       "bar_color": null,
       "description_width": ""
      }
     },
     "f7918b235d074530bd8b14487e4bdf13": {
      "model_module": "@jupyter-widgets/controls",
      "model_module_version": "2.0.0",
      "model_name": "FloatProgressModel",
      "state": {
       "_dom_classes": [],
       "_model_module": "@jupyter-widgets/controls",
       "_model_module_version": "2.0.0",
       "_model_name": "FloatProgressModel",
       "_view_count": null,
       "_view_module": "@jupyter-widgets/controls",
       "_view_module_version": "2.0.0",
       "_view_name": "ProgressView",
       "bar_style": "success",
       "description": "",
       "description_allow_html": false,
       "layout": "IPY_MODEL_9c5e744f1ab94db185cbf9b76654ad7a",
       "max": 71.0,
       "min": 0.0,
       "orientation": "horizontal",
       "style": "IPY_MODEL_957426a8a9104ce7bf2664ffddc672ea",
       "tabbable": null,
       "tooltip": null,
       "value": 71.0
      }
     },
     "ff51c75e84004254b94a38331acf29c4": {
      "model_module": "@jupyter-widgets/controls",
      "model_module_version": "2.0.0",
      "model_name": "FloatProgressModel",
      "state": {
       "_dom_classes": [],
       "_model_module": "@jupyter-widgets/controls",
       "_model_module_version": "2.0.0",
       "_model_name": "FloatProgressModel",
       "_view_count": null,
       "_view_module": "@jupyter-widgets/controls",
       "_view_module_version": "2.0.0",
       "_view_name": "ProgressView",
       "bar_style": "success",
       "description": "",
       "description_allow_html": false,
       "layout": "IPY_MODEL_45dc7d2bf7d544ddb1d1b299ab512293",
       "max": 1.0,
       "min": 0.0,
       "orientation": "horizontal",
       "style": "IPY_MODEL_f68ce27f84464dfeb694e0855545e500",
       "tabbable": null,
       "tooltip": null,
       "value": 1.0
      }
     }
    },
    "version_major": 2,
    "version_minor": 0
   }
  }
 },
 "nbformat": 4,
 "nbformat_minor": 5
}
