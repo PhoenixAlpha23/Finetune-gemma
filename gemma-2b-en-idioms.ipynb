{
 "cells": [
  {
   "cell_type": "markdown",
   "id": "cebb235b",
   "metadata": {
    "papermill": {
     "duration": 0.004653,
     "end_time": "2024-12-25T15:31:26.256715",
     "exception": false,
     "start_time": "2024-12-25T15:31:26.252062",
     "status": "completed"
    },
    "tags": []
   },
   "source": [
    "## Import Dataset and Gemma-2b-en model.\n",
    "This dataset consists of 10 idioms samples from each language mentioned in the competition description.\n",
    "MY aim with this fine-tuning approach was to create a version of gemma which can understand the complexity of idioms and replicate them based on inputs."
   ]
  },
  {
   "cell_type": "code",
   "execution_count": 1,
   "id": "8941d58e",
   "metadata": {
    "_cell_guid": "b1076dfc-b9ad-4769-8c92-a6c4dae69d19",
    "_kg_hide-output": true,
    "_uuid": "8f2839f25d086af736a60e9eeb907d3b93b6e0e5",
    "execution": {
     "iopub.execute_input": "2024-12-25T15:31:26.265224Z",
     "iopub.status.busy": "2024-12-25T15:31:26.264944Z",
     "iopub.status.idle": "2024-12-25T15:31:27.038935Z",
     "shell.execute_reply": "2024-12-25T15:31:27.037893Z"
    },
    "papermill": {
     "duration": 0.779725,
     "end_time": "2024-12-25T15:31:27.040325",
     "exception": false,
     "start_time": "2024-12-25T15:31:26.260600",
     "status": "completed"
    },
    "scrolled": true,
    "tags": []
   },
   "outputs": [
    {
     "name": "stdout",
     "output_type": "stream",
     "text": [
      "/kaggle/input/multilingual-idioms-indian/Gemma/burmese.json\n",
      "/kaggle/input/multilingual-idioms-indian/Gemma/malayalam.json\n",
      "/kaggle/input/multilingual-idioms-indian/Gemma/nepali.json\n",
      "/kaggle/input/multilingual-idioms-indian/Gemma/catalan.json\n",
      "/kaggle/input/multilingual-idioms-indian/Gemma/hindi.json\n",
      "/kaggle/input/multilingual-idioms-indian/Gemma/croatian.json\n",
      "/kaggle/input/multilingual-idioms-indian/Gemma/slovak.json\n",
      "/kaggle/input/multilingual-idioms-indian/Gemma/finnish.json\n",
      "/kaggle/input/multilingual-idioms-indian/Gemma/icelandic.json\n",
      "/kaggle/input/multilingual-idioms-indian/Gemma/ukrainian.json\n",
      "/kaggle/input/multilingual-idioms-indian/Gemma/thai.json\n",
      "/kaggle/input/multilingual-idioms-indian/Gemma/swahili.json\n",
      "/kaggle/input/multilingual-idioms-indian/Gemma/punjabi.json\n",
      "/kaggle/input/multilingual-idioms-indian/Gemma/kyrgyz.json\n",
      "/kaggle/input/multilingual-idioms-indian/Gemma/bengali(bangla).json\n",
      "/kaggle/input/multilingual-idioms-indian/Gemma/gujrati.json\n",
      "/kaggle/input/multilingual-idioms-indian/Gemma/indonesian.json\n",
      "/kaggle/input/multilingual-idioms-indian/Gemma/khmer.json\n",
      "/kaggle/input/multilingual-idioms-indian/Gemma/russian.json\n",
      "/kaggle/input/multilingual-idioms-indian/Gemma/sinhala.json\n",
      "/kaggle/input/multilingual-idioms-indian/Gemma/marathi.json\n",
      "/kaggle/input/multilingual-idioms-indian/Gemma/latvian.json\n",
      "/kaggle/input/multilingual-idioms-indian/Gemma/filipino.json\n",
      "/kaggle/input/multilingual-idioms-indian/Gemma/portuguese.json\n",
      "/kaggle/input/multilingual-idioms-indian/Gemma/swedish.json\n",
      "/kaggle/input/multilingual-idioms-indian/Gemma/hungarian.json\n",
      "/kaggle/input/multilingual-idioms-indian/Gemma/kannada.json\n",
      "/kaggle/input/multilingual-idioms-indian/Gemma/kazakh.json\n",
      "/kaggle/input/multilingual-idioms-indian/Gemma/uzbek.json\n",
      "/kaggle/input/multilingual-idioms-indian/Gemma/macedonian.json\n",
      "/kaggle/input/multilingual-idioms-indian/Gemma/slovenian.json\n",
      "/kaggle/input/multilingual-idioms-indian/Gemma/telugu.json\n",
      "/kaggle/input/multilingual-idioms-indian/Gemma/bulgarian.json\n",
      "/kaggle/input/multilingual-idioms-indian/Gemma/mongolian.json\n",
      "/kaggle/input/multilingual-idioms-indian/Gemma/english(british).json\n",
      "/kaggle/input/multilingual-idioms-indian/Gemma/spanish(latin-american).json\n",
      "/kaggle/input/multilingual-idioms-indian/Gemma/turkish.json\n",
      "/kaggle/input/multilingual-idioms-indian/Gemma/czech.json\n",
      "/kaggle/input/multilingual-idioms-indian/Gemma/english.json\n",
      "/kaggle/input/multilingual-idioms-indian/Gemma/Chinese(traditional).json\n",
      "/kaggle/input/multilingual-idioms-indian/Gemma/armenian.json\n",
      "/kaggle/input/multilingual-idioms-indian/Gemma/italian.json\n",
      "/kaggle/input/multilingual-idioms-indian/Gemma/japanese.json\n",
      "/kaggle/input/multilingual-idioms-indian/Gemma/german.json\n",
      "/kaggle/input/multilingual-idioms-indian/Gemma/albanian.json\n",
      "/kaggle/input/multilingual-idioms-indian/Gemma/dutch.json\n",
      "/kaggle/input/multilingual-idioms-indian/Gemma/polish.json\n",
      "/kaggle/input/multilingual-idioms-indian/Gemma/malay.json\n",
      "/kaggle/input/multilingual-idioms-indian/Gemma/french(european).json\n",
      "/kaggle/input/multilingual-idioms-indian/Gemma/lao.json\n",
      "/kaggle/input/multilingual-idioms-indian/Gemma/persian.json\n",
      "/kaggle/input/multilingual-idioms-indian/Gemma/vietnamese.json\n",
      "/kaggle/input/multilingual-idioms-indian/Gemma/romanian.json\n",
      "/kaggle/input/multilingual-idioms-indian/Gemma/serbian.json\n",
      "/kaggle/input/multilingual-idioms-indian/Gemma/tamil.json\n",
      "/kaggle/input/multilingual-idioms-indian/Gemma/hebrew.json\n",
      "/kaggle/input/multilingual-idioms-indian/Gemma/azerbaijani.json\n",
      "/kaggle/input/multilingual-idioms-indian/Gemma/estonian.json\n",
      "/kaggle/input/multilingual-idioms-indian/Gemma/spanish(european).json\n",
      "/kaggle/input/multilingual-idioms-indian/Gemma/portuguese(european).json\n",
      "/kaggle/input/multilingual-idioms-indian/Gemma/korean.json\n",
      "/kaggle/input/multilingual-idioms-indian/Gemma/lithuanian.json\n",
      "/kaggle/input/multilingual-idioms-indian/Gemma/norwegian(Bokml).json\n",
      "/kaggle/input/multilingual-idioms-indian/Gemma/Chinese(simplified).json\n",
      "/kaggle/input/multilingual-idioms-indian/Gemma/greek.json\n",
      "/kaggle/input/multilingual-idioms-indian/Gemma/serbian(latin).json\n",
      "/kaggle/input/multilingual-idioms-indian/Gemma/danish.json\n",
      "/kaggle/input/multilingual-idioms-indian/Gemma/urdu.json\n",
      "/kaggle/input/multilingual-idioms-indian/Gemma/afrikaans.json\n",
      "/kaggle/input/multilingual-idioms-indian/Gemma/georgian.json\n",
      "/kaggle/input/multilingual-idioms-indian/Gemma/Arabic(modern standard).json\n",
      "/kaggle/input/gemma2/keras/gemma2_2b_en/1/config.json\n",
      "/kaggle/input/gemma2/keras/gemma2_2b_en/1/tokenizer.json\n",
      "/kaggle/input/gemma2/keras/gemma2_2b_en/1/metadata.json\n",
      "/kaggle/input/gemma2/keras/gemma2_2b_en/1/model.weights.h5\n",
      "/kaggle/input/gemma2/keras/gemma2_2b_en/1/assets/tokenizer/vocabulary.spm\n"
     ]
    }
   ],
   "source": [
    "import pandas as pd # data processing, CSV file I/O (e.g. pd.read_json)\n",
    "\n",
    "import os\n",
    "for dirname, _, filenames in os.walk('/kaggle/input'):\n",
    "    for filename in filenames:\n",
    "        print(os.path.join(dirname, filename))"
   ]
  },
  {
   "cell_type": "markdown",
   "id": "d2dba19d",
   "metadata": {
    "papermill": {
     "duration": 0.00355,
     "end_time": "2024-12-25T15:31:27.048140",
     "exception": false,
     "start_time": "2024-12-25T15:31:27.044590",
     "status": "completed"
    },
    "tags": []
   },
   "source": [
    "You can sample the dataset like this.\n"
   ]
  },
  {
   "cell_type": "code",
   "execution_count": 2,
   "id": "0df2d332",
   "metadata": {
    "execution": {
     "iopub.execute_input": "2024-12-25T15:31:27.056438Z",
     "iopub.status.busy": "2024-12-25T15:31:27.056071Z",
     "iopub.status.idle": "2024-12-25T15:31:27.084424Z",
     "shell.execute_reply": "2024-12-25T15:31:27.083646Z"
    },
    "papermill": {
     "duration": 0.034007,
     "end_time": "2024-12-25T15:31:27.085822",
     "exception": false,
     "start_time": "2024-12-25T15:31:27.051815",
     "status": "completed"
    },
    "tags": []
   },
   "outputs": [
    {
     "data": {
      "text/html": [
       "<div>\n",
       "<style scoped>\n",
       "    .dataframe tbody tr th:only-of-type {\n",
       "        vertical-align: middle;\n",
       "    }\n",
       "\n",
       "    .dataframe tbody tr th {\n",
       "        vertical-align: top;\n",
       "    }\n",
       "\n",
       "    .dataframe thead th {\n",
       "        text-align: right;\n",
       "    }\n",
       "</style>\n",
       "<table border=\"1\" class=\"dataframe\">\n",
       "  <thead>\n",
       "    <tr style=\"text-align: right;\">\n",
       "      <th></th>\n",
       "      <th>idiom</th>\n",
       "      <th>literal_meaning</th>\n",
       "      <th>figurative_meaning</th>\n",
       "      <th>example</th>\n",
       "      <th>language</th>\n",
       "    </tr>\n",
       "  </thead>\n",
       "  <tbody>\n",
       "    <tr>\n",
       "      <th>0</th>\n",
       "      <td>Ateşle oynamak</td>\n",
       "      <td>To play with fire.</td>\n",
       "      <td>To take dangerous risks.</td>\n",
       "      <td>Investing in that company is like ateşle oynamak.</td>\n",
       "      <td>Turkish</td>\n",
       "    </tr>\n",
       "    <tr>\n",
       "      <th>1</th>\n",
       "      <td>Göz var nizam var</td>\n",
       "      <td>There is an eye, there is order.</td>\n",
       "      <td>Things should be done properly.</td>\n",
       "      <td>We need to organize this event well; göz var n...</td>\n",
       "      <td>Turkish</td>\n",
       "    </tr>\n",
       "    <tr>\n",
       "      <th>2</th>\n",
       "      <td>Dost acı söyler</td>\n",
       "      <td>A friend speaks bitterly.</td>\n",
       "      <td>True friends tell the truth, even if it's harsh.</td>\n",
       "      <td>He told me the truth about my performance; dos...</td>\n",
       "      <td>Turkish</td>\n",
       "    </tr>\n",
       "    <tr>\n",
       "      <th>3</th>\n",
       "      <td>Sakla samanı gelir zamanı</td>\n",
       "      <td>Save the straw; its time will come.</td>\n",
       "      <td>Everything has its purpose and time.</td>\n",
       "      <td>You never know when you might need it; sakla s...</td>\n",
       "      <td>Turkish</td>\n",
       "    </tr>\n",
       "    <tr>\n",
       "      <th>4</th>\n",
       "      <td>Bir elin nesi var, iki elin sesi var</td>\n",
       "      <td>What does one hand have? Two hands have a voice.</td>\n",
       "      <td>Teamwork achieves more than individual effort.</td>\n",
       "      <td>Together we can achieve great things; bir elin...</td>\n",
       "      <td>Turkish</td>\n",
       "    </tr>\n",
       "    <tr>\n",
       "      <th>5</th>\n",
       "      <td>Gülü seven dikenine katlanır</td>\n",
       "      <td>He who loves roses must endure its thorns.</td>\n",
       "      <td>Love comes with challenges.</td>\n",
       "      <td>If you want to be in a relationship, remember:...</td>\n",
       "      <td>Turkish</td>\n",
       "    </tr>\n",
       "    <tr>\n",
       "      <th>6</th>\n",
       "      <td>Ayağını yorganına göre uzat</td>\n",
       "      <td>Stretch your leg according to your blanket.</td>\n",
       "      <td>Live within your means.</td>\n",
       "      <td>Don’t spend too much money; ayağını yorganına ...</td>\n",
       "      <td>Turkish</td>\n",
       "    </tr>\n",
       "    <tr>\n",
       "      <th>7</th>\n",
       "      <td>Damlaya damlaya göl olur</td>\n",
       "      <td>Drop by drop, a lake forms.</td>\n",
       "      <td>Small efforts accumulate to create something s...</td>\n",
       "      <td>Keep saving money; damlaya damlaya göl olur.</td>\n",
       "      <td>Turkish</td>\n",
       "    </tr>\n",
       "    <tr>\n",
       "      <th>8</th>\n",
       "      <td>Kervan yolda düzülür</td>\n",
       "      <td>The caravan is arranged on the road.</td>\n",
       "      <td>Plans can be adjusted as you go.</td>\n",
       "      <td>We’ll figure it out along the way; kervan yold...</td>\n",
       "      <td>Turkish</td>\n",
       "    </tr>\n",
       "    <tr>\n",
       "      <th>9</th>\n",
       "      <td>Söz gümüşse, sükût altındır</td>\n",
       "      <td>If speech is silver, silence is golden.</td>\n",
       "      <td>Sometimes it’s better to remain silent.</td>\n",
       "      <td>In some situations, söz gümüşse, sükût altındır.</td>\n",
       "      <td>Turkish</td>\n",
       "    </tr>\n",
       "  </tbody>\n",
       "</table>\n",
       "</div>"
      ],
      "text/plain": [
       "                                  idiom  \\\n",
       "0                        Ateşle oynamak   \n",
       "1                     Göz var nizam var   \n",
       "2                       Dost acı söyler   \n",
       "3             Sakla samanı gelir zamanı   \n",
       "4  Bir elin nesi var, iki elin sesi var   \n",
       "5          Gülü seven dikenine katlanır   \n",
       "6           Ayağını yorganına göre uzat   \n",
       "7              Damlaya damlaya göl olur   \n",
       "8                  Kervan yolda düzülür   \n",
       "9           Söz gümüşse, sükût altındır   \n",
       "\n",
       "                                    literal_meaning  \\\n",
       "0                                To play with fire.   \n",
       "1                  There is an eye, there is order.   \n",
       "2                         A friend speaks bitterly.   \n",
       "3               Save the straw; its time will come.   \n",
       "4  What does one hand have? Two hands have a voice.   \n",
       "5        He who loves roses must endure its thorns.   \n",
       "6       Stretch your leg according to your blanket.   \n",
       "7                       Drop by drop, a lake forms.   \n",
       "8              The caravan is arranged on the road.   \n",
       "9           If speech is silver, silence is golden.   \n",
       "\n",
       "                                  figurative_meaning  \\\n",
       "0                           To take dangerous risks.   \n",
       "1                    Things should be done properly.   \n",
       "2   True friends tell the truth, even if it's harsh.   \n",
       "3               Everything has its purpose and time.   \n",
       "4     Teamwork achieves more than individual effort.   \n",
       "5                        Love comes with challenges.   \n",
       "6                            Live within your means.   \n",
       "7  Small efforts accumulate to create something s...   \n",
       "8                   Plans can be adjusted as you go.   \n",
       "9            Sometimes it’s better to remain silent.   \n",
       "\n",
       "                                             example language  \n",
       "0  Investing in that company is like ateşle oynamak.  Turkish  \n",
       "1  We need to organize this event well; göz var n...  Turkish  \n",
       "2  He told me the truth about my performance; dos...  Turkish  \n",
       "3  You never know when you might need it; sakla s...  Turkish  \n",
       "4  Together we can achieve great things; bir elin...  Turkish  \n",
       "5  If you want to be in a relationship, remember:...  Turkish  \n",
       "6  Don’t spend too much money; ayağını yorganına ...  Turkish  \n",
       "7       Keep saving money; damlaya damlaya göl olur.  Turkish  \n",
       "8  We’ll figure it out along the way; kervan yold...  Turkish  \n",
       "9   In some situations, söz gümüşse, sükût altındır.  Turkish  "
      ]
     },
     "execution_count": 2,
     "metadata": {},
     "output_type": "execute_result"
    }
   ],
   "source": [
    "df= pd.read_json('/kaggle/input/multilingual-idioms-indian/Gemma/turkish.json')\n",
    "df"
   ]
  },
  {
   "cell_type": "markdown",
   "id": "d8449dc8",
   "metadata": {
    "papermill": {
     "duration": 0.003858,
     "end_time": "2024-12-25T15:31:27.093811",
     "exception": false,
     "start_time": "2024-12-25T15:31:27.089953",
     "status": "completed"
    },
    "tags": []
   },
   "source": [
    "# Set up of Environment before loading Gemma Model"
   ]
  },
  {
   "cell_type": "code",
   "execution_count": 3,
   "id": "96a98dfe",
   "metadata": {
    "execution": {
     "iopub.execute_input": "2024-12-25T15:31:27.102503Z",
     "iopub.status.busy": "2024-12-25T15:31:27.102238Z",
     "iopub.status.idle": "2024-12-25T15:31:36.951474Z",
     "shell.execute_reply": "2024-12-25T15:31:36.950270Z"
    },
    "papermill": {
     "duration": 9.855484,
     "end_time": "2024-12-25T15:31:36.953322",
     "exception": false,
     "start_time": "2024-12-25T15:31:27.097838",
     "status": "completed"
    },
    "tags": []
   },
   "outputs": [],
   "source": [
    "!pip install -q -U keras-nlp\n",
    "!pip install -q -U keras>=3"
   ]
  },
  {
   "cell_type": "markdown",
   "id": "145bc921",
   "metadata": {
    "papermill": {
     "duration": 0.003889,
     "end_time": "2024-12-25T15:31:36.961669",
     "exception": false,
     "start_time": "2024-12-25T15:31:36.957780",
     "status": "completed"
    },
    "tags": []
   },
   "source": [
    "**We configure our environment to use JAX as the backend for Keras and to maximize GPU memory allocation for XLA. This is done using the `os.environ` module in Python:**"
   ]
  },
  {
   "cell_type": "code",
   "execution_count": 4,
   "id": "a8db5958",
   "metadata": {
    "execution": {
     "iopub.execute_input": "2024-12-25T15:31:36.970375Z",
     "iopub.status.busy": "2024-12-25T15:31:36.970125Z",
     "iopub.status.idle": "2024-12-25T15:31:36.973655Z",
     "shell.execute_reply": "2024-12-25T15:31:36.973027Z"
    },
    "papermill": {
     "duration": 0.009334,
     "end_time": "2024-12-25T15:31:36.974923",
     "exception": false,
     "start_time": "2024-12-25T15:31:36.965589",
     "status": "completed"
    },
    "tags": []
   },
   "outputs": [],
   "source": [
    "import os\n",
    "\n",
    "os.environ['KERAS_BACKEND'] = 'jax'\n",
    "os.environ[\"XLA_PYTHON_CLIENT_MEM_FRACTION\"]=\"1.00\""
   ]
  },
  {
   "cell_type": "code",
   "execution_count": 5,
   "id": "2da35d57",
   "metadata": {
    "execution": {
     "iopub.execute_input": "2024-12-25T15:31:36.983654Z",
     "iopub.status.busy": "2024-12-25T15:31:36.983394Z",
     "iopub.status.idle": "2024-12-25T15:31:45.655528Z",
     "shell.execute_reply": "2024-12-25T15:31:45.654844Z"
    },
    "papermill": {
     "duration": 8.678213,
     "end_time": "2024-12-25T15:31:45.657144",
     "exception": false,
     "start_time": "2024-12-25T15:31:36.978931",
     "status": "completed"
    },
    "tags": []
   },
   "outputs": [],
   "source": [
    "import keras\n",
    "import keras_nlp"
   ]
  },
  {
   "cell_type": "markdown",
   "id": "e3a5975f",
   "metadata": {
    "papermill": {
     "duration": 0.003932,
     "end_time": "2024-12-25T15:31:45.665417",
     "exception": false,
     "start_time": "2024-12-25T15:31:45.661485",
     "status": "completed"
    },
    "tags": []
   },
   "source": [
    "# Load the dataset"
   ]
  },
  {
   "cell_type": "code",
   "execution_count": 6,
   "id": "d9d23a08",
   "metadata": {
    "execution": {
     "iopub.execute_input": "2024-12-25T15:31:45.674281Z",
     "iopub.status.busy": "2024-12-25T15:31:45.673866Z",
     "iopub.status.idle": "2024-12-25T15:31:47.539227Z",
     "shell.execute_reply": "2024-12-25T15:31:47.538574Z"
    },
    "papermill": {
     "duration": 1.871094,
     "end_time": "2024-12-25T15:31:47.540420",
     "exception": false,
     "start_time": "2024-12-25T15:31:45.669326",
     "status": "completed"
    },
    "tags": []
   },
   "outputs": [
    {
     "data": {
      "application/vnd.jupyter.widget-view+json": {
       "model_id": "a73f162ae78244d88fb46b19f6d07fac",
       "version_major": 2,
       "version_minor": 0
      },
      "text/plain": [
       "Resolving data files:   0%|          | 0/71 [00:00<?, ?it/s]"
      ]
     },
     "metadata": {},
     "output_type": "display_data"
    },
    {
     "data": {
      "application/vnd.jupyter.widget-view+json": {
       "model_id": "be411142bab140308e07c3f9ac4d024b",
       "version_major": 2,
       "version_minor": 0
      },
      "text/plain": [
       "Downloading data:   0%|          | 0/71 [00:00<?, ?files/s]"
      ]
     },
     "metadata": {},
     "output_type": "display_data"
    },
    {
     "data": {
      "application/vnd.jupyter.widget-view+json": {
       "model_id": "a3c019f0604b486f974529ba99737a45",
       "version_major": 2,
       "version_minor": 0
      },
      "text/plain": [
       "Generating train split: 0 examples [00:00, ? examples/s]"
      ]
     },
     "metadata": {},
     "output_type": "display_data"
    }
   ],
   "source": [
    "from datasets import load_dataset\n",
    "\n",
    "ds = load_dataset(\"json\",data_files='/kaggle/input/multilingual-idioms-indian/Gemma/*.json')"
   ]
  },
  {
   "cell_type": "code",
   "execution_count": 7,
   "id": "9ce58af5",
   "metadata": {
    "execution": {
     "iopub.execute_input": "2024-12-25T15:31:47.550506Z",
     "iopub.status.busy": "2024-12-25T15:31:47.550269Z",
     "iopub.status.idle": "2024-12-25T15:31:47.554663Z",
     "shell.execute_reply": "2024-12-25T15:31:47.553990Z"
    },
    "papermill": {
     "duration": 0.010593,
     "end_time": "2024-12-25T15:31:47.555935",
     "exception": false,
     "start_time": "2024-12-25T15:31:47.545342",
     "status": "completed"
    },
    "tags": []
   },
   "outputs": [
    {
     "data": {
      "text/plain": [
       "DatasetDict({\n",
       "    train: Dataset({\n",
       "        features: ['idiom', 'literal_meaning', 'figurative_meaning', 'example', 'language'],\n",
       "        num_rows: 720\n",
       "    })\n",
       "})"
      ]
     },
     "execution_count": 7,
     "metadata": {},
     "output_type": "execute_result"
    }
   ],
   "source": [
    "##Display dataset summary\n",
    "ds"
   ]
  },
  {
   "cell_type": "code",
   "execution_count": 8,
   "id": "f8e12150",
   "metadata": {
    "execution": {
     "iopub.execute_input": "2024-12-25T15:31:47.565573Z",
     "iopub.status.busy": "2024-12-25T15:31:47.565334Z",
     "iopub.status.idle": "2024-12-25T15:31:47.608073Z",
     "shell.execute_reply": "2024-12-25T15:31:47.606790Z"
    },
    "papermill": {
     "duration": 0.048904,
     "end_time": "2024-12-25T15:31:47.609216",
     "exception": false,
     "start_time": "2024-12-25T15:31:47.560312",
     "status": "completed"
    },
    "tags": []
   },
   "outputs": [
    {
     "name": "stdout",
     "output_type": "stream",
     "text": [
      "First example keys: ['idiom', 'literal_meaning', 'figurative_meaning', 'example', 'language']\n",
      "Example 1:\n",
      "Instruction:\n",
      "Find a suitable idiom for this situation: Sometimes it's better to remain silent than to speak.\n",
      "\n",
      "Response:\n",
      "Idiom : إذا كان الكلام من فضة فالسكوت من ذهب\n",
      "\n",
      "Literal Meaning:If speech is silver, silence is golden.\n",
      "Example Use: In this situation, remember: إذا كان الكلام من فضة فالسكوت من ذهب.\n",
      "Cultural Context: This idiom comes from the Arabic culture.\n",
      "\n",
      "\n",
      "Example 2:\n",
      "Instruction:\n",
      "Find a suitable idiom for this situation: Don't harm what you might need later.\n",
      "\n",
      "Response:\n",
      "Idiom : لا تبصق في البئر\n",
      "\n",
      "Literal Meaning:Don't spit in the well.\n",
      "Example Use: He always remembers not to spit in the well; you never know when you’ll need it.\n",
      "Cultural Context: This idiom comes from the Arabic culture.\n",
      "\n",
      "\n",
      "Example 3:\n",
      "Instruction:\n",
      "Find a suitable idiom for this situation: Hard work leads to success.\n",
      "\n",
      "Response:\n",
      "Idiom : من جد وجد\n",
      "\n",
      "Literal Meaning:He who strives will find.\n",
      "Example Use: He believes that من جد وجد; hard work will pay off in the end.\n",
      "Cultural Context: This idiom comes from the Arabic culture.\n",
      "\n",
      "\n",
      "Example 4:\n",
      "Instruction:\n",
      "Find a suitable idiom for this situation: Time is precious and should be used wisely.\n",
      "\n",
      "Response:\n",
      "Idiom : الوقت كالسيف\n",
      "\n",
      "Literal Meaning:Time is like a sword.\n",
      "Example Use: الوقت كالسيف; if you don’t use it wisely, it will cut you.\n",
      "Cultural Context: This idiom comes from the Arabic culture.\n",
      "\n",
      "\n",
      "Example 5:\n",
      "Instruction:\n",
      "Find a suitable idiom for this situation: Killing two birds with one stone.\n",
      "\n",
      "Response:\n",
      "Idiom : 一箭双雕\n",
      "\n",
      "Literal Meaning:One arrow, two eagles.\n",
      "Example Use: By attending the conference, he networked and learned new skills—he really hit two targets with one arrow.\n",
      "Cultural Context: This idiom comes from the Chinese culture.\n",
      "\n",
      "\n",
      "Example 6:\n",
      "Instruction:\n",
      "Find a suitable idiom for this situation: To ruin something by adding unnecessary details.\n",
      "\n",
      "Response:\n",
      "Idiom : 画蛇添足\n",
      "\n",
      "Literal Meaning:Drawing a snake and adding feet.\n",
      "Example Use: His extra comments on the report were like drawing a snake and adding feet; they weren't needed.\n",
      "Cultural Context: This idiom comes from the Chinese culture.\n",
      "\n",
      "\n"
     ]
    }
   ],
   "source": [
    "from datasets import DatasetDict\n",
    "# Initialize an empty list to store the formatted examples\n",
    "data = []\n",
    "# Access the 'train' split of your dataset\n",
    "train_data = ds[\"train\"]\n",
    "\n",
    "# Add debug printing to see what fields are available\n",
    "print(\"First example keys:\", list(train_data[0].keys()))\n",
    "\n",
    "# Iterate over each example in the dataset\n",
    "for i, example in enumerate(train_data):\n",
    "    try:\n",
    "        # Check if required fields are available and valid\n",
    "        required_fields = [\"idiom\", \"literal_meaning\", \"figurative_meaning\", \"example\"]\n",
    "        \n",
    "        # Print missing fields for debugging\n",
    "        missing_fields = [field for field in required_fields if field not in example]\n",
    "        if missing_fields:\n",
    "            print(f\"Example {i} is missing fields: {missing_fields}\")\n",
    "            continue\n",
    "            \n",
    "        #Template with instruction and response format\n",
    "        template = (\n",
    "        \"Instruction:\\n\"\n",
    "        \"Find a suitable idiom for this situation: {figurative_meaning}\\n\\n\"\n",
    "        \"Response:\\n\"\n",
    "        \"Idiom : {idiom}\\n\\n\"\n",
    "        \"Literal Meaning:{literal_meaning}\\n\"\n",
    "        \"Example Use: {example}\\n\"\n",
    "        \"Cultural Context: This idiom comes from the {language} culture.\\n\"\n",
    "        )\n",
    "        \n",
    "        # Format the example and add it to the data list\n",
    "        formatted_example = template.format(**example)\n",
    "        data.append(formatted_example)\n",
    "        \n",
    "    except KeyError as e:\n",
    "        print(f\"KeyError in example {i}: {str(e)}\")\n",
    "        print(f\"Available keys: {list(example.keys())}\")\n",
    "        continue\n",
    "\n",
    "# Limit to the first 1000 examples\n",
    "data = data[:1000]\n",
    "\n",
    "# Display some random row of examples, to ensure the data is captured correctly.\n",
    "for i, example in enumerate(data[4:10]):\n",
    "    print(f\"Example {i + 1}:\\n{example}\\n\")"
   ]
  },
  {
   "cell_type": "markdown",
   "id": "67acbac4",
   "metadata": {
    "papermill": {
     "duration": 0.004346,
     "end_time": "2024-12-25T15:31:47.618256",
     "exception": false,
     "start_time": "2024-12-25T15:31:47.613910",
     "status": "completed"
    },
    "tags": []
   },
   "source": [
    "# Load Model"
   ]
  },
  {
   "cell_type": "code",
   "execution_count": 9,
   "id": "ef78c522",
   "metadata": {
    "execution": {
     "iopub.execute_input": "2024-12-25T15:31:47.627828Z",
     "iopub.status.busy": "2024-12-25T15:31:47.627549Z",
     "iopub.status.idle": "2024-12-25T15:32:28.911766Z",
     "shell.execute_reply": "2024-12-25T15:32:28.911002Z"
    },
    "papermill": {
     "duration": 41.290349,
     "end_time": "2024-12-25T15:32:28.912957",
     "exception": false,
     "start_time": "2024-12-25T15:31:47.622608",
     "status": "completed"
    },
    "tags": []
   },
   "outputs": [
    {
     "data": {
      "text/html": [
       "<pre style=\"white-space:pre;overflow-x:auto;line-height:normal;font-family:Menlo,'DejaVu Sans Mono',consolas,'Courier New',monospace\"><span style=\"font-weight: bold\">Preprocessor: \"gemma_causal_lm_preprocessor\"</span>\n",
       "</pre>\n"
      ],
      "text/plain": [
       "\u001b[1mPreprocessor: \"gemma_causal_lm_preprocessor\"\u001b[0m\n"
      ]
     },
     "metadata": {},
     "output_type": "display_data"
    },
    {
     "data": {
      "text/html": [
       "<pre style=\"white-space:pre;overflow-x:auto;line-height:normal;font-family:Menlo,'DejaVu Sans Mono',consolas,'Courier New',monospace\">┏━━━━━━━━━━━━━━━━━━━━━━━━━━━━━━━━━━━━━━━━━━━━━━━━━━━━━━━━━━━━━━━┳━━━━━━━━━━━━━━━━━━━━━━━━━━━━━━━━━━━━━━━━━━┓\n",
       "┃<span style=\"font-weight: bold\"> Layer (type)                                                  </span>┃<span style=\"font-weight: bold\">                                   Config </span>┃\n",
       "┡━━━━━━━━━━━━━━━━━━━━━━━━━━━━━━━━━━━━━━━━━━━━━━━━━━━━━━━━━━━━━━━╇━━━━━━━━━━━━━━━━━━━━━━━━━━━━━━━━━━━━━━━━━━┩\n",
       "│ gemma_tokenizer (<span style=\"color: #0087ff; text-decoration-color: #0087ff\">GemmaTokenizer</span>)                              │                      Vocab size: <span style=\"color: #00af00; text-decoration-color: #00af00\">256,000</span> │\n",
       "└───────────────────────────────────────────────────────────────┴──────────────────────────────────────────┘\n",
       "</pre>\n"
      ],
      "text/plain": [
       "┏━━━━━━━━━━━━━━━━━━━━━━━━━━━━━━━━━━━━━━━━━━━━━━━━━━━━━━━━━━━━━━━┳━━━━━━━━━━━━━━━━━━━━━━━━━━━━━━━━━━━━━━━━━━┓\n",
       "┃\u001b[1m \u001b[0m\u001b[1mLayer (type)                                                 \u001b[0m\u001b[1m \u001b[0m┃\u001b[1m \u001b[0m\u001b[1m                                  Config\u001b[0m\u001b[1m \u001b[0m┃\n",
       "┡━━━━━━━━━━━━━━━━━━━━━━━━━━━━━━━━━━━━━━━━━━━━━━━━━━━━━━━━━━━━━━━╇━━━━━━━━━━━━━━━━━━━━━━━━━━━━━━━━━━━━━━━━━━┩\n",
       "│ gemma_tokenizer (\u001b[38;5;33mGemmaTokenizer\u001b[0m)                              │                      Vocab size: \u001b[38;5;34m256,000\u001b[0m │\n",
       "└───────────────────────────────────────────────────────────────┴──────────────────────────────────────────┘\n"
      ]
     },
     "metadata": {},
     "output_type": "display_data"
    },
    {
     "data": {
      "text/html": [
       "<pre style=\"white-space:pre;overflow-x:auto;line-height:normal;font-family:Menlo,'DejaVu Sans Mono',consolas,'Courier New',monospace\"><span style=\"font-weight: bold\">Model: \"gemma_causal_lm\"</span>\n",
       "</pre>\n"
      ],
      "text/plain": [
       "\u001b[1mModel: \"gemma_causal_lm\"\u001b[0m\n"
      ]
     },
     "metadata": {},
     "output_type": "display_data"
    },
    {
     "data": {
      "text/html": [
       "<pre style=\"white-space:pre;overflow-x:auto;line-height:normal;font-family:Menlo,'DejaVu Sans Mono',consolas,'Courier New',monospace\">┏━━━━━━━━━━━━━━━━━━━━━━━━━━━━━━━┳━━━━━━━━━━━━━━━━━━━━━━━━━━━┳━━━━━━━━━━━━━━━━━┳━━━━━━━━━━━━━━━━━━━━━━━━━━━━┓\n",
       "┃<span style=\"font-weight: bold\"> Layer (type)                  </span>┃<span style=\"font-weight: bold\"> Output Shape              </span>┃<span style=\"font-weight: bold\">         Param # </span>┃<span style=\"font-weight: bold\"> Connected to               </span>┃\n",
       "┡━━━━━━━━━━━━━━━━━━━━━━━━━━━━━━━╇━━━━━━━━━━━━━━━━━━━━━━━━━━━╇━━━━━━━━━━━━━━━━━╇━━━━━━━━━━━━━━━━━━━━━━━━━━━━┩\n",
       "│ padding_mask (<span style=\"color: #0087ff; text-decoration-color: #0087ff\">InputLayer</span>)     │ (<span style=\"color: #00d7ff; text-decoration-color: #00d7ff\">None</span>, <span style=\"color: #00d7ff; text-decoration-color: #00d7ff\">None</span>)              │               <span style=\"color: #00af00; text-decoration-color: #00af00\">0</span> │ -                          │\n",
       "├───────────────────────────────┼───────────────────────────┼─────────────────┼────────────────────────────┤\n",
       "│ token_ids (<span style=\"color: #0087ff; text-decoration-color: #0087ff\">InputLayer</span>)        │ (<span style=\"color: #00d7ff; text-decoration-color: #00d7ff\">None</span>, <span style=\"color: #00d7ff; text-decoration-color: #00d7ff\">None</span>)              │               <span style=\"color: #00af00; text-decoration-color: #00af00\">0</span> │ -                          │\n",
       "├───────────────────────────────┼───────────────────────────┼─────────────────┼────────────────────────────┤\n",
       "│ gemma_backbone                │ (<span style=\"color: #00d7ff; text-decoration-color: #00d7ff\">None</span>, <span style=\"color: #00d7ff; text-decoration-color: #00d7ff\">None</span>, <span style=\"color: #00af00; text-decoration-color: #00af00\">2304</span>)        │   <span style=\"color: #00af00; text-decoration-color: #00af00\">2,614,341,888</span> │ padding_mask[<span style=\"color: #00af00; text-decoration-color: #00af00\">0</span>][<span style=\"color: #00af00; text-decoration-color: #00af00\">0</span>],        │\n",
       "│ (<span style=\"color: #0087ff; text-decoration-color: #0087ff\">GemmaBackbone</span>)               │                           │                 │ token_ids[<span style=\"color: #00af00; text-decoration-color: #00af00\">0</span>][<span style=\"color: #00af00; text-decoration-color: #00af00\">0</span>]            │\n",
       "├───────────────────────────────┼───────────────────────────┼─────────────────┼────────────────────────────┤\n",
       "│ token_embedding               │ (<span style=\"color: #00d7ff; text-decoration-color: #00d7ff\">None</span>, <span style=\"color: #00d7ff; text-decoration-color: #00d7ff\">None</span>, <span style=\"color: #00af00; text-decoration-color: #00af00\">256000</span>)      │     <span style=\"color: #00af00; text-decoration-color: #00af00\">589,824,000</span> │ gemma_backbone[<span style=\"color: #00af00; text-decoration-color: #00af00\">0</span>][<span style=\"color: #00af00; text-decoration-color: #00af00\">0</span>]       │\n",
       "│ (<span style=\"color: #0087ff; text-decoration-color: #0087ff\">ReversibleEmbedding</span>)         │                           │                 │                            │\n",
       "└───────────────────────────────┴───────────────────────────┴─────────────────┴────────────────────────────┘\n",
       "</pre>\n"
      ],
      "text/plain": [
       "┏━━━━━━━━━━━━━━━━━━━━━━━━━━━━━━━┳━━━━━━━━━━━━━━━━━━━━━━━━━━━┳━━━━━━━━━━━━━━━━━┳━━━━━━━━━━━━━━━━━━━━━━━━━━━━┓\n",
       "┃\u001b[1m \u001b[0m\u001b[1mLayer (type)                 \u001b[0m\u001b[1m \u001b[0m┃\u001b[1m \u001b[0m\u001b[1mOutput Shape             \u001b[0m\u001b[1m \u001b[0m┃\u001b[1m \u001b[0m\u001b[1m        Param #\u001b[0m\u001b[1m \u001b[0m┃\u001b[1m \u001b[0m\u001b[1mConnected to              \u001b[0m\u001b[1m \u001b[0m┃\n",
       "┡━━━━━━━━━━━━━━━━━━━━━━━━━━━━━━━╇━━━━━━━━━━━━━━━━━━━━━━━━━━━╇━━━━━━━━━━━━━━━━━╇━━━━━━━━━━━━━━━━━━━━━━━━━━━━┩\n",
       "│ padding_mask (\u001b[38;5;33mInputLayer\u001b[0m)     │ (\u001b[38;5;45mNone\u001b[0m, \u001b[38;5;45mNone\u001b[0m)              │               \u001b[38;5;34m0\u001b[0m │ -                          │\n",
       "├───────────────────────────────┼───────────────────────────┼─────────────────┼────────────────────────────┤\n",
       "│ token_ids (\u001b[38;5;33mInputLayer\u001b[0m)        │ (\u001b[38;5;45mNone\u001b[0m, \u001b[38;5;45mNone\u001b[0m)              │               \u001b[38;5;34m0\u001b[0m │ -                          │\n",
       "├───────────────────────────────┼───────────────────────────┼─────────────────┼────────────────────────────┤\n",
       "│ gemma_backbone                │ (\u001b[38;5;45mNone\u001b[0m, \u001b[38;5;45mNone\u001b[0m, \u001b[38;5;34m2304\u001b[0m)        │   \u001b[38;5;34m2,614,341,888\u001b[0m │ padding_mask[\u001b[38;5;34m0\u001b[0m][\u001b[38;5;34m0\u001b[0m],        │\n",
       "│ (\u001b[38;5;33mGemmaBackbone\u001b[0m)               │                           │                 │ token_ids[\u001b[38;5;34m0\u001b[0m][\u001b[38;5;34m0\u001b[0m]            │\n",
       "├───────────────────────────────┼───────────────────────────┼─────────────────┼────────────────────────────┤\n",
       "│ token_embedding               │ (\u001b[38;5;45mNone\u001b[0m, \u001b[38;5;45mNone\u001b[0m, \u001b[38;5;34m256000\u001b[0m)      │     \u001b[38;5;34m589,824,000\u001b[0m │ gemma_backbone[\u001b[38;5;34m0\u001b[0m][\u001b[38;5;34m0\u001b[0m]       │\n",
       "│ (\u001b[38;5;33mReversibleEmbedding\u001b[0m)         │                           │                 │                            │\n",
       "└───────────────────────────────┴───────────────────────────┴─────────────────┴────────────────────────────┘\n"
      ]
     },
     "metadata": {},
     "output_type": "display_data"
    },
    {
     "data": {
      "text/html": [
       "<pre style=\"white-space:pre;overflow-x:auto;line-height:normal;font-family:Menlo,'DejaVu Sans Mono',consolas,'Courier New',monospace\"><span style=\"font-weight: bold\"> Total params: </span><span style=\"color: #00af00; text-decoration-color: #00af00\">2,614,341,888</span> (9.74 GB)\n",
       "</pre>\n"
      ],
      "text/plain": [
       "\u001b[1m Total params: \u001b[0m\u001b[38;5;34m2,614,341,888\u001b[0m (9.74 GB)\n"
      ]
     },
     "metadata": {},
     "output_type": "display_data"
    },
    {
     "data": {
      "text/html": [
       "<pre style=\"white-space:pre;overflow-x:auto;line-height:normal;font-family:Menlo,'DejaVu Sans Mono',consolas,'Courier New',monospace\"><span style=\"font-weight: bold\"> Trainable params: </span><span style=\"color: #00af00; text-decoration-color: #00af00\">2,614,341,888</span> (9.74 GB)\n",
       "</pre>\n"
      ],
      "text/plain": [
       "\u001b[1m Trainable params: \u001b[0m\u001b[38;5;34m2,614,341,888\u001b[0m (9.74 GB)\n"
      ]
     },
     "metadata": {},
     "output_type": "display_data"
    },
    {
     "data": {
      "text/html": [
       "<pre style=\"white-space:pre;overflow-x:auto;line-height:normal;font-family:Menlo,'DejaVu Sans Mono',consolas,'Courier New',monospace\"><span style=\"font-weight: bold\"> Non-trainable params: </span><span style=\"color: #00af00; text-decoration-color: #00af00\">0</span> (0.00 B)\n",
       "</pre>\n"
      ],
      "text/plain": [
       "\u001b[1m Non-trainable params: \u001b[0m\u001b[38;5;34m0\u001b[0m (0.00 B)\n"
      ]
     },
     "metadata": {},
     "output_type": "display_data"
    }
   ],
   "source": [
    "gemma_lm = keras_nlp.models.GemmaCausalLM.from_preset(\"gemma2_2b_en\")\n",
    "gemma_lm.summary()"
   ]
  },
  {
   "cell_type": "markdown",
   "id": "db33e946",
   "metadata": {
    "papermill": {
     "duration": 0.005039,
     "end_time": "2024-12-25T15:32:28.923259",
     "exception": false,
     "start_time": "2024-12-25T15:32:28.918220",
     "status": "completed"
    },
    "tags": []
   },
   "source": [
    "# Enable LoRA for the model\n",
    "As visible from the trainable parameters, 2,614,341,888 (9.74 GB). to be able to actually train these on our systems, we need to use Lower Order Rank Adaptation(LORA)."
   ]
  },
  {
   "cell_type": "code",
   "execution_count": 10,
   "id": "60640639",
   "metadata": {
    "execution": {
     "iopub.execute_input": "2024-12-25T15:32:28.935270Z",
     "iopub.status.busy": "2024-12-25T15:32:28.934962Z",
     "iopub.status.idle": "2024-12-25T15:32:29.266278Z",
     "shell.execute_reply": "2024-12-25T15:32:29.265447Z"
    },
    "papermill": {
     "duration": 0.339198,
     "end_time": "2024-12-25T15:32:29.267638",
     "exception": false,
     "start_time": "2024-12-25T15:32:28.928440",
     "status": "completed"
    },
    "tags": []
   },
   "outputs": [
    {
     "data": {
      "text/html": [
       "<pre style=\"white-space:pre;overflow-x:auto;line-height:normal;font-family:Menlo,'DejaVu Sans Mono',consolas,'Courier New',monospace\"><span style=\"font-weight: bold\">Preprocessor: \"gemma_causal_lm_preprocessor\"</span>\n",
       "</pre>\n"
      ],
      "text/plain": [
       "\u001b[1mPreprocessor: \"gemma_causal_lm_preprocessor\"\u001b[0m\n"
      ]
     },
     "metadata": {},
     "output_type": "display_data"
    },
    {
     "data": {
      "text/html": [
       "<pre style=\"white-space:pre;overflow-x:auto;line-height:normal;font-family:Menlo,'DejaVu Sans Mono',consolas,'Courier New',monospace\">┏━━━━━━━━━━━━━━━━━━━━━━━━━━━━━━━━━━━━━━━━━━━━━━━━━━━━━━━━━━━━━━━┳━━━━━━━━━━━━━━━━━━━━━━━━━━━━━━━━━━━━━━━━━━┓\n",
       "┃<span style=\"font-weight: bold\"> Layer (type)                                                  </span>┃<span style=\"font-weight: bold\">                                   Config </span>┃\n",
       "┡━━━━━━━━━━━━━━━━━━━━━━━━━━━━━━━━━━━━━━━━━━━━━━━━━━━━━━━━━━━━━━━╇━━━━━━━━━━━━━━━━━━━━━━━━━━━━━━━━━━━━━━━━━━┩\n",
       "│ gemma_tokenizer (<span style=\"color: #0087ff; text-decoration-color: #0087ff\">GemmaTokenizer</span>)                              │                      Vocab size: <span style=\"color: #00af00; text-decoration-color: #00af00\">256,000</span> │\n",
       "└───────────────────────────────────────────────────────────────┴──────────────────────────────────────────┘\n",
       "</pre>\n"
      ],
      "text/plain": [
       "┏━━━━━━━━━━━━━━━━━━━━━━━━━━━━━━━━━━━━━━━━━━━━━━━━━━━━━━━━━━━━━━━┳━━━━━━━━━━━━━━━━━━━━━━━━━━━━━━━━━━━━━━━━━━┓\n",
       "┃\u001b[1m \u001b[0m\u001b[1mLayer (type)                                                 \u001b[0m\u001b[1m \u001b[0m┃\u001b[1m \u001b[0m\u001b[1m                                  Config\u001b[0m\u001b[1m \u001b[0m┃\n",
       "┡━━━━━━━━━━━━━━━━━━━━━━━━━━━━━━━━━━━━━━━━━━━━━━━━━━━━━━━━━━━━━━━╇━━━━━━━━━━━━━━━━━━━━━━━━━━━━━━━━━━━━━━━━━━┩\n",
       "│ gemma_tokenizer (\u001b[38;5;33mGemmaTokenizer\u001b[0m)                              │                      Vocab size: \u001b[38;5;34m256,000\u001b[0m │\n",
       "└───────────────────────────────────────────────────────────────┴──────────────────────────────────────────┘\n"
      ]
     },
     "metadata": {},
     "output_type": "display_data"
    },
    {
     "data": {
      "text/html": [
       "<pre style=\"white-space:pre;overflow-x:auto;line-height:normal;font-family:Menlo,'DejaVu Sans Mono',consolas,'Courier New',monospace\"><span style=\"font-weight: bold\">Model: \"gemma_causal_lm\"</span>\n",
       "</pre>\n"
      ],
      "text/plain": [
       "\u001b[1mModel: \"gemma_causal_lm\"\u001b[0m\n"
      ]
     },
     "metadata": {},
     "output_type": "display_data"
    },
    {
     "data": {
      "text/html": [
       "<pre style=\"white-space:pre;overflow-x:auto;line-height:normal;font-family:Menlo,'DejaVu Sans Mono',consolas,'Courier New',monospace\">┏━━━━━━━━━━━━━━━━━━━━━━━━━━━━━━━┳━━━━━━━━━━━━━━━━━━━━━━━━━━━┳━━━━━━━━━━━━━━━━━┳━━━━━━━━━━━━━━━━━━━━━━━━━━━━┓\n",
       "┃<span style=\"font-weight: bold\"> Layer (type)                  </span>┃<span style=\"font-weight: bold\"> Output Shape              </span>┃<span style=\"font-weight: bold\">         Param # </span>┃<span style=\"font-weight: bold\"> Connected to               </span>┃\n",
       "┡━━━━━━━━━━━━━━━━━━━━━━━━━━━━━━━╇━━━━━━━━━━━━━━━━━━━━━━━━━━━╇━━━━━━━━━━━━━━━━━╇━━━━━━━━━━━━━━━━━━━━━━━━━━━━┩\n",
       "│ padding_mask (<span style=\"color: #0087ff; text-decoration-color: #0087ff\">InputLayer</span>)     │ (<span style=\"color: #00d7ff; text-decoration-color: #00d7ff\">None</span>, <span style=\"color: #00d7ff; text-decoration-color: #00d7ff\">None</span>)              │               <span style=\"color: #00af00; text-decoration-color: #00af00\">0</span> │ -                          │\n",
       "├───────────────────────────────┼───────────────────────────┼─────────────────┼────────────────────────────┤\n",
       "│ token_ids (<span style=\"color: #0087ff; text-decoration-color: #0087ff\">InputLayer</span>)        │ (<span style=\"color: #00d7ff; text-decoration-color: #00d7ff\">None</span>, <span style=\"color: #00d7ff; text-decoration-color: #00d7ff\">None</span>)              │               <span style=\"color: #00af00; text-decoration-color: #00af00\">0</span> │ -                          │\n",
       "├───────────────────────────────┼───────────────────────────┼─────────────────┼────────────────────────────┤\n",
       "│ gemma_backbone                │ (<span style=\"color: #00d7ff; text-decoration-color: #00d7ff\">None</span>, <span style=\"color: #00d7ff; text-decoration-color: #00d7ff\">None</span>, <span style=\"color: #00af00; text-decoration-color: #00af00\">2304</span>)        │   <span style=\"color: #00af00; text-decoration-color: #00af00\">2,617,270,528</span> │ padding_mask[<span style=\"color: #00af00; text-decoration-color: #00af00\">0</span>][<span style=\"color: #00af00; text-decoration-color: #00af00\">0</span>],        │\n",
       "│ (<span style=\"color: #0087ff; text-decoration-color: #0087ff\">GemmaBackbone</span>)               │                           │                 │ token_ids[<span style=\"color: #00af00; text-decoration-color: #00af00\">0</span>][<span style=\"color: #00af00; text-decoration-color: #00af00\">0</span>]            │\n",
       "├───────────────────────────────┼───────────────────────────┼─────────────────┼────────────────────────────┤\n",
       "│ token_embedding               │ (<span style=\"color: #00d7ff; text-decoration-color: #00d7ff\">None</span>, <span style=\"color: #00d7ff; text-decoration-color: #00d7ff\">None</span>, <span style=\"color: #00af00; text-decoration-color: #00af00\">256000</span>)      │     <span style=\"color: #00af00; text-decoration-color: #00af00\">589,824,000</span> │ gemma_backbone[<span style=\"color: #00af00; text-decoration-color: #00af00\">0</span>][<span style=\"color: #00af00; text-decoration-color: #00af00\">0</span>]       │\n",
       "│ (<span style=\"color: #0087ff; text-decoration-color: #0087ff\">ReversibleEmbedding</span>)         │                           │                 │                            │\n",
       "└───────────────────────────────┴───────────────────────────┴─────────────────┴────────────────────────────┘\n",
       "</pre>\n"
      ],
      "text/plain": [
       "┏━━━━━━━━━━━━━━━━━━━━━━━━━━━━━━━┳━━━━━━━━━━━━━━━━━━━━━━━━━━━┳━━━━━━━━━━━━━━━━━┳━━━━━━━━━━━━━━━━━━━━━━━━━━━━┓\n",
       "┃\u001b[1m \u001b[0m\u001b[1mLayer (type)                 \u001b[0m\u001b[1m \u001b[0m┃\u001b[1m \u001b[0m\u001b[1mOutput Shape             \u001b[0m\u001b[1m \u001b[0m┃\u001b[1m \u001b[0m\u001b[1m        Param #\u001b[0m\u001b[1m \u001b[0m┃\u001b[1m \u001b[0m\u001b[1mConnected to              \u001b[0m\u001b[1m \u001b[0m┃\n",
       "┡━━━━━━━━━━━━━━━━━━━━━━━━━━━━━━━╇━━━━━━━━━━━━━━━━━━━━━━━━━━━╇━━━━━━━━━━━━━━━━━╇━━━━━━━━━━━━━━━━━━━━━━━━━━━━┩\n",
       "│ padding_mask (\u001b[38;5;33mInputLayer\u001b[0m)     │ (\u001b[38;5;45mNone\u001b[0m, \u001b[38;5;45mNone\u001b[0m)              │               \u001b[38;5;34m0\u001b[0m │ -                          │\n",
       "├───────────────────────────────┼───────────────────────────┼─────────────────┼────────────────────────────┤\n",
       "│ token_ids (\u001b[38;5;33mInputLayer\u001b[0m)        │ (\u001b[38;5;45mNone\u001b[0m, \u001b[38;5;45mNone\u001b[0m)              │               \u001b[38;5;34m0\u001b[0m │ -                          │\n",
       "├───────────────────────────────┼───────────────────────────┼─────────────────┼────────────────────────────┤\n",
       "│ gemma_backbone                │ (\u001b[38;5;45mNone\u001b[0m, \u001b[38;5;45mNone\u001b[0m, \u001b[38;5;34m2304\u001b[0m)        │   \u001b[38;5;34m2,617,270,528\u001b[0m │ padding_mask[\u001b[38;5;34m0\u001b[0m][\u001b[38;5;34m0\u001b[0m],        │\n",
       "│ (\u001b[38;5;33mGemmaBackbone\u001b[0m)               │                           │                 │ token_ids[\u001b[38;5;34m0\u001b[0m][\u001b[38;5;34m0\u001b[0m]            │\n",
       "├───────────────────────────────┼───────────────────────────┼─────────────────┼────────────────────────────┤\n",
       "│ token_embedding               │ (\u001b[38;5;45mNone\u001b[0m, \u001b[38;5;45mNone\u001b[0m, \u001b[38;5;34m256000\u001b[0m)      │     \u001b[38;5;34m589,824,000\u001b[0m │ gemma_backbone[\u001b[38;5;34m0\u001b[0m][\u001b[38;5;34m0\u001b[0m]       │\n",
       "│ (\u001b[38;5;33mReversibleEmbedding\u001b[0m)         │                           │                 │                            │\n",
       "└───────────────────────────────┴───────────────────────────┴─────────────────┴────────────────────────────┘\n"
      ]
     },
     "metadata": {},
     "output_type": "display_data"
    },
    {
     "data": {
      "text/html": [
       "<pre style=\"white-space:pre;overflow-x:auto;line-height:normal;font-family:Menlo,'DejaVu Sans Mono',consolas,'Courier New',monospace\"><span style=\"font-weight: bold\"> Total params: </span><span style=\"color: #00af00; text-decoration-color: #00af00\">2,617,270,528</span> (9.75 GB)\n",
       "</pre>\n"
      ],
      "text/plain": [
       "\u001b[1m Total params: \u001b[0m\u001b[38;5;34m2,617,270,528\u001b[0m (9.75 GB)\n"
      ]
     },
     "metadata": {},
     "output_type": "display_data"
    },
    {
     "data": {
      "text/html": [
       "<pre style=\"white-space:pre;overflow-x:auto;line-height:normal;font-family:Menlo,'DejaVu Sans Mono',consolas,'Courier New',monospace\"><span style=\"font-weight: bold\"> Trainable params: </span><span style=\"color: #00af00; text-decoration-color: #00af00\">2,928,640</span> (11.17 MB)\n",
       "</pre>\n"
      ],
      "text/plain": [
       "\u001b[1m Trainable params: \u001b[0m\u001b[38;5;34m2,928,640\u001b[0m (11.17 MB)\n"
      ]
     },
     "metadata": {},
     "output_type": "display_data"
    },
    {
     "data": {
      "text/html": [
       "<pre style=\"white-space:pre;overflow-x:auto;line-height:normal;font-family:Menlo,'DejaVu Sans Mono',consolas,'Courier New',monospace\"><span style=\"font-weight: bold\"> Non-trainable params: </span><span style=\"color: #00af00; text-decoration-color: #00af00\">2,614,341,888</span> (9.74 GB)\n",
       "</pre>\n"
      ],
      "text/plain": [
       "\u001b[1m Non-trainable params: \u001b[0m\u001b[38;5;34m2,614,341,888\u001b[0m (9.74 GB)\n"
      ]
     },
     "metadata": {},
     "output_type": "display_data"
    }
   ],
   "source": [
    "# Enable LoRA for the model and set the LoRA rank to 4.\n",
    "gemma_lm.backbone.enable_lora(rank=4)\n",
    "gemma_lm.summary()"
   ]
  },
  {
   "cell_type": "markdown",
   "id": "29c4c5f5",
   "metadata": {
    "papermill": {
     "duration": 0.00558,
     "end_time": "2024-12-25T15:32:29.279228",
     "exception": false,
     "start_time": "2024-12-25T15:32:29.273648",
     "status": "completed"
    },
    "tags": []
   },
   "source": [
    "As you can see, the trainable parameters have reduces to 2,928,640 (11.17 MB). Now we can train the model on our data."
   ]
  },
  {
   "cell_type": "code",
   "execution_count": 11,
   "id": "4d870ab0",
   "metadata": {
    "execution": {
     "iopub.execute_input": "2024-12-25T15:32:29.291638Z",
     "iopub.status.busy": "2024-12-25T15:32:29.291341Z",
     "iopub.status.idle": "2024-12-25T15:43:34.113217Z",
     "shell.execute_reply": "2024-12-25T15:43:34.112480Z"
    },
    "papermill": {
     "duration": 664.829783,
     "end_time": "2024-12-25T15:43:34.114726",
     "exception": false,
     "start_time": "2024-12-25T15:32:29.284943",
     "status": "completed"
    },
    "tags": []
   },
   "outputs": [
    {
     "name": "stdout",
     "output_type": "stream",
     "text": [
      "Epoch 1/2\n",
      "\u001b[1m720/720\u001b[0m \u001b[32m━━━━━━━━━━━━━━━━━━━━\u001b[0m\u001b[37m\u001b[0m \u001b[1m344s\u001b[0m 442ms/step - loss: 0.5887 - sparse_categorical_accuracy: 0.6351\n",
      "Epoch 2/2\n",
      "\u001b[1m720/720\u001b[0m \u001b[32m━━━━━━━━━━━━━━━━━━━━\u001b[0m\u001b[37m\u001b[0m \u001b[1m319s\u001b[0m 420ms/step - loss: 0.3230 - sparse_categorical_accuracy: 0.7901\n"
     ]
    },
    {
     "data": {
      "text/plain": [
       "<keras.src.callbacks.history.History at 0x7fe84c186b90>"
      ]
     },
     "execution_count": 11,
     "metadata": {},
     "output_type": "execute_result"
    }
   ],
   "source": [
    "# Limit the input sequence length to 256 (to control memory usage).\n",
    "gemma_lm.preprocessor.sequence_length = 256\n",
    "# Use AdamW (a common optimizer for transformer models).\n",
    "optimizer = keras.optimizers.AdamW(\n",
    "    learning_rate=5e-5,\n",
    "    weight_decay=0.01,\n",
    ")\n",
    "# Exclude layernorm and bias terms from decay.\n",
    "optimizer.exclude_from_weight_decay(var_names=[\"bias\", \"scale\"])\n",
    "\n",
    "gemma_lm.compile(\n",
    "    loss=keras.losses.SparseCategoricalCrossentropy(from_logits=True),\n",
    "    optimizer=optimizer,\n",
    "    weighted_metrics=[keras.metrics.SparseCategoricalAccuracy()],\n",
    ")\n",
    "gemma_lm.fit(data, epochs=2, batch_size=1)"
   ]
  },
  {
   "cell_type": "markdown",
   "id": "fa6b78d5",
   "metadata": {
    "papermill": {
     "duration": 0.05881,
     "end_time": "2024-12-25T15:43:34.273169",
     "exception": false,
     "start_time": "2024-12-25T15:43:34.214359",
     "status": "completed"
    },
    "tags": []
   },
   "source": [
    "# Testing it with different figurative meanings"
   ]
  },
  {
   "cell_type": "code",
   "execution_count": 12,
   "id": "4480d8b3",
   "metadata": {
    "execution": {
     "iopub.execute_input": "2024-12-25T15:43:34.390753Z",
     "iopub.status.busy": "2024-12-25T15:43:34.390392Z",
     "iopub.status.idle": "2024-12-25T15:44:09.517283Z",
     "shell.execute_reply": "2024-12-25T15:44:09.516517Z"
    },
    "papermill": {
     "duration": 35.246342,
     "end_time": "2024-12-25T15:44:09.577287",
     "exception": false,
     "start_time": "2024-12-25T15:43:34.330945",
     "status": "completed"
    },
    "tags": []
   },
   "outputs": [
    {
     "name": "stdout",
     "output_type": "stream",
     "text": [
      "Instruction:\n",
      " Do you know which idioms would be suitable for to be stuck in a difficult situation\n",
      "\n",
      "Response:\n",
      " Id idioms would be stuck in a difficult situation.\n",
      "\n",
      "Literal Meaning:If you are stuck in a difficult situation.\n",
      "Example Use: If things don’t go your way right now, then you might find yourself stuck in a difficult situation.\n",
      "Cultural References: This idiom comes from the English culture.\n",
      "Instruction:\n",
      "Do you know which idiom is used to express the state of being stuck somewhere or unable to move?\n",
      "\n",
      "Response:\n",
      "Idiom: Bıçakta kalamak\n",
      "Literal Meaning:To be stuck in a knife.\n",
      "Example Use: You might find yourself stuck in a knife if you don’t find a solution quickly.\n",
      "Cultural References: This idiom comes from the Turkish culture.\n",
      "Instruction:\n",
      "Do you know which idiom means to be unable to escape or move forward?\n",
      "\n",
      "Response:\n",
      "Idiom: Yere kalmak\n",
      "Literal Meaning:To be stuck to the ground.\n",
      "Example Use: If you don’t take action now, then you might find yourself stuck to the ground.\n",
      "Cultural References: This idiom comes from the Turkish culture.\n",
      "Instruction:\n",
      "Do you know which idiom means to be unable to move freely or to have freedom?\n",
      "\n",
      "Response:\n",
      "Idiom: Sakıncalı bir yere girmek\n",
      "Literal Meaning:To step into a treacherous place.\n",
      "Example Use: If you make the wrong decision, you might find yourself stepping into a treacherous place.\n",
      "Cultural References: This idiom comes from the English culture.\n",
      "Instruction:\n",
      "Do you know which idiom means to be stuck in a situation with no clear solution?\n",
      "\n",
      "Response:\n",
      "Idiom: Dışarı çıkmak için bir kapı olmadığını görmek\n",
      "Literal Meaning:To see that there is no door to get out of a situation.\n",
      "Example Use: If you don’t act quickly, you might find yourself seeing that there is no door to get out of a situation.\n",
      "Cultural References: This idiom comes from the English culture.\n",
      "Instruction:\n",
      "Do you know which idiom means being trapped or stuck in a difficult situation?\n",
      "\n",
      "Response:\n",
      "Idiom: Dışarı çıkmak için bir kapı olmadığını görmek\n",
      "Literal Meaning:To see that there is no door to get out of a situation.\n",
      "Example Use: If you don’t take immediate action, you might find your situation to be a situation where there is no door to get out of it.\n",
      "Cultural References\n"
     ]
    }
   ],
   "source": [
    "#1\n",
    "test_meaning = \"to be stuck in a difficult situation\"\n",
    "\n",
    "#Using the same template format as training\n",
    "prompt = (\n",
    "    \"Instruction:\\n Do you know which idioms would be suitable for {}\\n\\n\"\n",
    "    \"Response:\\n\"\n",
    ").format(test_meaning)\n",
    "\n",
    "\n",
    "sampler = keras_nlp.samplers.TopKSampler(k=7, seed=2)\n",
    "gemma_lm.compile(sampler=sampler)\n",
    "print(gemma_lm.generate(prompt, max_length=512))"
   ]
  },
  {
   "cell_type": "code",
   "execution_count": 13,
   "id": "872a2bef",
   "metadata": {
    "execution": {
     "iopub.execute_input": "2024-12-25T15:44:09.695205Z",
     "iopub.status.busy": "2024-12-25T15:44:09.694904Z",
     "iopub.status.idle": "2024-12-25T15:44:26.252912Z",
     "shell.execute_reply": "2024-12-25T15:44:26.251799Z"
    },
    "papermill": {
     "duration": 16.61904,
     "end_time": "2024-12-25T15:44:26.254237",
     "exception": false,
     "start_time": "2024-12-25T15:44:09.635197",
     "status": "completed"
    },
    "tags": []
   },
   "outputs": [
    {
     "name": "stdout",
     "output_type": "stream",
     "text": [
      "Instruction:\n",
      " Do you know any idiom which would be suitable for someone who does not value another person\n",
      "\n",
      "Response:\n",
      "Idiom: \n",
      "Sıra yok\n",
      "Literal Meaning: There’s no seat\n",
      "\n",
      "Example Use: Don’t be afraid to speak up; sıra yok at the meeting.\n",
      "Cultural Context: This idiom comes from the Turkish culture.\n",
      "\n"
     ]
    }
   ],
   "source": [
    "#2 \n",
    "test_meaning = \"someone who does not value another person\"\n",
    "\n",
    "\n",
    "#Using the same template format as training\n",
    "prompt = (\n",
    "    \"Instruction:\\n Do you know any idiom which would be suitable for {}\\n\\n\"\n",
    "    \"Response:\\n\"\n",
    ").format(test_meaning)\n",
    "\n",
    "\n",
    "sampler = keras_nlp.samplers.TopKSampler(k=10, seed=2)\n",
    "gemma_lm.compile(sampler=sampler)\n",
    "print(gemma_lm.generate(prompt, max_length=256))"
   ]
  },
  {
   "cell_type": "code",
   "execution_count": 14,
   "id": "64a2f1eb",
   "metadata": {
    "execution": {
     "iopub.execute_input": "2024-12-25T15:44:26.371640Z",
     "iopub.status.busy": "2024-12-25T15:44:26.371245Z",
     "iopub.status.idle": "2024-12-25T15:44:49.063403Z",
     "shell.execute_reply": "2024-12-25T15:44:49.062424Z"
    },
    "papermill": {
     "duration": 22.752182,
     "end_time": "2024-12-25T15:44:49.065736",
     "exception": false,
     "start_time": "2024-12-25T15:44:26.313554",
     "status": "completed"
    },
    "tags": []
   },
   "outputs": [
    {
     "name": "stdout",
     "output_type": "stream",
     "text": [
      "Instruction:\n",
      " Do you know any idiom which would be suitable for to grief over someone's lose\n",
      "\n",
      "Response:\n",
      " Idiom : 1. 2. 3.\n",
      "\n",
      "Literal Meaning:\n",
      "Idiom :\n",
      "Idiom :\n",
      "Idiom :\n",
      "Idiom :\n",
      "Idiom :\n",
      "Idiom :\n",
      "Idiom :\n",
      "Idiom :\n",
      "Idiom :\n",
      "Idiom :\n",
      "Idiom :\n",
      "Idiom :\n",
      "Idiom :\n",
      "Idiom :\n",
      "Idiom :\n",
      "Idiom :\n",
      "Idiom :\n",
      "Idiom :\n",
      "Idiom :\n",
      "Idiom :\n",
      "Idiom :\n",
      "Idiom :\n",
      "Idiom :\n",
      "Idiom :\n",
      "Idiom :\n",
      "Idiom :\n",
      "Idiom :\n",
      "Idiom :\n",
      "Idiom :\n",
      "Idiom :\n",
      "Idiom :\n",
      "Idiom :\n",
      "Idiom :\n",
      "Idiom :\n",
      "Idiom :\n",
      "Idiom :\n",
      "Idiom :\n",
      "Idiom :\n",
      "Idiom :\n",
      "Idiom :\n",
      "Idiom :\n",
      "Idiom :\n",
      "Idiom :\n",
      "Idiom :\n",
      "Idiom :\n",
      "Idiom :\n",
      "Idiom :\n",
      "Idiom :\n",
      "Idiom :\n",
      "Idiom :\n",
      "Idiom :\n",
      "Idiom :\n",
      "Idiom :\n",
      "Idiom\n"
     ]
    }
   ],
   "source": [
    "#3 \n",
    "test_meaning = \"to grief over someone's lose\"\n",
    "\n",
    "\n",
    "#Using the same template format as training\n",
    "prompt = (\n",
    "    \"Instruction:\\n Do you know any idiom which would be suitable for {}\\n\\n\"\n",
    "    \"Response:\\n\"\n",
    ").format(test_meaning)\n",
    "\n",
    "\n",
    "sampler = keras_nlp.samplers.TopKSampler(k=7, seed=2)\n",
    "gemma_lm.compile(sampler=sampler)\n",
    "print(gemma_lm.generate(prompt, max_length=256))"
   ]
  }
 ],
 "metadata": {
  "kaggle": {
   "accelerator": "gpu",
   "dataSources": [
    {
     "datasetId": 6048296,
     "sourceId": 10272721,
     "sourceType": "datasetVersion"
    },
    {
     "modelId": 78150,
     "modelInstanceId": 72244,
     "sourceId": 85984,
     "sourceType": "modelInstanceVersion"
    }
   ],
   "dockerImageVersionId": 30822,
   "isGpuEnabled": true,
   "isInternetEnabled": true,
   "language": "python",
   "sourceType": "notebook"
  },
  "kernelspec": {
   "display_name": "Python 3",
   "language": "python",
   "name": "python3"
  },
  "language_info": {
   "codemirror_mode": {
    "name": "ipython",
    "version": 3
   },
   "file_extension": ".py",
   "mimetype": "text/x-python",
   "name": "python",
   "nbconvert_exporter": "python",
   "pygments_lexer": "ipython3",
   "version": "3.10.12"
  },
  "papermill": {
   "default_parameters": {},
   "duration": 808.106904,
   "end_time": "2024-12-25T15:44:52.224272",
   "environment_variables": {},
   "exception": null,
   "input_path": "__notebook__.ipynb",
   "output_path": "__notebook__.ipynb",
   "parameters": {},
   "start_time": "2024-12-25T15:31:24.117368",
   "version": "2.6.0"
  },
  "widgets": {
   "application/vnd.jupyter.widget-state+json": {
    "state": {
     "03de3d0001a04fd4967a4252740c5ed2": {
      "model_module": "@jupyter-widgets/controls",
      "model_module_version": "2.0.0",
      "model_name": "ProgressStyleModel",
      "state": {
       "_model_module": "@jupyter-widgets/controls",
       "_model_module_version": "2.0.0",
       "_model_name": "ProgressStyleModel",
       "_view_count": null,
       "_view_module": "@jupyter-widgets/base",
       "_view_module_version": "2.0.0",
       "_view_name": "StyleView",
       "bar_color": null,
       "description_width": ""
      }
     },
     "054d63466aa841e1b9c1798b8d21be35": {
      "model_module": "@jupyter-widgets/controls",
      "model_module_version": "2.0.0",
      "model_name": "HTMLModel",
      "state": {
       "_dom_classes": [],
       "_model_module": "@jupyter-widgets/controls",
       "_model_module_version": "2.0.0",
       "_model_name": "HTMLModel",
       "_view_count": null,
       "_view_module": "@jupyter-widgets/controls",
       "_view_module_version": "2.0.0",
       "_view_name": "HTMLView",
       "description": "",
       "description_allow_html": false,
       "layout": "IPY_MODEL_8d681f6d30be4ece9b33c5a284feb297",
       "placeholder": "​",
       "style": "IPY_MODEL_fdba6781777040acb279af732897fc49",
       "tabbable": null,
       "tooltip": null,
       "value": "Computing checksums: 100%"
      }
     },
     "085fa2f0c8974a8c966e511210efc031": {
      "model_module": "@jupyter-widgets/controls",
      "model_module_version": "2.0.0",
      "model_name": "HTMLModel",
      "state": {
       "_dom_classes": [],
       "_model_module": "@jupyter-widgets/controls",
       "_model_module_version": "2.0.0",
       "_model_name": "HTMLModel",
       "_view_count": null,
       "_view_module": "@jupyter-widgets/controls",
       "_view_module_version": "2.0.0",
       "_view_name": "HTMLView",
       "description": "",
       "description_allow_html": false,
       "layout": "IPY_MODEL_1f281d92a05d45d8a7aef23a2f261d65",
       "placeholder": "​",
       "style": "IPY_MODEL_ded0f961dae4437daee02be568b9722d",
       "tabbable": null,
       "tooltip": null,
       "value": " 71/71 [00:00&lt;00:00, 6293.36it/s]"
      }
     },
     "0eb4a1f715f442159ddcb2fa3d178635": {
      "model_module": "@jupyter-widgets/controls",
      "model_module_version": "2.0.0",
      "model_name": "HTMLModel",
      "state": {
       "_dom_classes": [],
       "_model_module": "@jupyter-widgets/controls",
       "_model_module_version": "2.0.0",
       "_model_name": "HTMLModel",
       "_view_count": null,
       "_view_module": "@jupyter-widgets/controls",
       "_view_module_version": "2.0.0",
       "_view_name": "HTMLView",
       "description": "",
       "description_allow_html": false,
       "layout": "IPY_MODEL_2ea21126edac4780a01e23ffd04cfebd",
       "placeholder": "​",
       "style": "IPY_MODEL_1c145e252e7b4e439790a73059adeb28",
       "tabbable": null,
       "tooltip": null,
       "value": "Resolving data files: 100%"
      }
     },
     "0ef4f67102e448d7b2266ba716b406c4": {
      "model_module": "@jupyter-widgets/base",
      "model_module_version": "2.0.0",
      "model_name": "LayoutModel",
      "state": {
       "_model_module": "@jupyter-widgets/base",
       "_model_module_version": "2.0.0",
       "_model_name": "LayoutModel",
       "_view_count": null,
       "_view_module": "@jupyter-widgets/base",
       "_view_module_version": "2.0.0",
       "_view_name": "LayoutView",
       "align_content": null,
       "align_items": null,
       "align_self": null,
       "border_bottom": null,
       "border_left": null,
       "border_right": null,
       "border_top": null,
       "bottom": null,
       "display": null,
       "flex": null,
       "flex_flow": null,
       "grid_area": null,
       "grid_auto_columns": null,
       "grid_auto_flow": null,
       "grid_auto_rows": null,
       "grid_column": null,
       "grid_gap": null,
       "grid_row": null,
       "grid_template_areas": null,
       "grid_template_columns": null,
       "grid_template_rows": null,
       "height": null,
       "justify_content": null,
       "justify_items": null,
       "left": null,
       "margin": null,
       "max_height": null,
       "max_width": null,
       "min_height": null,
       "min_width": null,
       "object_fit": null,
       "object_position": null,
       "order": null,
       "overflow": null,
       "padding": null,
       "right": null,
       "top": null,
       "visibility": null,
       "width": null
      }
     },
     "167e080c8ba24666846d5f906f155a0c": {
      "model_module": "@jupyter-widgets/base",
      "model_module_version": "2.0.0",
      "model_name": "LayoutModel",
      "state": {
       "_model_module": "@jupyter-widgets/base",
       "_model_module_version": "2.0.0",
       "_model_name": "LayoutModel",
       "_view_count": null,
       "_view_module": "@jupyter-widgets/base",
       "_view_module_version": "2.0.0",
       "_view_name": "LayoutView",
       "align_content": null,
       "align_items": null,
       "align_self": null,
       "border_bottom": null,
       "border_left": null,
       "border_right": null,
       "border_top": null,
       "bottom": null,
       "display": null,
       "flex": null,
       "flex_flow": null,
       "grid_area": null,
       "grid_auto_columns": null,
       "grid_auto_flow": null,
       "grid_auto_rows": null,
       "grid_column": null,
       "grid_gap": null,
       "grid_row": null,
       "grid_template_areas": null,
       "grid_template_columns": null,
       "grid_template_rows": null,
       "height": null,
       "justify_content": null,
       "justify_items": null,
       "left": null,
       "margin": null,
       "max_height": null,
       "max_width": null,
       "min_height": null,
       "min_width": null,
       "object_fit": null,
       "object_position": null,
       "order": null,
       "overflow": null,
       "padding": null,
       "right": null,
       "top": null,
       "visibility": null,
       "width": null
      }
     },
     "1c145e252e7b4e439790a73059adeb28": {
      "model_module": "@jupyter-widgets/controls",
      "model_module_version": "2.0.0",
      "model_name": "HTMLStyleModel",
      "state": {
       "_model_module": "@jupyter-widgets/controls",
       "_model_module_version": "2.0.0",
       "_model_name": "HTMLStyleModel",
       "_view_count": null,
       "_view_module": "@jupyter-widgets/base",
       "_view_module_version": "2.0.0",
       "_view_name": "StyleView",
       "background": null,
       "description_width": "",
       "font_size": null,
       "text_color": null
      }
     },
     "1f281d92a05d45d8a7aef23a2f261d65": {
      "model_module": "@jupyter-widgets/base",
      "model_module_version": "2.0.0",
      "model_name": "LayoutModel",
      "state": {
       "_model_module": "@jupyter-widgets/base",
       "_model_module_version": "2.0.0",
       "_model_name": "LayoutModel",
       "_view_count": null,
       "_view_module": "@jupyter-widgets/base",
       "_view_module_version": "2.0.0",
       "_view_name": "LayoutView",
       "align_content": null,
       "align_items": null,
       "align_self": null,
       "border_bottom": null,
       "border_left": null,
       "border_right": null,
       "border_top": null,
       "bottom": null,
       "display": null,
       "flex": null,
       "flex_flow": null,
       "grid_area": null,
       "grid_auto_columns": null,
       "grid_auto_flow": null,
       "grid_auto_rows": null,
       "grid_column": null,
       "grid_gap": null,
       "grid_row": null,
       "grid_template_areas": null,
       "grid_template_columns": null,
       "grid_template_rows": null,
       "height": null,
       "justify_content": null,
       "justify_items": null,
       "left": null,
       "margin": null,
       "max_height": null,
       "max_width": null,
       "min_height": null,
       "min_width": null,
       "object_fit": null,
       "object_position": null,
       "order": null,
       "overflow": null,
       "padding": null,
       "right": null,
       "top": null,
       "visibility": null,
       "width": null
      }
     },
     "2ea21126edac4780a01e23ffd04cfebd": {
      "model_module": "@jupyter-widgets/base",
      "model_module_version": "2.0.0",
      "model_name": "LayoutModel",
      "state": {
       "_model_module": "@jupyter-widgets/base",
       "_model_module_version": "2.0.0",
       "_model_name": "LayoutModel",
       "_view_count": null,
       "_view_module": "@jupyter-widgets/base",
       "_view_module_version": "2.0.0",
       "_view_name": "LayoutView",
       "align_content": null,
       "align_items": null,
       "align_self": null,
       "border_bottom": null,
       "border_left": null,
       "border_right": null,
       "border_top": null,
       "bottom": null,
       "display": null,
       "flex": null,
       "flex_flow": null,
       "grid_area": null,
       "grid_auto_columns": null,
       "grid_auto_flow": null,
       "grid_auto_rows": null,
       "grid_column": null,
       "grid_gap": null,
       "grid_row": null,
       "grid_template_areas": null,
       "grid_template_columns": null,
       "grid_template_rows": null,
       "height": null,
       "justify_content": null,
       "justify_items": null,
       "left": null,
       "margin": null,
       "max_height": null,
       "max_width": null,
       "min_height": null,
       "min_width": null,
       "object_fit": null,
       "object_position": null,
       "order": null,
       "overflow": null,
       "padding": null,
       "right": null,
       "top": null,
       "visibility": null,
       "width": null
      }
     },
     "37387d8abfcd4a749eb424ec3882627d": {
      "model_module": "@jupyter-widgets/controls",
      "model_module_version": "2.0.0",
      "model_name": "HTMLModel",
      "state": {
       "_dom_classes": [],
       "_model_module": "@jupyter-widgets/controls",
       "_model_module_version": "2.0.0",
       "_model_name": "HTMLModel",
       "_view_count": null,
       "_view_module": "@jupyter-widgets/controls",
       "_view_module_version": "2.0.0",
       "_view_name": "HTMLView",
       "description": "",
       "description_allow_html": false,
       "layout": "IPY_MODEL_79d4c46be6094347b1b5b4fe0b4ed282",
       "placeholder": "​",
       "style": "IPY_MODEL_7877135c162a4ebd865a761cfaa692b5",
       "tabbable": null,
       "tooltip": null,
       "value": " 71/71 [00:00&lt;00:00, 6907.17it/s]"
      }
     },
     "421aa60ab9714c01a22bb5c121cdc728": {
      "model_module": "@jupyter-widgets/controls",
      "model_module_version": "2.0.0",
      "model_name": "ProgressStyleModel",
      "state": {
       "_model_module": "@jupyter-widgets/controls",
       "_model_module_version": "2.0.0",
       "_model_name": "ProgressStyleModel",
       "_view_count": null,
       "_view_module": "@jupyter-widgets/base",
       "_view_module_version": "2.0.0",
       "_view_name": "StyleView",
       "bar_color": null,
       "description_width": ""
      }
     },
     "463c7c24b77e4a529d2b223b12e18511": {
      "model_module": "@jupyter-widgets/base",
      "model_module_version": "2.0.0",
      "model_name": "LayoutModel",
      "state": {
       "_model_module": "@jupyter-widgets/base",
       "_model_module_version": "2.0.0",
       "_model_name": "LayoutModel",
       "_view_count": null,
       "_view_module": "@jupyter-widgets/base",
       "_view_module_version": "2.0.0",
       "_view_name": "LayoutView",
       "align_content": null,
       "align_items": null,
       "align_self": null,
       "border_bottom": null,
       "border_left": null,
       "border_right": null,
       "border_top": null,
       "bottom": null,
       "display": null,
       "flex": null,
       "flex_flow": null,
       "grid_area": null,
       "grid_auto_columns": null,
       "grid_auto_flow": null,
       "grid_auto_rows": null,
       "grid_column": null,
       "grid_gap": null,
       "grid_row": null,
       "grid_template_areas": null,
       "grid_template_columns": null,
       "grid_template_rows": null,
       "height": null,
       "justify_content": null,
       "justify_items": null,
       "left": null,
       "margin": null,
       "max_height": null,
       "max_width": null,
       "min_height": null,
       "min_width": null,
       "object_fit": null,
       "object_position": null,
       "order": null,
       "overflow": null,
       "padding": null,
       "right": null,
       "top": null,
       "visibility": null,
       "width": null
      }
     },
     "46e1666640534189a98534e5f702571c": {
      "model_module": "@jupyter-widgets/base",
      "model_module_version": "2.0.0",
      "model_name": "LayoutModel",
      "state": {
       "_model_module": "@jupyter-widgets/base",
       "_model_module_version": "2.0.0",
       "_model_name": "LayoutModel",
       "_view_count": null,
       "_view_module": "@jupyter-widgets/base",
       "_view_module_version": "2.0.0",
       "_view_name": "LayoutView",
       "align_content": null,
       "align_items": null,
       "align_self": null,
       "border_bottom": null,
       "border_left": null,
       "border_right": null,
       "border_top": null,
       "bottom": null,
       "display": null,
       "flex": null,
       "flex_flow": null,
       "grid_area": null,
       "grid_auto_columns": null,
       "grid_auto_flow": null,
       "grid_auto_rows": null,
       "grid_column": null,
       "grid_gap": null,
       "grid_row": null,
       "grid_template_areas": null,
       "grid_template_columns": null,
       "grid_template_rows": null,
       "height": null,
       "justify_content": null,
       "justify_items": null,
       "left": null,
       "margin": null,
       "max_height": null,
       "max_width": null,
       "min_height": null,
       "min_width": null,
       "object_fit": null,
       "object_position": null,
       "order": null,
       "overflow": null,
       "padding": null,
       "right": null,
       "top": null,
       "visibility": null,
       "width": "20px"
      }
     },
     "49ef57d3f0954da0b00a170f33861ba8": {
      "model_module": "@jupyter-widgets/base",
      "model_module_version": "2.0.0",
      "model_name": "LayoutModel",
      "state": {
       "_model_module": "@jupyter-widgets/base",
       "_model_module_version": "2.0.0",
       "_model_name": "LayoutModel",
       "_view_count": null,
       "_view_module": "@jupyter-widgets/base",
       "_view_module_version": "2.0.0",
       "_view_name": "LayoutView",
       "align_content": null,
       "align_items": null,
       "align_self": null,
       "border_bottom": null,
       "border_left": null,
       "border_right": null,
       "border_top": null,
       "bottom": null,
       "display": null,
       "flex": null,
       "flex_flow": null,
       "grid_area": null,
       "grid_auto_columns": null,
       "grid_auto_flow": null,
       "grid_auto_rows": null,
       "grid_column": null,
       "grid_gap": null,
       "grid_row": null,
       "grid_template_areas": null,
       "grid_template_columns": null,
       "grid_template_rows": null,
       "height": null,
       "justify_content": null,
       "justify_items": null,
       "left": null,
       "margin": null,
       "max_height": null,
       "max_width": null,
       "min_height": null,
       "min_width": null,
       "object_fit": null,
       "object_position": null,
       "order": null,
       "overflow": null,
       "padding": null,
       "right": null,
       "top": null,
       "visibility": null,
       "width": null
      }
     },
     "4e9b4455bcdf40c3a29eb3864929a752": {
      "model_module": "@jupyter-widgets/base",
      "model_module_version": "2.0.0",
      "model_name": "LayoutModel",
      "state": {
       "_model_module": "@jupyter-widgets/base",
       "_model_module_version": "2.0.0",
       "_model_name": "LayoutModel",
       "_view_count": null,
       "_view_module": "@jupyter-widgets/base",
       "_view_module_version": "2.0.0",
       "_view_name": "LayoutView",
       "align_content": null,
       "align_items": null,
       "align_self": null,
       "border_bottom": null,
       "border_left": null,
       "border_right": null,
       "border_top": null,
       "bottom": null,
       "display": null,
       "flex": null,
       "flex_flow": null,
       "grid_area": null,
       "grid_auto_columns": null,
       "grid_auto_flow": null,
       "grid_auto_rows": null,
       "grid_column": null,
       "grid_gap": null,
       "grid_row": null,
       "grid_template_areas": null,
       "grid_template_columns": null,
       "grid_template_rows": null,
       "height": null,
       "justify_content": null,
       "justify_items": null,
       "left": null,
       "margin": null,
       "max_height": null,
       "max_width": null,
       "min_height": null,
       "min_width": null,
       "object_fit": null,
       "object_position": null,
       "order": null,
       "overflow": null,
       "padding": null,
       "right": null,
       "top": null,
       "visibility": null,
       "width": null
      }
     },
     "55c2bf8780714bf3a08a4e189a63d5ee": {
      "model_module": "@jupyter-widgets/base",
      "model_module_version": "2.0.0",
      "model_name": "LayoutModel",
      "state": {
       "_model_module": "@jupyter-widgets/base",
       "_model_module_version": "2.0.0",
       "_model_name": "LayoutModel",
       "_view_count": null,
       "_view_module": "@jupyter-widgets/base",
       "_view_module_version": "2.0.0",
       "_view_name": "LayoutView",
       "align_content": null,
       "align_items": null,
       "align_self": null,
       "border_bottom": null,
       "border_left": null,
       "border_right": null,
       "border_top": null,
       "bottom": null,
       "display": null,
       "flex": null,
       "flex_flow": null,
       "grid_area": null,
       "grid_auto_columns": null,
       "grid_auto_flow": null,
       "grid_auto_rows": null,
       "grid_column": null,
       "grid_gap": null,
       "grid_row": null,
       "grid_template_areas": null,
       "grid_template_columns": null,
       "grid_template_rows": null,
       "height": null,
       "justify_content": null,
       "justify_items": null,
       "left": null,
       "margin": null,
       "max_height": null,
       "max_width": null,
       "min_height": null,
       "min_width": null,
       "object_fit": null,
       "object_position": null,
       "order": null,
       "overflow": null,
       "padding": null,
       "right": null,
       "top": null,
       "visibility": null,
       "width": null
      }
     },
     "589cc00979b448659ffdffb94feca783": {
      "model_module": "@jupyter-widgets/base",
      "model_module_version": "2.0.0",
      "model_name": "LayoutModel",
      "state": {
       "_model_module": "@jupyter-widgets/base",
       "_model_module_version": "2.0.0",
       "_model_name": "LayoutModel",
       "_view_count": null,
       "_view_module": "@jupyter-widgets/base",
       "_view_module_version": "2.0.0",
       "_view_name": "LayoutView",
       "align_content": null,
       "align_items": null,
       "align_self": null,
       "border_bottom": null,
       "border_left": null,
       "border_right": null,
       "border_top": null,
       "bottom": null,
       "display": null,
       "flex": null,
       "flex_flow": null,
       "grid_area": null,
       "grid_auto_columns": null,
       "grid_auto_flow": null,
       "grid_auto_rows": null,
       "grid_column": null,
       "grid_gap": null,
       "grid_row": null,
       "grid_template_areas": null,
       "grid_template_columns": null,
       "grid_template_rows": null,
       "height": null,
       "justify_content": null,
       "justify_items": null,
       "left": null,
       "margin": null,
       "max_height": null,
       "max_width": null,
       "min_height": null,
       "min_width": null,
       "object_fit": null,
       "object_position": null,
       "order": null,
       "overflow": null,
       "padding": null,
       "right": null,
       "top": null,
       "visibility": null,
       "width": null
      }
     },
     "669a714ce12d463a89b474fea803172b": {
      "model_module": "@jupyter-widgets/base",
      "model_module_version": "2.0.0",
      "model_name": "LayoutModel",
      "state": {
       "_model_module": "@jupyter-widgets/base",
       "_model_module_version": "2.0.0",
       "_model_name": "LayoutModel",
       "_view_count": null,
       "_view_module": "@jupyter-widgets/base",
       "_view_module_version": "2.0.0",
       "_view_name": "LayoutView",
       "align_content": null,
       "align_items": null,
       "align_self": null,
       "border_bottom": null,
       "border_left": null,
       "border_right": null,
       "border_top": null,
       "bottom": null,
       "display": null,
       "flex": null,
       "flex_flow": null,
       "grid_area": null,
       "grid_auto_columns": null,
       "grid_auto_flow": null,
       "grid_auto_rows": null,
       "grid_column": null,
       "grid_gap": null,
       "grid_row": null,
       "grid_template_areas": null,
       "grid_template_columns": null,
       "grid_template_rows": null,
       "height": null,
       "justify_content": null,
       "justify_items": null,
       "left": null,
       "margin": null,
       "max_height": null,
       "max_width": null,
       "min_height": null,
       "min_width": null,
       "object_fit": null,
       "object_position": null,
       "order": null,
       "overflow": null,
       "padding": null,
       "right": null,
       "top": null,
       "visibility": null,
       "width": null
      }
     },
     "6c46cdcbe27c4acc9e95148f571074a7": {
      "model_module": "@jupyter-widgets/controls",
      "model_module_version": "2.0.0",
      "model_name": "FloatProgressModel",
      "state": {
       "_dom_classes": [],
       "_model_module": "@jupyter-widgets/controls",
       "_model_module_version": "2.0.0",
       "_model_name": "FloatProgressModel",
       "_view_count": null,
       "_view_module": "@jupyter-widgets/controls",
       "_view_module_version": "2.0.0",
       "_view_name": "ProgressView",
       "bar_style": "success",
       "description": "",
       "description_allow_html": false,
       "layout": "IPY_MODEL_49ef57d3f0954da0b00a170f33861ba8",
       "max": 71.0,
       "min": 0.0,
       "orientation": "horizontal",
       "style": "IPY_MODEL_c3bb6f65b7a44fec9f90ec8962a35c91",
       "tabbable": null,
       "tooltip": null,
       "value": 71.0
      }
     },
     "73b6016adb9e4ab89a195febef5a274c": {
      "model_module": "@jupyter-widgets/controls",
      "model_module_version": "2.0.0",
      "model_name": "HTMLStyleModel",
      "state": {
       "_model_module": "@jupyter-widgets/controls",
       "_model_module_version": "2.0.0",
       "_model_name": "HTMLStyleModel",
       "_view_count": null,
       "_view_module": "@jupyter-widgets/base",
       "_view_module_version": "2.0.0",
       "_view_name": "StyleView",
       "background": null,
       "description_width": "",
       "font_size": null,
       "text_color": null
      }
     },
     "7877135c162a4ebd865a761cfaa692b5": {
      "model_module": "@jupyter-widgets/controls",
      "model_module_version": "2.0.0",
      "model_name": "HTMLStyleModel",
      "state": {
       "_model_module": "@jupyter-widgets/controls",
       "_model_module_version": "2.0.0",
       "_model_name": "HTMLStyleModel",
       "_view_count": null,
       "_view_module": "@jupyter-widgets/base",
       "_view_module_version": "2.0.0",
       "_view_name": "StyleView",
       "background": null,
       "description_width": "",
       "font_size": null,
       "text_color": null
      }
     },
     "79d4c46be6094347b1b5b4fe0b4ed282": {
      "model_module": "@jupyter-widgets/base",
      "model_module_version": "2.0.0",
      "model_name": "LayoutModel",
      "state": {
       "_model_module": "@jupyter-widgets/base",
       "_model_module_version": "2.0.0",
       "_model_name": "LayoutModel",
       "_view_count": null,
       "_view_module": "@jupyter-widgets/base",
       "_view_module_version": "2.0.0",
       "_view_name": "LayoutView",
       "align_content": null,
       "align_items": null,
       "align_self": null,
       "border_bottom": null,
       "border_left": null,
       "border_right": null,
       "border_top": null,
       "bottom": null,
       "display": null,
       "flex": null,
       "flex_flow": null,
       "grid_area": null,
       "grid_auto_columns": null,
       "grid_auto_flow": null,
       "grid_auto_rows": null,
       "grid_column": null,
       "grid_gap": null,
       "grid_row": null,
       "grid_template_areas": null,
       "grid_template_columns": null,
       "grid_template_rows": null,
       "height": null,
       "justify_content": null,
       "justify_items": null,
       "left": null,
       "margin": null,
       "max_height": null,
       "max_width": null,
       "min_height": null,
       "min_width": null,
       "object_fit": null,
       "object_position": null,
       "order": null,
       "overflow": null,
       "padding": null,
       "right": null,
       "top": null,
       "visibility": null,
       "width": null
      }
     },
     "7e14361023bd4e8c9ecdde00392a7c62": {
      "model_module": "@jupyter-widgets/controls",
      "model_module_version": "2.0.0",
      "model_name": "HTMLModel",
      "state": {
       "_dom_classes": [],
       "_model_module": "@jupyter-widgets/controls",
       "_model_module_version": "2.0.0",
       "_model_name": "HTMLModel",
       "_view_count": null,
       "_view_module": "@jupyter-widgets/controls",
       "_view_module_version": "2.0.0",
       "_view_name": "HTMLView",
       "description": "",
       "description_allow_html": false,
       "layout": "IPY_MODEL_0ef4f67102e448d7b2266ba716b406c4",
       "placeholder": "​",
       "style": "IPY_MODEL_c2c315f87d6643a196cca07b0896dd5e",
       "tabbable": null,
       "tooltip": null,
       "value": " 720/0 [00:00&lt;00:00, 1896.38 examples/s]"
      }
     },
     "7e949f6feb6841ee86e731ffd24c820e": {
      "model_module": "@jupyter-widgets/controls",
      "model_module_version": "2.0.0",
      "model_name": "FloatProgressModel",
      "state": {
       "_dom_classes": [],
       "_model_module": "@jupyter-widgets/controls",
       "_model_module_version": "2.0.0",
       "_model_name": "FloatProgressModel",
       "_view_count": null,
       "_view_module": "@jupyter-widgets/controls",
       "_view_module_version": "2.0.0",
       "_view_name": "ProgressView",
       "bar_style": "success",
       "description": "",
       "description_allow_html": false,
       "layout": "IPY_MODEL_b0fb3bf01fa54ae6b5893898c9f05cd8",
       "max": 71.0,
       "min": 0.0,
       "orientation": "horizontal",
       "style": "IPY_MODEL_421aa60ab9714c01a22bb5c121cdc728",
       "tabbable": null,
       "tooltip": null,
       "value": 71.0
      }
     },
     "814650537b1d4f019b9d3300bda6ba4a": {
      "model_module": "@jupyter-widgets/base",
      "model_module_version": "2.0.0",
      "model_name": "LayoutModel",
      "state": {
       "_model_module": "@jupyter-widgets/base",
       "_model_module_version": "2.0.0",
       "_model_name": "LayoutModel",
       "_view_count": null,
       "_view_module": "@jupyter-widgets/base",
       "_view_module_version": "2.0.0",
       "_view_name": "LayoutView",
       "align_content": null,
       "align_items": null,
       "align_self": null,
       "border_bottom": null,
       "border_left": null,
       "border_right": null,
       "border_top": null,
       "bottom": null,
       "display": null,
       "flex": null,
       "flex_flow": null,
       "grid_area": null,
       "grid_auto_columns": null,
       "grid_auto_flow": null,
       "grid_auto_rows": null,
       "grid_column": null,
       "grid_gap": null,
       "grid_row": null,
       "grid_template_areas": null,
       "grid_template_columns": null,
       "grid_template_rows": null,
       "height": null,
       "justify_content": null,
       "justify_items": null,
       "left": null,
       "margin": null,
       "max_height": null,
       "max_width": null,
       "min_height": null,
       "min_width": null,
       "object_fit": null,
       "object_position": null,
       "order": null,
       "overflow": null,
       "padding": null,
       "right": null,
       "top": null,
       "visibility": null,
       "width": null
      }
     },
     "86bcafc8da2c4703b357bfe6602ff8cc": {
      "model_module": "@jupyter-widgets/controls",
      "model_module_version": "2.0.0",
      "model_name": "ProgressStyleModel",
      "state": {
       "_model_module": "@jupyter-widgets/controls",
       "_model_module_version": "2.0.0",
       "_model_name": "ProgressStyleModel",
       "_view_count": null,
       "_view_module": "@jupyter-widgets/base",
       "_view_module_version": "2.0.0",
       "_view_name": "StyleView",
       "bar_color": null,
       "description_width": ""
      }
     },
     "8773a18452e34d3ebabc65be7be8a7a1": {
      "model_module": "@jupyter-widgets/controls",
      "model_module_version": "2.0.0",
      "model_name": "FloatProgressModel",
      "state": {
       "_dom_classes": [],
       "_model_module": "@jupyter-widgets/controls",
       "_model_module_version": "2.0.0",
       "_model_name": "FloatProgressModel",
       "_view_count": null,
       "_view_module": "@jupyter-widgets/controls",
       "_view_module_version": "2.0.0",
       "_view_name": "ProgressView",
       "bar_style": "success",
       "description": "",
       "description_allow_html": false,
       "layout": "IPY_MODEL_46e1666640534189a98534e5f702571c",
       "max": 1.0,
       "min": 0.0,
       "orientation": "horizontal",
       "style": "IPY_MODEL_03de3d0001a04fd4967a4252740c5ed2",
       "tabbable": null,
       "tooltip": null,
       "value": 1.0
      }
     },
     "8aace38dfed1400c8a706f0db631984d": {
      "model_module": "@jupyter-widgets/controls",
      "model_module_version": "2.0.0",
      "model_name": "HTMLModel",
      "state": {
       "_dom_classes": [],
       "_model_module": "@jupyter-widgets/controls",
       "_model_module_version": "2.0.0",
       "_model_name": "HTMLModel",
       "_view_count": null,
       "_view_module": "@jupyter-widgets/controls",
       "_view_module_version": "2.0.0",
       "_view_name": "HTMLView",
       "description": "",
       "description_allow_html": false,
       "layout": "IPY_MODEL_55c2bf8780714bf3a08a4e189a63d5ee",
       "placeholder": "​",
       "style": "IPY_MODEL_ad29acb70b924b90937949615b4453da",
       "tabbable": null,
       "tooltip": null,
       "value": "Generating train split: "
      }
     },
     "8d681f6d30be4ece9b33c5a284feb297": {
      "model_module": "@jupyter-widgets/base",
      "model_module_version": "2.0.0",
      "model_name": "LayoutModel",
      "state": {
       "_model_module": "@jupyter-widgets/base",
       "_model_module_version": "2.0.0",
       "_model_name": "LayoutModel",
       "_view_count": null,
       "_view_module": "@jupyter-widgets/base",
       "_view_module_version": "2.0.0",
       "_view_name": "LayoutView",
       "align_content": null,
       "align_items": null,
       "align_self": null,
       "border_bottom": null,
       "border_left": null,
       "border_right": null,
       "border_top": null,
       "bottom": null,
       "display": null,
       "flex": null,
       "flex_flow": null,
       "grid_area": null,
       "grid_auto_columns": null,
       "grid_auto_flow": null,
       "grid_auto_rows": null,
       "grid_column": null,
       "grid_gap": null,
       "grid_row": null,
       "grid_template_areas": null,
       "grid_template_columns": null,
       "grid_template_rows": null,
       "height": null,
       "justify_content": null,
       "justify_items": null,
       "left": null,
       "margin": null,
       "max_height": null,
       "max_width": null,
       "min_height": null,
       "min_width": null,
       "object_fit": null,
       "object_position": null,
       "order": null,
       "overflow": null,
       "padding": null,
       "right": null,
       "top": null,
       "visibility": null,
       "width": null
      }
     },
     "9d1e2856807a4d4ab744925f46998f7c": {
      "model_module": "@jupyter-widgets/base",
      "model_module_version": "2.0.0",
      "model_name": "LayoutModel",
      "state": {
       "_model_module": "@jupyter-widgets/base",
       "_model_module_version": "2.0.0",
       "_model_name": "LayoutModel",
       "_view_count": null,
       "_view_module": "@jupyter-widgets/base",
       "_view_module_version": "2.0.0",
       "_view_name": "LayoutView",
       "align_content": null,
       "align_items": null,
       "align_self": null,
       "border_bottom": null,
       "border_left": null,
       "border_right": null,
       "border_top": null,
       "bottom": null,
       "display": null,
       "flex": null,
       "flex_flow": null,
       "grid_area": null,
       "grid_auto_columns": null,
       "grid_auto_flow": null,
       "grid_auto_rows": null,
       "grid_column": null,
       "grid_gap": null,
       "grid_row": null,
       "grid_template_areas": null,
       "grid_template_columns": null,
       "grid_template_rows": null,
       "height": null,
       "justify_content": null,
       "justify_items": null,
       "left": null,
       "margin": null,
       "max_height": null,
       "max_width": null,
       "min_height": null,
       "min_width": null,
       "object_fit": null,
       "object_position": null,
       "order": null,
       "overflow": null,
       "padding": null,
       "right": null,
       "top": null,
       "visibility": null,
       "width": null
      }
     },
     "a3c019f0604b486f974529ba99737a45": {
      "model_module": "@jupyter-widgets/controls",
      "model_module_version": "2.0.0",
      "model_name": "HBoxModel",
      "state": {
       "_dom_classes": [],
       "_model_module": "@jupyter-widgets/controls",
       "_model_module_version": "2.0.0",
       "_model_name": "HBoxModel",
       "_view_count": null,
       "_view_module": "@jupyter-widgets/controls",
       "_view_module_version": "2.0.0",
       "_view_name": "HBoxView",
       "box_style": "",
       "children": [
        "IPY_MODEL_8aace38dfed1400c8a706f0db631984d",
        "IPY_MODEL_8773a18452e34d3ebabc65be7be8a7a1",
        "IPY_MODEL_7e14361023bd4e8c9ecdde00392a7c62"
       ],
       "layout": "IPY_MODEL_167e080c8ba24666846d5f906f155a0c",
       "tabbable": null,
       "tooltip": null
      }
     },
     "a5ca2ffbb8474535a35407152dd82ab6": {
      "model_module": "@jupyter-widgets/controls",
      "model_module_version": "2.0.0",
      "model_name": "HTMLStyleModel",
      "state": {
       "_model_module": "@jupyter-widgets/controls",
       "_model_module_version": "2.0.0",
       "_model_name": "HTMLStyleModel",
       "_view_count": null,
       "_view_module": "@jupyter-widgets/base",
       "_view_module_version": "2.0.0",
       "_view_name": "StyleView",
       "background": null,
       "description_width": "",
       "font_size": null,
       "text_color": null
      }
     },
     "a73f162ae78244d88fb46b19f6d07fac": {
      "model_module": "@jupyter-widgets/controls",
      "model_module_version": "2.0.0",
      "model_name": "HBoxModel",
      "state": {
       "_dom_classes": [],
       "_model_module": "@jupyter-widgets/controls",
       "_model_module_version": "2.0.0",
       "_model_name": "HBoxModel",
       "_view_count": null,
       "_view_module": "@jupyter-widgets/controls",
       "_view_module_version": "2.0.0",
       "_view_name": "HBoxView",
       "box_style": "",
       "children": [
        "IPY_MODEL_0eb4a1f715f442159ddcb2fa3d178635",
        "IPY_MODEL_6c46cdcbe27c4acc9e95148f571074a7",
        "IPY_MODEL_085fa2f0c8974a8c966e511210efc031"
       ],
       "layout": "IPY_MODEL_589cc00979b448659ffdffb94feca783",
       "tabbable": null,
       "tooltip": null
      }
     },
     "aa1cd664a9ee498b950eef5ee5ebe5ab": {
      "model_module": "@jupyter-widgets/controls",
      "model_module_version": "2.0.0",
      "model_name": "HBoxModel",
      "state": {
       "_dom_classes": [],
       "_model_module": "@jupyter-widgets/controls",
       "_model_module_version": "2.0.0",
       "_model_name": "HBoxModel",
       "_view_count": null,
       "_view_module": "@jupyter-widgets/controls",
       "_view_module_version": "2.0.0",
       "_view_name": "HBoxView",
       "box_style": "",
       "children": [
        "IPY_MODEL_054d63466aa841e1b9c1798b8d21be35",
        "IPY_MODEL_7e949f6feb6841ee86e731ffd24c820e",
        "IPY_MODEL_37387d8abfcd4a749eb424ec3882627d"
       ],
       "layout": "IPY_MODEL_4e9b4455bcdf40c3a29eb3864929a752",
       "tabbable": null,
       "tooltip": null
      }
     },
     "ad29acb70b924b90937949615b4453da": {
      "model_module": "@jupyter-widgets/controls",
      "model_module_version": "2.0.0",
      "model_name": "HTMLStyleModel",
      "state": {
       "_model_module": "@jupyter-widgets/controls",
       "_model_module_version": "2.0.0",
       "_model_name": "HTMLStyleModel",
       "_view_count": null,
       "_view_module": "@jupyter-widgets/base",
       "_view_module_version": "2.0.0",
       "_view_name": "StyleView",
       "background": null,
       "description_width": "",
       "font_size": null,
       "text_color": null
      }
     },
     "b0fb3bf01fa54ae6b5893898c9f05cd8": {
      "model_module": "@jupyter-widgets/base",
      "model_module_version": "2.0.0",
      "model_name": "LayoutModel",
      "state": {
       "_model_module": "@jupyter-widgets/base",
       "_model_module_version": "2.0.0",
       "_model_name": "LayoutModel",
       "_view_count": null,
       "_view_module": "@jupyter-widgets/base",
       "_view_module_version": "2.0.0",
       "_view_name": "LayoutView",
       "align_content": null,
       "align_items": null,
       "align_self": null,
       "border_bottom": null,
       "border_left": null,
       "border_right": null,
       "border_top": null,
       "bottom": null,
       "display": null,
       "flex": null,
       "flex_flow": null,
       "grid_area": null,
       "grid_auto_columns": null,
       "grid_auto_flow": null,
       "grid_auto_rows": null,
       "grid_column": null,
       "grid_gap": null,
       "grid_row": null,
       "grid_template_areas": null,
       "grid_template_columns": null,
       "grid_template_rows": null,
       "height": null,
       "justify_content": null,
       "justify_items": null,
       "left": null,
       "margin": null,
       "max_height": null,
       "max_width": null,
       "min_height": null,
       "min_width": null,
       "object_fit": null,
       "object_position": null,
       "order": null,
       "overflow": null,
       "padding": null,
       "right": null,
       "top": null,
       "visibility": null,
       "width": null
      }
     },
     "be411142bab140308e07c3f9ac4d024b": {
      "model_module": "@jupyter-widgets/controls",
      "model_module_version": "2.0.0",
      "model_name": "HBoxModel",
      "state": {
       "_dom_classes": [],
       "_model_module": "@jupyter-widgets/controls",
       "_model_module_version": "2.0.0",
       "_model_name": "HBoxModel",
       "_view_count": null,
       "_view_module": "@jupyter-widgets/controls",
       "_view_module_version": "2.0.0",
       "_view_name": "HBoxView",
       "box_style": "",
       "children": [
        "IPY_MODEL_f09800f4b75748ebb364048159a5fadf",
        "IPY_MODEL_e33cb5f1878c48e29177b8c75b455cb0",
        "IPY_MODEL_cc2f7c5f9ab54b37948fb113e0d9e22f"
       ],
       "layout": "IPY_MODEL_669a714ce12d463a89b474fea803172b",
       "tabbable": null,
       "tooltip": null
      }
     },
     "c2c315f87d6643a196cca07b0896dd5e": {
      "model_module": "@jupyter-widgets/controls",
      "model_module_version": "2.0.0",
      "model_name": "HTMLStyleModel",
      "state": {
       "_model_module": "@jupyter-widgets/controls",
       "_model_module_version": "2.0.0",
       "_model_name": "HTMLStyleModel",
       "_view_count": null,
       "_view_module": "@jupyter-widgets/base",
       "_view_module_version": "2.0.0",
       "_view_name": "StyleView",
       "background": null,
       "description_width": "",
       "font_size": null,
       "text_color": null
      }
     },
     "c3bb6f65b7a44fec9f90ec8962a35c91": {
      "model_module": "@jupyter-widgets/controls",
      "model_module_version": "2.0.0",
      "model_name": "ProgressStyleModel",
      "state": {
       "_model_module": "@jupyter-widgets/controls",
       "_model_module_version": "2.0.0",
       "_model_name": "ProgressStyleModel",
       "_view_count": null,
       "_view_module": "@jupyter-widgets/base",
       "_view_module_version": "2.0.0",
       "_view_name": "StyleView",
       "bar_color": null,
       "description_width": ""
      }
     },
     "cc2f7c5f9ab54b37948fb113e0d9e22f": {
      "model_module": "@jupyter-widgets/controls",
      "model_module_version": "2.0.0",
      "model_name": "HTMLModel",
      "state": {
       "_dom_classes": [],
       "_model_module": "@jupyter-widgets/controls",
       "_model_module_version": "2.0.0",
       "_model_name": "HTMLModel",
       "_view_count": null,
       "_view_module": "@jupyter-widgets/controls",
       "_view_module_version": "2.0.0",
       "_view_name": "HTMLView",
       "description": "",
       "description_allow_html": false,
       "layout": "IPY_MODEL_9d1e2856807a4d4ab744925f46998f7c",
       "placeholder": "​",
       "style": "IPY_MODEL_73b6016adb9e4ab89a195febef5a274c",
       "tabbable": null,
       "tooltip": null,
       "value": " 71/71 [00:00&lt;00:00, 6499.53files/s]"
      }
     },
     "ded0f961dae4437daee02be568b9722d": {
      "model_module": "@jupyter-widgets/controls",
      "model_module_version": "2.0.0",
      "model_name": "HTMLStyleModel",
      "state": {
       "_model_module": "@jupyter-widgets/controls",
       "_model_module_version": "2.0.0",
       "_model_name": "HTMLStyleModel",
       "_view_count": null,
       "_view_module": "@jupyter-widgets/base",
       "_view_module_version": "2.0.0",
       "_view_name": "StyleView",
       "background": null,
       "description_width": "",
       "font_size": null,
       "text_color": null
      }
     },
     "e33cb5f1878c48e29177b8c75b455cb0": {
      "model_module": "@jupyter-widgets/controls",
      "model_module_version": "2.0.0",
      "model_name": "FloatProgressModel",
      "state": {
       "_dom_classes": [],
       "_model_module": "@jupyter-widgets/controls",
       "_model_module_version": "2.0.0",
       "_model_name": "FloatProgressModel",
       "_view_count": null,
       "_view_module": "@jupyter-widgets/controls",
       "_view_module_version": "2.0.0",
       "_view_name": "ProgressView",
       "bar_style": "success",
       "description": "",
       "description_allow_html": false,
       "layout": "IPY_MODEL_814650537b1d4f019b9d3300bda6ba4a",
       "max": 71.0,
       "min": 0.0,
       "orientation": "horizontal",
       "style": "IPY_MODEL_86bcafc8da2c4703b357bfe6602ff8cc",
       "tabbable": null,
       "tooltip": null,
       "value": 71.0
      }
     },
     "f09800f4b75748ebb364048159a5fadf": {
      "model_module": "@jupyter-widgets/controls",
      "model_module_version": "2.0.0",
      "model_name": "HTMLModel",
      "state": {
       "_dom_classes": [],
       "_model_module": "@jupyter-widgets/controls",
       "_model_module_version": "2.0.0",
       "_model_name": "HTMLModel",
       "_view_count": null,
       "_view_module": "@jupyter-widgets/controls",
       "_view_module_version": "2.0.0",
       "_view_name": "HTMLView",
       "description": "",
       "description_allow_html": false,
       "layout": "IPY_MODEL_463c7c24b77e4a529d2b223b12e18511",
       "placeholder": "​",
       "style": "IPY_MODEL_a5ca2ffbb8474535a35407152dd82ab6",
       "tabbable": null,
       "tooltip": null,
       "value": "Downloading data: 100%"
      }
     },
     "fdba6781777040acb279af732897fc49": {
      "model_module": "@jupyter-widgets/controls",
      "model_module_version": "2.0.0",
      "model_name": "HTMLStyleModel",
      "state": {
       "_model_module": "@jupyter-widgets/controls",
       "_model_module_version": "2.0.0",
       "_model_name": "HTMLStyleModel",
       "_view_count": null,
       "_view_module": "@jupyter-widgets/base",
       "_view_module_version": "2.0.0",
       "_view_name": "StyleView",
       "background": null,
       "description_width": "",
       "font_size": null,
       "text_color": null
      }
     }
    },
    "version_major": 2,
    "version_minor": 0
   }
  }
 },
 "nbformat": 4,
 "nbformat_minor": 5
}
