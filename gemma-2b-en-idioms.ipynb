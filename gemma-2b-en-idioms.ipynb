{
 "cells": [
  {
   "cell_type": "markdown",
   "id": "6bbcae85",
   "metadata": {
    "papermill": {
     "duration": 0.004847,
     "end_time": "2024-12-26T14:28:23.613226",
     "exception": false,
     "start_time": "2024-12-26T14:28:23.608379",
     "status": "completed"
    },
    "tags": []
   },
   "source": [
    "## Import Dataset and Gemma-2b-en model.\n",
    "This dataset consists of 10 idiom samples from each language mentioned in the competition description, along with their literal, figurative meanings and example usage.\n",
    "\n",
    "My aim with this fine-tuning approach was to create a version of Gemma2 which can understand idioms and preach them like wise owl ;)"
   ]
  },
  {
   "cell_type": "code",
   "execution_count": 1,
   "id": "33d68799",
   "metadata": {
    "_cell_guid": "b1076dfc-b9ad-4769-8c92-a6c4dae69d19",
    "_kg_hide-output": true,
    "_uuid": "8f2839f25d086af736a60e9eeb907d3b93b6e0e5",
    "execution": {
     "iopub.execute_input": "2024-12-26T14:28:23.622644Z",
     "iopub.status.busy": "2024-12-26T14:28:23.622310Z",
     "iopub.status.idle": "2024-12-26T14:28:24.451515Z",
     "shell.execute_reply": "2024-12-26T14:28:24.450201Z"
    },
    "papermill": {
     "duration": 0.835937,
     "end_time": "2024-12-26T14:28:24.453269",
     "exception": false,
     "start_time": "2024-12-26T14:28:23.617332",
     "status": "completed"
    },
    "scrolled": true,
    "tags": []
   },
   "outputs": [
    {
     "name": "stdout",
     "output_type": "stream",
     "text": [
      "/kaggle/input/multilingual-idioms-indian/Gemma/burmese.json\n",
      "/kaggle/input/multilingual-idioms-indian/Gemma/malayalam.json\n",
      "/kaggle/input/multilingual-idioms-indian/Gemma/nepali.json\n",
      "/kaggle/input/multilingual-idioms-indian/Gemma/catalan.json\n",
      "/kaggle/input/multilingual-idioms-indian/Gemma/hindi.json\n",
      "/kaggle/input/multilingual-idioms-indian/Gemma/croatian.json\n",
      "/kaggle/input/multilingual-idioms-indian/Gemma/slovak.json\n",
      "/kaggle/input/multilingual-idioms-indian/Gemma/finnish.json\n",
      "/kaggle/input/multilingual-idioms-indian/Gemma/icelandic.json\n",
      "/kaggle/input/multilingual-idioms-indian/Gemma/ukrainian.json\n",
      "/kaggle/input/multilingual-idioms-indian/Gemma/thai.json\n",
      "/kaggle/input/multilingual-idioms-indian/Gemma/swahili.json\n",
      "/kaggle/input/multilingual-idioms-indian/Gemma/punjabi.json\n",
      "/kaggle/input/multilingual-idioms-indian/Gemma/kyrgyz.json\n",
      "/kaggle/input/multilingual-idioms-indian/Gemma/bengali(bangla).json\n",
      "/kaggle/input/multilingual-idioms-indian/Gemma/gujrati.json\n",
      "/kaggle/input/multilingual-idioms-indian/Gemma/indonesian.json\n",
      "/kaggle/input/multilingual-idioms-indian/Gemma/khmer.json\n",
      "/kaggle/input/multilingual-idioms-indian/Gemma/russian.json\n",
      "/kaggle/input/multilingual-idioms-indian/Gemma/sinhala.json\n",
      "/kaggle/input/multilingual-idioms-indian/Gemma/marathi.json\n",
      "/kaggle/input/multilingual-idioms-indian/Gemma/latvian.json\n",
      "/kaggle/input/multilingual-idioms-indian/Gemma/filipino.json\n",
      "/kaggle/input/multilingual-idioms-indian/Gemma/portuguese.json\n",
      "/kaggle/input/multilingual-idioms-indian/Gemma/swedish.json\n",
      "/kaggle/input/multilingual-idioms-indian/Gemma/hungarian.json\n",
      "/kaggle/input/multilingual-idioms-indian/Gemma/kannada.json\n",
      "/kaggle/input/multilingual-idioms-indian/Gemma/kazakh.json\n",
      "/kaggle/input/multilingual-idioms-indian/Gemma/uzbek.json\n",
      "/kaggle/input/multilingual-idioms-indian/Gemma/macedonian.json\n",
      "/kaggle/input/multilingual-idioms-indian/Gemma/slovenian.json\n",
      "/kaggle/input/multilingual-idioms-indian/Gemma/telugu.json\n",
      "/kaggle/input/multilingual-idioms-indian/Gemma/bulgarian.json\n",
      "/kaggle/input/multilingual-idioms-indian/Gemma/mongolian.json\n",
      "/kaggle/input/multilingual-idioms-indian/Gemma/english(british).json\n",
      "/kaggle/input/multilingual-idioms-indian/Gemma/spanish(latin-american).json\n",
      "/kaggle/input/multilingual-idioms-indian/Gemma/turkish.json\n",
      "/kaggle/input/multilingual-idioms-indian/Gemma/czech.json\n",
      "/kaggle/input/multilingual-idioms-indian/Gemma/english.json\n",
      "/kaggle/input/multilingual-idioms-indian/Gemma/Chinese(traditional).json\n",
      "/kaggle/input/multilingual-idioms-indian/Gemma/armenian.json\n",
      "/kaggle/input/multilingual-idioms-indian/Gemma/italian.json\n",
      "/kaggle/input/multilingual-idioms-indian/Gemma/japanese.json\n",
      "/kaggle/input/multilingual-idioms-indian/Gemma/german.json\n",
      "/kaggle/input/multilingual-idioms-indian/Gemma/albanian.json\n",
      "/kaggle/input/multilingual-idioms-indian/Gemma/dutch.json\n",
      "/kaggle/input/multilingual-idioms-indian/Gemma/polish.json\n",
      "/kaggle/input/multilingual-idioms-indian/Gemma/malay.json\n",
      "/kaggle/input/multilingual-idioms-indian/Gemma/french(european).json\n",
      "/kaggle/input/multilingual-idioms-indian/Gemma/lao.json\n",
      "/kaggle/input/multilingual-idioms-indian/Gemma/persian.json\n",
      "/kaggle/input/multilingual-idioms-indian/Gemma/vietnamese.json\n",
      "/kaggle/input/multilingual-idioms-indian/Gemma/romanian.json\n",
      "/kaggle/input/multilingual-idioms-indian/Gemma/serbian.json\n",
      "/kaggle/input/multilingual-idioms-indian/Gemma/tamil.json\n",
      "/kaggle/input/multilingual-idioms-indian/Gemma/hebrew.json\n",
      "/kaggle/input/multilingual-idioms-indian/Gemma/azerbaijani.json\n",
      "/kaggle/input/multilingual-idioms-indian/Gemma/estonian.json\n",
      "/kaggle/input/multilingual-idioms-indian/Gemma/spanish(european).json\n",
      "/kaggle/input/multilingual-idioms-indian/Gemma/portuguese(european).json\n",
      "/kaggle/input/multilingual-idioms-indian/Gemma/korean.json\n",
      "/kaggle/input/multilingual-idioms-indian/Gemma/lithuanian.json\n",
      "/kaggle/input/multilingual-idioms-indian/Gemma/norwegian(Bokml).json\n",
      "/kaggle/input/multilingual-idioms-indian/Gemma/Chinese(simplified).json\n",
      "/kaggle/input/multilingual-idioms-indian/Gemma/greek.json\n",
      "/kaggle/input/multilingual-idioms-indian/Gemma/serbian(latin).json\n",
      "/kaggle/input/multilingual-idioms-indian/Gemma/danish.json\n",
      "/kaggle/input/multilingual-idioms-indian/Gemma/urdu.json\n",
      "/kaggle/input/multilingual-idioms-indian/Gemma/afrikaans.json\n",
      "/kaggle/input/multilingual-idioms-indian/Gemma/georgian.json\n",
      "/kaggle/input/multilingual-idioms-indian/Gemma/Arabic(modern standard).json\n",
      "/kaggle/input/gemma2/keras/gemma2_2b_en/1/config.json\n",
      "/kaggle/input/gemma2/keras/gemma2_2b_en/1/tokenizer.json\n",
      "/kaggle/input/gemma2/keras/gemma2_2b_en/1/metadata.json\n",
      "/kaggle/input/gemma2/keras/gemma2_2b_en/1/model.weights.h5\n",
      "/kaggle/input/gemma2/keras/gemma2_2b_en/1/assets/tokenizer/vocabulary.spm\n"
     ]
    }
   ],
   "source": [
    "import pandas as pd # data processing, CSV file I/O (e.g. pd.read_json)\n",
    "\n",
    "import os\n",
    "for dirname, _, filenames in os.walk('/kaggle/input'):\n",
    "    for filename in filenames:\n",
    "        print(os.path.join(dirname, filename))"
   ]
  },
  {
   "cell_type": "markdown",
   "id": "b1556a67",
   "metadata": {
    "papermill": {
     "duration": 0.004003,
     "end_time": "2024-12-26T14:28:24.461856",
     "exception": false,
     "start_time": "2024-12-26T14:28:24.457853",
     "status": "completed"
    },
    "tags": []
   },
   "source": [
    "You can sample the dataset like this.\n"
   ]
  },
  {
   "cell_type": "code",
   "execution_count": 2,
   "id": "26eb73b4",
   "metadata": {
    "execution": {
     "iopub.execute_input": "2024-12-26T14:28:24.470901Z",
     "iopub.status.busy": "2024-12-26T14:28:24.470492Z",
     "iopub.status.idle": "2024-12-26T14:28:24.501750Z",
     "shell.execute_reply": "2024-12-26T14:28:24.500958Z"
    },
    "papermill": {
     "duration": 0.037036,
     "end_time": "2024-12-26T14:28:24.502925",
     "exception": false,
     "start_time": "2024-12-26T14:28:24.465889",
     "status": "completed"
    },
    "tags": []
   },
   "outputs": [
    {
     "data": {
      "text/html": [
       "<div>\n",
       "<style scoped>\n",
       "    .dataframe tbody tr th:only-of-type {\n",
       "        vertical-align: middle;\n",
       "    }\n",
       "\n",
       "    .dataframe tbody tr th {\n",
       "        vertical-align: top;\n",
       "    }\n",
       "\n",
       "    .dataframe thead th {\n",
       "        text-align: right;\n",
       "    }\n",
       "</style>\n",
       "<table border=\"1\" class=\"dataframe\">\n",
       "  <thead>\n",
       "    <tr style=\"text-align: right;\">\n",
       "      <th></th>\n",
       "      <th>idiom</th>\n",
       "      <th>literal_meaning</th>\n",
       "      <th>figurative_meaning</th>\n",
       "      <th>example</th>\n",
       "      <th>language</th>\n",
       "    </tr>\n",
       "  </thead>\n",
       "  <tbody>\n",
       "    <tr>\n",
       "      <th>0</th>\n",
       "      <td>Ateşle oynamak</td>\n",
       "      <td>To play with fire.</td>\n",
       "      <td>To take dangerous risks.</td>\n",
       "      <td>Investing in that company is like ateşle oynamak.</td>\n",
       "      <td>Turkish</td>\n",
       "    </tr>\n",
       "    <tr>\n",
       "      <th>1</th>\n",
       "      <td>Göz var nizam var</td>\n",
       "      <td>There is an eye, there is order.</td>\n",
       "      <td>Things should be done properly.</td>\n",
       "      <td>We need to organize this event well; göz var n...</td>\n",
       "      <td>Turkish</td>\n",
       "    </tr>\n",
       "    <tr>\n",
       "      <th>2</th>\n",
       "      <td>Dost acı söyler</td>\n",
       "      <td>A friend speaks bitterly.</td>\n",
       "      <td>True friends tell the truth, even if it's harsh.</td>\n",
       "      <td>He told me the truth about my performance; dos...</td>\n",
       "      <td>Turkish</td>\n",
       "    </tr>\n",
       "    <tr>\n",
       "      <th>3</th>\n",
       "      <td>Sakla samanı gelir zamanı</td>\n",
       "      <td>Save the straw; its time will come.</td>\n",
       "      <td>Everything has its purpose and time.</td>\n",
       "      <td>You never know when you might need it; sakla s...</td>\n",
       "      <td>Turkish</td>\n",
       "    </tr>\n",
       "    <tr>\n",
       "      <th>4</th>\n",
       "      <td>Bir elin nesi var, iki elin sesi var</td>\n",
       "      <td>What does one hand have? Two hands have a voice.</td>\n",
       "      <td>Teamwork achieves more than individual effort.</td>\n",
       "      <td>Together we can achieve great things; bir elin...</td>\n",
       "      <td>Turkish</td>\n",
       "    </tr>\n",
       "    <tr>\n",
       "      <th>5</th>\n",
       "      <td>Gülü seven dikenine katlanır</td>\n",
       "      <td>He who loves roses must endure its thorns.</td>\n",
       "      <td>Love comes with challenges.</td>\n",
       "      <td>If you want to be in a relationship, remember:...</td>\n",
       "      <td>Turkish</td>\n",
       "    </tr>\n",
       "    <tr>\n",
       "      <th>6</th>\n",
       "      <td>Ayağını yorganına göre uzat</td>\n",
       "      <td>Stretch your leg according to your blanket.</td>\n",
       "      <td>Live within your means.</td>\n",
       "      <td>Don’t spend too much money; ayağını yorganına ...</td>\n",
       "      <td>Turkish</td>\n",
       "    </tr>\n",
       "    <tr>\n",
       "      <th>7</th>\n",
       "      <td>Damlaya damlaya göl olur</td>\n",
       "      <td>Drop by drop, a lake forms.</td>\n",
       "      <td>Small efforts accumulate to create something s...</td>\n",
       "      <td>Keep saving money; damlaya damlaya göl olur.</td>\n",
       "      <td>Turkish</td>\n",
       "    </tr>\n",
       "    <tr>\n",
       "      <th>8</th>\n",
       "      <td>Kervan yolda düzülür</td>\n",
       "      <td>The caravan is arranged on the road.</td>\n",
       "      <td>Plans can be adjusted as you go.</td>\n",
       "      <td>We’ll figure it out along the way; kervan yold...</td>\n",
       "      <td>Turkish</td>\n",
       "    </tr>\n",
       "    <tr>\n",
       "      <th>9</th>\n",
       "      <td>Söz gümüşse, sükût altındır</td>\n",
       "      <td>If speech is silver, silence is golden.</td>\n",
       "      <td>Sometimes it’s better to remain silent.</td>\n",
       "      <td>In some situations, söz gümüşse, sükût altındır.</td>\n",
       "      <td>Turkish</td>\n",
       "    </tr>\n",
       "  </tbody>\n",
       "</table>\n",
       "</div>"
      ],
      "text/plain": [
       "                                  idiom  \\\n",
       "0                        Ateşle oynamak   \n",
       "1                     Göz var nizam var   \n",
       "2                       Dost acı söyler   \n",
       "3             Sakla samanı gelir zamanı   \n",
       "4  Bir elin nesi var, iki elin sesi var   \n",
       "5          Gülü seven dikenine katlanır   \n",
       "6           Ayağını yorganına göre uzat   \n",
       "7              Damlaya damlaya göl olur   \n",
       "8                  Kervan yolda düzülür   \n",
       "9           Söz gümüşse, sükût altındır   \n",
       "\n",
       "                                    literal_meaning  \\\n",
       "0                                To play with fire.   \n",
       "1                  There is an eye, there is order.   \n",
       "2                         A friend speaks bitterly.   \n",
       "3               Save the straw; its time will come.   \n",
       "4  What does one hand have? Two hands have a voice.   \n",
       "5        He who loves roses must endure its thorns.   \n",
       "6       Stretch your leg according to your blanket.   \n",
       "7                       Drop by drop, a lake forms.   \n",
       "8              The caravan is arranged on the road.   \n",
       "9           If speech is silver, silence is golden.   \n",
       "\n",
       "                                  figurative_meaning  \\\n",
       "0                           To take dangerous risks.   \n",
       "1                    Things should be done properly.   \n",
       "2   True friends tell the truth, even if it's harsh.   \n",
       "3               Everything has its purpose and time.   \n",
       "4     Teamwork achieves more than individual effort.   \n",
       "5                        Love comes with challenges.   \n",
       "6                            Live within your means.   \n",
       "7  Small efforts accumulate to create something s...   \n",
       "8                   Plans can be adjusted as you go.   \n",
       "9            Sometimes it’s better to remain silent.   \n",
       "\n",
       "                                             example language  \n",
       "0  Investing in that company is like ateşle oynamak.  Turkish  \n",
       "1  We need to organize this event well; göz var n...  Turkish  \n",
       "2  He told me the truth about my performance; dos...  Turkish  \n",
       "3  You never know when you might need it; sakla s...  Turkish  \n",
       "4  Together we can achieve great things; bir elin...  Turkish  \n",
       "5  If you want to be in a relationship, remember:...  Turkish  \n",
       "6  Don’t spend too much money; ayağını yorganına ...  Turkish  \n",
       "7       Keep saving money; damlaya damlaya göl olur.  Turkish  \n",
       "8  We’ll figure it out along the way; kervan yold...  Turkish  \n",
       "9   In some situations, söz gümüşse, sükût altındır.  Turkish  "
      ]
     },
     "execution_count": 2,
     "metadata": {},
     "output_type": "execute_result"
    }
   ],
   "source": [
    "df= pd.read_json('/kaggle/input/multilingual-idioms-indian/Gemma/turkish.json')\n",
    "df"
   ]
  },
  {
   "cell_type": "markdown",
   "id": "6c22be6e",
   "metadata": {
    "papermill": {
     "duration": 0.004229,
     "end_time": "2024-12-26T14:28:24.511703",
     "exception": false,
     "start_time": "2024-12-26T14:28:24.507474",
     "status": "completed"
    },
    "tags": []
   },
   "source": [
    "# Set up of Environment before loading Gemma Model"
   ]
  },
  {
   "cell_type": "markdown",
   "id": "a5fe7f5f",
   "metadata": {
    "papermill": {
     "duration": 0.004134,
     "end_time": "2024-12-26T14:28:24.520257",
     "exception": false,
     "start_time": "2024-12-26T14:28:24.516123",
     "status": "completed"
    },
    "tags": []
   },
   "source": [
    "### Explanation for Environment Setup\n",
    "\n",
    "- **`keras-nlp`**: Provides tools for NLP tasks, including tokenizers, pre-trained models, and samplers like `TopKSampler`.\n",
    "- **`keras`**: Deep learning library used to build and train models, with the latest version ensuring compatibility with new APIs."
   ]
  },
  {
   "cell_type": "code",
   "execution_count": 3,
   "id": "aebdbb2d",
   "metadata": {
    "execution": {
     "iopub.execute_input": "2024-12-26T14:28:24.529499Z",
     "iopub.status.busy": "2024-12-26T14:28:24.529232Z",
     "iopub.status.idle": "2024-12-26T14:28:34.675146Z",
     "shell.execute_reply": "2024-12-26T14:28:34.673940Z"
    },
    "papermill": {
     "duration": 10.152608,
     "end_time": "2024-12-26T14:28:34.677058",
     "exception": false,
     "start_time": "2024-12-26T14:28:24.524450",
     "status": "completed"
    },
    "tags": []
   },
   "outputs": [],
   "source": [
    "!pip install -q -U keras-nlp\n",
    "!pip install -q -U keras>=3"
   ]
  },
  {
   "cell_type": "code",
   "execution_count": 4,
   "id": "d75f16ea",
   "metadata": {
    "execution": {
     "iopub.execute_input": "2024-12-26T14:28:34.687476Z",
     "iopub.status.busy": "2024-12-26T14:28:34.687212Z",
     "iopub.status.idle": "2024-12-26T14:28:34.690878Z",
     "shell.execute_reply": "2024-12-26T14:28:34.690190Z"
    },
    "papermill": {
     "duration": 0.01002,
     "end_time": "2024-12-26T14:28:34.692046",
     "exception": false,
     "start_time": "2024-12-26T14:28:34.682026",
     "status": "completed"
    },
    "tags": []
   },
   "outputs": [],
   "source": [
    "#We configure our environment to use JAX as the backend for Keras\n",
    "#and to maximize GPU memory allocation for XLA.\n",
    "import os\n",
    "os.environ['KERAS_BACKEND'] = 'jax'\n",
    "os.environ[\"XLA_PYTHON_CLIENT_MEM_FRACTION\"]=\"1.00\""
   ]
  },
  {
   "cell_type": "code",
   "execution_count": 5,
   "id": "32ab889d",
   "metadata": {
    "execution": {
     "iopub.execute_input": "2024-12-26T14:28:34.701892Z",
     "iopub.status.busy": "2024-12-26T14:28:34.701627Z",
     "iopub.status.idle": "2024-12-26T14:28:43.436202Z",
     "shell.execute_reply": "2024-12-26T14:28:43.435470Z"
    },
    "papermill": {
     "duration": 8.74115,
     "end_time": "2024-12-26T14:28:43.437729",
     "exception": false,
     "start_time": "2024-12-26T14:28:34.696579",
     "status": "completed"
    },
    "tags": []
   },
   "outputs": [],
   "source": [
    "import keras\n",
    "import keras_nlp"
   ]
  },
  {
   "cell_type": "markdown",
   "id": "dc094ebb",
   "metadata": {
    "papermill": {
     "duration": 0.0043,
     "end_time": "2024-12-26T14:28:43.446908",
     "exception": false,
     "start_time": "2024-12-26T14:28:43.442608",
     "status": "completed"
    },
    "tags": []
   },
   "source": [
    "# Load the dataset"
   ]
  },
  {
   "cell_type": "code",
   "execution_count": 6,
   "id": "5ac67aad",
   "metadata": {
    "execution": {
     "iopub.execute_input": "2024-12-26T14:28:43.456990Z",
     "iopub.status.busy": "2024-12-26T14:28:43.456455Z",
     "iopub.status.idle": "2024-12-26T14:28:45.983624Z",
     "shell.execute_reply": "2024-12-26T14:28:45.982963Z"
    },
    "papermill": {
     "duration": 2.533685,
     "end_time": "2024-12-26T14:28:45.985056",
     "exception": false,
     "start_time": "2024-12-26T14:28:43.451371",
     "status": "completed"
    },
    "tags": []
   },
   "outputs": [
    {
     "data": {
      "application/vnd.jupyter.widget-view+json": {
       "model_id": "aff033916e54488cb6af98474e72c037",
       "version_major": 2,
       "version_minor": 0
      },
      "text/plain": [
       "Resolving data files:   0%|          | 0/71 [00:00<?, ?it/s]"
      ]
     },
     "metadata": {},
     "output_type": "display_data"
    },
    {
     "data": {
      "application/vnd.jupyter.widget-view+json": {
       "model_id": "e3b745c08e414adfa6b9073fa89f3839",
       "version_major": 2,
       "version_minor": 0
      },
      "text/plain": [
       "Downloading data:   0%|          | 0/71 [00:00<?, ?files/s]"
      ]
     },
     "metadata": {},
     "output_type": "display_data"
    },
    {
     "data": {
      "application/vnd.jupyter.widget-view+json": {
       "model_id": "b871b6f0f2474b9fa871ae36f3b900dd",
       "version_major": 2,
       "version_minor": 0
      },
      "text/plain": [
       "Generating train split: 0 examples [00:00, ? examples/s]"
      ]
     },
     "metadata": {},
     "output_type": "display_data"
    }
   ],
   "source": [
    "#Use load_dataset to generate a combined training dataset of all language files\n",
    "from datasets import load_dataset\n",
    "\n",
    "ds = load_dataset(\"json\",data_files='/kaggle/input/multilingual-idioms-indian/Gemma/*.json')"
   ]
  },
  {
   "cell_type": "code",
   "execution_count": 7,
   "id": "c0cc0e7e",
   "metadata": {
    "execution": {
     "iopub.execute_input": "2024-12-26T14:28:45.996054Z",
     "iopub.status.busy": "2024-12-26T14:28:45.995794Z",
     "iopub.status.idle": "2024-12-26T14:28:46.000165Z",
     "shell.execute_reply": "2024-12-26T14:28:45.999455Z"
    },
    "papermill": {
     "duration": 0.011149,
     "end_time": "2024-12-26T14:28:46.001392",
     "exception": false,
     "start_time": "2024-12-26T14:28:45.990243",
     "status": "completed"
    },
    "tags": []
   },
   "outputs": [
    {
     "data": {
      "text/plain": [
       "DatasetDict({\n",
       "    train: Dataset({\n",
       "        features: ['idiom', 'literal_meaning', 'figurative_meaning', 'example', 'language'],\n",
       "        num_rows: 720\n",
       "    })\n",
       "})"
      ]
     },
     "execution_count": 7,
     "metadata": {},
     "output_type": "execute_result"
    }
   ],
   "source": [
    "##Display dataset summary\n",
    "ds"
   ]
  },
  {
   "cell_type": "code",
   "execution_count": 8,
   "id": "08404053",
   "metadata": {
    "execution": {
     "iopub.execute_input": "2024-12-26T14:28:46.012073Z",
     "iopub.status.busy": "2024-12-26T14:28:46.011789Z",
     "iopub.status.idle": "2024-12-26T14:28:46.059523Z",
     "shell.execute_reply": "2024-12-26T14:28:46.058350Z"
    },
    "papermill": {
     "duration": 0.054643,
     "end_time": "2024-12-26T14:28:46.060966",
     "exception": false,
     "start_time": "2024-12-26T14:28:46.006323",
     "status": "completed"
    },
    "tags": []
   },
   "outputs": [
    {
     "name": "stdout",
     "output_type": "stream",
     "text": [
      "First example keys: ['idiom', 'literal_meaning', 'figurative_meaning', 'example', 'language']\n",
      "Example 1:\n",
      "Instruction:\n",
      "Find a suitable idiom for this situation: Sometimes it's better to remain silent than to speak.\n",
      "\n",
      "Response:\n",
      "Idiom : إذا كان الكلام من فضة فالسكوت من ذهب\n",
      "\n",
      "Literal Meaning:If speech is silver, silence is golden.\n",
      "Example Use: In this situation, remember: إذا كان الكلام من فضة فالسكوت من ذهب.\n",
      "Cultural Context: This idiom comes from the Arabic culture.\n",
      "\n",
      "\n",
      "Example 2:\n",
      "Instruction:\n",
      "Find a suitable idiom for this situation: Don't harm what you might need later.\n",
      "\n",
      "Response:\n",
      "Idiom : لا تبصق في البئر\n",
      "\n",
      "Literal Meaning:Don't spit in the well.\n",
      "Example Use: He always remembers not to spit in the well; you never know when you’ll need it.\n",
      "Cultural Context: This idiom comes from the Arabic culture.\n",
      "\n",
      "\n",
      "Example 3:\n",
      "Instruction:\n",
      "Find a suitable idiom for this situation: Hard work leads to success.\n",
      "\n",
      "Response:\n",
      "Idiom : من جد وجد\n",
      "\n",
      "Literal Meaning:He who strives will find.\n",
      "Example Use: He believes that من جد وجد; hard work will pay off in the end.\n",
      "Cultural Context: This idiom comes from the Arabic culture.\n",
      "\n",
      "\n",
      "Example 4:\n",
      "Instruction:\n",
      "Find a suitable idiom for this situation: Time is precious and should be used wisely.\n",
      "\n",
      "Response:\n",
      "Idiom : الوقت كالسيف\n",
      "\n",
      "Literal Meaning:Time is like a sword.\n",
      "Example Use: الوقت كالسيف; if you don’t use it wisely, it will cut you.\n",
      "Cultural Context: This idiom comes from the Arabic culture.\n",
      "\n",
      "\n",
      "Example 5:\n",
      "Instruction:\n",
      "Find a suitable idiom for this situation: Killing two birds with one stone.\n",
      "\n",
      "Response:\n",
      "Idiom : 一箭双雕\n",
      "\n",
      "Literal Meaning:One arrow, two eagles.\n",
      "Example Use: By attending the conference, he networked and learned new skills—he really hit two targets with one arrow.\n",
      "Cultural Context: This idiom comes from the Chinese culture.\n",
      "\n",
      "\n",
      "Example 6:\n",
      "Instruction:\n",
      "Find a suitable idiom for this situation: To ruin something by adding unnecessary details.\n",
      "\n",
      "Response:\n",
      "Idiom : 画蛇添足\n",
      "\n",
      "Literal Meaning:Drawing a snake and adding feet.\n",
      "Example Use: His extra comments on the report were like drawing a snake and adding feet; they weren't needed.\n",
      "Cultural Context: This idiom comes from the Chinese culture.\n",
      "\n",
      "\n"
     ]
    }
   ],
   "source": [
    "from datasets import DatasetDict\n",
    "# Initialize an empty list to store the formatted examples\n",
    "data = []\n",
    "# Access the 'train' split of your dataset\n",
    "train_data = ds[\"train\"]\n",
    "\n",
    "# Add debug printing to see what fields are available\n",
    "print(\"First example keys:\", list(train_data[0].keys()))\n",
    "\n",
    "# Iterate over each example in the dataset\n",
    "for i, example in enumerate(train_data):\n",
    "    try:\n",
    "        # Check if required fields are available and valid\n",
    "        required_fields = [\"idiom\", \"literal_meaning\", \"figurative_meaning\", \"example\"]\n",
    "        \n",
    "        # Print missing fields for debugging\n",
    "        missing_fields = [field for field in required_fields if field not in example]\n",
    "        if missing_fields:\n",
    "            print(f\"Example {i} is missing fields: {missing_fields}\")\n",
    "            continue\n",
    "            \n",
    "        #Template with instruction and response format\n",
    "        template = (\n",
    "        \"Instruction:\\n\"\n",
    "        \"Find a suitable idiom for this situation: {figurative_meaning}\\n\\n\"\n",
    "        \"Response:\\n\"\n",
    "        \"Idiom : {idiom}\\n\\n\"\n",
    "        \"Literal Meaning:{literal_meaning}\\n\"\n",
    "        \"Example Use: {example}\\n\"\n",
    "        \"Cultural Context: This idiom comes from the {language} culture.\\n\"\n",
    "        )\n",
    "        \n",
    "        # Format the example and add it to the data list\n",
    "        formatted_example = template.format(**example)\n",
    "        data.append(formatted_example)\n",
    "        \n",
    "    except KeyError as e:\n",
    "        print(f\"KeyError in example {i}: {str(e)}\")\n",
    "        print(f\"Available keys: {list(example.keys())}\")\n",
    "        continue\n",
    "\n",
    "# Limit to the first 1000 examples\n",
    "data = data[:1000]\n",
    "\n",
    "# Display some random row of examples, to ensure the data is captured correctly.\n",
    "for i, example in enumerate(data[4:10]):\n",
    "    print(f\"Example {i + 1}:\\n{example}\\n\")"
   ]
  },
  {
   "cell_type": "markdown",
   "id": "1c981ad6",
   "metadata": {
    "papermill": {
     "duration": 0.004735,
     "end_time": "2024-12-26T14:28:46.070831",
     "exception": false,
     "start_time": "2024-12-26T14:28:46.066096",
     "status": "completed"
    },
    "tags": []
   },
   "source": [
    "# Load Model"
   ]
  },
  {
   "cell_type": "code",
   "execution_count": 9,
   "id": "32c85649",
   "metadata": {
    "execution": {
     "iopub.execute_input": "2024-12-26T14:28:46.081375Z",
     "iopub.status.busy": "2024-12-26T14:28:46.081078Z",
     "iopub.status.idle": "2024-12-26T14:29:46.119072Z",
     "shell.execute_reply": "2024-12-26T14:29:46.118245Z"
    },
    "papermill": {
     "duration": 60.044629,
     "end_time": "2024-12-26T14:29:46.120263",
     "exception": false,
     "start_time": "2024-12-26T14:28:46.075634",
     "status": "completed"
    },
    "tags": []
   },
   "outputs": [
    {
     "data": {
      "text/html": [
       "<pre style=\"white-space:pre;overflow-x:auto;line-height:normal;font-family:Menlo,'DejaVu Sans Mono',consolas,'Courier New',monospace\"><span style=\"font-weight: bold\">Preprocessor: \"gemma_causal_lm_preprocessor\"</span>\n",
       "</pre>\n"
      ],
      "text/plain": [
       "\u001b[1mPreprocessor: \"gemma_causal_lm_preprocessor\"\u001b[0m\n"
      ]
     },
     "metadata": {},
     "output_type": "display_data"
    },
    {
     "data": {
      "text/html": [
       "<pre style=\"white-space:pre;overflow-x:auto;line-height:normal;font-family:Menlo,'DejaVu Sans Mono',consolas,'Courier New',monospace\">┏━━━━━━━━━━━━━━━━━━━━━━━━━━━━━━━━━━━━━━━━━━━━━━━━━━━━━━━━━━━━━━━┳━━━━━━━━━━━━━━━━━━━━━━━━━━━━━━━━━━━━━━━━━━┓\n",
       "┃<span style=\"font-weight: bold\"> Layer (type)                                                  </span>┃<span style=\"font-weight: bold\">                                   Config </span>┃\n",
       "┡━━━━━━━━━━━━━━━━━━━━━━━━━━━━━━━━━━━━━━━━━━━━━━━━━━━━━━━━━━━━━━━╇━━━━━━━━━━━━━━━━━━━━━━━━━━━━━━━━━━━━━━━━━━┩\n",
       "│ gemma_tokenizer (<span style=\"color: #0087ff; text-decoration-color: #0087ff\">GemmaTokenizer</span>)                              │                      Vocab size: <span style=\"color: #00af00; text-decoration-color: #00af00\">256,000</span> │\n",
       "└───────────────────────────────────────────────────────────────┴──────────────────────────────────────────┘\n",
       "</pre>\n"
      ],
      "text/plain": [
       "┏━━━━━━━━━━━━━━━━━━━━━━━━━━━━━━━━━━━━━━━━━━━━━━━━━━━━━━━━━━━━━━━┳━━━━━━━━━━━━━━━━━━━━━━━━━━━━━━━━━━━━━━━━━━┓\n",
       "┃\u001b[1m \u001b[0m\u001b[1mLayer (type)                                                 \u001b[0m\u001b[1m \u001b[0m┃\u001b[1m \u001b[0m\u001b[1m                                  Config\u001b[0m\u001b[1m \u001b[0m┃\n",
       "┡━━━━━━━━━━━━━━━━━━━━━━━━━━━━━━━━━━━━━━━━━━━━━━━━━━━━━━━━━━━━━━━╇━━━━━━━━━━━━━━━━━━━━━━━━━━━━━━━━━━━━━━━━━━┩\n",
       "│ gemma_tokenizer (\u001b[38;5;33mGemmaTokenizer\u001b[0m)                              │                      Vocab size: \u001b[38;5;34m256,000\u001b[0m │\n",
       "└───────────────────────────────────────────────────────────────┴──────────────────────────────────────────┘\n"
      ]
     },
     "metadata": {},
     "output_type": "display_data"
    },
    {
     "data": {
      "text/html": [
       "<pre style=\"white-space:pre;overflow-x:auto;line-height:normal;font-family:Menlo,'DejaVu Sans Mono',consolas,'Courier New',monospace\"><span style=\"font-weight: bold\">Model: \"gemma_causal_lm\"</span>\n",
       "</pre>\n"
      ],
      "text/plain": [
       "\u001b[1mModel: \"gemma_causal_lm\"\u001b[0m\n"
      ]
     },
     "metadata": {},
     "output_type": "display_data"
    },
    {
     "data": {
      "text/html": [
       "<pre style=\"white-space:pre;overflow-x:auto;line-height:normal;font-family:Menlo,'DejaVu Sans Mono',consolas,'Courier New',monospace\">┏━━━━━━━━━━━━━━━━━━━━━━━━━━━━━━━┳━━━━━━━━━━━━━━━━━━━━━━━━━━━┳━━━━━━━━━━━━━━━━━┳━━━━━━━━━━━━━━━━━━━━━━━━━━━━┓\n",
       "┃<span style=\"font-weight: bold\"> Layer (type)                  </span>┃<span style=\"font-weight: bold\"> Output Shape              </span>┃<span style=\"font-weight: bold\">         Param # </span>┃<span style=\"font-weight: bold\"> Connected to               </span>┃\n",
       "┡━━━━━━━━━━━━━━━━━━━━━━━━━━━━━━━╇━━━━━━━━━━━━━━━━━━━━━━━━━━━╇━━━━━━━━━━━━━━━━━╇━━━━━━━━━━━━━━━━━━━━━━━━━━━━┩\n",
       "│ padding_mask (<span style=\"color: #0087ff; text-decoration-color: #0087ff\">InputLayer</span>)     │ (<span style=\"color: #00d7ff; text-decoration-color: #00d7ff\">None</span>, <span style=\"color: #00d7ff; text-decoration-color: #00d7ff\">None</span>)              │               <span style=\"color: #00af00; text-decoration-color: #00af00\">0</span> │ -                          │\n",
       "├───────────────────────────────┼───────────────────────────┼─────────────────┼────────────────────────────┤\n",
       "│ token_ids (<span style=\"color: #0087ff; text-decoration-color: #0087ff\">InputLayer</span>)        │ (<span style=\"color: #00d7ff; text-decoration-color: #00d7ff\">None</span>, <span style=\"color: #00d7ff; text-decoration-color: #00d7ff\">None</span>)              │               <span style=\"color: #00af00; text-decoration-color: #00af00\">0</span> │ -                          │\n",
       "├───────────────────────────────┼───────────────────────────┼─────────────────┼────────────────────────────┤\n",
       "│ gemma_backbone                │ (<span style=\"color: #00d7ff; text-decoration-color: #00d7ff\">None</span>, <span style=\"color: #00d7ff; text-decoration-color: #00d7ff\">None</span>, <span style=\"color: #00af00; text-decoration-color: #00af00\">2304</span>)        │   <span style=\"color: #00af00; text-decoration-color: #00af00\">2,614,341,888</span> │ padding_mask[<span style=\"color: #00af00; text-decoration-color: #00af00\">0</span>][<span style=\"color: #00af00; text-decoration-color: #00af00\">0</span>],        │\n",
       "│ (<span style=\"color: #0087ff; text-decoration-color: #0087ff\">GemmaBackbone</span>)               │                           │                 │ token_ids[<span style=\"color: #00af00; text-decoration-color: #00af00\">0</span>][<span style=\"color: #00af00; text-decoration-color: #00af00\">0</span>]            │\n",
       "├───────────────────────────────┼───────────────────────────┼─────────────────┼────────────────────────────┤\n",
       "│ token_embedding               │ (<span style=\"color: #00d7ff; text-decoration-color: #00d7ff\">None</span>, <span style=\"color: #00d7ff; text-decoration-color: #00d7ff\">None</span>, <span style=\"color: #00af00; text-decoration-color: #00af00\">256000</span>)      │     <span style=\"color: #00af00; text-decoration-color: #00af00\">589,824,000</span> │ gemma_backbone[<span style=\"color: #00af00; text-decoration-color: #00af00\">0</span>][<span style=\"color: #00af00; text-decoration-color: #00af00\">0</span>]       │\n",
       "│ (<span style=\"color: #0087ff; text-decoration-color: #0087ff\">ReversibleEmbedding</span>)         │                           │                 │                            │\n",
       "└───────────────────────────────┴───────────────────────────┴─────────────────┴────────────────────────────┘\n",
       "</pre>\n"
      ],
      "text/plain": [
       "┏━━━━━━━━━━━━━━━━━━━━━━━━━━━━━━━┳━━━━━━━━━━━━━━━━━━━━━━━━━━━┳━━━━━━━━━━━━━━━━━┳━━━━━━━━━━━━━━━━━━━━━━━━━━━━┓\n",
       "┃\u001b[1m \u001b[0m\u001b[1mLayer (type)                 \u001b[0m\u001b[1m \u001b[0m┃\u001b[1m \u001b[0m\u001b[1mOutput Shape             \u001b[0m\u001b[1m \u001b[0m┃\u001b[1m \u001b[0m\u001b[1m        Param #\u001b[0m\u001b[1m \u001b[0m┃\u001b[1m \u001b[0m\u001b[1mConnected to              \u001b[0m\u001b[1m \u001b[0m┃\n",
       "┡━━━━━━━━━━━━━━━━━━━━━━━━━━━━━━━╇━━━━━━━━━━━━━━━━━━━━━━━━━━━╇━━━━━━━━━━━━━━━━━╇━━━━━━━━━━━━━━━━━━━━━━━━━━━━┩\n",
       "│ padding_mask (\u001b[38;5;33mInputLayer\u001b[0m)     │ (\u001b[38;5;45mNone\u001b[0m, \u001b[38;5;45mNone\u001b[0m)              │               \u001b[38;5;34m0\u001b[0m │ -                          │\n",
       "├───────────────────────────────┼───────────────────────────┼─────────────────┼────────────────────────────┤\n",
       "│ token_ids (\u001b[38;5;33mInputLayer\u001b[0m)        │ (\u001b[38;5;45mNone\u001b[0m, \u001b[38;5;45mNone\u001b[0m)              │               \u001b[38;5;34m0\u001b[0m │ -                          │\n",
       "├───────────────────────────────┼───────────────────────────┼─────────────────┼────────────────────────────┤\n",
       "│ gemma_backbone                │ (\u001b[38;5;45mNone\u001b[0m, \u001b[38;5;45mNone\u001b[0m, \u001b[38;5;34m2304\u001b[0m)        │   \u001b[38;5;34m2,614,341,888\u001b[0m │ padding_mask[\u001b[38;5;34m0\u001b[0m][\u001b[38;5;34m0\u001b[0m],        │\n",
       "│ (\u001b[38;5;33mGemmaBackbone\u001b[0m)               │                           │                 │ token_ids[\u001b[38;5;34m0\u001b[0m][\u001b[38;5;34m0\u001b[0m]            │\n",
       "├───────────────────────────────┼───────────────────────────┼─────────────────┼────────────────────────────┤\n",
       "│ token_embedding               │ (\u001b[38;5;45mNone\u001b[0m, \u001b[38;5;45mNone\u001b[0m, \u001b[38;5;34m256000\u001b[0m)      │     \u001b[38;5;34m589,824,000\u001b[0m │ gemma_backbone[\u001b[38;5;34m0\u001b[0m][\u001b[38;5;34m0\u001b[0m]       │\n",
       "│ (\u001b[38;5;33mReversibleEmbedding\u001b[0m)         │                           │                 │                            │\n",
       "└───────────────────────────────┴───────────────────────────┴─────────────────┴────────────────────────────┘\n"
      ]
     },
     "metadata": {},
     "output_type": "display_data"
    },
    {
     "data": {
      "text/html": [
       "<pre style=\"white-space:pre;overflow-x:auto;line-height:normal;font-family:Menlo,'DejaVu Sans Mono',consolas,'Courier New',monospace\"><span style=\"font-weight: bold\"> Total params: </span><span style=\"color: #00af00; text-decoration-color: #00af00\">2,614,341,888</span> (9.74 GB)\n",
       "</pre>\n"
      ],
      "text/plain": [
       "\u001b[1m Total params: \u001b[0m\u001b[38;5;34m2,614,341,888\u001b[0m (9.74 GB)\n"
      ]
     },
     "metadata": {},
     "output_type": "display_data"
    },
    {
     "data": {
      "text/html": [
       "<pre style=\"white-space:pre;overflow-x:auto;line-height:normal;font-family:Menlo,'DejaVu Sans Mono',consolas,'Courier New',monospace\"><span style=\"font-weight: bold\"> Trainable params: </span><span style=\"color: #00af00; text-decoration-color: #00af00\">2,614,341,888</span> (9.74 GB)\n",
       "</pre>\n"
      ],
      "text/plain": [
       "\u001b[1m Trainable params: \u001b[0m\u001b[38;5;34m2,614,341,888\u001b[0m (9.74 GB)\n"
      ]
     },
     "metadata": {},
     "output_type": "display_data"
    },
    {
     "data": {
      "text/html": [
       "<pre style=\"white-space:pre;overflow-x:auto;line-height:normal;font-family:Menlo,'DejaVu Sans Mono',consolas,'Courier New',monospace\"><span style=\"font-weight: bold\"> Non-trainable params: </span><span style=\"color: #00af00; text-decoration-color: #00af00\">0</span> (0.00 B)\n",
       "</pre>\n"
      ],
      "text/plain": [
       "\u001b[1m Non-trainable params: \u001b[0m\u001b[38;5;34m0\u001b[0m (0.00 B)\n"
      ]
     },
     "metadata": {},
     "output_type": "display_data"
    }
   ],
   "source": [
    "gemma_lm = keras_nlp.models.GemmaCausalLM.from_preset(\"gemma2_2b_en\")\n",
    "gemma_lm.summary()"
   ]
  },
  {
   "cell_type": "markdown",
   "id": "19943de8",
   "metadata": {
    "papermill": {
     "duration": 0.005416,
     "end_time": "2024-12-26T14:29:46.131395",
     "exception": false,
     "start_time": "2024-12-26T14:29:46.125979",
     "status": "completed"
    },
    "tags": []
   },
   "source": [
    "# Enable LoRA for the model\n",
    "As visible from the trainable parameters, 2,614,341,888 (9.74 GB). to be able to actually train these on our systems, we need to use Lower Order Rank Adaptation(LORA)."
   ]
  },
  {
   "cell_type": "code",
   "execution_count": 10,
   "id": "c2e90ede",
   "metadata": {
    "execution": {
     "iopub.execute_input": "2024-12-26T14:29:46.143172Z",
     "iopub.status.busy": "2024-12-26T14:29:46.142916Z",
     "iopub.status.idle": "2024-12-26T14:29:46.474578Z",
     "shell.execute_reply": "2024-12-26T14:29:46.473872Z"
    },
    "papermill": {
     "duration": 0.339044,
     "end_time": "2024-12-26T14:29:46.475908",
     "exception": false,
     "start_time": "2024-12-26T14:29:46.136864",
     "status": "completed"
    },
    "tags": []
   },
   "outputs": [
    {
     "data": {
      "text/html": [
       "<pre style=\"white-space:pre;overflow-x:auto;line-height:normal;font-family:Menlo,'DejaVu Sans Mono',consolas,'Courier New',monospace\"><span style=\"font-weight: bold\">Preprocessor: \"gemma_causal_lm_preprocessor\"</span>\n",
       "</pre>\n"
      ],
      "text/plain": [
       "\u001b[1mPreprocessor: \"gemma_causal_lm_preprocessor\"\u001b[0m\n"
      ]
     },
     "metadata": {},
     "output_type": "display_data"
    },
    {
     "data": {
      "text/html": [
       "<pre style=\"white-space:pre;overflow-x:auto;line-height:normal;font-family:Menlo,'DejaVu Sans Mono',consolas,'Courier New',monospace\">┏━━━━━━━━━━━━━━━━━━━━━━━━━━━━━━━━━━━━━━━━━━━━━━━━━━━━━━━━━━━━━━━┳━━━━━━━━━━━━━━━━━━━━━━━━━━━━━━━━━━━━━━━━━━┓\n",
       "┃<span style=\"font-weight: bold\"> Layer (type)                                                  </span>┃<span style=\"font-weight: bold\">                                   Config </span>┃\n",
       "┡━━━━━━━━━━━━━━━━━━━━━━━━━━━━━━━━━━━━━━━━━━━━━━━━━━━━━━━━━━━━━━━╇━━━━━━━━━━━━━━━━━━━━━━━━━━━━━━━━━━━━━━━━━━┩\n",
       "│ gemma_tokenizer (<span style=\"color: #0087ff; text-decoration-color: #0087ff\">GemmaTokenizer</span>)                              │                      Vocab size: <span style=\"color: #00af00; text-decoration-color: #00af00\">256,000</span> │\n",
       "└───────────────────────────────────────────────────────────────┴──────────────────────────────────────────┘\n",
       "</pre>\n"
      ],
      "text/plain": [
       "┏━━━━━━━━━━━━━━━━━━━━━━━━━━━━━━━━━━━━━━━━━━━━━━━━━━━━━━━━━━━━━━━┳━━━━━━━━━━━━━━━━━━━━━━━━━━━━━━━━━━━━━━━━━━┓\n",
       "┃\u001b[1m \u001b[0m\u001b[1mLayer (type)                                                 \u001b[0m\u001b[1m \u001b[0m┃\u001b[1m \u001b[0m\u001b[1m                                  Config\u001b[0m\u001b[1m \u001b[0m┃\n",
       "┡━━━━━━━━━━━━━━━━━━━━━━━━━━━━━━━━━━━━━━━━━━━━━━━━━━━━━━━━━━━━━━━╇━━━━━━━━━━━━━━━━━━━━━━━━━━━━━━━━━━━━━━━━━━┩\n",
       "│ gemma_tokenizer (\u001b[38;5;33mGemmaTokenizer\u001b[0m)                              │                      Vocab size: \u001b[38;5;34m256,000\u001b[0m │\n",
       "└───────────────────────────────────────────────────────────────┴──────────────────────────────────────────┘\n"
      ]
     },
     "metadata": {},
     "output_type": "display_data"
    },
    {
     "data": {
      "text/html": [
       "<pre style=\"white-space:pre;overflow-x:auto;line-height:normal;font-family:Menlo,'DejaVu Sans Mono',consolas,'Courier New',monospace\"><span style=\"font-weight: bold\">Model: \"gemma_causal_lm\"</span>\n",
       "</pre>\n"
      ],
      "text/plain": [
       "\u001b[1mModel: \"gemma_causal_lm\"\u001b[0m\n"
      ]
     },
     "metadata": {},
     "output_type": "display_data"
    },
    {
     "data": {
      "text/html": [
       "<pre style=\"white-space:pre;overflow-x:auto;line-height:normal;font-family:Menlo,'DejaVu Sans Mono',consolas,'Courier New',monospace\">┏━━━━━━━━━━━━━━━━━━━━━━━━━━━━━━━┳━━━━━━━━━━━━━━━━━━━━━━━━━━━┳━━━━━━━━━━━━━━━━━┳━━━━━━━━━━━━━━━━━━━━━━━━━━━━┓\n",
       "┃<span style=\"font-weight: bold\"> Layer (type)                  </span>┃<span style=\"font-weight: bold\"> Output Shape              </span>┃<span style=\"font-weight: bold\">         Param # </span>┃<span style=\"font-weight: bold\"> Connected to               </span>┃\n",
       "┡━━━━━━━━━━━━━━━━━━━━━━━━━━━━━━━╇━━━━━━━━━━━━━━━━━━━━━━━━━━━╇━━━━━━━━━━━━━━━━━╇━━━━━━━━━━━━━━━━━━━━━━━━━━━━┩\n",
       "│ padding_mask (<span style=\"color: #0087ff; text-decoration-color: #0087ff\">InputLayer</span>)     │ (<span style=\"color: #00d7ff; text-decoration-color: #00d7ff\">None</span>, <span style=\"color: #00d7ff; text-decoration-color: #00d7ff\">None</span>)              │               <span style=\"color: #00af00; text-decoration-color: #00af00\">0</span> │ -                          │\n",
       "├───────────────────────────────┼───────────────────────────┼─────────────────┼────────────────────────────┤\n",
       "│ token_ids (<span style=\"color: #0087ff; text-decoration-color: #0087ff\">InputLayer</span>)        │ (<span style=\"color: #00d7ff; text-decoration-color: #00d7ff\">None</span>, <span style=\"color: #00d7ff; text-decoration-color: #00d7ff\">None</span>)              │               <span style=\"color: #00af00; text-decoration-color: #00af00\">0</span> │ -                          │\n",
       "├───────────────────────────────┼───────────────────────────┼─────────────────┼────────────────────────────┤\n",
       "│ gemma_backbone                │ (<span style=\"color: #00d7ff; text-decoration-color: #00d7ff\">None</span>, <span style=\"color: #00d7ff; text-decoration-color: #00d7ff\">None</span>, <span style=\"color: #00af00; text-decoration-color: #00af00\">2304</span>)        │   <span style=\"color: #00af00; text-decoration-color: #00af00\">2,617,270,528</span> │ padding_mask[<span style=\"color: #00af00; text-decoration-color: #00af00\">0</span>][<span style=\"color: #00af00; text-decoration-color: #00af00\">0</span>],        │\n",
       "│ (<span style=\"color: #0087ff; text-decoration-color: #0087ff\">GemmaBackbone</span>)               │                           │                 │ token_ids[<span style=\"color: #00af00; text-decoration-color: #00af00\">0</span>][<span style=\"color: #00af00; text-decoration-color: #00af00\">0</span>]            │\n",
       "├───────────────────────────────┼───────────────────────────┼─────────────────┼────────────────────────────┤\n",
       "│ token_embedding               │ (<span style=\"color: #00d7ff; text-decoration-color: #00d7ff\">None</span>, <span style=\"color: #00d7ff; text-decoration-color: #00d7ff\">None</span>, <span style=\"color: #00af00; text-decoration-color: #00af00\">256000</span>)      │     <span style=\"color: #00af00; text-decoration-color: #00af00\">589,824,000</span> │ gemma_backbone[<span style=\"color: #00af00; text-decoration-color: #00af00\">0</span>][<span style=\"color: #00af00; text-decoration-color: #00af00\">0</span>]       │\n",
       "│ (<span style=\"color: #0087ff; text-decoration-color: #0087ff\">ReversibleEmbedding</span>)         │                           │                 │                            │\n",
       "└───────────────────────────────┴───────────────────────────┴─────────────────┴────────────────────────────┘\n",
       "</pre>\n"
      ],
      "text/plain": [
       "┏━━━━━━━━━━━━━━━━━━━━━━━━━━━━━━━┳━━━━━━━━━━━━━━━━━━━━━━━━━━━┳━━━━━━━━━━━━━━━━━┳━━━━━━━━━━━━━━━━━━━━━━━━━━━━┓\n",
       "┃\u001b[1m \u001b[0m\u001b[1mLayer (type)                 \u001b[0m\u001b[1m \u001b[0m┃\u001b[1m \u001b[0m\u001b[1mOutput Shape             \u001b[0m\u001b[1m \u001b[0m┃\u001b[1m \u001b[0m\u001b[1m        Param #\u001b[0m\u001b[1m \u001b[0m┃\u001b[1m \u001b[0m\u001b[1mConnected to              \u001b[0m\u001b[1m \u001b[0m┃\n",
       "┡━━━━━━━━━━━━━━━━━━━━━━━━━━━━━━━╇━━━━━━━━━━━━━━━━━━━━━━━━━━━╇━━━━━━━━━━━━━━━━━╇━━━━━━━━━━━━━━━━━━━━━━━━━━━━┩\n",
       "│ padding_mask (\u001b[38;5;33mInputLayer\u001b[0m)     │ (\u001b[38;5;45mNone\u001b[0m, \u001b[38;5;45mNone\u001b[0m)              │               \u001b[38;5;34m0\u001b[0m │ -                          │\n",
       "├───────────────────────────────┼───────────────────────────┼─────────────────┼────────────────────────────┤\n",
       "│ token_ids (\u001b[38;5;33mInputLayer\u001b[0m)        │ (\u001b[38;5;45mNone\u001b[0m, \u001b[38;5;45mNone\u001b[0m)              │               \u001b[38;5;34m0\u001b[0m │ -                          │\n",
       "├───────────────────────────────┼───────────────────────────┼─────────────────┼────────────────────────────┤\n",
       "│ gemma_backbone                │ (\u001b[38;5;45mNone\u001b[0m, \u001b[38;5;45mNone\u001b[0m, \u001b[38;5;34m2304\u001b[0m)        │   \u001b[38;5;34m2,617,270,528\u001b[0m │ padding_mask[\u001b[38;5;34m0\u001b[0m][\u001b[38;5;34m0\u001b[0m],        │\n",
       "│ (\u001b[38;5;33mGemmaBackbone\u001b[0m)               │                           │                 │ token_ids[\u001b[38;5;34m0\u001b[0m][\u001b[38;5;34m0\u001b[0m]            │\n",
       "├───────────────────────────────┼───────────────────────────┼─────────────────┼────────────────────────────┤\n",
       "│ token_embedding               │ (\u001b[38;5;45mNone\u001b[0m, \u001b[38;5;45mNone\u001b[0m, \u001b[38;5;34m256000\u001b[0m)      │     \u001b[38;5;34m589,824,000\u001b[0m │ gemma_backbone[\u001b[38;5;34m0\u001b[0m][\u001b[38;5;34m0\u001b[0m]       │\n",
       "│ (\u001b[38;5;33mReversibleEmbedding\u001b[0m)         │                           │                 │                            │\n",
       "└───────────────────────────────┴───────────────────────────┴─────────────────┴────────────────────────────┘\n"
      ]
     },
     "metadata": {},
     "output_type": "display_data"
    },
    {
     "data": {
      "text/html": [
       "<pre style=\"white-space:pre;overflow-x:auto;line-height:normal;font-family:Menlo,'DejaVu Sans Mono',consolas,'Courier New',monospace\"><span style=\"font-weight: bold\"> Total params: </span><span style=\"color: #00af00; text-decoration-color: #00af00\">2,617,270,528</span> (9.75 GB)\n",
       "</pre>\n"
      ],
      "text/plain": [
       "\u001b[1m Total params: \u001b[0m\u001b[38;5;34m2,617,270,528\u001b[0m (9.75 GB)\n"
      ]
     },
     "metadata": {},
     "output_type": "display_data"
    },
    {
     "data": {
      "text/html": [
       "<pre style=\"white-space:pre;overflow-x:auto;line-height:normal;font-family:Menlo,'DejaVu Sans Mono',consolas,'Courier New',monospace\"><span style=\"font-weight: bold\"> Trainable params: </span><span style=\"color: #00af00; text-decoration-color: #00af00\">2,928,640</span> (11.17 MB)\n",
       "</pre>\n"
      ],
      "text/plain": [
       "\u001b[1m Trainable params: \u001b[0m\u001b[38;5;34m2,928,640\u001b[0m (11.17 MB)\n"
      ]
     },
     "metadata": {},
     "output_type": "display_data"
    },
    {
     "data": {
      "text/html": [
       "<pre style=\"white-space:pre;overflow-x:auto;line-height:normal;font-family:Menlo,'DejaVu Sans Mono',consolas,'Courier New',monospace\"><span style=\"font-weight: bold\"> Non-trainable params: </span><span style=\"color: #00af00; text-decoration-color: #00af00\">2,614,341,888</span> (9.74 GB)\n",
       "</pre>\n"
      ],
      "text/plain": [
       "\u001b[1m Non-trainable params: \u001b[0m\u001b[38;5;34m2,614,341,888\u001b[0m (9.74 GB)\n"
      ]
     },
     "metadata": {},
     "output_type": "display_data"
    }
   ],
   "source": [
    "# Enable LoRA for the model and set the LoRA rank to 4.\n",
    "gemma_lm.backbone.enable_lora(rank=4)\n",
    "gemma_lm.summary()"
   ]
  },
  {
   "cell_type": "markdown",
   "id": "f4ae3ff5",
   "metadata": {
    "papermill": {
     "duration": 0.006097,
     "end_time": "2024-12-26T14:29:46.488516",
     "exception": false,
     "start_time": "2024-12-26T14:29:46.482419",
     "status": "completed"
    },
    "tags": []
   },
   "source": [
    "As you can see, the trainable parameters have reduces to 2,928,640 (11.17 MB). Now we can train the model on our data."
   ]
  },
  {
   "cell_type": "code",
   "execution_count": 11,
   "id": "2b3445da",
   "metadata": {
    "execution": {
     "iopub.execute_input": "2024-12-26T14:29:46.501828Z",
     "iopub.status.busy": "2024-12-26T14:29:46.501540Z",
     "iopub.status.idle": "2024-12-26T14:40:51.789582Z",
     "shell.execute_reply": "2024-12-26T14:40:51.788694Z"
    },
    "papermill": {
     "duration": 665.296288,
     "end_time": "2024-12-26T14:40:51.791017",
     "exception": false,
     "start_time": "2024-12-26T14:29:46.494729",
     "status": "completed"
    },
    "tags": []
   },
   "outputs": [
    {
     "name": "stdout",
     "output_type": "stream",
     "text": [
      "Epoch 1/2\n",
      "\u001b[1m720/720\u001b[0m \u001b[32m━━━━━━━━━━━━━━━━━━━━\u001b[0m\u001b[37m\u001b[0m \u001b[1m345s\u001b[0m 442ms/step - loss: 0.5916 - sparse_categorical_accuracy: 0.6339\n",
      "Epoch 2/2\n",
      "\u001b[1m720/720\u001b[0m \u001b[32m━━━━━━━━━━━━━━━━━━━━\u001b[0m\u001b[37m\u001b[0m \u001b[1m319s\u001b[0m 418ms/step - loss: 0.3273 - sparse_categorical_accuracy: 0.7901\n"
     ]
    },
    {
     "data": {
      "text/plain": [
       "<keras.src.callbacks.history.History at 0x7f13702849a0>"
      ]
     },
     "execution_count": 11,
     "metadata": {},
     "output_type": "execute_result"
    }
   ],
   "source": [
    "# Limit the input sequence length to 256 (to control memory usage).\n",
    "gemma_lm.preprocessor.sequence_length = 256\n",
    "# Use AdamW (a common optimizer for transformer models).\n",
    "optimizer = keras.optimizers.AdamW(\n",
    "    learning_rate=5e-5,\n",
    "    weight_decay=0.01,\n",
    ")\n",
    "# Exclude layernorm and bias terms from decay.\n",
    "optimizer.exclude_from_weight_decay(var_names=[\"bias\", \"scale\"])\n",
    "\n",
    "gemma_lm.compile(\n",
    "    loss=keras.losses.SparseCategoricalCrossentropy(from_logits=True),\n",
    "    optimizer=optimizer,\n",
    "    weighted_metrics=[keras.metrics.SparseCategoricalAccuracy()],\n",
    ")\n",
    "gemma_lm.fit(data, epochs=2, batch_size=1)"
   ]
  },
  {
   "cell_type": "markdown",
   "id": "47a25a6b",
   "metadata": {
    "papermill": {
     "duration": 0.059046,
     "end_time": "2024-12-26T14:40:51.909998",
     "exception": false,
     "start_time": "2024-12-26T14:40:51.850952",
     "status": "completed"
    },
    "tags": []
   },
   "source": [
    "# Testing it with different Prompts"
   ]
  },
  {
   "cell_type": "code",
   "execution_count": 12,
   "id": "74eb5bbb",
   "metadata": {
    "execution": {
     "iopub.execute_input": "2024-12-26T14:40:52.029532Z",
     "iopub.status.busy": "2024-12-26T14:40:52.029217Z",
     "iopub.status.idle": "2024-12-26T14:40:52.033093Z",
     "shell.execute_reply": "2024-12-26T14:40:52.032376Z"
    },
    "papermill": {
     "duration": 0.064908,
     "end_time": "2024-12-26T14:40:52.034350",
     "exception": false,
     "start_time": "2024-12-26T14:40:51.969442",
     "status": "completed"
    },
    "tags": []
   },
   "outputs": [],
   "source": [
    "# list of meanings for you to try from\n",
    "test_meanings = [\n",
    "    \"feeling stuck in a difficult situation\",\n",
    "    \"making a big decision\",\n",
    "    \"working hard to achieve a goal\",\n",
    "    \"dealing with unexpected problems\",\n",
    "    \"celebrating a success\",\n",
    "    \"overcoming failure\",\n",
    "    \"dealing with a challenging coworker\",\n",
    "    \"handling stress at work\",\n",
    "    \"feeling overwhelmed with responsibilities\",\n",
    "    \"facing a tough deadline\",\n",
    "    \"getting lost in a new city\",\n",
    "    \"managing work-life balance\",\n",
    "    \"feeling homesick in a new place\",\n",
    "    \"learning something new and challenging\",\n",
    "    \"handling a sudden change in plans\"\n",
    "]"
   ]
  },
  {
   "cell_type": "markdown",
   "id": "ec2dcfdd",
   "metadata": {
    "papermill": {
     "duration": 0.058927,
     "end_time": "2024-12-26T14:40:52.152655",
     "exception": false,
     "start_time": "2024-12-26T14:40:52.093728",
     "status": "completed"
    },
    "tags": []
   },
   "source": [
    "### Testing prarameters\n",
    "\n",
    "- **Top-K Sampling** (`keras_nlp.samplers.TopKSampler(k=10, seed=2)`):\n",
    "  - Limits token choices to the top 10 most probable at each generation step (`k=10`).\n",
    "  - `seed=2` ensures reproducibility of the result for every time it is executed.\n",
    "\n",
    "- **Compiling Model**:\n",
    "  - `gemma_lm.compile(sampler=sampler)` To set the sampling method for text generation.\n",
    "\n",
    "- **Text Generation**:\n",
    "  - `gemma_lm.generate(prompt, max_length=256)` To generate text from the `prompt` with a maximum length of 256 tokens using Top-K sampling.\n",
    "\n",
    "I used this approach because it balances randomness and coherence in the generated text."
   ]
  },
  {
   "cell_type": "markdown",
   "id": "e6ff2761",
   "metadata": {
    "papermill": {
     "duration": 0.059129,
     "end_time": "2024-12-26T14:40:52.270266",
     "exception": false,
     "start_time": "2024-12-26T14:40:52.211137",
     "status": "completed"
    },
    "tags": []
   },
   "source": [
    "**Example 1**"
   ]
  },
  {
   "cell_type": "code",
   "execution_count": 13,
   "id": "3244052d",
   "metadata": {
    "execution": {
     "iopub.execute_input": "2024-12-26T14:40:52.389271Z",
     "iopub.status.busy": "2024-12-26T14:40:52.388958Z",
     "iopub.status.idle": "2024-12-26T14:41:09.939058Z",
     "shell.execute_reply": "2024-12-26T14:41:09.937806Z"
    },
    "papermill": {
     "duration": 17.611261,
     "end_time": "2024-12-26T14:41:09.940464",
     "exception": false,
     "start_time": "2024-12-26T14:40:52.329203",
     "status": "completed"
    },
    "tags": []
   },
   "outputs": [
    {
     "name": "stdout",
     "output_type": "stream",
     "text": [
      "Instruction:\n",
      " Do you know any idiom which would be suitable for facing a tough deadline\n",
      "\n",
      "Response:\n",
      "Idiom: <strong>Tää on kiire</strong>\n",
      "\n",
      "Literal Meaning:This is tight.\n",
      "Example Use: I’m running out of time; <strong>täy on kiire</strong>.\n",
      "Cultural Context: This idiom comes from the Finnish culture.\n",
      "\n"
     ]
    }
   ],
   "source": [
    "test_meaning = \"facing a tough deadline\"\n",
    "\n",
    "#Using the same template format as training\n",
    "prompt = (\n",
    "    \"Instruction:\\n Do you know any idiom which would be suitable for {}\\n\\n\"\n",
    "    \"Response:\\n\"\n",
    ").format(test_meaning)\n",
    "\n",
    "sampler = keras_nlp.samplers.TopKSampler(k=10, seed=2)\n",
    "gemma_lm.compile(sampler=sampler)\n",
    "print(gemma_lm.generate(prompt, max_length=256))"
   ]
  },
  {
   "cell_type": "markdown",
   "id": "958ac322",
   "metadata": {
    "papermill": {
     "duration": 0.061123,
     "end_time": "2024-12-26T14:41:10.061987",
     "exception": false,
     "start_time": "2024-12-26T14:41:10.000864",
     "status": "completed"
    },
    "tags": []
   },
   "source": [
    "**Example 2**"
   ]
  },
  {
   "cell_type": "code",
   "execution_count": 14,
   "id": "5a8e18ed",
   "metadata": {
    "execution": {
     "iopub.execute_input": "2024-12-26T14:41:10.184693Z",
     "iopub.status.busy": "2024-12-26T14:41:10.184347Z",
     "iopub.status.idle": "2024-12-26T14:41:27.442811Z",
     "shell.execute_reply": "2024-12-26T14:41:27.441659Z"
    },
    "papermill": {
     "duration": 17.318528,
     "end_time": "2024-12-26T14:41:27.444352",
     "exception": false,
     "start_time": "2024-12-26T14:41:10.125824",
     "status": "completed"
    },
    "tags": []
   },
   "outputs": [
    {
     "name": "stdout",
     "output_type": "stream",
     "text": [
      "Instruction:\n",
      " Do you know any idiom which would be suitable for someone who does not value another person\n",
      "\n",
      "Response:\n",
      "Idiom: 枘枘枘枘枘枘\n",
      "\n",
      "Meaning:\n",
      "He is very stingy and tight.\n",
      "Example Use: He is someone who always keeps his枘枘枘枘枘枘.\n",
      "Cultural Context: This idiom comes from the Malay culture.\n",
      "\n"
     ]
    }
   ],
   "source": [
    "\n",
    "#You can adjust these paramters to test them on your own \n",
    "test_meaning = \"someone who does not value another person\"\n",
    "\n",
    "#Using the same template format as training\n",
    "prompt = (\n",
    "    \"Instruction:\\n Do you know any idiom which would be suitable for {}\\n\\n\"\n",
    "    \"Response:\\n\"\n",
    ").format(test_meaning)\n",
    "\n",
    "sampler = keras_nlp.samplers.TopKSampler(k=10, seed=2)\n",
    "gemma_lm.compile(sampler=sampler)\n",
    "print(gemma_lm.generate(prompt, max_length=256))"
   ]
  },
  {
   "cell_type": "code",
   "execution_count": 15,
   "id": "d7cef419",
   "metadata": {
    "execution": {
     "iopub.execute_input": "2024-12-26T14:41:27.564309Z",
     "iopub.status.busy": "2024-12-26T14:41:27.563964Z",
     "iopub.status.idle": "2024-12-26T14:41:44.741897Z",
     "shell.execute_reply": "2024-12-26T14:41:44.740884Z"
    },
    "papermill": {
     "duration": 17.239588,
     "end_time": "2024-12-26T14:41:44.743460",
     "exception": false,
     "start_time": "2024-12-26T14:41:27.503872",
     "status": "completed"
    },
    "tags": []
   },
   "outputs": [
    {
     "name": "stdout",
     "output_type": "stream",
     "text": [
      "Instruction:\n",
      " Do you know any idiom which would be suitable for managing work-life balance\n",
      "\n",
      "Response:\n",
      "Idiom: <strong><em>Tālu dūriens un dūriņām</em></strong>\n",
      "\n",
      "Literal Meaning:The balance between work and leisure activities.\n",
      "Example Use: To achieve success, you need to find a way to maintain that balance of work and family time.\n",
      "Cultural Context: This idiom comes from the Latvian culture.\n",
      "\n"
     ]
    }
   ],
   "source": [
    "#3\n",
    "test_meaning = \"managing work-life balance\"\n",
    "\n",
    "prompt = (\n",
    "    \"Instruction:\\n Do you know any idiom which would be suitable for {}\\n\\n\"\n",
    "    \"Response:\\n\"\n",
    ").format(test_meaning)\n",
    "\n",
    "sampler = keras_nlp.samplers.TopKSampler(k=10, seed=2)\n",
    "gemma_lm.compile(sampler=sampler)\n",
    "print(gemma_lm.generate(prompt, max_length=256))"
   ]
  }
 ],
 "metadata": {
  "kaggle": {
   "accelerator": "gpu",
   "dataSources": [
    {
     "datasetId": 6048296,
     "sourceId": 10272721,
     "sourceType": "datasetVersion"
    },
    {
     "modelId": 78150,
     "modelInstanceId": 72244,
     "sourceId": 85984,
     "sourceType": "modelInstanceVersion"
    }
   ],
   "dockerImageVersionId": 30822,
   "isGpuEnabled": true,
   "isInternetEnabled": true,
   "language": "python",
   "sourceType": "notebook"
  },
  "kernelspec": {
   "display_name": "Python 3",
   "language": "python",
   "name": "python3"
  },
  "language_info": {
   "codemirror_mode": {
    "name": "ipython",
    "version": 3
   },
   "file_extension": ".py",
   "mimetype": "text/x-python",
   "name": "python",
   "nbconvert_exporter": "python",
   "pygments_lexer": "ipython3",
   "version": "3.10.12"
  },
  "papermill": {
   "default_parameters": {},
   "duration": 806.133295,
   "end_time": "2024-12-26T14:41:47.549046",
   "environment_variables": {},
   "exception": null,
   "input_path": "__notebook__.ipynb",
   "output_path": "__notebook__.ipynb",
   "parameters": {},
   "start_time": "2024-12-26T14:28:21.415751",
   "version": "2.6.0"
  },
  "widgets": {
   "application/vnd.jupyter.widget-state+json": {
    "state": {
     "0436028a288f45dc9d06c2bcb702b7cb": {
      "model_module": "@jupyter-widgets/base",
      "model_module_version": "2.0.0",
      "model_name": "LayoutModel",
      "state": {
       "_model_module": "@jupyter-widgets/base",
       "_model_module_version": "2.0.0",
       "_model_name": "LayoutModel",
       "_view_count": null,
       "_view_module": "@jupyter-widgets/base",
       "_view_module_version": "2.0.0",
       "_view_name": "LayoutView",
       "align_content": null,
       "align_items": null,
       "align_self": null,
       "border_bottom": null,
       "border_left": null,
       "border_right": null,
       "border_top": null,
       "bottom": null,
       "display": null,
       "flex": null,
       "flex_flow": null,
       "grid_area": null,
       "grid_auto_columns": null,
       "grid_auto_flow": null,
       "grid_auto_rows": null,
       "grid_column": null,
       "grid_gap": null,
       "grid_row": null,
       "grid_template_areas": null,
       "grid_template_columns": null,
       "grid_template_rows": null,
       "height": null,
       "justify_content": null,
       "justify_items": null,
       "left": null,
       "margin": null,
       "max_height": null,
       "max_width": null,
       "min_height": null,
       "min_width": null,
       "object_fit": null,
       "object_position": null,
       "order": null,
       "overflow": null,
       "padding": null,
       "right": null,
       "top": null,
       "visibility": null,
       "width": null
      }
     },
     "0eb8426fbb004905ae07ffe7f2dc134b": {
      "model_module": "@jupyter-widgets/base",
      "model_module_version": "2.0.0",
      "model_name": "LayoutModel",
      "state": {
       "_model_module": "@jupyter-widgets/base",
       "_model_module_version": "2.0.0",
       "_model_name": "LayoutModel",
       "_view_count": null,
       "_view_module": "@jupyter-widgets/base",
       "_view_module_version": "2.0.0",
       "_view_name": "LayoutView",
       "align_content": null,
       "align_items": null,
       "align_self": null,
       "border_bottom": null,
       "border_left": null,
       "border_right": null,
       "border_top": null,
       "bottom": null,
       "display": null,
       "flex": null,
       "flex_flow": null,
       "grid_area": null,
       "grid_auto_columns": null,
       "grid_auto_flow": null,
       "grid_auto_rows": null,
       "grid_column": null,
       "grid_gap": null,
       "grid_row": null,
       "grid_template_areas": null,
       "grid_template_columns": null,
       "grid_template_rows": null,
       "height": null,
       "justify_content": null,
       "justify_items": null,
       "left": null,
       "margin": null,
       "max_height": null,
       "max_width": null,
       "min_height": null,
       "min_width": null,
       "object_fit": null,
       "object_position": null,
       "order": null,
       "overflow": null,
       "padding": null,
       "right": null,
       "top": null,
       "visibility": null,
       "width": null
      }
     },
     "119d5bd7fb7442de8b10b1182fbdf91d": {
      "model_module": "@jupyter-widgets/controls",
      "model_module_version": "2.0.0",
      "model_name": "ProgressStyleModel",
      "state": {
       "_model_module": "@jupyter-widgets/controls",
       "_model_module_version": "2.0.0",
       "_model_name": "ProgressStyleModel",
       "_view_count": null,
       "_view_module": "@jupyter-widgets/base",
       "_view_module_version": "2.0.0",
       "_view_name": "StyleView",
       "bar_color": null,
       "description_width": ""
      }
     },
     "19f84c42ccc54290ab0775ea3ebd8fcb": {
      "model_module": "@jupyter-widgets/controls",
      "model_module_version": "2.0.0",
      "model_name": "HTMLStyleModel",
      "state": {
       "_model_module": "@jupyter-widgets/controls",
       "_model_module_version": "2.0.0",
       "_model_name": "HTMLStyleModel",
       "_view_count": null,
       "_view_module": "@jupyter-widgets/base",
       "_view_module_version": "2.0.0",
       "_view_name": "StyleView",
       "background": null,
       "description_width": "",
       "font_size": null,
       "text_color": null
      }
     },
     "1ae4c014f8f4407c80a532d4588e121c": {
      "model_module": "@jupyter-widgets/controls",
      "model_module_version": "2.0.0",
      "model_name": "HTMLModel",
      "state": {
       "_dom_classes": [],
       "_model_module": "@jupyter-widgets/controls",
       "_model_module_version": "2.0.0",
       "_model_name": "HTMLModel",
       "_view_count": null,
       "_view_module": "@jupyter-widgets/controls",
       "_view_module_version": "2.0.0",
       "_view_name": "HTMLView",
       "description": "",
       "description_allow_html": false,
       "layout": "IPY_MODEL_4995a6cf423b4f0987768a04554d4f55",
       "placeholder": "​",
       "style": "IPY_MODEL_aa4a1e024a9b4bb492cc32233a542508",
       "tabbable": null,
       "tooltip": null,
       "value": "Generating train split: "
      }
     },
     "367fe5036fe04462acc0c5d8d8b530d2": {
      "model_module": "@jupyter-widgets/base",
      "model_module_version": "2.0.0",
      "model_name": "LayoutModel",
      "state": {
       "_model_module": "@jupyter-widgets/base",
       "_model_module_version": "2.0.0",
       "_model_name": "LayoutModel",
       "_view_count": null,
       "_view_module": "@jupyter-widgets/base",
       "_view_module_version": "2.0.0",
       "_view_name": "LayoutView",
       "align_content": null,
       "align_items": null,
       "align_self": null,
       "border_bottom": null,
       "border_left": null,
       "border_right": null,
       "border_top": null,
       "bottom": null,
       "display": null,
       "flex": null,
       "flex_flow": null,
       "grid_area": null,
       "grid_auto_columns": null,
       "grid_auto_flow": null,
       "grid_auto_rows": null,
       "grid_column": null,
       "grid_gap": null,
       "grid_row": null,
       "grid_template_areas": null,
       "grid_template_columns": null,
       "grid_template_rows": null,
       "height": null,
       "justify_content": null,
       "justify_items": null,
       "left": null,
       "margin": null,
       "max_height": null,
       "max_width": null,
       "min_height": null,
       "min_width": null,
       "object_fit": null,
       "object_position": null,
       "order": null,
       "overflow": null,
       "padding": null,
       "right": null,
       "top": null,
       "visibility": null,
       "width": null
      }
     },
     "37179f3f56e9404f9631283613fa437a": {
      "model_module": "@jupyter-widgets/controls",
      "model_module_version": "2.0.0",
      "model_name": "HTMLModel",
      "state": {
       "_dom_classes": [],
       "_model_module": "@jupyter-widgets/controls",
       "_model_module_version": "2.0.0",
       "_model_name": "HTMLModel",
       "_view_count": null,
       "_view_module": "@jupyter-widgets/controls",
       "_view_module_version": "2.0.0",
       "_view_name": "HTMLView",
       "description": "",
       "description_allow_html": false,
       "layout": "IPY_MODEL_56c82d7204ea4c29a3bf4525235fbb01",
       "placeholder": "​",
       "style": "IPY_MODEL_ee8ef63b8b534c96b7f6de107b9e16a9",
       "tabbable": null,
       "tooltip": null,
       "value": " 71/71 [00:00&lt;00:00, 6597.16files/s]"
      }
     },
     "37d623ce582d4b738054489234aefa6d": {
      "model_module": "@jupyter-widgets/controls",
      "model_module_version": "2.0.0",
      "model_name": "HTMLStyleModel",
      "state": {
       "_model_module": "@jupyter-widgets/controls",
       "_model_module_version": "2.0.0",
       "_model_name": "HTMLStyleModel",
       "_view_count": null,
       "_view_module": "@jupyter-widgets/base",
       "_view_module_version": "2.0.0",
       "_view_name": "StyleView",
       "background": null,
       "description_width": "",
       "font_size": null,
       "text_color": null
      }
     },
     "3d01b64ea32b4a45a8ea526a09f4a99a": {
      "model_module": "@jupyter-widgets/base",
      "model_module_version": "2.0.0",
      "model_name": "LayoutModel",
      "state": {
       "_model_module": "@jupyter-widgets/base",
       "_model_module_version": "2.0.0",
       "_model_name": "LayoutModel",
       "_view_count": null,
       "_view_module": "@jupyter-widgets/base",
       "_view_module_version": "2.0.0",
       "_view_name": "LayoutView",
       "align_content": null,
       "align_items": null,
       "align_self": null,
       "border_bottom": null,
       "border_left": null,
       "border_right": null,
       "border_top": null,
       "bottom": null,
       "display": null,
       "flex": null,
       "flex_flow": null,
       "grid_area": null,
       "grid_auto_columns": null,
       "grid_auto_flow": null,
       "grid_auto_rows": null,
       "grid_column": null,
       "grid_gap": null,
       "grid_row": null,
       "grid_template_areas": null,
       "grid_template_columns": null,
       "grid_template_rows": null,
       "height": null,
       "justify_content": null,
       "justify_items": null,
       "left": null,
       "margin": null,
       "max_height": null,
       "max_width": null,
       "min_height": null,
       "min_width": null,
       "object_fit": null,
       "object_position": null,
       "order": null,
       "overflow": null,
       "padding": null,
       "right": null,
       "top": null,
       "visibility": null,
       "width": null
      }
     },
     "4995a6cf423b4f0987768a04554d4f55": {
      "model_module": "@jupyter-widgets/base",
      "model_module_version": "2.0.0",
      "model_name": "LayoutModel",
      "state": {
       "_model_module": "@jupyter-widgets/base",
       "_model_module_version": "2.0.0",
       "_model_name": "LayoutModel",
       "_view_count": null,
       "_view_module": "@jupyter-widgets/base",
       "_view_module_version": "2.0.0",
       "_view_name": "LayoutView",
       "align_content": null,
       "align_items": null,
       "align_self": null,
       "border_bottom": null,
       "border_left": null,
       "border_right": null,
       "border_top": null,
       "bottom": null,
       "display": null,
       "flex": null,
       "flex_flow": null,
       "grid_area": null,
       "grid_auto_columns": null,
       "grid_auto_flow": null,
       "grid_auto_rows": null,
       "grid_column": null,
       "grid_gap": null,
       "grid_row": null,
       "grid_template_areas": null,
       "grid_template_columns": null,
       "grid_template_rows": null,
       "height": null,
       "justify_content": null,
       "justify_items": null,
       "left": null,
       "margin": null,
       "max_height": null,
       "max_width": null,
       "min_height": null,
       "min_width": null,
       "object_fit": null,
       "object_position": null,
       "order": null,
       "overflow": null,
       "padding": null,
       "right": null,
       "top": null,
       "visibility": null,
       "width": null
      }
     },
     "4de374e346934afdb3dc7c25fd5f7c90": {
      "model_module": "@jupyter-widgets/base",
      "model_module_version": "2.0.0",
      "model_name": "LayoutModel",
      "state": {
       "_model_module": "@jupyter-widgets/base",
       "_model_module_version": "2.0.0",
       "_model_name": "LayoutModel",
       "_view_count": null,
       "_view_module": "@jupyter-widgets/base",
       "_view_module_version": "2.0.0",
       "_view_name": "LayoutView",
       "align_content": null,
       "align_items": null,
       "align_self": null,
       "border_bottom": null,
       "border_left": null,
       "border_right": null,
       "border_top": null,
       "bottom": null,
       "display": null,
       "flex": null,
       "flex_flow": null,
       "grid_area": null,
       "grid_auto_columns": null,
       "grid_auto_flow": null,
       "grid_auto_rows": null,
       "grid_column": null,
       "grid_gap": null,
       "grid_row": null,
       "grid_template_areas": null,
       "grid_template_columns": null,
       "grid_template_rows": null,
       "height": null,
       "justify_content": null,
       "justify_items": null,
       "left": null,
       "margin": null,
       "max_height": null,
       "max_width": null,
       "min_height": null,
       "min_width": null,
       "object_fit": null,
       "object_position": null,
       "order": null,
       "overflow": null,
       "padding": null,
       "right": null,
       "top": null,
       "visibility": null,
       "width": null
      }
     },
     "50185339c0b04d52943ae4e523ef7bc4": {
      "model_module": "@jupyter-widgets/controls",
      "model_module_version": "2.0.0",
      "model_name": "HTMLStyleModel",
      "state": {
       "_model_module": "@jupyter-widgets/controls",
       "_model_module_version": "2.0.0",
       "_model_name": "HTMLStyleModel",
       "_view_count": null,
       "_view_module": "@jupyter-widgets/base",
       "_view_module_version": "2.0.0",
       "_view_name": "StyleView",
       "background": null,
       "description_width": "",
       "font_size": null,
       "text_color": null
      }
     },
     "56c82d7204ea4c29a3bf4525235fbb01": {
      "model_module": "@jupyter-widgets/base",
      "model_module_version": "2.0.0",
      "model_name": "LayoutModel",
      "state": {
       "_model_module": "@jupyter-widgets/base",
       "_model_module_version": "2.0.0",
       "_model_name": "LayoutModel",
       "_view_count": null,
       "_view_module": "@jupyter-widgets/base",
       "_view_module_version": "2.0.0",
       "_view_name": "LayoutView",
       "align_content": null,
       "align_items": null,
       "align_self": null,
       "border_bottom": null,
       "border_left": null,
       "border_right": null,
       "border_top": null,
       "bottom": null,
       "display": null,
       "flex": null,
       "flex_flow": null,
       "grid_area": null,
       "grid_auto_columns": null,
       "grid_auto_flow": null,
       "grid_auto_rows": null,
       "grid_column": null,
       "grid_gap": null,
       "grid_row": null,
       "grid_template_areas": null,
       "grid_template_columns": null,
       "grid_template_rows": null,
       "height": null,
       "justify_content": null,
       "justify_items": null,
       "left": null,
       "margin": null,
       "max_height": null,
       "max_width": null,
       "min_height": null,
       "min_width": null,
       "object_fit": null,
       "object_position": null,
       "order": null,
       "overflow": null,
       "padding": null,
       "right": null,
       "top": null,
       "visibility": null,
       "width": null
      }
     },
     "6ed7ee483e21449b8f8751906ff1db22": {
      "model_module": "@jupyter-widgets/controls",
      "model_module_version": "2.0.0",
      "model_name": "HTMLModel",
      "state": {
       "_dom_classes": [],
       "_model_module": "@jupyter-widgets/controls",
       "_model_module_version": "2.0.0",
       "_model_name": "HTMLModel",
       "_view_count": null,
       "_view_module": "@jupyter-widgets/controls",
       "_view_module_version": "2.0.0",
       "_view_name": "HTMLView",
       "description": "",
       "description_allow_html": false,
       "layout": "IPY_MODEL_cd6449791b9b4569a8e2c9f356dfdefa",
       "placeholder": "​",
       "style": "IPY_MODEL_b25588f15a2243348b63831118006b0e",
       "tabbable": null,
       "tooltip": null,
       "value": "Computing checksums: 100%"
      }
     },
     "6fe103a212c34b728a24623a361fef7e": {
      "model_module": "@jupyter-widgets/controls",
      "model_module_version": "2.0.0",
      "model_name": "HTMLStyleModel",
      "state": {
       "_model_module": "@jupyter-widgets/controls",
       "_model_module_version": "2.0.0",
       "_model_name": "HTMLStyleModel",
       "_view_count": null,
       "_view_module": "@jupyter-widgets/base",
       "_view_module_version": "2.0.0",
       "_view_name": "StyleView",
       "background": null,
       "description_width": "",
       "font_size": null,
       "text_color": null
      }
     },
     "76639f5c3ec64dd18007e3dc4648aef1": {
      "model_module": "@jupyter-widgets/base",
      "model_module_version": "2.0.0",
      "model_name": "LayoutModel",
      "state": {
       "_model_module": "@jupyter-widgets/base",
       "_model_module_version": "2.0.0",
       "_model_name": "LayoutModel",
       "_view_count": null,
       "_view_module": "@jupyter-widgets/base",
       "_view_module_version": "2.0.0",
       "_view_name": "LayoutView",
       "align_content": null,
       "align_items": null,
       "align_self": null,
       "border_bottom": null,
       "border_left": null,
       "border_right": null,
       "border_top": null,
       "bottom": null,
       "display": null,
       "flex": null,
       "flex_flow": null,
       "grid_area": null,
       "grid_auto_columns": null,
       "grid_auto_flow": null,
       "grid_auto_rows": null,
       "grid_column": null,
       "grid_gap": null,
       "grid_row": null,
       "grid_template_areas": null,
       "grid_template_columns": null,
       "grid_template_rows": null,
       "height": null,
       "justify_content": null,
       "justify_items": null,
       "left": null,
       "margin": null,
       "max_height": null,
       "max_width": null,
       "min_height": null,
       "min_width": null,
       "object_fit": null,
       "object_position": null,
       "order": null,
       "overflow": null,
       "padding": null,
       "right": null,
       "top": null,
       "visibility": null,
       "width": null
      }
     },
     "7c079e53c01f456ca7ba51cd5f45db7b": {
      "model_module": "@jupyter-widgets/controls",
      "model_module_version": "2.0.0",
      "model_name": "FloatProgressModel",
      "state": {
       "_dom_classes": [],
       "_model_module": "@jupyter-widgets/controls",
       "_model_module_version": "2.0.0",
       "_model_name": "FloatProgressModel",
       "_view_count": null,
       "_view_module": "@jupyter-widgets/controls",
       "_view_module_version": "2.0.0",
       "_view_name": "ProgressView",
       "bar_style": "success",
       "description": "",
       "description_allow_html": false,
       "layout": "IPY_MODEL_c694ef77b58340c0ba1a21229e132648",
       "max": 1.0,
       "min": 0.0,
       "orientation": "horizontal",
       "style": "IPY_MODEL_c96bff855b08490cb4910f7fa7ca32d2",
       "tabbable": null,
       "tooltip": null,
       "value": 1.0
      }
     },
     "85dec8452261493aae6b3633d964e5bd": {
      "model_module": "@jupyter-widgets/controls",
      "model_module_version": "2.0.0",
      "model_name": "FloatProgressModel",
      "state": {
       "_dom_classes": [],
       "_model_module": "@jupyter-widgets/controls",
       "_model_module_version": "2.0.0",
       "_model_name": "FloatProgressModel",
       "_view_count": null,
       "_view_module": "@jupyter-widgets/controls",
       "_view_module_version": "2.0.0",
       "_view_name": "ProgressView",
       "bar_style": "success",
       "description": "",
       "description_allow_html": false,
       "layout": "IPY_MODEL_0eb8426fbb004905ae07ffe7f2dc134b",
       "max": 71.0,
       "min": 0.0,
       "orientation": "horizontal",
       "style": "IPY_MODEL_119d5bd7fb7442de8b10b1182fbdf91d",
       "tabbable": null,
       "tooltip": null,
       "value": 71.0
      }
     },
     "8aab462f829b44edad6c968f09ed3ea9": {
      "model_module": "@jupyter-widgets/base",
      "model_module_version": "2.0.0",
      "model_name": "LayoutModel",
      "state": {
       "_model_module": "@jupyter-widgets/base",
       "_model_module_version": "2.0.0",
       "_model_name": "LayoutModel",
       "_view_count": null,
       "_view_module": "@jupyter-widgets/base",
       "_view_module_version": "2.0.0",
       "_view_name": "LayoutView",
       "align_content": null,
       "align_items": null,
       "align_self": null,
       "border_bottom": null,
       "border_left": null,
       "border_right": null,
       "border_top": null,
       "bottom": null,
       "display": null,
       "flex": null,
       "flex_flow": null,
       "grid_area": null,
       "grid_auto_columns": null,
       "grid_auto_flow": null,
       "grid_auto_rows": null,
       "grid_column": null,
       "grid_gap": null,
       "grid_row": null,
       "grid_template_areas": null,
       "grid_template_columns": null,
       "grid_template_rows": null,
       "height": null,
       "justify_content": null,
       "justify_items": null,
       "left": null,
       "margin": null,
       "max_height": null,
       "max_width": null,
       "min_height": null,
       "min_width": null,
       "object_fit": null,
       "object_position": null,
       "order": null,
       "overflow": null,
       "padding": null,
       "right": null,
       "top": null,
       "visibility": null,
       "width": null
      }
     },
     "90029be6f4304c4699dfc662adf94eda": {
      "model_module": "@jupyter-widgets/base",
      "model_module_version": "2.0.0",
      "model_name": "LayoutModel",
      "state": {
       "_model_module": "@jupyter-widgets/base",
       "_model_module_version": "2.0.0",
       "_model_name": "LayoutModel",
       "_view_count": null,
       "_view_module": "@jupyter-widgets/base",
       "_view_module_version": "2.0.0",
       "_view_name": "LayoutView",
       "align_content": null,
       "align_items": null,
       "align_self": null,
       "border_bottom": null,
       "border_left": null,
       "border_right": null,
       "border_top": null,
       "bottom": null,
       "display": null,
       "flex": null,
       "flex_flow": null,
       "grid_area": null,
       "grid_auto_columns": null,
       "grid_auto_flow": null,
       "grid_auto_rows": null,
       "grid_column": null,
       "grid_gap": null,
       "grid_row": null,
       "grid_template_areas": null,
       "grid_template_columns": null,
       "grid_template_rows": null,
       "height": null,
       "justify_content": null,
       "justify_items": null,
       "left": null,
       "margin": null,
       "max_height": null,
       "max_width": null,
       "min_height": null,
       "min_width": null,
       "object_fit": null,
       "object_position": null,
       "order": null,
       "overflow": null,
       "padding": null,
       "right": null,
       "top": null,
       "visibility": null,
       "width": null
      }
     },
     "a285f4cb3493445b8288c02711d4b0e8": {
      "model_module": "@jupyter-widgets/controls",
      "model_module_version": "2.0.0",
      "model_name": "HTMLModel",
      "state": {
       "_dom_classes": [],
       "_model_module": "@jupyter-widgets/controls",
       "_model_module_version": "2.0.0",
       "_model_name": "HTMLModel",
       "_view_count": null,
       "_view_module": "@jupyter-widgets/controls",
       "_view_module_version": "2.0.0",
       "_view_name": "HTMLView",
       "description": "",
       "description_allow_html": false,
       "layout": "IPY_MODEL_fc11e9f579f54eca8ba9f90a169a66b8",
       "placeholder": "​",
       "style": "IPY_MODEL_19f84c42ccc54290ab0775ea3ebd8fcb",
       "tabbable": null,
       "tooltip": null,
       "value": " 71/71 [00:00&lt;00:00, 7177.01it/s]"
      }
     },
     "aa4a1e024a9b4bb492cc32233a542508": {
      "model_module": "@jupyter-widgets/controls",
      "model_module_version": "2.0.0",
      "model_name": "HTMLStyleModel",
      "state": {
       "_model_module": "@jupyter-widgets/controls",
       "_model_module_version": "2.0.0",
       "_model_name": "HTMLStyleModel",
       "_view_count": null,
       "_view_module": "@jupyter-widgets/base",
       "_view_module_version": "2.0.0",
       "_view_name": "StyleView",
       "background": null,
       "description_width": "",
       "font_size": null,
       "text_color": null
      }
     },
     "ab3b4f2b70d342fb80328719f1452034": {
      "model_module": "@jupyter-widgets/base",
      "model_module_version": "2.0.0",
      "model_name": "LayoutModel",
      "state": {
       "_model_module": "@jupyter-widgets/base",
       "_model_module_version": "2.0.0",
       "_model_name": "LayoutModel",
       "_view_count": null,
       "_view_module": "@jupyter-widgets/base",
       "_view_module_version": "2.0.0",
       "_view_name": "LayoutView",
       "align_content": null,
       "align_items": null,
       "align_self": null,
       "border_bottom": null,
       "border_left": null,
       "border_right": null,
       "border_top": null,
       "bottom": null,
       "display": null,
       "flex": null,
       "flex_flow": null,
       "grid_area": null,
       "grid_auto_columns": null,
       "grid_auto_flow": null,
       "grid_auto_rows": null,
       "grid_column": null,
       "grid_gap": null,
       "grid_row": null,
       "grid_template_areas": null,
       "grid_template_columns": null,
       "grid_template_rows": null,
       "height": null,
       "justify_content": null,
       "justify_items": null,
       "left": null,
       "margin": null,
       "max_height": null,
       "max_width": null,
       "min_height": null,
       "min_width": null,
       "object_fit": null,
       "object_position": null,
       "order": null,
       "overflow": null,
       "padding": null,
       "right": null,
       "top": null,
       "visibility": null,
       "width": null
      }
     },
     "abbb27966a8e4b38a0175d8bd9b125f4": {
      "model_module": "@jupyter-widgets/controls",
      "model_module_version": "2.0.0",
      "model_name": "HTMLModel",
      "state": {
       "_dom_classes": [],
       "_model_module": "@jupyter-widgets/controls",
       "_model_module_version": "2.0.0",
       "_model_name": "HTMLModel",
       "_view_count": null,
       "_view_module": "@jupyter-widgets/controls",
       "_view_module_version": "2.0.0",
       "_view_name": "HTMLView",
       "description": "",
       "description_allow_html": false,
       "layout": "IPY_MODEL_f4c6507e8a5542caa05cf321acf5cb06",
       "placeholder": "​",
       "style": "IPY_MODEL_37d623ce582d4b738054489234aefa6d",
       "tabbable": null,
       "tooltip": null,
       "value": "Resolving data files: 100%"
      }
     },
     "acbd1468cd7a46c58fdf958fb790779c": {
      "model_module": "@jupyter-widgets/controls",
      "model_module_version": "2.0.0",
      "model_name": "HBoxModel",
      "state": {
       "_dom_classes": [],
       "_model_module": "@jupyter-widgets/controls",
       "_model_module_version": "2.0.0",
       "_model_name": "HBoxModel",
       "_view_count": null,
       "_view_module": "@jupyter-widgets/controls",
       "_view_module_version": "2.0.0",
       "_view_name": "HBoxView",
       "box_style": "",
       "children": [
        "IPY_MODEL_6ed7ee483e21449b8f8751906ff1db22",
        "IPY_MODEL_f6886f6745cd4bb4b3d1734e03dcdfe1",
        "IPY_MODEL_a285f4cb3493445b8288c02711d4b0e8"
       ],
       "layout": "IPY_MODEL_4de374e346934afdb3dc7c25fd5f7c90",
       "tabbable": null,
       "tooltip": null
      }
     },
     "aff033916e54488cb6af98474e72c037": {
      "model_module": "@jupyter-widgets/controls",
      "model_module_version": "2.0.0",
      "model_name": "HBoxModel",
      "state": {
       "_dom_classes": [],
       "_model_module": "@jupyter-widgets/controls",
       "_model_module_version": "2.0.0",
       "_model_name": "HBoxModel",
       "_view_count": null,
       "_view_module": "@jupyter-widgets/controls",
       "_view_module_version": "2.0.0",
       "_view_name": "HBoxView",
       "box_style": "",
       "children": [
        "IPY_MODEL_abbb27966a8e4b38a0175d8bd9b125f4",
        "IPY_MODEL_85dec8452261493aae6b3633d964e5bd",
        "IPY_MODEL_e6105837d9c2435aabb76eea0573724b"
       ],
       "layout": "IPY_MODEL_0436028a288f45dc9d06c2bcb702b7cb",
       "tabbable": null,
       "tooltip": null
      }
     },
     "b25588f15a2243348b63831118006b0e": {
      "model_module": "@jupyter-widgets/controls",
      "model_module_version": "2.0.0",
      "model_name": "HTMLStyleModel",
      "state": {
       "_model_module": "@jupyter-widgets/controls",
       "_model_module_version": "2.0.0",
       "_model_name": "HTMLStyleModel",
       "_view_count": null,
       "_view_module": "@jupyter-widgets/base",
       "_view_module_version": "2.0.0",
       "_view_name": "StyleView",
       "background": null,
       "description_width": "",
       "font_size": null,
       "text_color": null
      }
     },
     "b871b6f0f2474b9fa871ae36f3b900dd": {
      "model_module": "@jupyter-widgets/controls",
      "model_module_version": "2.0.0",
      "model_name": "HBoxModel",
      "state": {
       "_dom_classes": [],
       "_model_module": "@jupyter-widgets/controls",
       "_model_module_version": "2.0.0",
       "_model_name": "HBoxModel",
       "_view_count": null,
       "_view_module": "@jupyter-widgets/controls",
       "_view_module_version": "2.0.0",
       "_view_name": "HBoxView",
       "box_style": "",
       "children": [
        "IPY_MODEL_1ae4c014f8f4407c80a532d4588e121c",
        "IPY_MODEL_7c079e53c01f456ca7ba51cd5f45db7b",
        "IPY_MODEL_ba0a83b3b4fe4a93a191e489b069f8a6"
       ],
       "layout": "IPY_MODEL_76639f5c3ec64dd18007e3dc4648aef1",
       "tabbable": null,
       "tooltip": null
      }
     },
     "ba0a83b3b4fe4a93a191e489b069f8a6": {
      "model_module": "@jupyter-widgets/controls",
      "model_module_version": "2.0.0",
      "model_name": "HTMLModel",
      "state": {
       "_dom_classes": [],
       "_model_module": "@jupyter-widgets/controls",
       "_model_module_version": "2.0.0",
       "_model_name": "HTMLModel",
       "_view_count": null,
       "_view_module": "@jupyter-widgets/controls",
       "_view_module_version": "2.0.0",
       "_view_name": "HTMLView",
       "description": "",
       "description_allow_html": false,
       "layout": "IPY_MODEL_367fe5036fe04462acc0c5d8d8b530d2",
       "placeholder": "​",
       "style": "IPY_MODEL_6fe103a212c34b728a24623a361fef7e",
       "tabbable": null,
       "tooltip": null,
       "value": " 720/0 [00:00&lt;00:00, 1781.75 examples/s]"
      }
     },
     "bfd16fd0a9de45faabf5945ca7a4aaa3": {
      "model_module": "@jupyter-widgets/controls",
      "model_module_version": "2.0.0",
      "model_name": "HTMLStyleModel",
      "state": {
       "_model_module": "@jupyter-widgets/controls",
       "_model_module_version": "2.0.0",
       "_model_name": "HTMLStyleModel",
       "_view_count": null,
       "_view_module": "@jupyter-widgets/base",
       "_view_module_version": "2.0.0",
       "_view_name": "StyleView",
       "background": null,
       "description_width": "",
       "font_size": null,
       "text_color": null
      }
     },
     "c42ec59be55e42308673164d3e019985": {
      "model_module": "@jupyter-widgets/controls",
      "model_module_version": "2.0.0",
      "model_name": "HTMLModel",
      "state": {
       "_dom_classes": [],
       "_model_module": "@jupyter-widgets/controls",
       "_model_module_version": "2.0.0",
       "_model_name": "HTMLModel",
       "_view_count": null,
       "_view_module": "@jupyter-widgets/controls",
       "_view_module_version": "2.0.0",
       "_view_name": "HTMLView",
       "description": "",
       "description_allow_html": false,
       "layout": "IPY_MODEL_8aab462f829b44edad6c968f09ed3ea9",
       "placeholder": "​",
       "style": "IPY_MODEL_bfd16fd0a9de45faabf5945ca7a4aaa3",
       "tabbable": null,
       "tooltip": null,
       "value": "Downloading data: 100%"
      }
     },
     "c694ef77b58340c0ba1a21229e132648": {
      "model_module": "@jupyter-widgets/base",
      "model_module_version": "2.0.0",
      "model_name": "LayoutModel",
      "state": {
       "_model_module": "@jupyter-widgets/base",
       "_model_module_version": "2.0.0",
       "_model_name": "LayoutModel",
       "_view_count": null,
       "_view_module": "@jupyter-widgets/base",
       "_view_module_version": "2.0.0",
       "_view_name": "LayoutView",
       "align_content": null,
       "align_items": null,
       "align_self": null,
       "border_bottom": null,
       "border_left": null,
       "border_right": null,
       "border_top": null,
       "bottom": null,
       "display": null,
       "flex": null,
       "flex_flow": null,
       "grid_area": null,
       "grid_auto_columns": null,
       "grid_auto_flow": null,
       "grid_auto_rows": null,
       "grid_column": null,
       "grid_gap": null,
       "grid_row": null,
       "grid_template_areas": null,
       "grid_template_columns": null,
       "grid_template_rows": null,
       "height": null,
       "justify_content": null,
       "justify_items": null,
       "left": null,
       "margin": null,
       "max_height": null,
       "max_width": null,
       "min_height": null,
       "min_width": null,
       "object_fit": null,
       "object_position": null,
       "order": null,
       "overflow": null,
       "padding": null,
       "right": null,
       "top": null,
       "visibility": null,
       "width": "20px"
      }
     },
     "c96bff855b08490cb4910f7fa7ca32d2": {
      "model_module": "@jupyter-widgets/controls",
      "model_module_version": "2.0.0",
      "model_name": "ProgressStyleModel",
      "state": {
       "_model_module": "@jupyter-widgets/controls",
       "_model_module_version": "2.0.0",
       "_model_name": "ProgressStyleModel",
       "_view_count": null,
       "_view_module": "@jupyter-widgets/base",
       "_view_module_version": "2.0.0",
       "_view_name": "StyleView",
       "bar_color": null,
       "description_width": ""
      }
     },
     "cd6449791b9b4569a8e2c9f356dfdefa": {
      "model_module": "@jupyter-widgets/base",
      "model_module_version": "2.0.0",
      "model_name": "LayoutModel",
      "state": {
       "_model_module": "@jupyter-widgets/base",
       "_model_module_version": "2.0.0",
       "_model_name": "LayoutModel",
       "_view_count": null,
       "_view_module": "@jupyter-widgets/base",
       "_view_module_version": "2.0.0",
       "_view_name": "LayoutView",
       "align_content": null,
       "align_items": null,
       "align_self": null,
       "border_bottom": null,
       "border_left": null,
       "border_right": null,
       "border_top": null,
       "bottom": null,
       "display": null,
       "flex": null,
       "flex_flow": null,
       "grid_area": null,
       "grid_auto_columns": null,
       "grid_auto_flow": null,
       "grid_auto_rows": null,
       "grid_column": null,
       "grid_gap": null,
       "grid_row": null,
       "grid_template_areas": null,
       "grid_template_columns": null,
       "grid_template_rows": null,
       "height": null,
       "justify_content": null,
       "justify_items": null,
       "left": null,
       "margin": null,
       "max_height": null,
       "max_width": null,
       "min_height": null,
       "min_width": null,
       "object_fit": null,
       "object_position": null,
       "order": null,
       "overflow": null,
       "padding": null,
       "right": null,
       "top": null,
       "visibility": null,
       "width": null
      }
     },
     "d18320e89755457abbf9cf2cefaa9da3": {
      "model_module": "@jupyter-widgets/controls",
      "model_module_version": "2.0.0",
      "model_name": "ProgressStyleModel",
      "state": {
       "_model_module": "@jupyter-widgets/controls",
       "_model_module_version": "2.0.0",
       "_model_name": "ProgressStyleModel",
       "_view_count": null,
       "_view_module": "@jupyter-widgets/base",
       "_view_module_version": "2.0.0",
       "_view_name": "StyleView",
       "bar_color": null,
       "description_width": ""
      }
     },
     "d6c707ae7cf849bb8ab71ac8b62ed9b5": {
      "model_module": "@jupyter-widgets/controls",
      "model_module_version": "2.0.0",
      "model_name": "FloatProgressModel",
      "state": {
       "_dom_classes": [],
       "_model_module": "@jupyter-widgets/controls",
       "_model_module_version": "2.0.0",
       "_model_name": "FloatProgressModel",
       "_view_count": null,
       "_view_module": "@jupyter-widgets/controls",
       "_view_module_version": "2.0.0",
       "_view_name": "ProgressView",
       "bar_style": "success",
       "description": "",
       "description_allow_html": false,
       "layout": "IPY_MODEL_e8b716bf7dc24c41890ea4556450852c",
       "max": 71.0,
       "min": 0.0,
       "orientation": "horizontal",
       "style": "IPY_MODEL_d9af4af286c249eaa13697cdd04f429a",
       "tabbable": null,
       "tooltip": null,
       "value": 71.0
      }
     },
     "d9af4af286c249eaa13697cdd04f429a": {
      "model_module": "@jupyter-widgets/controls",
      "model_module_version": "2.0.0",
      "model_name": "ProgressStyleModel",
      "state": {
       "_model_module": "@jupyter-widgets/controls",
       "_model_module_version": "2.0.0",
       "_model_name": "ProgressStyleModel",
       "_view_count": null,
       "_view_module": "@jupyter-widgets/base",
       "_view_module_version": "2.0.0",
       "_view_name": "StyleView",
       "bar_color": null,
       "description_width": ""
      }
     },
     "e3b745c08e414adfa6b9073fa89f3839": {
      "model_module": "@jupyter-widgets/controls",
      "model_module_version": "2.0.0",
      "model_name": "HBoxModel",
      "state": {
       "_dom_classes": [],
       "_model_module": "@jupyter-widgets/controls",
       "_model_module_version": "2.0.0",
       "_model_name": "HBoxModel",
       "_view_count": null,
       "_view_module": "@jupyter-widgets/controls",
       "_view_module_version": "2.0.0",
       "_view_name": "HBoxView",
       "box_style": "",
       "children": [
        "IPY_MODEL_c42ec59be55e42308673164d3e019985",
        "IPY_MODEL_d6c707ae7cf849bb8ab71ac8b62ed9b5",
        "IPY_MODEL_37179f3f56e9404f9631283613fa437a"
       ],
       "layout": "IPY_MODEL_ab3b4f2b70d342fb80328719f1452034",
       "tabbable": null,
       "tooltip": null
      }
     },
     "e6105837d9c2435aabb76eea0573724b": {
      "model_module": "@jupyter-widgets/controls",
      "model_module_version": "2.0.0",
      "model_name": "HTMLModel",
      "state": {
       "_dom_classes": [],
       "_model_module": "@jupyter-widgets/controls",
       "_model_module_version": "2.0.0",
       "_model_name": "HTMLModel",
       "_view_count": null,
       "_view_module": "@jupyter-widgets/controls",
       "_view_module_version": "2.0.0",
       "_view_name": "HTMLView",
       "description": "",
       "description_allow_html": false,
       "layout": "IPY_MODEL_3d01b64ea32b4a45a8ea526a09f4a99a",
       "placeholder": "​",
       "style": "IPY_MODEL_50185339c0b04d52943ae4e523ef7bc4",
       "tabbable": null,
       "tooltip": null,
       "value": " 71/71 [00:00&lt;00:00, 6567.04it/s]"
      }
     },
     "e8b716bf7dc24c41890ea4556450852c": {
      "model_module": "@jupyter-widgets/base",
      "model_module_version": "2.0.0",
      "model_name": "LayoutModel",
      "state": {
       "_model_module": "@jupyter-widgets/base",
       "_model_module_version": "2.0.0",
       "_model_name": "LayoutModel",
       "_view_count": null,
       "_view_module": "@jupyter-widgets/base",
       "_view_module_version": "2.0.0",
       "_view_name": "LayoutView",
       "align_content": null,
       "align_items": null,
       "align_self": null,
       "border_bottom": null,
       "border_left": null,
       "border_right": null,
       "border_top": null,
       "bottom": null,
       "display": null,
       "flex": null,
       "flex_flow": null,
       "grid_area": null,
       "grid_auto_columns": null,
       "grid_auto_flow": null,
       "grid_auto_rows": null,
       "grid_column": null,
       "grid_gap": null,
       "grid_row": null,
       "grid_template_areas": null,
       "grid_template_columns": null,
       "grid_template_rows": null,
       "height": null,
       "justify_content": null,
       "justify_items": null,
       "left": null,
       "margin": null,
       "max_height": null,
       "max_width": null,
       "min_height": null,
       "min_width": null,
       "object_fit": null,
       "object_position": null,
       "order": null,
       "overflow": null,
       "padding": null,
       "right": null,
       "top": null,
       "visibility": null,
       "width": null
      }
     },
     "ee8ef63b8b534c96b7f6de107b9e16a9": {
      "model_module": "@jupyter-widgets/controls",
      "model_module_version": "2.0.0",
      "model_name": "HTMLStyleModel",
      "state": {
       "_model_module": "@jupyter-widgets/controls",
       "_model_module_version": "2.0.0",
       "_model_name": "HTMLStyleModel",
       "_view_count": null,
       "_view_module": "@jupyter-widgets/base",
       "_view_module_version": "2.0.0",
       "_view_name": "StyleView",
       "background": null,
       "description_width": "",
       "font_size": null,
       "text_color": null
      }
     },
     "f4c6507e8a5542caa05cf321acf5cb06": {
      "model_module": "@jupyter-widgets/base",
      "model_module_version": "2.0.0",
      "model_name": "LayoutModel",
      "state": {
       "_model_module": "@jupyter-widgets/base",
       "_model_module_version": "2.0.0",
       "_model_name": "LayoutModel",
       "_view_count": null,
       "_view_module": "@jupyter-widgets/base",
       "_view_module_version": "2.0.0",
       "_view_name": "LayoutView",
       "align_content": null,
       "align_items": null,
       "align_self": null,
       "border_bottom": null,
       "border_left": null,
       "border_right": null,
       "border_top": null,
       "bottom": null,
       "display": null,
       "flex": null,
       "flex_flow": null,
       "grid_area": null,
       "grid_auto_columns": null,
       "grid_auto_flow": null,
       "grid_auto_rows": null,
       "grid_column": null,
       "grid_gap": null,
       "grid_row": null,
       "grid_template_areas": null,
       "grid_template_columns": null,
       "grid_template_rows": null,
       "height": null,
       "justify_content": null,
       "justify_items": null,
       "left": null,
       "margin": null,
       "max_height": null,
       "max_width": null,
       "min_height": null,
       "min_width": null,
       "object_fit": null,
       "object_position": null,
       "order": null,
       "overflow": null,
       "padding": null,
       "right": null,
       "top": null,
       "visibility": null,
       "width": null
      }
     },
     "f6886f6745cd4bb4b3d1734e03dcdfe1": {
      "model_module": "@jupyter-widgets/controls",
      "model_module_version": "2.0.0",
      "model_name": "FloatProgressModel",
      "state": {
       "_dom_classes": [],
       "_model_module": "@jupyter-widgets/controls",
       "_model_module_version": "2.0.0",
       "_model_name": "FloatProgressModel",
       "_view_count": null,
       "_view_module": "@jupyter-widgets/controls",
       "_view_module_version": "2.0.0",
       "_view_name": "ProgressView",
       "bar_style": "success",
       "description": "",
       "description_allow_html": false,
       "layout": "IPY_MODEL_90029be6f4304c4699dfc662adf94eda",
       "max": 71.0,
       "min": 0.0,
       "orientation": "horizontal",
       "style": "IPY_MODEL_d18320e89755457abbf9cf2cefaa9da3",
       "tabbable": null,
       "tooltip": null,
       "value": 71.0
      }
     },
     "fc11e9f579f54eca8ba9f90a169a66b8": {
      "model_module": "@jupyter-widgets/base",
      "model_module_version": "2.0.0",
      "model_name": "LayoutModel",
      "state": {
       "_model_module": "@jupyter-widgets/base",
       "_model_module_version": "2.0.0",
       "_model_name": "LayoutModel",
       "_view_count": null,
       "_view_module": "@jupyter-widgets/base",
       "_view_module_version": "2.0.0",
       "_view_name": "LayoutView",
       "align_content": null,
       "align_items": null,
       "align_self": null,
       "border_bottom": null,
       "border_left": null,
       "border_right": null,
       "border_top": null,
       "bottom": null,
       "display": null,
       "flex": null,
       "flex_flow": null,
       "grid_area": null,
       "grid_auto_columns": null,
       "grid_auto_flow": null,
       "grid_auto_rows": null,
       "grid_column": null,
       "grid_gap": null,
       "grid_row": null,
       "grid_template_areas": null,
       "grid_template_columns": null,
       "grid_template_rows": null,
       "height": null,
       "justify_content": null,
       "justify_items": null,
       "left": null,
       "margin": null,
       "max_height": null,
       "max_width": null,
       "min_height": null,
       "min_width": null,
       "object_fit": null,
       "object_position": null,
       "order": null,
       "overflow": null,
       "padding": null,
       "right": null,
       "top": null,
       "visibility": null,
       "width": null
      }
     }
    },
    "version_major": 2,
    "version_minor": 0
   }
  }
 },
 "nbformat": 4,
 "nbformat_minor": 5
}
